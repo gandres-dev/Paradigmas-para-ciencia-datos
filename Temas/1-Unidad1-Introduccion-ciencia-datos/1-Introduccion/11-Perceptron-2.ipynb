{
 "cells": [
  {
   "cell_type": "markdown",
   "id": "1b13e8e7",
   "metadata": {},
   "source": [
    "##  Lecturas previas\n",
    "- https://youtu.be/8TuRJg76sW8\n",
    "- https://youtu.be/_s3z8dQX3pM\n",
    "- https://youtu.be/Kdsp6soqA7o"
   ]
  },
  {
   "cell_type": "markdown",
   "id": "fd6d5838",
   "metadata": {},
   "source": [
    "Este es nuestro perceptro del notebook anterior."
   ]
  },
  {
   "cell_type": "code",
   "execution_count": 4,
   "id": "13c8cf4e",
   "metadata": {
    "code_folding": [
     3
    ]
   },
   "outputs": [],
   "source": [
    "import numpy as np\n",
    "\n",
    "# Algoritmo supervisado\n",
    "class Perceptron(object):\n",
    "    \n",
    "    def __init__(self, eta=0.01, n_iter=50, random_state=1):        \n",
    "        self.eta = eta\n",
    "        self.n_iter = n_iter\n",
    "        self.random_state =random_state\n",
    "        \n",
    "    def fit(self, X, y):\n",
    "        \"\"\"Cuando en realidad el perceptron aprende.\"\"\"\n",
    "        rgen = np.random.RandomState(self.random_state)        \n",
    "        if self.random_state is None:            \n",
    "            self.w_ = np.zeros(1 + len(X[0])) \n",
    "        else:\n",
    "            self.w_ = rgen.normal(loc=0.0, scale=0.01, size=1 + X.shape[1])\n",
    "        \n",
    "        # Lista de errores \n",
    "        self.errors_ = []\n",
    "        # Esta parte de iterar y ver actualizar nuevo pesos se llama 'Epoca'\n",
    "        for _ in range(self.n_iter):\n",
    "            errors = 0                        \n",
    "            for xi, yi in zip(X, y):                                \n",
    "                update = self.eta * (yi - self.predict(xi))                \n",
    "                self.w_[1:] += update * xi \n",
    "                # x_0 = 1\n",
    "                self.w_[0] += update * 1                                               \n",
    "                errors += int(update != 0.0)\n",
    "            self.errors_.append(errors)\n",
    "            # Testear\n",
    "            # print(\"---Iteración: {} - Lista de errores by iter: {}--\".format(_ + 1, self.errors_))            \n",
    "            #print(\"pesos: \", self.w_)\n",
    "        return self \n",
    "    \n",
    "    def net_input(self, X):\n",
    "        \"\"\"Calcular el producto punto\"\"\"\n",
    "        return np.dot(X, self.w_[1:]) + self.w_[0]\n",
    "        \n",
    "    def predict(self, X):\n",
    "        \"\"\" Predice el perceptrón en el paso actual (funcion activacion, en esta caso funcion escalon 1 a -1)\"\"\"                \n",
    "        return np.where(self.net_input(X) >= 0.0, 1, -1)        "
   ]
  },
  {
   "cell_type": "markdown",
   "id": "d7714a0c",
   "metadata": {},
   "source": [
    "Probaremos nuestro perceptron para conjunto llamdo **iris**.\n",
    "Por el momento se utilizaran dos clases: *Setosa y Versicolor*. La regla del perceptron no se restringe a **dos dimensiones**, pero para simplificar la visualizacion sólo se usarán las caracteristicas *sepal length y petal length*. De igual forma, sólo se condiseran dos topos de flor.\n",
    "\n",
    "Sin embargo, la relga del perceptron puede extenderse para ser usada en problemas **multi-clase** con la tecnica **One-versus-All (OvA)**, tambien conocidad como **One-versus-Rest (OvR)**: se toma cada clase para entrenar el perceptron, considerando dicha clase como positiva y el resto como negativas; de esta forma se obtiene $n$ clasificadores binarios y para clasificar una muestra nueva, se utilizan los $n$ clasificadores para asignar la etiqueta de clase con mayor confienza para dicha clase. (https://youtu.be/_s3z8dQX3pM)\n",
    "\n",
    "*Lectura:*\\\n",
    "https://machinelearningmastery.com/one-vs-rest-and-one-vs-one-for-multi-class-classification/"
   ]
  },
  {
   "cell_type": "markdown",
   "id": "ba5fcc4b",
   "metadata": {},
   "source": [
    "Dataset: Iris \n",
    "\n",
    "|sepal length|sepal width|petal length|petal width| clase|\n",
    "|-----------------|--------|-----------|-----------|------|\n",
    "|5.1|3.5|1.4|0.2|Iris-setosa|\n",
    "|4.9|3.0|1.4|0.2|Iris-setosa|\n",
    "|4.7|3.2|1.3|0.2|Iris-setosa|\n",
    "|4.6|3.1|1.5|0.2|Iris-setosa|\n",
    "|5.0|3.6|1.4|0.2|Iris-setosa|\n",
    "|...|...|...|...|...|\n",
    "\n",
    "\n",
    "\n",
    "    Number of Instances: 150 (50 in each of three classes).\n",
    "    Class Distribution: 33.3% for each of 3 classes.\n",
    "\n"
   ]
  },
  {
   "cell_type": "code",
   "execution_count": 5,
   "id": "0698e273",
   "metadata": {},
   "outputs": [
    {
     "data": {
      "text/html": [
       "<div>\n",
       "<style scoped>\n",
       "    .dataframe tbody tr th:only-of-type {\n",
       "        vertical-align: middle;\n",
       "    }\n",
       "\n",
       "    .dataframe tbody tr th {\n",
       "        vertical-align: top;\n",
       "    }\n",
       "\n",
       "    .dataframe thead th {\n",
       "        text-align: right;\n",
       "    }\n",
       "</style>\n",
       "<table border=\"1\" class=\"dataframe\">\n",
       "  <thead>\n",
       "    <tr style=\"text-align: right;\">\n",
       "      <th></th>\n",
       "      <th>0</th>\n",
       "      <th>1</th>\n",
       "      <th>2</th>\n",
       "      <th>3</th>\n",
       "      <th>4</th>\n",
       "    </tr>\n",
       "  </thead>\n",
       "  <tbody>\n",
       "    <tr>\n",
       "      <th>145</th>\n",
       "      <td>6.7</td>\n",
       "      <td>3.0</td>\n",
       "      <td>5.2</td>\n",
       "      <td>2.3</td>\n",
       "      <td>Iris-virginica</td>\n",
       "    </tr>\n",
       "    <tr>\n",
       "      <th>146</th>\n",
       "      <td>6.3</td>\n",
       "      <td>2.5</td>\n",
       "      <td>5.0</td>\n",
       "      <td>1.9</td>\n",
       "      <td>Iris-virginica</td>\n",
       "    </tr>\n",
       "    <tr>\n",
       "      <th>147</th>\n",
       "      <td>6.5</td>\n",
       "      <td>3.0</td>\n",
       "      <td>5.2</td>\n",
       "      <td>2.0</td>\n",
       "      <td>Iris-virginica</td>\n",
       "    </tr>\n",
       "    <tr>\n",
       "      <th>148</th>\n",
       "      <td>6.2</td>\n",
       "      <td>3.4</td>\n",
       "      <td>5.4</td>\n",
       "      <td>2.3</td>\n",
       "      <td>Iris-virginica</td>\n",
       "    </tr>\n",
       "    <tr>\n",
       "      <th>149</th>\n",
       "      <td>5.9</td>\n",
       "      <td>3.0</td>\n",
       "      <td>5.1</td>\n",
       "      <td>1.8</td>\n",
       "      <td>Iris-virginica</td>\n",
       "    </tr>\n",
       "  </tbody>\n",
       "</table>\n",
       "</div>"
      ],
      "text/plain": [
       "       0    1    2    3               4\n",
       "145  6.7  3.0  5.2  2.3  Iris-virginica\n",
       "146  6.3  2.5  5.0  1.9  Iris-virginica\n",
       "147  6.5  3.0  5.2  2.0  Iris-virginica\n",
       "148  6.2  3.4  5.4  2.3  Iris-virginica\n",
       "149  5.9  3.0  5.1  1.8  Iris-virginica"
      ]
     },
     "execution_count": 5,
     "metadata": {},
     "output_type": "execute_result"
    }
   ],
   "source": [
    "import pandas as pd\n",
    "# https://archive.ics.uci.edu/ml/machine-learning-databases/iris/\n",
    "df = pd.read_csv('https://bit.ly/38XWXS4',header=None)\n",
    "df.tail()"
   ]
  },
  {
   "cell_type": "markdown",
   "id": "b4e1e10a",
   "metadata": {},
   "source": [
    "Posteriormente extraemos las $100$ primeras muestras correspondientes a $50$ de *Iris-setosa* y $50$ de *Iris-versicolor*, además de convertir las etiquetas de clase en dos nuermos enteros:\n",
    "\n",
    "\\begin{align*}\n",
    "1 & \\rightarrow \\text{versicolor} \\\\\n",
    "-1 & \\rightarrow \\text{setosa} \n",
    "\\end{align*}\n",
    "\n",
    "Asignandolas al vector y:\n"
   ]
  },
  {
   "cell_type": "code",
   "execution_count": 6,
   "id": "6bfa1d3b",
   "metadata": {},
   "outputs": [
    {
     "data": {
      "text/plain": [
       "array([-1, -1, -1, -1, -1, -1, -1, -1, -1, -1, -1, -1, -1, -1, -1, -1, -1,\n",
       "       -1, -1, -1, -1, -1, -1, -1, -1, -1, -1, -1, -1, -1, -1, -1, -1, -1,\n",
       "       -1, -1, -1, -1, -1, -1, -1, -1, -1, -1, -1, -1, -1, -1, -1, -1,  1,\n",
       "        1,  1,  1,  1,  1,  1,  1,  1,  1,  1,  1,  1,  1,  1,  1,  1,  1,\n",
       "        1,  1,  1,  1,  1,  1,  1,  1,  1,  1,  1,  1,  1,  1,  1,  1,  1,\n",
       "        1,  1,  1,  1,  1,  1,  1,  1,  1,  1,  1,  1,  1,  1,  1])"
      ]
     },
     "execution_count": 6,
     "metadata": {},
     "output_type": "execute_result"
    }
   ],
   "source": [
    "import numpy as np\n",
    "\n",
    "# Las caracteristicas tomaremos seran: sepal length y petal length\n",
    "X = df.iloc[0:100, [0, 2]].values  # array de numpy con los values\n",
    "y = df.iloc[0:100, 4].values  # Los nombres de las flores\n",
    "y = np.where(y == 'Iris-setosa', -1, 1)\n",
    "y"
   ]
  },
  {
   "cell_type": "code",
   "execution_count": 7,
   "id": "ee59eac5",
   "metadata": {},
   "outputs": [
    {
     "data": {
      "image/png": "[encoded data removed]",
      "text/plain": [
       "<Figure size 432x288 with 1 Axes>"
      ]
     },
     "metadata": {
      "needs_background": "light"
     },
     "output_type": "display_data"
    }
   ],
   "source": [
    "# Graficando las muestras\n",
    "import matplotlib.pyplot as plt\n",
    "# Usaremos una gráfica de disperción\n",
    "plt.scatter(X[:50, 0], X[:50, 1], color='red', marker='o', label='setosa')\n",
    "plt.scatter(X[50:100, 0], X[50:100, 1], color='blue', marker='x', label='versicolor')\n",
    "# Agrega etiquetas a los ejes\n",
    "plt.xlabel('sepal-length [cm]')\n",
    "plt.ylabel('petal-length [cm]')\n",
    "# Una legenda para cada uan de las clase\n",
    "plt.legend(loc='upper left')\n",
    "plt.show()\n"
   ]
  },
  {
   "cell_type": "markdown",
   "id": "98903b43",
   "metadata": {},
   "source": [
    "Ahora entrenamos al perceptrón con este subconjunto de datos de Iris; ademas graficaremos las clasificaciones erroneas en cada **época (epoch)** para verificar si el algoritmo encuentra una frontera de decisión que separe las dos clases:"
   ]
  },
  {
   "cell_type": "code",
   "execution_count": 8,
   "id": "3240a77a",
   "metadata": {},
   "outputs": [
    {
     "data": {
      "image/png": "[encoded data removed]",
      "text/plain": [
       "<Figure size 432x288 with 1 Axes>"
      ]
     },
     "metadata": {
      "needs_background": "light"
     },
     "output_type": "display_data"
    }
   ],
   "source": [
    "ppn = Perceptron(eta=0.1, n_iter=10)\n",
    "ppn.fit(X, y)\n",
    "plt.plot(range(1, len(ppn.errors_) + 1), ppn.errors_, marker='o')\n",
    "plt.xlabel('Epoca')\n",
    "plt.ylabel('Total de errores')\n",
    "plt.show()"
   ]
  },
  {
   "cell_type": "markdown",
   "id": "2b2849a9",
   "metadata": {},
   "source": [
    "Se observa que después de 6 épocas ha convergido y puede separar ambas clases. Podemos revisar los pesos calculados para este ejemplo:"
   ]
  },
  {
   "cell_type": "code",
   "execution_count": 9,
   "id": "126f5c63",
   "metadata": {},
   "outputs": [
    {
     "name": "stdout",
     "output_type": "stream",
     "text": [
      "Pesos:  [-0.38375655 -0.70611756  1.83471828]\n"
     ]
    }
   ],
   "source": [
    "print('Pesos: ', ppn.w_)"
   ]
  },
  {
   "cell_type": "markdown",
   "id": "886fc388",
   "metadata": {},
   "source": [
    "Para dibujar una línea que marque el límite de las clases, recordamos que le perceptrón realiza la operación:\n",
    "\n",
    "$$w_0x_0 + w_1x_1 + w_2x_2$$\n",
    "\n",
    "Como la caracteristica de sesgo (bias) esta definida como $x_0 = 1$, podemos despejar a $x_2$ obteniendo:\n",
    "\n",
    "$$x_2 = - \\frac{w_0 + w_1x_1}{w_2}$$\n",
    "\n",
    "Con este resultado, podemos mostrar los resultados en una gráfica:"
   ]
  },
  {
   "cell_type": "code",
   "execution_count": 10,
   "id": "8b8e1d33",
   "metadata": {},
   "outputs": [
    {
     "data": {
      "image/png": "[encoded data removed]",
      "text/plain": [
       "<Figure size 432x288 with 1 Axes>"
      ]
     },
     "metadata": {
      "needs_background": "light"
     },
     "output_type": "display_data"
    }
   ],
   "source": [
    "# Borde de decisión\n",
    "x1 = np.linspace(4, 7.5, 2) # Hasta donde va ir la linea recta\n",
    "x2 = - (ppn.w_[0] + ppn.w_[1] * x1) / ppn.w_[2]\n",
    "plt.plot(x1, x2, 'g', label = 'Borde de Decision')\n",
    "\n",
    "# Clase -1: setosa\n",
    "registros = y == -1\n",
    "x1 = X[registros][:, 0] # sepal length \n",
    "x2 = X[registros][:, 1] # petal length\n",
    "plt.scatter(x1, x2, c='r', marker='o', label='setosa')\n",
    "\n",
    "#clase 1; versicolor\n",
    "registros = y == 1\n",
    "c1 = X[registros][:, 0] # sepal length \n",
    "c2 = X[registros][:, 1] # petal length\n",
    "plt.scatter(c1, c2, c='b', marker='x', label='versicolor')\n",
    "plt.legend()\n",
    "plt.grid(color='lightgray', linestyle='--')\n",
    "plt.show()"
   ]
  },
  {
   "cell_type": "markdown",
   "id": "71a4bc07",
   "metadata": {},
   "source": [
    "Por último, una función que ayude a graficar los resultados que, además, pone cada zona en un color diferente:"
   ]
  },
  {
   "cell_type": "code",
   "execution_count": 11,
   "id": "b49824e6",
   "metadata": {},
   "outputs": [],
   "source": [
    "# Función para graficar\n",
    "import matplotlib.pyplot as plt\n",
    "import numpy as np\n",
    "from matplotlib.colors import ListedColormap\n",
    "\n",
    "\n",
    "def plot_decision_regions(X, y, classifier, resolution=0.02):\n",
    "    \"\"\"\n",
    "    Necesitar un clasificador ya entrenado (Fit es entrenar)\n",
    "    Arguments:\n",
    "    X -- conjunto de caractaristicas (vector de caracteristicas)\n",
    "    y -- salidas (clases que pertenece cada uno de los puntos)\n",
    "    clasificador -- Es un clasificador ya entrenado (como el perceptro)\n",
    "    resolucion --  Que tanto va ir aumentando en cada una de las dos dimensiones\n",
    "    \"\"\"\n",
    "    colors = np.array(['lime', 'red', 'blue'])\n",
    "    cmap = ListedColormap(colors[:len(np.unique(y))])\n",
    "    # Superficies de decisión\n",
    "    x1_min, x1_max = X[:, 0].min() - 1, X[:, 0].max() + 1\n",
    "    x2_min, x2_max = X[:, 1].min() - 1, X[:, 1].max() + 1\n",
    "    xx1, xx2 = np.meshgrid(np.arange(x1_min, x1_max, resolution),\n",
    "                          np.arange(x2_min, x2_max, resolution))\n",
    "    Z = classifier.predict(np.array([xx1.ravel(), xx2.ravel()]).T)\n",
    "    Z = Z.reshape(xx1.shape)\n",
    "    plt.contourf(xx1, xx2, Z, alpha=0.4, cmap=cmap)\n",
    "    plt.xlim(xx1.min(), xx1.max())\n",
    "    plt.ylim(xx2.min(), xx2.max())\n",
    "    \n",
    "    # Conjuntos de clase    \n",
    "    plt.scatter(X[:, 0],\n",
    "                X[:, 1],\n",
    "                alpha=0.9,\n",
    "                c=colors[y.astype(int)],\n",
    "                edgecolor='black',)"
   ]
  },
  {
   "cell_type": "code",
   "execution_count": 12,
   "id": "7e71396f",
   "metadata": {},
   "outputs": [
    {
     "data": {
      "image/png": "[encoded data removed]",
      "text/plain": [
       "<Figure size 432x288 with 1 Axes>"
      ]
     },
     "metadata": {
      "needs_background": "light"
     },
     "output_type": "display_data"
    }
   ],
   "source": [
    "plot_decision_regions(X, y, classifier=ppn)\n",
    "plt.xlabel('sepal-length [cm]')\n",
    "plt.ylabel('petal-length [cm]')\n",
    "plt.show()"
   ]
  },
  {
   "cell_type": "code",
   "execution_count": 13,
   "id": "ab3b095f",
   "metadata": {},
   "outputs": [
    {
     "data": {
      "image/png": "[encoded data removed]",
      "text/plain": [
       "<Figure size 432x288 with 1 Axes>"
      ]
     },
     "metadata": {
      "needs_background": "light"
     },
     "output_type": "display_data"
    }
   ],
   "source": [
    "# plot_decision_regions predefinido \n",
    "from mlxtend.plotting import plot_decision_regions\n",
    "import matplotlib.pyplot as plt\n",
    "\n",
    "plot_decision_regions(X, y, clf=ppn, legend=2)\n",
    "plt.xlabel('sepal-length [cm]')\n",
    "plt.ylabel('petal-length [cm]')\n",
    "plt.show()"
   ]
  },
  {
   "cell_type": "code",
   "execution_count": null,
   "id": "c31ee83e",
   "metadata": {},
   "outputs": [],
   "source": []
  },
  {
   "cell_type": "code",
   "execution_count": null,
   "id": "4f8954a4",
   "metadata": {},
   "outputs": [],
   "source": []
  },
  {
   "cell_type": "code",
   "execution_count": null,
   "id": "82cb0fc5",
   "metadata": {},
   "outputs": [],
   "source": []
  },
  {
   "cell_type": "code",
   "execution_count": null,
   "id": "6ca65c07",
   "metadata": {},
   "outputs": [],
   "source": []
  },
  {
   "cell_type": "code",
   "execution_count": null,
   "id": "e84e9167",
   "metadata": {},
   "outputs": [],
   "source": []
  }
 ],
 "metadata": {
  "kernelspec": {
   "display_name": "Python 3",
   "language": "python",
   "name": "python3"
  },
  "language_info": {
   "codemirror_mode": {
    "name": "ipython",
    "version": 3
   },
   "file_extension": ".py",
   "mimetype": "text/x-python",
   "name": "python",
   "nbconvert_exporter": "python",
   "pygments_lexer": "ipython3",
   "version": "3.8.8"
  }
 },
 "nbformat": 4,
 "nbformat_minor": 5
}
