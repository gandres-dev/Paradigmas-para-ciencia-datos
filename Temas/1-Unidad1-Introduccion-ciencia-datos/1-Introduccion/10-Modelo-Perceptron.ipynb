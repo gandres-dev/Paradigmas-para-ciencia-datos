{
 "cells": [
  {
   "cell_type": "markdown",
   "id": "a56ecf94",
   "metadata": {},
   "source": [
    "# Modelo Perceptron\n",
    "\n",
    "El perceptrón es un algortimo de clasificador de *aprendizaje supervisado, determinista y a posteriori.*"
   ]
  },
  {
   "cell_type": "markdown",
   "id": "b492f5aa",
   "metadata": {},
   "source": [
    "## Conceptos previo\n",
    "Antes de describir el algoritmo de aprendizaje tenemos que enteder:\n",
    "\n",
    "- https://youtu.be/MRIv2IwFTPg (Video acerca de la neurona)\n",
    "\n",
    "\n",
    "**Keywords:** Regresion Lineal, minimos cuadrados, interpolación"
   ]
  },
  {
   "cell_type": "markdown",
   "id": "4fbe5156",
   "metadata": {},
   "source": [
    "**Regresion lineal**. Es un modelo matemático usado para aproximar la relación de dependencia entre una variable dependiente\n",
    "\n",
    "**Método de minimos cuadrados**. Permite hayar un linea recta que resumen con dos variables cuantitativas X, Y.\n",
    "\n",
    "**Interpolación**. Obtención de nuevos puntos partiendo del conocimiento de un conjunto de puntos."
   ]
  },
  {
   "cell_type": "markdown",
   "id": "9c8413fb",
   "metadata": {},
   "source": [
    "<img src=\"./img/perceptron/1.png\" alt=\"drawing\" width=\"50%\" style=\"float: left\"/>\n",
    "<img src=\"./img/perceptron/2.png\" alt=\"drawing\" width=\"50%\" style=\"float: right\"/>"
   ]
  },
  {
   "cell_type": "markdown",
   "id": "e6a3e907",
   "metadata": {},
   "source": [
    "Tendremos un conjunto de entradas $x_1, x_2, x_3, \\dots , x_n$ que simulan las señales que entran por la dentritas, en el modelo del peceptron defineremos una serie de pesos $w_1, w_2, \\dots, w_n$ por cada entrada. La idea básica es definir un algoritmo que aprende los valores de los pesos $w$ que serán multiplicados con las características de entrada para poder decidir si la neurona dispara o no. (Es cuando la función de activacion es evaluada)\n",
    "\n",
    "Al final obtendremos una combinacional lineal de los pesos con las entradas, esto representará una ecuación lineal:\n",
    "\n",
    "$$\n",
    "y = w_1 x_2 + w_2 x_2 + \\dots + w_n x_n\n",
    "$$"
   ]
  },
  {
   "cell_type": "markdown",
   "id": "aa3fb508",
   "metadata": {},
   "source": [
    "<img src=\"img/perceptron/3.png\" width=\"60%\">"
   ]
  },
  {
   "cell_type": "markdown",
   "id": "21ac6747",
   "metadata": {},
   "source": [
    "###  Función de activación\n",
    "El último paso para enteder el modelo, es conocer la función de activacion que sera una función que transformará nuestra ecuación lineal, este paso es la clave para la clasificación en clases, dependiendo la función de activacion podremos seperar clases.\n",
    "\n",
    "Para nuestro ejemplo, utilizaremos la función de activación más simple que será la función escalón unitario o función escalon Heaviside:\n",
    "\n",
    "\\begin{align*} \n",
    "  f(z)=\\left\\{\n",
    "    \\begin{array}{ll}\n",
    "      1,  & \\mbox{if $z \\geq \\theta$}.\\\\\n",
    "      -1, & \\mbox{otherwise}.\n",
    "    \\end{array}\n",
    "  \\right.\n",
    "\\end{align*}\n",
    "\n",
    "$$\n",
    "z = w_1 x_2 + w_2 x_2 + \\dots + w_n x_n \\\\\n",
    "\\theta = umbral\n",
    "$$\n",
    "\n",
    "Esto nos transformara nuestra ecuacion lineal y obtendremos una clasificacion binaria tal que tendremos dos clases  la clase positiva y negativa que representa 1 y -1.\n",
    "\n",
    "\n",
    "*Un umbral (o sesgo), permite indicar cuándo debe reaccionar la neurona.*\n"
   ]
  },
  {
   "cell_type": "markdown",
   "id": "cbad63ba",
   "metadata": {},
   "source": [
    "<img src=\"./img/perceptron/4.png\" alt=\"drawing\" width=\"50%\"/>"
   ]
  },
  {
   "cell_type": "markdown",
   "id": "299624e9",
   "metadata": {},
   "source": [
    "La idea tras del preceptrón de umbral es simular\n",
    "el funcionamiento de una célula en el cerebro: dispara o no. En resumen: un perceptrón recibe\n",
    "múltiples señales de entrada y, si la suma de las señales de entrada (multiplicadas por el peso\n",
    "respectivo) sobrepasa cierto umbral, entrega una señal, si no pasa el umbral, queda en silencio. La idea consiste que si pasa el umbral pertenece a cierta clase.\n",
    "\n",
    "Este es el primer algoritmo de aprendizaje de máquina, dada la idea de Frank Rosenblatt,\n",
    "conocida como regla de aprendizaje: el perceptrón aprenderá los pesos para cada señal de entrada\n",
    "para poder **dibujar un límite de decisión que nos permita discriminar entre dos clases linealmente\n",
    "separables**.\n",
    "\n",
    "A igual que con la regresión lineal y la regresión logística, la principal dificultad será el aprendizaje de los pesos (y del umbral, que puede verse como un peso particular). "
   ]
  },
  {
   "cell_type": "markdown",
   "id": "bdbca206",
   "metadata": {},
   "source": [
    "<img src=\"./img/perceptron/6.png\" alt=\"drawing\" width=\"70%\"/>"
   ]
  },
  {
   "cell_type": "markdown",
   "id": "edd33d9e",
   "metadata": {},
   "source": [
    "Agregaremos ademas algo que se llama *bias* que es el sesgo que no ayudara ajustar nuestra grafica, nos ayuda para evitar un problema llamado sobreajuste.\n",
    "$b=sesgo$\\\n",
    "$\\theta$=umbral\n",
    "\n",
    "\n",
    "$$b = w_0 x_0$$\n",
    "$$\n",
    "w_0 = \\theta \\\\\n",
    "x_0 = 1\n",
    "$$\n",
    "\n",
    "$$\n",
    "z = w_0x_0 + w_1 x_2 + w_2 x_2 + \\dots + w_n x_n \n",
    "$$"
   ]
  },
  {
   "cell_type": "markdown",
   "id": "aeb6aa06",
   "metadata": {},
   "source": [
    "<img src=\"./img/perceptron/7.png\" alt=\"drawing\" width=\"70%\"/>"
   ]
  },
  {
   "cell_type": "markdown",
   "id": "e94888e6",
   "metadata": {},
   "source": [
    "Tenemos un sesgo para evitar el sobre ajuste"
   ]
  },
  {
   "cell_type": "markdown",
   "id": "5541a6fd",
   "metadata": {},
   "source": [
    "Ver: \n",
    "- https://www.asimovinstitute.org/neural-network-zoo/ (zoologico de las redes neuronales)"
   ]
  },
  {
   "cell_type": "markdown",
   "id": "7fcde89e",
   "metadata": {},
   "source": [
    "## Actualizacion de los pesos\n",
    "En cada iteracion tendremos que actualizar los pesos, esto se le conoce como **epoca**, el numero de iteraciones las dara el usuario, cuando veamos que los pesos convergen a un valor (esto es cuando ya no hay errores) significa que son los valores que al evaluarlos en cada una de las muestras nos dara el valor esperado, u otra manera de decirlo nos da la clase que corresponde."
   ]
  },
  {
   "cell_type": "markdown",
   "id": "5b118205",
   "metadata": {},
   "source": [
    "![](img/perceptron/aux1.png)\n",
    "\n",
    "$$w_j = wj + \\Delta w_j x^{(i)}_j$$\n",
    "\n",
    "$y^{(i)} = $ Es el valor esperado o catagoria a la que pertenece (1,-1).\\\n",
    "$\\hat{y}^{(i)} = f(z) = $ La funcion de activación al evaluar el producto punto de los pesos y las entradas.\n",
    "\n",
    "Una observacion, es que si el valor de la funcion activacion corresponde con el valor esperado(valor de clase) la diferencia dara $0$ y por lo tanto no habra actualizar los pesos porque la multiplicacion daria $0$ y al sumar $w_j + 0$ es cero.\n",
    "\n",
    "En caso contrario, tendremos un $\\Delta w$ y a la vez guardaremos que hubo un error en una lista de errores por cada itaración.\n",
    "\n",
    "En codigo seria esta parte:"
   ]
  },
  {
   "cell_type": "code",
   "execution_count": null,
   "id": "6649187a",
   "metadata": {},
   "outputs": [],
   "source": [
    "\"\"\"\n",
    "xi\n",
    "[0,0], \n",
    "[0,1], \n",
    "[1,0],\n",
    "[1,1]\n",
    "predict - predice el perceptrón en el paso actual (funcion activacion, en esta caso funcion escalon 1 a -1)\n",
    "\"\"\"\n",
    "for xi, yi in zip(X, y):\n",
    "    # Calculamos nuestra actualización dw=update            \n",
    "    update = self.eta * (yi - self.predict(xi))\n",
    "    # Actualizacion de los pesos (producto vectorizado con numpy)\n",
    "    self.w_[1:] += update * xi \n",
    "    # x_0 = 1\n",
    "    self.w_[0] += update * 1  "
   ]
  },
  {
   "cell_type": "markdown",
   "id": "c04f16e7",
   "metadata": {},
   "source": [
    "### Regla de aprendizaje\n",
    "1. Inicializar los pesos a 0 o un numero aleatorio pequeño\n",
    "1. Para cada muestra de entrenamiento $x^{(i)}$:\n",
    "    1. Calcular el valor de salida $\\hat{y}^{(i)}$\n",
    "    1. Actualizar pesos."
   ]
  },
  {
   "cell_type": "markdown",
   "id": "4d88af42",
   "metadata": {},
   "source": [
    "Dado que nuestro perceptron solo puede clasificar entre $2$ clases, es decir, es 0 o 1, blanco o negro, esta o no esta. Podremos seperar solo problemas donde tengamos 2 respuestas, con esta observación vemos que se comporta como el sistema binario que conocemos, por lo tanto podemos simular compuertas logicas.\n",
    "\n",
    "Nosotros tenemos que darle significa al 0 y al 1."
   ]
  },
  {
   "cell_type": "markdown",
   "id": "f0815847",
   "metadata": {},
   "source": [
    "Implementando el perceptron"
   ]
  },
  {
   "cell_type": "code",
   "execution_count": 5,
   "id": "9870f8cc",
   "metadata": {},
   "outputs": [],
   "source": [
    "import numpy as np\n",
    "\n",
    "# Algoritmo supervisado\n",
    "class Perceptron(object):\n",
    "    \"\"\"La creacion de un perceptron, realiza el algortimo del perceptron de aprendisaje\n",
    "    Se actualiza de esta forma\n",
    "    \n",
    "    Actualizacion\n",
    "    wj = wj + Dwj*xi\n",
    "    \n",
    "    Dwj = n (y - g(x))\n",
    "    \n",
    "    Utiliza como funcion de activacion el la fucnion escalon.    \n",
    "    \"\"\"\n",
    "    \n",
    "    def __init__(self, eta=0.01, n_iter=50, random_state=1):\n",
    "        \"\"\"Inicializador de la clase\n",
    "        \n",
    "        Si las clases no son linealmente seperables, el perceptron\n",
    "        solito no convege a un valor. Indicamos un numero maximo de iteraciones\n",
    "        \n",
    "        Arguments:\n",
    "        eta -- tasa de aprendizaje\n",
    "        n_iter -- indicamos un numero maximo de iteraciones\n",
    "        random_state -- numero aleatoria para inicializar los pesos \n",
    "        \"\"\"\n",
    "        self.eta = eta\n",
    "        self.n_iter = n_iter\n",
    "        self.random_state =random_state\n",
    "        \n",
    "    def fit(self, X, y):\n",
    "        \"\"\"Cuando en realidad el perceptron aprende.\n",
    "        Dado que es supervidado le mandaremos las salida que corresponda por cada una de las entradas\n",
    "        Ajuste = aprendizaje\n",
    "        \n",
    "        Arguments:\n",
    "        X -- un vector con muestras [x0, x1, x2, ..., xn]\n",
    "        y -- las salida que corresponda por cada una de las entradas (puede verse como la clase que le corresponde)\n",
    "        random_state -- numero aleatoria para inicializar los pesos \n",
    "        \"\"\"\n",
    "        rgen = np.random.RandomState(self.random_state)\n",
    "        \n",
    "        # w_ vector de pesos a ceros por defector o por un valor aleatorio.\n",
    "        if self.random_state is None:\n",
    "            # Creacion de los pesos iniciando con x_0 = 1\n",
    "            # x[0] al menos esperamos una muestra. \n",
    "            self.w_ = np.zeros(1 + len(X[0])) \n",
    "        else:\n",
    "            # Random con distribucion normal\n",
    "            # X.shape[0] - no. muestra  (2,4)\n",
    "            # X.shape[1] - no.elementos por muestra\n",
    "            self.w_ = rgen.normal(loc=0.0, scale=0.01, size=1 + X.shape[1])\n",
    "        \n",
    "        # Lista de errores \n",
    "        self.errors_ = []\n",
    "        # Esta parte de iterar y ver actualizar nuevo pesos se llama 'Epoca'\n",
    "        for _ in range(self.n_iter):\n",
    "            errors = 0            \n",
    "            # Se debe verificar cada una de las muestras, es decir x1,x2,x2,x3 (entradas) con y1,y2,y3,y3 (salida esperada)\n",
    "            # Puedo haber un total de 4 errores cuando ninguna muestra coincide con su clase (1, -1)\n",
    "            for xi, yi in zip(X, y):                \n",
    "                # Calculamos nuestra actualización dw=update            \n",
    "                update = self.eta * (yi - self.predict(xi))\n",
    "                # Actualizacion de los pesos (producto vectorizado con numpy)\n",
    "                self.w_[1:] += update * xi \n",
    "                # x_0 = 1\n",
    "                self.w_[0] += update * 1                               \n",
    "                # Si hay una actualizacion diferente de cero \n",
    "                # hubo un error \n",
    "                errors += int(update != 0.0)\n",
    "                \n",
    "                # Testear\n",
    "                #print(f'xi: {xi}, yi: {yi}')\n",
    "                #print(\"update\", update)\n",
    "                #print(\"pesos\", self.w_)\n",
    "                #print(\"errors\", errors)    \n",
    "            # Agregamos los errores en esta iteracion (esta muestra)\n",
    "            self.errors_.append(errors)\n",
    "            # Testear\n",
    "            #print(\"---Iteración: {} - Lista de errores by iter: {}--\".format(_ + 1, self.errors_))            \n",
    "            print(\"pesos: \", self.w_)\n",
    "        return self \n",
    "    \n",
    "    def net_input(self, X):\n",
    "        \"\"\"Calcular el producto punto\"\"\"\n",
    "        # x_0 = 1 \n",
    "        # x_1 w_1 + x_2 w_2 + w_0(1)\n",
    "        return np.dot(X, self.w_[1:]) + self.w_[0]\n",
    "        \n",
    "    def predict(self, X):\n",
    "        \"\"\" Predice el perceptrón en el paso actual (funcion activacion, en esta caso funcion escalon 1 a -1)\n",
    "        \n",
    "        Hara el producto punto de las entradas por los pesos y luego llamar la funcion de activacion\n",
    "        \"\"\"        \n",
    "        # Encarga de realizar el escalon de 1 y -1 con un umbral de 0\n",
    "        return np.where(self.net_input(X) >= 0.0, 1, -1)        \n",
    "        "
   ]
  },
  {
   "cell_type": "markdown",
   "id": "8633d494",
   "metadata": {},
   "source": [
    "Algunos modelos nos dara para hacerlo como el perceptron, a otros debido a la complejidad no se podra hacer."
   ]
  },
  {
   "cell_type": "code",
   "execution_count": 6,
   "id": "aa3acb31",
   "metadata": {
    "scrolled": true
   },
   "outputs": [
    {
     "name": "stdout",
     "output_type": "stream",
     "text": [
      "pesos:  [-0.2 -0.2 -0.2]\n",
      "pesos:  [ 0.  -0.4 -0.2]\n",
      "pesos:  [ 0.2 -0.4 -0.2]\n",
      "pesos:  [ 0.2 -0.4 -0.4]\n",
      "pesos:  [ 0.4 -0.4 -0.2]\n",
      "pesos:  [ 0.4 -0.4 -0.2]\n",
      "----------------\n",
      "Pesos:  [ 0.4 -0.4 -0.2]\n"
     ]
    }
   ],
   "source": [
    "# La muestras\n",
    "X = np.array([[0,0], [0,1], [1,0], [1,1]])\n",
    "# Las clasificaciones (valores que esperamos o deseados)\n",
    "y = np.array([1, 1, 1, -1])\n",
    "\n",
    "# Simularemos que nuestro resultados sea una NAND de dos componentes\n",
    "# Sabemos que en la iteracion 6 converge y por lo tanto ya que queremos que siga calculando, porque ya no hay cambios ,\n",
    "\n",
    "# n_iter\n",
    "# No le pusimos que se detenga cuando ya no hay cambios, en vez le ponemos 6 la cantidad exacta de iteraciones.\n",
    "# Lo normal es que no se deterga y establecer un numero de iteraciones necesario\n",
    "# y ver hasta que iteracion ya estabilizo y no cambian los pesos\n",
    "\n",
    "# random_state None para ajustar los pesos en 0 para nuestro ejemplo\n",
    "ppn = Perceptron(n_iter=6, eta=0.1, random_state=None)\n",
    "# Calculas los pesos correctoa para la clasificacion\n",
    "ppn.fit(X, y)\n",
    "print(\"----------------\")\n",
    "print(\"Pesos: \", ppn.w_)"
   ]
  },
  {
   "cell_type": "code",
   "execution_count": 31,
   "id": "ae0d9592",
   "metadata": {},
   "outputs": [
    {
     "name": "stdout",
     "output_type": "stream",
     "text": [
      "pesos:  [-0.18375655 -0.20611756 -0.20528172]\n",
      "pesos:  [ 0.01624345 -0.40611756 -0.20528172]\n",
      "pesos:  [ 0.21624345 -0.40611756 -0.20528172]\n",
      "pesos:  [ 0.21624345 -0.40611756 -0.40528172]\n",
      "pesos:  [ 0.41624345 -0.40611756 -0.20528172]\n",
      "pesos:  [ 0.41624345 -0.40611756 -0.20528172]\n",
      "pesos:  [ 0.41624345 -0.40611756 -0.20528172]\n",
      "----------------\n",
      "Pesos:  [ 0.41624345 -0.40611756 -0.20528172]\n"
     ]
    }
   ],
   "source": [
    "# Inicializamos los pesos diferente de cero\n",
    "X = np.array([[0,0], [0,1], [1,0], [1,1]])\n",
    "y = np.array([1, 1, 1, -1])\n",
    "\n",
    "# Inicializamos los pesos diferente de cero\n",
    "ppn = Perceptron(n_iter=7, eta=0.1)\n",
    "ppn.fit(X, y)\n",
    "\n",
    "print(\"----------------\")\n",
    "print(\"Pesos: \", ppn.w_)"
   ]
  },
  {
   "cell_type": "markdown",
   "id": "d7b73a82",
   "metadata": {},
   "source": [
    "Nos indica que hemos encontrado los pesos, los cuales cumplen con los resultados deseados para todas nuestras muestras. (cada muestra le corresponde su clase).\n",
    "\n",
    "\\begin{align*} \n",
    "f(1 (0.4) + 0 (-0.4) + 0 (-0.2)) &= 1\\\\  \n",
    "f(1 (0.4) + 0 (-0.4) + 1 (-0.2)) &= 1\\\\\n",
    "f(1 (0.4) + 1 (-0.4) + 0 (-0.2)) &= 1\\\\  \n",
    "f(1 (0.4) + 1 (-0.4) + 1 (-0.2)) &= -1\\\\  \n",
    "\\end{align*}"
   ]
  },
  {
   "cell_type": "markdown",
   "id": "ae0ae231",
   "metadata": {},
   "source": [
    "\n",
    "\\begin{align*} \n",
    "  f(z)=\\left\\{\n",
    "    \\begin{array}{ll}\n",
    "      1,  & \\mbox{if $z \\geq \\theta$}.\\\\\n",
    "      -1, & \\mbox{otherwise}.\n",
    "    \\end{array}\n",
    "  \\right.\n",
    "\\end{align*}"
   ]
  },
  {
   "cell_type": "markdown",
   "id": "12aafa41",
   "metadata": {},
   "source": [
    "El chiste es ir buscando la combinacion posible de los pesos que correspondan con nuestros resultados que esperamos, es decir, el primera iteracion si encontramos una muestra que con cumpla con los respetivos pesos propuestos, en la segunda itaracion debemos cambiar modificar los pesos y verificar que para cada muestra cumplan con el valor esperado, si es asi, los peso en cada evaluacion de la muestra, debe correspoender con el valor esperado, y esto lo hacemos con:\n",
    "\n",
    "$$(y_j - f(z))$$\n",
    "$y_j = $ al valor esperado o catagoria a la que pertenece.\\\n",
    "$f(z) = $ funcion de activación.\n",
    "\n",
    "Si regresa el valor esperado la diferencia va dar cero, por los mismo valores, en caso contrario obtenedremos un numero, que significara que esa combinacion de pesos con cumple, tendremos que actualizar.\n",
    "\n"
   ]
  },
  {
   "cell_type": "markdown",
   "id": "def17242",
   "metadata": {},
   "source": [
    "Ahora usando 4 muestras para NAND, considerando la muestra $x_0$ =1 "
   ]
  },
  {
   "cell_type": "code",
   "execution_count": 34,
   "id": "121c6d59",
   "metadata": {},
   "outputs": [
    {
     "name": "stdout",
     "output_type": "stream",
     "text": [
      "pesos:  [-0.2 -0.2 -0.2 -0.2]\n",
      "pesos:  [ 0.  -0.4 -0.2  0. ]\n",
      "pesos:  [ 0.  -0.6 -0.2  0. ]\n",
      "pesos:  [ 0.2 -0.6 -0.2  0.2]\n",
      "pesos:  [ 0.2 -0.6 -0.4  0.2]\n",
      "pesos:  [ 0.2 -0.6 -0.6  0.2]\n",
      "Pesos:  [ 0.2 -0.6 -0.6  0.2]\n"
     ]
    }
   ],
   "source": [
    "X = np.array([[0,0,1],[0,1,1], [1,0,1], [1,1,1]])\n",
    "y = np.array([1,1,1,-1])\n",
    "# X = np.array([[0,0], [0,1], [1,0], [1,1]])\n",
    "# y = np.array([1, 1, 1, -1])\n",
    "\n",
    "ppn = Perceptron(n_iter=6, eta=0.1, random_state=None)\n",
    "ppn.fit(X,y)\n",
    "print(\"Pesos: \", ppn.w_)"
   ]
  },
  {
   "cell_type": "code",
   "execution_count": null,
   "id": "f069baf7",
   "metadata": {},
   "outputs": [],
   "source": [
    "for xi, yi in zip(X, y):\n",
    "    print(f'xi: {xi}, yi: {y}')"
   ]
  },
  {
   "cell_type": "markdown",
   "id": "2e1cc446",
   "metadata": {},
   "source": [
    "La idea del perceptron es aprende los pesos, y cada vez que no obtenga lo me habian dicho es cuando se penaliza(lo que indica los  errores) cuando hay algun error se actualiza los pesos y eso es lo que hace que vaya aprendiendo y como consecuencia clasificara bien.\n",
    "\n",
    "Si las muestras no son linealmente separables,hay problemas, puede nunca estabilizarse.\n",
    "\n",
    "Utilizaresmo nuestro perceptron para un conjunto de datos.\n",
    "\n",
    "Usaremos el conjunto de datos iris, que es muy que esl data set mas famoso.\n"
   ]
  },
  {
   "cell_type": "code",
   "execution_count": 39,
   "id": "922aa0ec",
   "metadata": {},
   "outputs": [
    {
     "data": {
      "text/html": [
       "<div>\n",
       "<style scoped>\n",
       "    .dataframe tbody tr th:only-of-type {\n",
       "        vertical-align: middle;\n",
       "    }\n",
       "\n",
       "    .dataframe tbody tr th {\n",
       "        vertical-align: top;\n",
       "    }\n",
       "\n",
       "    .dataframe thead th {\n",
       "        text-align: right;\n",
       "    }\n",
       "</style>\n",
       "<table border=\"1\" class=\"dataframe\">\n",
       "  <thead>\n",
       "    <tr style=\"text-align: right;\">\n",
       "      <th></th>\n",
       "      <th>0</th>\n",
       "      <th>1</th>\n",
       "      <th>2</th>\n",
       "      <th>3</th>\n",
       "      <th>4</th>\n",
       "    </tr>\n",
       "  </thead>\n",
       "  <tbody>\n",
       "    <tr>\n",
       "      <th>145</th>\n",
       "      <td>6.7</td>\n",
       "      <td>3.0</td>\n",
       "      <td>5.2</td>\n",
       "      <td>2.3</td>\n",
       "      <td>Iris-virginica</td>\n",
       "    </tr>\n",
       "    <tr>\n",
       "      <th>146</th>\n",
       "      <td>6.3</td>\n",
       "      <td>2.5</td>\n",
       "      <td>5.0</td>\n",
       "      <td>1.9</td>\n",
       "      <td>Iris-virginica</td>\n",
       "    </tr>\n",
       "    <tr>\n",
       "      <th>147</th>\n",
       "      <td>6.5</td>\n",
       "      <td>3.0</td>\n",
       "      <td>5.2</td>\n",
       "      <td>2.0</td>\n",
       "      <td>Iris-virginica</td>\n",
       "    </tr>\n",
       "    <tr>\n",
       "      <th>148</th>\n",
       "      <td>6.2</td>\n",
       "      <td>3.4</td>\n",
       "      <td>5.4</td>\n",
       "      <td>2.3</td>\n",
       "      <td>Iris-virginica</td>\n",
       "    </tr>\n",
       "    <tr>\n",
       "      <th>149</th>\n",
       "      <td>5.9</td>\n",
       "      <td>3.0</td>\n",
       "      <td>5.1</td>\n",
       "      <td>1.8</td>\n",
       "      <td>Iris-virginica</td>\n",
       "    </tr>\n",
       "  </tbody>\n",
       "</table>\n",
       "</div>"
      ],
      "text/plain": [
       "       0    1    2    3               4\n",
       "145  6.7  3.0  5.2  2.3  Iris-virginica\n",
       "146  6.3  2.5  5.0  1.9  Iris-virginica\n",
       "147  6.5  3.0  5.2  2.0  Iris-virginica\n",
       "148  6.2  3.4  5.4  2.3  Iris-virginica\n",
       "149  5.9  3.0  5.1  1.8  Iris-virginica"
      ]
     },
     "execution_count": 39,
     "metadata": {},
     "output_type": "execute_result"
    }
   ],
   "source": [
    "import pandas as pd\n",
    "import matplotlib.pyplot as plt\n",
    "#flores iris, se utiliza mucho para probar algoritmos.\n",
    "df = pd.read_csv('https://bit.ly/38XWXS4', header=None)\n",
    "df.tail()"
   ]
  },
  {
   "cell_type": "markdown",
   "id": "fdd7b386",
   "metadata": {},
   "source": [
    "Usaremos nuestro perceptron para ver si podemos clasificar, nuestro perceptron es solo binario solamente podra separar a 2 de nuestras clases."
   ]
  },
  {
   "cell_type": "code",
   "execution_count": 40,
   "id": "e30fb785",
   "metadata": {},
   "outputs": [
    {
     "data": {
      "text/html": [
       "<div>\n",
       "<style scoped>\n",
       "    .dataframe tbody tr th:only-of-type {\n",
       "        vertical-align: middle;\n",
       "    }\n",
       "\n",
       "    .dataframe tbody tr th {\n",
       "        vertical-align: top;\n",
       "    }\n",
       "\n",
       "    .dataframe thead th {\n",
       "        text-align: right;\n",
       "    }\n",
       "</style>\n",
       "<table border=\"1\" class=\"dataframe\">\n",
       "  <thead>\n",
       "    <tr style=\"text-align: right;\">\n",
       "      <th></th>\n",
       "      <th>0</th>\n",
       "      <th>1</th>\n",
       "      <th>2</th>\n",
       "      <th>3</th>\n",
       "      <th>4</th>\n",
       "    </tr>\n",
       "  </thead>\n",
       "  <tbody>\n",
       "    <tr>\n",
       "      <th>0</th>\n",
       "      <td>5.1</td>\n",
       "      <td>3.5</td>\n",
       "      <td>1.4</td>\n",
       "      <td>0.2</td>\n",
       "      <td>Iris-setosa</td>\n",
       "    </tr>\n",
       "    <tr>\n",
       "      <th>1</th>\n",
       "      <td>4.9</td>\n",
       "      <td>3.0</td>\n",
       "      <td>1.4</td>\n",
       "      <td>0.2</td>\n",
       "      <td>Iris-setosa</td>\n",
       "    </tr>\n",
       "    <tr>\n",
       "      <th>2</th>\n",
       "      <td>4.7</td>\n",
       "      <td>3.2</td>\n",
       "      <td>1.3</td>\n",
       "      <td>0.2</td>\n",
       "      <td>Iris-setosa</td>\n",
       "    </tr>\n",
       "    <tr>\n",
       "      <th>3</th>\n",
       "      <td>4.6</td>\n",
       "      <td>3.1</td>\n",
       "      <td>1.5</td>\n",
       "      <td>0.2</td>\n",
       "      <td>Iris-setosa</td>\n",
       "    </tr>\n",
       "    <tr>\n",
       "      <th>4</th>\n",
       "      <td>5.0</td>\n",
       "      <td>3.6</td>\n",
       "      <td>1.4</td>\n",
       "      <td>0.2</td>\n",
       "      <td>Iris-setosa</td>\n",
       "    </tr>\n",
       "  </tbody>\n",
       "</table>\n",
       "</div>"
      ],
      "text/plain": [
       "     0    1    2    3            4\n",
       "0  5.1  3.5  1.4  0.2  Iris-setosa\n",
       "1  4.9  3.0  1.4  0.2  Iris-setosa\n",
       "2  4.7  3.2  1.3  0.2  Iris-setosa\n",
       "3  4.6  3.1  1.5  0.2  Iris-setosa\n",
       "4  5.0  3.6  1.4  0.2  Iris-setosa"
      ]
     },
     "execution_count": 40,
     "metadata": {},
     "output_type": "execute_result"
    }
   ],
   "source": [
    "df.head(5)"
   ]
  },
  {
   "cell_type": "code",
   "execution_count": 41,
   "id": "45e052db",
   "metadata": {},
   "outputs": [
    {
     "data": {
      "text/plain": [
       "array([-1, -1, -1, -1, -1, -1, -1, -1, -1, -1, -1, -1, -1, -1, -1, -1, -1,\n",
       "       -1, -1, -1, -1, -1, -1, -1, -1, -1, -1, -1, -1, -1, -1, -1, -1, -1,\n",
       "       -1, -1, -1, -1, -1, -1, -1, -1, -1, -1, -1, -1, -1, -1, -1, -1,  1,\n",
       "        1,  1,  1,  1,  1,  1,  1,  1,  1,  1,  1,  1,  1,  1,  1,  1,  1,\n",
       "        1,  1,  1,  1,  1,  1,  1,  1,  1,  1,  1,  1,  1,  1,  1,  1,  1,\n",
       "        1,  1,  1,  1,  1,  1,  1,  1,  1,  1,  1,  1,  1,  1,  1])"
      ]
     },
     "execution_count": 41,
     "metadata": {},
     "output_type": "execute_result"
    }
   ],
   "source": [
    "# Usaremos las primeras 100 filas,  que son solamente 2 clases (setosa y versicolor).\n",
    "# Son 150 datos en total, 50 para cada clase\n",
    "# Con 4 caracteristicas \n",
    "\n",
    "# Usaremos solo 2 la [0,1] caractersiticas para ver si la podemos clasificar bien\n",
    "X = df.iloc[0:100, [0,2]].values\n",
    "# Vector con las 2 clases setosa y vesicolor\n",
    "y = df.iloc[0:100, 4].values\n",
    "y = np.array(np.where(y == 'Iris-setosa', -1, 1))\n",
    "y"
   ]
  },
  {
   "cell_type": "code",
   "execution_count": 56,
   "id": "9910291b",
   "metadata": {},
   "outputs": [
    {
     "name": "stdout",
     "output_type": "stream",
     "text": [
      "---Iteración: 1 - Lista de errores by iter: [1]--\n",
      "---Iteración: 2 - Lista de errores by iter: [1, 3]--\n",
      "---Iteración: 3 - Lista de errores by iter: [1, 3, 3]--\n",
      "---Iteración: 4 - Lista de errores by iter: [1, 3, 3, 2]--\n",
      "---Iteración: 5 - Lista de errores by iter: [1, 3, 3, 2, 1]--\n",
      "---Iteración: 6 - Lista de errores by iter: [1, 3, 3, 2, 1, 0]--\n",
      "---Iteración: 7 - Lista de errores by iter: [1, 3, 3, 2, 1, 0, 0]--\n",
      "---Iteración: 8 - Lista de errores by iter: [1, 3, 3, 2, 1, 0, 0, 0]--\n",
      "---Iteración: 9 - Lista de errores by iter: [1, 3, 3, 2, 1, 0, 0, 0, 0]--\n",
      "---Iteración: 10 - Lista de errores by iter: [1, 3, 3, 2, 1, 0, 0, 0, 0, 0]--\n"
     ]
    },
    {
     "data": {
      "image/png": "[encoded data removed]",
      "text/plain": [
       "<Figure size 432x288 with 1 Axes>"
      ]
     },
     "metadata": {
      "needs_background": "light"
     },
     "output_type": "display_data"
    }
   ],
   "source": [
    "import matplotlib.pyplot as plt\n",
    "# Haremos un perceptron\n",
    "ppn = Perceptron(eta=0.1, n_iter=10)\n",
    "# Calcula los pesos\n",
    "ppn.fit(X,y)\n",
    "plt.plot(range(1, len(ppn.errors_)+1), ppn.errors_, marker='o')\n",
    "plt.xlabel('Epoca - Pasadas completas de todos los valores')\n",
    "plt.ylabel('Errores')\n",
    "plt.show()"
   ]
  },
  {
   "cell_type": "markdown",
   "id": "f1b37cc2",
   "metadata": {},
   "source": [
    "Esto indica que encontramos los pesos en $6^{eta}$ iteracion, porque ya no hubo camios en los pesos y por lo tanto tuvumos $0$ errores."
   ]
  },
  {
   "cell_type": "code",
   "execution_count": 60,
   "id": "bb5637ed",
   "metadata": {},
   "outputs": [
    {
     "data": {
      "image/png": "[encoded data removed]",
      "text/plain": [
       "<Figure size 432x288 with 1 Axes>"
      ]
     },
     "metadata": {
      "needs_background": "light"
     },
     "output_type": "display_data"
    }
   ],
   "source": [
    "# AL perceptron lo definimos como una recta\n",
    "# w0 + w1*x1 + w2*x2\n",
    "# ¿Por que x2? Dada la geometria analitica asociamos x1 =x, x2=y, por lo tanto la ecuacion \n",
    "# de la recta se despeja y, para como y = mx + b, por eso se eligiio x2\n",
    "# x2 = (-w0 - w1*x1) / w2 = -(w0 + w1*x1) / w2\n",
    "\n",
    "# Con esto podemos trazar un borde de decision, graficamos la recta que se genera de ecuacion de pesos y entradas\n",
    "x1 = np.linspace(4, 7.5, 2)\n",
    "x2 = - (ppn.w_[0] + ppn.w_[1] * x1) / ppn.w_[2]\n",
    "plt.plot(x1,x2)\n",
    "\n",
    "# Clase setosa\n",
    "registros = y == -1 # regresa un data frame booleano que contiene solo los valores de -1\n",
    "x1 = X[registros][:,0]  # Toma columna 0\n",
    "x2 = X[registros][:,1]  # Toma toda la columna 1\n",
    "plt.scatter(x1, x2, c='r', marker='o', label='setosa')\n",
    "\n",
    "# Clase versicolor\n",
    "registros = y == 1\n",
    "x1 = X[registros][:,0]  # Toma columna 0\n",
    "x2 = X[registros][:,1]  # Toma toda la columna 1\n",
    "plt.scatter(x1, x2, c='b', marker='x', label='versicolor')\n",
    "\n",
    "plt.legend()\n",
    "plt.show()"
   ]
  },
  {
   "cell_type": "markdown",
   "id": "14d89cbe",
   "metadata": {},
   "source": [
    "Esta es una forma de reprentar nuestros resultados.\n",
    "- Trazar la recta de decision\n",
    "- Colore las clases"
   ]
  },
  {
   "cell_type": "code",
   "execution_count": 77,
   "id": "cbda172a",
   "metadata": {},
   "outputs": [
    {
     "data": {
      "text/plain": [
       "<matplotlib.collections.PathCollection at 0x7f38b8c50b20>"
      ]
     },
     "execution_count": 77,
     "metadata": {},
     "output_type": "execute_result"
    },
    {
     "data": {
      "image/png": "[encoded data removed]",
      "text/plain": [
       "<Figure size 432x288 with 1 Axes>"
      ]
     },
     "metadata": {
      "needs_background": "light"
     },
     "output_type": "display_data"
    }
   ],
   "source": [
    "registros = y == -1\n",
    "x1 = X[registros][:,0]\n",
    "x2 = X[registros][:,1]\n",
    "plt.scatter(x1, x2, c='r', marker='o', label='setosa')"
   ]
  },
  {
   "cell_type": "markdown",
   "id": "e6d852a2",
   "metadata": {},
   "source": [
    "Fin del notebook."
   ]
  },
  {
   "cell_type": "markdown",
   "id": "b361c28f",
   "metadata": {},
   "source": [
    "---\n",
    "### Cosa de python\n",
    "\n",
    "Conceptos de python para entender el codigo de arriba."
   ]
  },
  {
   "cell_type": "code",
   "execution_count": 41,
   "id": "6484376b",
   "metadata": {},
   "outputs": [
    {
     "data": {
      "text/plain": [
       "0"
      ]
     },
     "execution_count": 41,
     "metadata": {},
     "output_type": "execute_result"
    }
   ],
   "source": [
    "# True -> 1\n",
    "# False -> 0\n",
    "update = 0.0\n",
    "int(update != 0.0)"
   ]
  },
  {
   "cell_type": "code",
   "execution_count": 38,
   "id": "fdf8c435",
   "metadata": {},
   "outputs": [
    {
     "name": "stdout",
     "output_type": "stream",
     "text": [
      "[1, 2, 3, 4, 5, 6, 7, 8, 9]\n",
      "[3, 4, 5]\n",
      "[1, 2, 70, 90, 80, 6, 7, 8, 9]\n"
     ]
    }
   ],
   "source": [
    "# Asignacion por slices\n",
    "nums = [1,2,3,4,5,6,7,8,9]\n",
    "print(nums)\n",
    "print(nums[2:5])\n",
    "\n",
    "nums[2:5] = [70, 90, 80]\n",
    "print(nums)"
   ]
  },
  {
   "cell_type": "code",
   "execution_count": 64,
   "id": "928c8e3b",
   "metadata": {},
   "outputs": [
    {
     "name": "stdout",
     "output_type": "stream",
     "text": [
      "[1, 2, 3, 4, 5, 6, 7, 8, 9]\n",
      "[3, 4, 5]\n",
      "[1, 2, 3, 4, 5, 200, 800, 900, 6, 7, 8, 9]\n"
     ]
    }
   ],
   "source": [
    "# Suma slices\n",
    "# Asignacion por slices\n",
    "nums = [1,2,3,4,5,6,7,8,9]\n",
    "print(nums)\n",
    "print(nums[2:5])\n",
    "\n",
    "nums[2:5] += [200, 800, 900]\n",
    "print(nums)"
   ]
  },
  {
   "cell_type": "code",
   "execution_count": 68,
   "id": "3bfcba3a",
   "metadata": {},
   "outputs": [
    {
     "name": "stdout",
     "output_type": "stream",
     "text": [
      "[1 2 3 4 5 6 7 8 9]\n",
      "[3 4 5]\n",
      "[ 1  2 70 90 80  6  7  8  9]\n"
     ]
    }
   ],
   "source": [
    "import numpy as np\n",
    "# Asignacion por slices\n",
    "nums = np.array([1,2,3,4,5,6,7,8,9])\n",
    "print(nums)\n",
    "print(nums[2:5])\n",
    "\n",
    "nums[2:5] = [70, 90, 80]\n",
    "print(nums)"
   ]
  },
  {
   "cell_type": "code",
   "execution_count": 66,
   "id": "6e91a7b2",
   "metadata": {},
   "outputs": [
    {
     "name": "stdout",
     "output_type": "stream",
     "text": [
      "[1 2 3 4 5 6 7 8 9]\n",
      "[3 4 5]\n",
      "[  1   2 203 804 905   6   7   8   9]\n"
     ]
    }
   ],
   "source": [
    "import numpy as np\n",
    "\n",
    "# Asignacion por slices numpy\n",
    "nums = np.array([1,2,3,4,5,6,7,8,9])\n",
    "print(nums)\n",
    "print(nums[2:5])\n",
    "\n",
    "nums[2:5] += [200, 800, 900]\n",
    "print(nums)"
   ]
  },
  {
   "cell_type": "code",
   "execution_count": 9,
   "id": "64dafd45",
   "metadata": {},
   "outputs": [
    {
     "name": "stdout",
     "output_type": "stream",
     "text": [
      "Item1:1 - item2:one\n",
      "Item1:2 - item2:two\n",
      "Item1:3 - item2:three\n"
     ]
    }
   ],
   "source": [
    "numbers = [1, 2, 3]\n",
    "words = ['one', 'two', 'three']\n",
    "zip_iterator = zip(numbers, words)\n",
    "\n",
    "for item1, item2 in zip(numbers, words):\n",
    "    print(f\"Item1:{item1} - item2:{item2}\")"
   ]
  },
  {
   "cell_type": "code",
   "execution_count": 7,
   "id": "c624d9c7",
   "metadata": {},
   "outputs": [
    {
     "name": "stdout",
     "output_type": "stream",
     "text": [
      "chicken\n",
      "rice\n",
      "curry sauce\n",
      "carrots\n",
      "milk\n",
      "Item1:5 - item2:chicken\n",
      "Item1:6 - item2:rice\n",
      "Item1:7 - item2:curry sauce\n",
      "Item1:8 - item2:carrots\n",
      "Item1:9 - item2:milk\n"
     ]
    }
   ],
   "source": [
    "shopping_tuple = (\"chicken\", \"rice\", \"curry sauce\", \"carrots\", \"milk\")\n",
    "\n",
    "for item in shopping_tuple:\n",
    "    print(item)\n",
    "\n",
    "# Este el estilo python para ciclo, no se sita crear indice i para llevar el conteo\n",
    "for item1, item2 in enumerate(shopping_tuple, start=5):\n",
    "     print(f\"Item1:{item1} - item2:{item2}\")"
   ]
  },
  {
   "cell_type": "code",
   "execution_count": 2,
   "id": "7f75c6ff",
   "metadata": {},
   "outputs": [
    {
     "name": "stdout",
     "output_type": "stream",
     "text": [
      "i:31 - element: java\n",
      "i:32 - element: python\n",
      "i:33 - element: c++\n"
     ]
    }
   ],
   "source": [
    "languages = [\"java\", \"python\", \"c++\"]\n",
    "\n",
    "\n",
    "for i, language in enumerate(languages, 31):\n",
    "    print(f\"i:{i} - element: {language}\")"
   ]
  },
  {
   "cell_type": "code",
   "execution_count": 4,
   "id": "326b843e",
   "metadata": {},
   "outputs": [],
   "source": [
    "import numpy as np"
   ]
  },
  {
   "cell_type": "code",
   "execution_count": 5,
   "id": "c3cbbeef",
   "metadata": {},
   "outputs": [
    {
     "data": {
      "text/plain": [
       "array([0.])"
      ]
     },
     "execution_count": 5,
     "metadata": {},
     "output_type": "execute_result"
    }
   ],
   "source": [
    "np.zeros(1)"
   ]
  },
  {
   "cell_type": "markdown",
   "id": "fddf1379",
   "metadata": {},
   "source": [
    "### References\n",
    "- https://stackoverflow.com/questions/14675913/changing-image-size-in-markdown\n",
    "- https://stackoverflow.com/questions/255170/markdown-and-image-alignment#answer-5054055\n",
    "- https://stackoverflow.com/questions/4027363/two-statements-next-to-curly-brace-in-an-equation\n",
    "- https://www.ediciones-eni.com/open/mediabook.aspx?idR=0ae2d1cebd85290a367430c681c6de60"
   ]
  },
  {
   "cell_type": "markdown",
   "id": "2f91ef0d",
   "metadata": {},
   "source": [
    "### Peculiaridades de python"
   ]
  },
  {
   "cell_type": "code",
   "execution_count": 20,
   "id": "f98578cd",
   "metadata": {},
   "outputs": [
    {
     "name": "stdout",
     "output_type": "stream",
     "text": [
      "<zip object at 0x7f36d6844440>\n",
      "((1, 'one'), (2, 'two'), (3, 'three'))\n",
      "[]\n",
      "Item1:1 - item2:one\n",
      "Item1:2 - item2:two\n",
      "Item1:3 - item2:three\n"
     ]
    }
   ],
   "source": [
    "numbers = [1, 2, 3]\n",
    "words = ['one', 'two', 'three']\n",
    "zip_iterator = zip(numbers, words)\n",
    "\n",
    "\n",
    "print(zip_iterator)\n",
    "print(tuple(zip_iterator))\n",
    "#zip_iterator = zip(numbers, words)\n",
    "print(list(zip_iterator))\n",
    "\n",
    "for item1, item2 in zip(numbers, words):\n",
    "    print(f\"Item1:{item1} - item2:{item2}\")"
   ]
  }
 ],
 "metadata": {
  "kernelspec": {
   "display_name": "Python 3",
   "language": "python",
   "name": "python3"
  },
  "language_info": {
   "codemirror_mode": {
    "name": "ipython",
    "version": 3
   },
   "file_extension": ".py",
   "mimetype": "text/x-python",
   "name": "python",
   "nbconvert_exporter": "python",
   "pygments_lexer": "ipython3",
   "version": "3.8.8"
  }
 },
 "nbformat": 4,
 "nbformat_minor": 5
}
