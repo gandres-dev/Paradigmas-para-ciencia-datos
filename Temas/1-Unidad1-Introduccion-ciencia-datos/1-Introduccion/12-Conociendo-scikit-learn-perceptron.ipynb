{
 "cells": [
  {
   "cell_type": "markdown",
   "id": "a15e4013",
   "metadata": {},
   "source": [
    "# Scikit-learn\n",
    "\n",
    "_scikit-learn_ (sklearn) es una biblioteca desarrollada en Python, funciona sobre _Numpy, Scipy y matplotlib_; incluye muchos algoritmos de aprendisaje automático (_machine learning_)."
   ]
  },
  {
   "cell_type": "markdown",
   "id": "6d91d1d6",
   "metadata": {},
   "source": [
    "## Conjunto de datos (datasets)\n",
    "\n",
    "Dentro de datasets, sklearn incluye varios conjuntos para pruebas, por ejemplo _Iris_:\n",
    "\n",
    "Dataset: Iris \n",
    "\n",
    "|sepal length|sepal width|petal length|petal width| clase|\n",
    "|-----------------|--------|-----------|-----------|------|\n",
    "|5.1|3.5|1.4|0.2|Iris-setosa|\n",
    "|4.9|3.0|1.4|0.2|Iris-setosa|\n",
    "|4.7|3.2|1.3|0.2|Iris-setosa|\n",
    "|4.6|3.1|1.5|0.2|Iris-setosa|\n",
    "|5.0|3.6|1.4|0.2|Iris-setosa|\n",
    "|...|...|...|...|...|\n",
    "\n",
    "\n",
    "\n",
    "    Number of Instances: 150 (50 in each of three classes).\n",
    "    Class Distribution: 33.3% for each of 3 classes."
   ]
  },
  {
   "cell_type": "code",
   "execution_count": 43,
   "id": "750c24fe",
   "metadata": {},
   "outputs": [],
   "source": [
    "from sklearn import datasets\n",
    "import numpy as np\n",
    "\n",
    "iris = datasets.load_iris()\n",
    "# iris.data\n",
    "# iris.target"
   ]
  },
  {
   "cell_type": "code",
   "execution_count": 44,
   "id": "890c1a2f",
   "metadata": {},
   "outputs": [
    {
     "name": "stdout",
     "output_type": "stream",
     "text": [
      "Etiquetas :  [0 1 2]\n"
     ]
    },
    {
     "data": {
      "text/plain": [
       "(150, 2)"
      ]
     },
     "execution_count": 44,
     "metadata": {},
     "output_type": "execute_result"
    }
   ],
   "source": [
    "# Las caracteristicas tomaremos seran:  petal length y petal width\n",
    "X = iris.data[:, [2, 3]]\n",
    "# Dado que son tres clases disitintas para iris, obtendremos\n",
    "# un vector con 0,1 y 3's en y\n",
    "y = iris.target[:]\n",
    "print('Etiquetas : ' , np.unique(y))\n",
    "X.shape"
   ]
  },
  {
   "cell_type": "markdown",
   "id": "de519a28",
   "metadata": {},
   "source": [
    "## Partición en datos de entrenamiento y prueba.\n",
    "\n",
    "La funcion `train_test_split` de `model_selection` genera particiones de datos para entrenamiento y prueba para determinar cómo se comporta con datos desconocidos:\n",
    "\n",
    "- Datos de entrenamiento: Datos que nos serviran para entrenar el modelo.\n",
    "- Datos de prueba: Datos para pruebas.\n",
    "\n",
    "### Conveciones\n",
    "\n",
    "`X_train`: Es el nombre que se le da a la parte de datos que seran para entrenar el modelo. (datos de la variable independiente `x`.\n",
    "\n",
    "Ver video : https://youtu.be/OPPS0fQdWF0 \\\n",
    "Ver enlace: https://towardsdatascience.com/train-test-split-and-cross-validation-in-python-80b61beca4b6"
   ]
  },
  {
   "cell_type": "code",
   "execution_count": 45,
   "id": "b9479d9b",
   "metadata": {},
   "outputs": [
    {
     "name": "stdout",
     "output_type": "stream",
     "text": [
      "(105, 2)\n",
      "(45, 2)\n",
      "(105,)\n",
      "(45,)\n"
     ]
    }
   ],
   "source": [
    "from sklearn.model_selection import train_test_split\n",
    "# 30 % de pruebas\n",
    "X_train, X_test, y_train, y_test = train_test_split(X, y, test_size=0.3,\n",
    "                                                   stratify=y,\n",
    "                                                   random_state=1)\n",
    "print(X_train.shape)\n",
    "print(X_test.shape)\n",
    "\n",
    "print(y_train.shape)\n",
    "print(y_test.shape)"
   ]
  },
  {
   "cell_type": "code",
   "execution_count": 46,
   "id": "fc3203aa",
   "metadata": {},
   "outputs": [
    {
     "name": "stdout",
     "output_type": "stream",
     "text": [
      "En y      : [50 50 50]\n",
      "En y_train: [35 35 35]\n",
      "En y_test : [15 15 15]\n"
     ]
    }
   ],
   "source": [
    "# Usando strafify, banlancea que sea la misma proporcion de neustra clases\n",
    "print(\"En y      :\", np.bincount(y))\n",
    "print(\"En y_train:\", np.bincount(y_train))\n",
    "\n",
    "print(\"En y_test :\", np.bincount(y_test))"
   ]
  },
  {
   "cell_type": "markdown",
   "id": "188b98e6",
   "metadata": {},
   "source": [
    "# Escalar o estandarizar\n",
    "\n",
    "Algo comun es cambiar la dimension de nuestro conjunto de datos. Standarizar nuestro datos para no exista un sesgo\n",
    "Esto es conocido como escalar los datos, para que tengan valor solo entre -1 y 1"
   ]
  },
  {
   "cell_type": "code",
   "execution_count": 47,
   "id": "3f68a16e",
   "metadata": {},
   "outputs": [],
   "source": [
    "from sklearn.preprocessing import StandardScaler\n",
    "sc = StandardScaler()\n",
    "sc.fit(X_train)\n",
    "X_train_std = sc.transform(X_train)\n",
    "X_test_std = sc.transform(X_test)"
   ]
  },
  {
   "cell_type": "markdown",
   "id": "753ae8fd",
   "metadata": {},
   "source": [
    "@keyword: StandardScaler ( youtube, google)\n",
    "- https://youtu.be/H5-Gwg1UVtY\n",
    "- https://youtu.be/Y7m9MyPxcyQ\n",
    "- https://youtu.be/PwfqPq_YQ_g\n",
    "- https://youtu.be/g2XsZdwbCCs"
   ]
  },
  {
   "cell_type": "markdown",
   "id": "7ff69bce",
   "metadata": {},
   "source": [
    "### Perceptron de sklearn\n",
    "Es un modelo lineal, ya que separa de manera lineal a nuestros datos.\n",
    "\n",
    "Este perceptron usa tecnica llamada one versus all, es decir compara en binario, pero cuando existen más clases, a una le da el valor de 1 y a las demas clases el valor 0 y asi para cada clase.\n",
    "\n",
    "\n",
    "Por eso mismo, no solo vamos encontrar una sola linea, sino $3$ lineas que dividen a cada una de las clases.\n",
    "\n",
    "\n",
    "**Observacion**. Esta idea es muy similar a la _distribución hipergeometrica_ de probabilida. La funciona igualmente para $2$ tipos y se desea más clasifica el tipo $1$ para una clase y el tipo $2$ para las demas clases.\n",
    "\n",
    "Tambien se puede implementar esa funcion con nuestro perceptron hecho anteriormenet usando la idea _one versus all_."
   ]
  },
  {
   "cell_type": "code",
   "execution_count": 48,
   "id": "2e676b6c",
   "metadata": {},
   "outputs": [
    {
     "data": {
      "text/plain": [
       "Perceptron(eta0=0.1, max_iter=40, random_state=1)"
      ]
     },
     "execution_count": 48,
     "metadata": {},
     "output_type": "execute_result"
    }
   ],
   "source": [
    "from sklearn.linear_model import Perceptron\n",
    "ppn = Perceptron(max_iter=40, eta0=0.1, random_state=1)\n",
    "\n",
    "# Lo vamos entrenas con nuestro datos de entrenamiento, pero los\n",
    "# estandarizados\n",
    "\n",
    "# Calculas los pesos correctoa para la clasificacion\n",
    "ppn.fit(X_train_std, y_train)"
   ]
  },
  {
   "cell_type": "code",
   "execution_count": 49,
   "id": "b8ba7e3b",
   "metadata": {},
   "outputs": [
    {
     "name": "stdout",
     "output_type": "stream",
     "text": [
      "[2 0 0 2 1 1 2 1 2 0 0 2 0 1 0 1 2 1 1 2 2 0 1 2 1 1 0 2 0 2 0 0 1 1 2 2 0\n",
      " 0 0 1 2 2 1 0 0]\n"
     ]
    }
   ],
   "source": [
    "# Prediciones: son los valores que obtenemos del producto punto\n",
    "# de los pesos por las entradas\n",
    "\n",
    "# Obtendremos los posibles resultados, con las muestras de prueba\n",
    "# Es decir, en que clase deberia pertecenecer segun los datos de prueba\n",
    "y_pred = ppn.predict(X_test_std)\n",
    "\n",
    "print(y_pred)\n",
    "# https://machinelearningmastery.com/make-predictions-scikit-learn/"
   ]
  },
  {
   "cell_type": "code",
   "execution_count": 50,
   "id": "643114e5",
   "metadata": {},
   "outputs": [
    {
     "name": "stdout",
     "output_type": "stream",
     "text": [
      "[2 0 0 2 1 1 2 1 2 0 0 2 0 1 0 1 2 1 1 2 2 0 1 2 1 1 1 2 0 2 0 0 1 1 2 2 0\n",
      " 0 0 1 2 2 1 0 0]\n"
     ]
    }
   ],
   "source": [
    "print(y_test)"
   ]
  },
  {
   "cell_type": "code",
   "execution_count": 51,
   "id": "d469ba3b",
   "metadata": {},
   "outputs": [
    {
     "name": "stdout",
     "output_type": "stream",
     "text": [
      "Errores:  1\n"
     ]
    }
   ],
   "source": [
    "print(\"Errores: \", (y_test - y_pred).sum())"
   ]
  },
  {
   "cell_type": "code",
   "execution_count": 52,
   "id": "8d1273a4",
   "metadata": {},
   "outputs": [
    {
     "data": {
      "text/plain": [
       "array([[-0.10655204, -0.11836728],\n",
       "       [ 0.31790327, -0.3670884 ],\n",
       "       [ 0.36018414,  0.30003858]])"
      ]
     },
     "execution_count": 52,
     "metadata": {},
     "output_type": "execute_result"
    }
   ],
   "source": [
    "# Ver los datos para la recta que dividen nuestros datos\n",
    "# Los pesos que calculo del predict x1, x2\n",
    "ppn.coef_\n",
    "\n",
    "# Estas son las rectas que se obtienen"
   ]
  },
  {
   "cell_type": "code",
   "execution_count": 53,
   "id": "4da0c071",
   "metadata": {},
   "outputs": [
    {
     "name": "stdout",
     "output_type": "stream",
     "text": [
      "Exactitud:  0.9777777777777777\n"
     ]
    }
   ],
   "source": [
    "# Una medida para calcula exactitud\n",
    "# Que tan bueno o mal es nuestro modelo entrenado\n",
    "\n",
    "# En esta forma, tomas los datos de prueba, los utiliza con el modelo\n",
    "# hace la preccion internamente y los compara con los resultados\n",
    "print(\"Exactitud: \", ppn.score(X_test_std, y_test))"
   ]
  },
  {
   "cell_type": "code",
   "execution_count": 54,
   "id": "56f76413",
   "metadata": {},
   "outputs": [
    {
     "name": "stdout",
     "output_type": "stream",
     "text": [
      "Exactitud:  0.9777777777777777\n"
     ]
    }
   ],
   "source": [
    "# Otra forma de concerlo porque no viene el metodo score\n",
    "# es usando metrics\n",
    "from sklearn.metrics import accuracy_score\n",
    "\n",
    "# Como no sabe con que comparar, necesitamos y_test \n",
    "# y las predicciones sacadas con el modelo, las deben se de las mismas\n",
    "# dimensiones.\n",
    "print(\"Exactitud: \", accuracy_score(y_test, y_pred))"
   ]
  },
  {
   "cell_type": "markdown",
   "id": "dbfa937b",
   "metadata": {},
   "source": [
    "### Con las muestras de entranamiento"
   ]
  },
  {
   "cell_type": "code",
   "execution_count": 55,
   "id": "90832a07",
   "metadata": {},
   "outputs": [
    {
     "data": {
      "image/png": "[encoded data removed]",
      "text/plain": [
       "<Figure size 432x288 with 1 Axes>"
      ]
     },
     "metadata": {
      "needs_background": "light"
     },
     "output_type": "display_data"
    }
   ],
   "source": [
    "from mlxtend.plotting import plot_decision_regions\n",
    "import matplotlib.pyplot as plt\n",
    "\n",
    "# Usaremos nuestros datos de entrenamiento\n",
    "plot_decision_regions(X_train_std, y_train, clf=ppn)\n",
    "plt.xlabel('petal length [std]')\n",
    "plt.ylabel('petal width [std]')\n",
    "plt.show()"
   ]
  },
  {
   "cell_type": "markdown",
   "id": "a45f46c0",
   "metadata": {},
   "source": [
    "La estandariazion, hace una normal centrada en cero y despues la dispersion hacia los acostados, al  igual con el eje y.\n",
    "\n",
    "- Se puede ver, que hay mas errores que el de prueba.\n",
    "\n",
    "- En general es al reves, tenemos mas errores en los de prueba y menos en los de entrenamiento (este solo es una exepcion)"
   ]
  },
  {
   "cell_type": "markdown",
   "id": "930e3d6b",
   "metadata": {},
   "source": [
    "### Con las muestras de prueba\n",
    "Ahora veremos como se comporta, pero esta vez ya no con los de entrenamiento, sino con los de prueba.\n"
   ]
  },
  {
   "cell_type": "code",
   "execution_count": 56,
   "id": "9b3fd348",
   "metadata": {},
   "outputs": [
    {
     "data": {
      "image/png": "[encoded data removed]",
      "text/plain": [
       "<Figure size 432x288 with 1 Axes>"
      ]
     },
     "metadata": {
      "needs_background": "light"
     },
     "output_type": "display_data"
    }
   ],
   "source": [
    "from mlxtend.plotting import plot_decision_regions\n",
    "import matplotlib.pyplot as plt\n",
    "\n",
    "# Usaremos nuestros datos de entrenamiento\n",
    "plot_decision_regions(X_test_std, y_test, clf=ppn)\n",
    "plt.xlabel('petal length [std]')\n",
    "plt.ylabel('petal width [std]')\n",
    "plt.show()"
   ]
  },
  {
   "cell_type": "markdown",
   "id": "559b77e7",
   "metadata": {},
   "source": [
    "- Vemos que las regiones son las mismas, porque el clasificador es el mismo.\n",
    "\n",
    "- Utiliza los mismo coeficientes de los pesos\n",
    "\n",
    "- Habiamos visto que anteriormente nos marcara solo un error, precisamente es ese triangulito naranja que esta en la zona azul."
   ]
  },
  {
   "cell_type": "code",
   "execution_count": null,
   "id": "0fe11ba6",
   "metadata": {},
   "outputs": [],
   "source": []
  },
  {
   "cell_type": "markdown",
   "id": "952673c3",
   "metadata": {},
   "source": [
    "#### Ejemplos para aplicar todo lo aprendido\n",
    "\n",
    "- https://www.analyticsvidhya.com/blog/2021/04/sklearn-objects-fit-vs-transform-vs-fit_transform-vs-predict-in-scikit-learn/\n",
    "\n",
    "- https://scikit-learn.org/stable/tutorial/statistical_inference/supervised_learning.html"
   ]
  },
  {
   "cell_type": "code",
   "execution_count": null,
   "id": "361f4456",
   "metadata": {},
   "outputs": [],
   "source": []
  }
 ],
 "metadata": {
  "kernelspec": {
   "display_name": "Python 3",
   "language": "python",
   "name": "python3"
  },
  "language_info": {
   "codemirror_mode": {
    "name": "ipython",
    "version": 3
   },
   "file_extension": ".py",
   "mimetype": "text/x-python",
   "name": "python",
   "nbconvert_exporter": "python",
   "pygments_lexer": "ipython3",
   "version": "3.8.8"
  }
 },
 "nbformat": 4,
 "nbformat_minor": 5
}
