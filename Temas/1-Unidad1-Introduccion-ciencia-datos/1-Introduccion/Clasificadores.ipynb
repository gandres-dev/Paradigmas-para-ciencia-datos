{
 "cells": [
  {
   "cell_type": "markdown",
   "id": "858209f0",
   "metadata": {},
   "source": [
    "# Clasificadores\n",
    "\n",
    "Ayudara a clasificar objetos con su correspondiente clase.\n",
    "\n",
    "Para hacer este reconocimiento automatico de los objetos, tendremos que hacer una transformación de estos objetos en vector, cuyas N componentes se llamarán **caracteristicas discriminantes o rasgos**.\n",
    "\n",
    "Para la obtención de las N caracteristicas discriminante es un proceso dificil, suele ocurrir del uso de la imaginacion. el objetivo es conseguir caracteristicas de los objetos.\n",
    "\n",
    "Estas características deben permitir discriminar a qué\n",
    "clases puede pertenecer cualquier objeto del universo de trabajo.\n",
    "\n",
    "* la clasificación de un objeto comienza por la obtención de su patrón\n",
    "\n",
    "* determinar la proximidad o grado de pertenencia de este patrón a cada una de las clases existentes\n",
    "\n",
    "A este efecto se definen las funciones discriminantes o funciones de decisión como aquellas\n",
    "funciones que asignan a un objeto un grado de semejanza respecto a cada una de las diferentes\n",
    "clases.\n",
    "\n",
    "```\n",
    "func discriminate (objeto) -> \n",
    "objeto.grado = grado\n",
    "```"
   ]
  },
  {
   "cell_type": "markdown",
   "id": "3bc9f94d",
   "metadata": {},
   "source": [
    "En general se busca el conjunto mínimo de características que permiten determinar de manera\n",
    "unívoca a qué clase pertenecen todos los objetos del universo de trabajo."
   ]
  },
  {
   "cell_type": "markdown",
   "id": "fba853f1",
   "metadata": {},
   "source": [
    "## Tipos de algoritmos de clasificación\n",
    "\n",
    "**Clasificadores a priori** construyen el clasificador en un solo paso, utilizando una muestra\n",
    "de aprendizaje para el cálculo de las funciones discriminantes y un cálculo exacto.\n",
    "\n",
    "**Clasificadores a posteriori o con aprendizaje** se construyen siguiendo un procedimiento\n",
    "iterativo de entrenamiento, en el cual el clasificador aprende a reconocer de una manera progresiva\n",
    "los patrones de las muestras de aprendizaje\n",
    "\n",
    "\n",
    "**En los supervisados**, el supervisor lleva a cabo las etapas en la construcción del clasificador:\n",
    "determinación de las clases, elección y prueba de las características discriminantes, selección de\n",
    "la muestra, cálculo de funciones discriminantes y prueba del clasificador.\n",
    "\n",
    "**En los no supervisados** este proceso se realiza de manera automática, sin la necesidad de\n",
    "ningún supervisor externo. Para ello se emplean técnicas de agrupamiento, gracias a las cuales\n",
    "el sistema selecciona y aprende los patrones que poseen características similares, determinándose\n",
    "automáticamente las clases\n",
    "\n",
    "\n",
    "**Deterministas.**\n",
    "De acuerdo a la forma en que se distribuyen los patrones de la muestra se puede hablar de que\n",
    "se cumple o no la hipótesis determinista.\n",
    "\n",
    "cada clase se puede representar por un único vector que se llama prototipo representante de la clase.\n",
    "\n",
    "Cuando las características elegidas hacen que los patrones de clases diferentes se sitúen en regiones\n",
    "disjuntas, los clasificadores deterministas darán buenos resultados.\n",
    "\n",
    "**No deterministas.**\n",
    "Si las regiones no son disjuntas ofrecerán mejores resultados los clasificadores no deterministas.\n"
   ]
  },
  {
   "cell_type": "markdown",
   "id": "c4ebcd79",
   "metadata": {},
   "source": [
    "Modelos ... "
   ]
  },
  {
   "cell_type": "markdown",
   "id": "a65b280a",
   "metadata": {},
   "source": [
    "## Neuronas artificiales y el modelo de McCulloch-Pitts"
   ]
  }
 ],
 "metadata": {
  "kernelspec": {
   "display_name": "Python 3",
   "language": "python",
   "name": "python3"
  },
  "language_info": {
   "codemirror_mode": {
    "name": "ipython",
    "version": 3
   },
   "file_extension": ".py",
   "mimetype": "text/x-python",
   "name": "python",
   "nbconvert_exporter": "python",
   "pygments_lexer": "ipython3",
   "version": "3.8.8"
  }
 },
 "nbformat": 4,
 "nbformat_minor": 5
}
