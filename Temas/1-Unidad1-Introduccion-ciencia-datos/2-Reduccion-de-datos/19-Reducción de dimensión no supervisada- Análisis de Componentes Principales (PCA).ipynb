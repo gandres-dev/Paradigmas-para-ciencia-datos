{
 "cells": [
  {
   "cell_type": "markdown",
   "id": "4a9ebe54",
   "metadata": {},
   "source": [
    "# Reducción de dimensión no supervisada: Análisis de Componentes Principales (PCA)\n",
    "\n"
   ]
  },
  {
   "cell_type": "markdown",
   "id": "d48f5ade",
   "metadata": {},
   "source": [
    "## Lecturas previas\n",
    "- https://youtu.be/g-Hb26agBFg\n",
    "- https://youtu.be/5HNr_j6LmPc\n",
    "- https://youtu.be/_UVHneBUBW0\n",
    "- https://youtu.be/HMOI_lkzW08"
   ]
  },
  {
   "cell_type": "markdown",
   "id": "8c6f5c9c",
   "metadata": {},
   "source": [
    "Otra forma de reducir la cantidad de datos a procesar, es la compresión de datos, dado que nos\n",
    "permite almacenar y analizar gran catidad de datos producidos y recolectados por medio tecnoló-\n",
    "gicos. Mientras que SBS es un algoritmo de selección, PCA (Principal Component Analysis)\n",
    "es un algoritmo de extracción de características. La diferencia principal es que en un algorit-\n",
    "mo de selección, se conservan las características originales y en uno de extracción, los datos se\n",
    "transforman o proyectan en un nuevo espacio de características.\n",
    "PCA ayuda a identificar patrones en los datos basado en la correlación entre las características;\n",
    "es decir, intenta encontrar las direcciones de máxima varianza en datos con muchas dimensiones y\n",
    "las proyecta en un nuevo subespacio con igual o menos dimensiones que el original. El algoritmo\n",
    "se compone de los siguientes pasos:"
   ]
  },
  {
   "cell_type": "markdown",
   "id": "0bb5e47e",
   "metadata": {},
   "source": [
    "```\n",
    "Algoritmo-Principal Component Analysis\n",
    "\n",
    "1. Estandarizar el conjunto de datos de dimensión d\n",
    "2. Obtener la matriz de covarianza\n",
    "3. Descomponer la matriz de covarianza en sus eigenvalores y eigenvectores\n",
    "4. Ordenar los eigenvalores de manera decreciente de acuerdo a sus correspondientes eigenvec-\n",
    "tores\n",
    "5. Seleccionar los k eigenvectores que corresponden con los k mayores eigenvalores; k es la\n",
    "dimensión de nuevo subespacio de características (k < d)\n",
    "6. Construir una matriz de proyección W con los primeros k eigenvectores\n",
    "7. Transformar el conjunto de datos de entrada X de dimensión d utilizando la matriz de\n",
    "proyección W para obtener el nuevo subespacio de características de dimensión k\n",
    "```"
   ]
  },
  {
   "cell_type": "code",
   "execution_count": 124,
   "id": "73b47bf5",
   "metadata": {},
   "outputs": [],
   "source": [
    "import pandas as pd\n",
    "import numpy as np"
   ]
  },
  {
   "cell_type": "markdown",
   "id": "a383833a",
   "metadata": {},
   "source": [
    "### Obtencion de los datos"
   ]
  },
  {
   "cell_type": "code",
   "execution_count": 125,
   "id": "5d90f956",
   "metadata": {
    "scrolled": true
   },
   "outputs": [
    {
     "data": {
      "text/html": [
       "<div>\n",
       "<style scoped>\n",
       "    .dataframe tbody tr th:only-of-type {\n",
       "        vertical-align: middle;\n",
       "    }\n",
       "\n",
       "    .dataframe tbody tr th {\n",
       "        vertical-align: top;\n",
       "    }\n",
       "\n",
       "    .dataframe thead th {\n",
       "        text-align: right;\n",
       "    }\n",
       "</style>\n",
       "<table border=\"1\" class=\"dataframe\">\n",
       "  <thead>\n",
       "    <tr style=\"text-align: right;\">\n",
       "      <th></th>\n",
       "      <th>0</th>\n",
       "      <th>1</th>\n",
       "      <th>2</th>\n",
       "      <th>3</th>\n",
       "      <th>4</th>\n",
       "      <th>5</th>\n",
       "      <th>6</th>\n",
       "      <th>7</th>\n",
       "      <th>8</th>\n",
       "      <th>9</th>\n",
       "      <th>10</th>\n",
       "      <th>11</th>\n",
       "      <th>12</th>\n",
       "      <th>13</th>\n",
       "    </tr>\n",
       "  </thead>\n",
       "  <tbody>\n",
       "    <tr>\n",
       "      <th>173</th>\n",
       "      <td>3</td>\n",
       "      <td>13.71</td>\n",
       "      <td>5.65</td>\n",
       "      <td>2.45</td>\n",
       "      <td>20.5</td>\n",
       "      <td>95</td>\n",
       "      <td>1.68</td>\n",
       "      <td>0.61</td>\n",
       "      <td>0.52</td>\n",
       "      <td>1.06</td>\n",
       "      <td>7.7</td>\n",
       "      <td>0.64</td>\n",
       "      <td>1.74</td>\n",
       "      <td>740</td>\n",
       "    </tr>\n",
       "    <tr>\n",
       "      <th>174</th>\n",
       "      <td>3</td>\n",
       "      <td>13.40</td>\n",
       "      <td>3.91</td>\n",
       "      <td>2.48</td>\n",
       "      <td>23.0</td>\n",
       "      <td>102</td>\n",
       "      <td>1.80</td>\n",
       "      <td>0.75</td>\n",
       "      <td>0.43</td>\n",
       "      <td>1.41</td>\n",
       "      <td>7.3</td>\n",
       "      <td>0.70</td>\n",
       "      <td>1.56</td>\n",
       "      <td>750</td>\n",
       "    </tr>\n",
       "    <tr>\n",
       "      <th>175</th>\n",
       "      <td>3</td>\n",
       "      <td>13.27</td>\n",
       "      <td>4.28</td>\n",
       "      <td>2.26</td>\n",
       "      <td>20.0</td>\n",
       "      <td>120</td>\n",
       "      <td>1.59</td>\n",
       "      <td>0.69</td>\n",
       "      <td>0.43</td>\n",
       "      <td>1.35</td>\n",
       "      <td>10.2</td>\n",
       "      <td>0.59</td>\n",
       "      <td>1.56</td>\n",
       "      <td>835</td>\n",
       "    </tr>\n",
       "    <tr>\n",
       "      <th>176</th>\n",
       "      <td>3</td>\n",
       "      <td>13.17</td>\n",
       "      <td>2.59</td>\n",
       "      <td>2.37</td>\n",
       "      <td>20.0</td>\n",
       "      <td>120</td>\n",
       "      <td>1.65</td>\n",
       "      <td>0.68</td>\n",
       "      <td>0.53</td>\n",
       "      <td>1.46</td>\n",
       "      <td>9.3</td>\n",
       "      <td>0.60</td>\n",
       "      <td>1.62</td>\n",
       "      <td>840</td>\n",
       "    </tr>\n",
       "    <tr>\n",
       "      <th>177</th>\n",
       "      <td>3</td>\n",
       "      <td>14.13</td>\n",
       "      <td>4.10</td>\n",
       "      <td>2.74</td>\n",
       "      <td>24.5</td>\n",
       "      <td>96</td>\n",
       "      <td>2.05</td>\n",
       "      <td>0.76</td>\n",
       "      <td>0.56</td>\n",
       "      <td>1.35</td>\n",
       "      <td>9.2</td>\n",
       "      <td>0.61</td>\n",
       "      <td>1.60</td>\n",
       "      <td>560</td>\n",
       "    </tr>\n",
       "  </tbody>\n",
       "</table>\n",
       "</div>"
      ],
      "text/plain": [
       "     0      1     2     3     4    5     6     7     8     9     10    11  \\\n",
       "173   3  13.71  5.65  2.45  20.5   95  1.68  0.61  0.52  1.06   7.7  0.64   \n",
       "174   3  13.40  3.91  2.48  23.0  102  1.80  0.75  0.43  1.41   7.3  0.70   \n",
       "175   3  13.27  4.28  2.26  20.0  120  1.59  0.69  0.43  1.35  10.2  0.59   \n",
       "176   3  13.17  2.59  2.37  20.0  120  1.65  0.68  0.53  1.46   9.3  0.60   \n",
       "177   3  14.13  4.10  2.74  24.5   96  2.05  0.76  0.56  1.35   9.2  0.61   \n",
       "\n",
       "       12   13  \n",
       "173  1.74  740  \n",
       "174  1.56  750  \n",
       "175  1.56  835  \n",
       "176  1.62  840  \n",
       "177  1.60  560  "
      ]
     },
     "execution_count": 125,
     "metadata": {},
     "output_type": "execute_result"
    }
   ],
   "source": [
    "# df_wine = pd.read_csv('https:\\\\archive.ics.uci.edu/ml/machine-learning-databases/wine/')\n",
    "df_wine = pd.read_csv('https://archive.ics.uci.edu/ml/machine-learning-databases/wine/wine.data',\n",
    "                     header=None)\n",
    "df_wine.tail()"
   ]
  },
  {
   "cell_type": "code",
   "execution_count": 126,
   "id": "628836bb",
   "metadata": {},
   "outputs": [],
   "source": [
    "from sklearn.model_selection import train_test_split\n",
    "\n",
    "# Sacamos nuestro conjunto de características (matriz de caracteristicas X)\n",
    "X, y = df_wine.iloc[:, 1:].values, df_wine.iloc[:,0].values\n",
    "\n",
    "# Dividimos nuestro conjunto en entrenamiento y prueba\n",
    "X_train, X_test, y_train, y_test = train_test_split(X, y,\n",
    "                                                   test_size=0.3)\n"
   ]
  },
  {
   "cell_type": "markdown",
   "id": "d996a683",
   "metadata": {},
   "source": [
    "### Estadandarización de los datos (Preprocesamiento)"
   ]
  },
  {
   "cell_type": "code",
   "execution_count": 127,
   "id": "b293ed4c",
   "metadata": {},
   "outputs": [],
   "source": [
    "from sklearn.preprocessing import StandardScaler\n",
    "sc = StandardScaler()\n",
    "X_train_std = sc.fit_transform(X_train)\n",
    "X_test_std = sc.transform(X_test)"
   ]
  },
  {
   "cell_type": "markdown",
   "id": "fe7f20ff",
   "metadata": {},
   "source": [
    "### Obtencion de matriz de covariancias y eigenvalores- eigenvectores"
   ]
  },
  {
   "cell_type": "code",
   "execution_count": 128,
   "id": "f80efb1c",
   "metadata": {},
   "outputs": [
    {
     "name": "stdout",
     "output_type": "stream",
     "text": [
      "Eigenvals:  [4.92381014 2.46640543 1.53524666 0.8617761  0.77946947 0.62618929\n",
      " 0.51656857 0.08655145 0.16152993 0.34423211 0.23340958 0.2710353\n",
      " 0.29946701]\n"
     ]
    }
   ],
   "source": [
    "# Necesitamos transponerla la matriz para que funcione\n",
    "cov_mat = np.cov(X_train_std.T) \n",
    "eigen_vals, eigen_vecs = np.linalg.eig(cov_mat)\n",
    "print('Eigenvals: ', eigen_vals)"
   ]
  },
  {
   "cell_type": "markdown",
   "id": "9d10c8e8",
   "metadata": {},
   "source": [
    "### Graficar para visualizar mejor la descomposicion de los eigenvalores, (Ordenando)"
   ]
  },
  {
   "cell_type": "code",
   "execution_count": 129,
   "id": "108d49ca",
   "metadata": {
    "scrolled": true
   },
   "outputs": [
    {
     "data": {
      "image/png": "[encoded data removed]",
      "text/plain": [
       "<Figure size 432x288 with 1 Axes>"
      ]
     },
     "metadata": {
      "needs_background": "light"
     },
     "output_type": "display_data"
    }
   ],
   "source": [
    "import matplotlib.pyplot as plt\n",
    "tot = sum(eigen_vals)\n",
    "# Obtenemos de mayor a menor los eigenvalores\n",
    "var_exp = [ev/tot for ev in sorted(eigen_vals, reverse=True)]\n",
    "cum_var_exp = np.cumsum(var_exp)\n",
    "# Son 13 cararacteristicas del data set\n",
    "plt.bar(range(1, 14), var_exp, label='varianza individual', align='center')\n",
    "plt.step(range(1, 14), cum_var_exp, where='mid', label='varianza acumulativa')\n",
    "plt.xlabel('componentes')\n",
    "plt.ylabel('varianza')\n",
    "plt.legend(loc='best')\n",
    "plt.show()"
   ]
  },
  {
   "cell_type": "markdown",
   "id": "8f15ee99",
   "metadata": {},
   "source": [
    "\n",
    "**Esta grafica nos dice que tanto mejora tenemos con cada una de las componentes.**\n",
    "\n",
    "PCA es para tratar de obtener conjuntos que sean linealmente separables"
   ]
  },
  {
   "cell_type": "markdown",
   "id": "81164dd1",
   "metadata": {},
   "source": [
    "Por eso pusimo el prefijo `var_exp` y `cum_var_exp`, por que se parece a una exponencial negativa que va tendiendo a uno.\n",
    "\n",
    "Para nuestro ejemplo en particular, estas $2$ primeras son la que nos interesan para nuestra extracción de caracteristicas por tener los valores más grande, que significa que que es donde donde se encuentra más proporcion de nuestro datos.\n",
    "\n",
    "\n",
    "Tomaremos estas dos para mostralo demanera más visual, porque con más caracteristicas se complica un poco.\n",
    "\n",
    "\n",
    "Si nos pideran más del $\\%80 $ tendredriamos alrededor de $4$ o $5$ caractaristicas más.\n",
    "\n",
    "Por eso dibujado nuestra grafica escalonada de la varianza acumalada, que dos indica que con $2$ caracteristica tenemos cerca del $\\%60$ de nuestro datos,es donde se ve el escalón.\n",
    "\n",
    "\n",
    "En algunas aplicaciones con el $\\%60$ deberia ser suficientes, pero no en todas, debe siempre consultar."
   ]
  },
  {
   "cell_type": "markdown",
   "id": "a1dbbf2e",
   "metadata": {},
   "source": [
    "### Selecccionamos lo k-eigevectores-eigenvalores"
   ]
  },
  {
   "cell_type": "code",
   "execution_count": 130,
   "id": "880cb631",
   "metadata": {},
   "outputs": [],
   "source": [
    "# Una lista para almacenas los eigevalores\n",
    "# con sus correspondientes eigenvectores\n",
    "# par- de pares\n",
    "eigen_par = [(np.abs(eigen_vals[i]), eigen_vecs[i])\n",
    "            for i in range(len(eigen_vals))]\n",
    "\n",
    "# Ordenamos, el paso que hicimos arriba\n",
    "# Cramos una lambda para que tome en cuente el primer elmeento\n",
    "eigen_par.sort(key=lambda k: k[0], reverse=True)\n"
   ]
  },
  {
   "cell_type": "code",
   "execution_count": 131,
   "id": "cc1b58f4",
   "metadata": {},
   "outputs": [
    {
     "name": "stdout",
     "output_type": "stream",
     "text": [
      "w = \n",
      " [[-0.19989519  0.24762923]\n",
      " [-0.4562768  -0.25786264]\n",
      " [ 0.19539688 -0.13354444]\n",
      " [ 0.17810104  0.39159277]\n",
      " [-0.11568859  0.53590532]\n",
      " [-0.10504931  0.12240697]\n",
      " [-0.24190636 -0.42447943]\n",
      " [ 0.04991111 -0.08810877]\n",
      " [-0.30806441  0.08792799]\n",
      " [ 0.47084231  0.15552916]\n",
      " [ 0.3357152  -0.27268778]\n",
      " [ 0.36842414 -0.30092062]\n",
      " [-0.17744647 -0.11853771]]\n"
     ]
    }
   ],
   "source": [
    "# Cramos nuestra matriz de transformaciones\n",
    "# Apile, 1-eigenvetor , 2-eigenvetor \n",
    "w = np.hstack( (eigen_par[0][1][:, np.newaxis],\n",
    "                eigen_par[1][1][:, np.newaxis]))\n",
    "\n",
    "print('w = \\n', w)"
   ]
  },
  {
   "cell_type": "markdown",
   "id": "d4cac443",
   "metadata": {},
   "source": [
    "Esa son las 13 componentes proectadas hacia abajo, y solo tomeremos $2$."
   ]
  },
  {
   "cell_type": "markdown",
   "id": "840b6165",
   "metadata": {},
   "source": [
    "## Transforma nuestro conjunto original y el proyectado"
   ]
  },
  {
   "cell_type": "code",
   "execution_count": 132,
   "id": "c97e53f1",
   "metadata": {},
   "outputs": [
    {
     "name": "stdout",
     "output_type": "stream",
     "text": [
      "Original:  [-0.9262557  -0.84093185 -1.55610444 -0.9891957  -1.02034635  0.33384554\n",
      "  0.38981979 -0.55669411  0.2906942  -0.98448209  1.14379767  0.13004993\n",
      " -1.09499933]\n",
      "Proyectado:  [ 0.1226233  -1.16323188]\n"
     ]
    }
   ],
   "source": [
    "# Solo mostramos 1 muestra de la n filas que tenemos de X_train\n",
    "print('Original: ', X_train_std[0])\n",
    "\n",
    "# Multiplicacion de matrices \n",
    "# X_train tient nx13columnas por w tien 13x2columnas = nx2\n",
    "print('Proyectado: ', X_train_std[0].dot(w))"
   ]
  },
  {
   "cell_type": "markdown",
   "id": "c54ca319",
   "metadata": {},
   "source": [
    "Nos quedamos con $2$ caracterisitcas proyectas de las $13$ que teniamos orignalmente."
   ]
  },
  {
   "cell_type": "code",
   "execution_count": 133,
   "id": "c4de27a9",
   "metadata": {},
   "outputs": [],
   "source": [
    "# Ahora para cada una de nuestras muestras\n",
    "X_train_pca = X_train_std.dot(w)\n",
    "#X_train_pca"
   ]
  },
  {
   "cell_type": "markdown",
   "id": "d4b146ba",
   "metadata": {},
   "source": [
    "### Veremos como se observa esto una vez que ya lo proyectamos"
   ]
  },
  {
   "cell_type": "code",
   "execution_count": 134,
   "id": "d45ac9ba",
   "metadata": {},
   "outputs": [
    {
     "data": {
      "text/plain": [
       "<matplotlib.collections.PathCollection at 0x7f1ba9f549d0>"
      ]
     },
     "execution_count": 134,
     "metadata": {},
     "output_type": "execute_result"
    },
    {
     "data": {
      "image/png": "[encoded data removed]",
      "text/plain": [
       "<Figure size 432x288 with 1 Axes>"
      ]
     },
     "metadata": {
      "needs_background": "light"
     },
     "output_type": "display_data"
    }
   ],
   "source": [
    "colors = np.array(['lime', 'red', 'black','blue','cyan'])\n",
    "\n",
    "plt.scatter(X_train_pca[:,0], X_train_pca[:,1],\n",
    "           alpha=0.9, c=colors[y_train.astype(int)], \n",
    "            edgecolor='black')"
   ]
  },
  {
   "cell_type": "markdown",
   "id": "d00444ff",
   "metadata": {},
   "source": [
    "Hay $3$ tipos de vinos en nuestro conjunto de datos, desafortunadamente no se pueden separar a la perfección con solamente $2$caracteristicas,pero si se ve que más o menos quedan bien seperadas la secciones azul,roja y la negra.\n",
    "\n",
    "Podemos ver que con $2$ caracterirsticas podemos seperar. Podriamos ya poder pasarlo con un algortimo de clasificación como por ejemplo _regresion logisica_ que es muy común para combinarlo con PCA. Reducimos las dimensiones y aplicamos nuestro algortimo de clasificación."
   ]
  },
  {
   "cell_type": "markdown",
   "id": "8f7aff19",
   "metadata": {},
   "source": [
    "## Con sckitlearn PCA\n"
   ]
  },
  {
   "cell_type": "code",
   "execution_count": 135,
   "id": "259c6686",
   "metadata": {},
   "outputs": [],
   "source": [
    "import numpy as np\n",
    "import matplotlib.pyplot as plt\n",
    "import pandas as pd"
   ]
  },
  {
   "cell_type": "markdown",
   "id": "1b364baa",
   "metadata": {},
   "source": [
    "### Obtencion de datos\n"
   ]
  },
  {
   "cell_type": "code",
   "execution_count": 136,
   "id": "65649739",
   "metadata": {},
   "outputs": [
    {
     "data": {
      "text/html": [
       "<div>\n",
       "<style scoped>\n",
       "    .dataframe tbody tr th:only-of-type {\n",
       "        vertical-align: middle;\n",
       "    }\n",
       "\n",
       "    .dataframe tbody tr th {\n",
       "        vertical-align: top;\n",
       "    }\n",
       "\n",
       "    .dataframe thead th {\n",
       "        text-align: right;\n",
       "    }\n",
       "</style>\n",
       "<table border=\"1\" class=\"dataframe\">\n",
       "  <thead>\n",
       "    <tr style=\"text-align: right;\">\n",
       "      <th></th>\n",
       "      <th>0</th>\n",
       "      <th>1</th>\n",
       "      <th>2</th>\n",
       "      <th>3</th>\n",
       "      <th>4</th>\n",
       "      <th>5</th>\n",
       "      <th>6</th>\n",
       "      <th>7</th>\n",
       "      <th>8</th>\n",
       "      <th>9</th>\n",
       "      <th>10</th>\n",
       "      <th>11</th>\n",
       "      <th>12</th>\n",
       "      <th>13</th>\n",
       "    </tr>\n",
       "  </thead>\n",
       "  <tbody>\n",
       "    <tr>\n",
       "      <th>173</th>\n",
       "      <td>3</td>\n",
       "      <td>13.71</td>\n",
       "      <td>5.65</td>\n",
       "      <td>2.45</td>\n",
       "      <td>20.5</td>\n",
       "      <td>95</td>\n",
       "      <td>1.68</td>\n",
       "      <td>0.61</td>\n",
       "      <td>0.52</td>\n",
       "      <td>1.06</td>\n",
       "      <td>7.7</td>\n",
       "      <td>0.64</td>\n",
       "      <td>1.74</td>\n",
       "      <td>740</td>\n",
       "    </tr>\n",
       "    <tr>\n",
       "      <th>174</th>\n",
       "      <td>3</td>\n",
       "      <td>13.40</td>\n",
       "      <td>3.91</td>\n",
       "      <td>2.48</td>\n",
       "      <td>23.0</td>\n",
       "      <td>102</td>\n",
       "      <td>1.80</td>\n",
       "      <td>0.75</td>\n",
       "      <td>0.43</td>\n",
       "      <td>1.41</td>\n",
       "      <td>7.3</td>\n",
       "      <td>0.70</td>\n",
       "      <td>1.56</td>\n",
       "      <td>750</td>\n",
       "    </tr>\n",
       "    <tr>\n",
       "      <th>175</th>\n",
       "      <td>3</td>\n",
       "      <td>13.27</td>\n",
       "      <td>4.28</td>\n",
       "      <td>2.26</td>\n",
       "      <td>20.0</td>\n",
       "      <td>120</td>\n",
       "      <td>1.59</td>\n",
       "      <td>0.69</td>\n",
       "      <td>0.43</td>\n",
       "      <td>1.35</td>\n",
       "      <td>10.2</td>\n",
       "      <td>0.59</td>\n",
       "      <td>1.56</td>\n",
       "      <td>835</td>\n",
       "    </tr>\n",
       "    <tr>\n",
       "      <th>176</th>\n",
       "      <td>3</td>\n",
       "      <td>13.17</td>\n",
       "      <td>2.59</td>\n",
       "      <td>2.37</td>\n",
       "      <td>20.0</td>\n",
       "      <td>120</td>\n",
       "      <td>1.65</td>\n",
       "      <td>0.68</td>\n",
       "      <td>0.53</td>\n",
       "      <td>1.46</td>\n",
       "      <td>9.3</td>\n",
       "      <td>0.60</td>\n",
       "      <td>1.62</td>\n",
       "      <td>840</td>\n",
       "    </tr>\n",
       "    <tr>\n",
       "      <th>177</th>\n",
       "      <td>3</td>\n",
       "      <td>14.13</td>\n",
       "      <td>4.10</td>\n",
       "      <td>2.74</td>\n",
       "      <td>24.5</td>\n",
       "      <td>96</td>\n",
       "      <td>2.05</td>\n",
       "      <td>0.76</td>\n",
       "      <td>0.56</td>\n",
       "      <td>1.35</td>\n",
       "      <td>9.2</td>\n",
       "      <td>0.61</td>\n",
       "      <td>1.60</td>\n",
       "      <td>560</td>\n",
       "    </tr>\n",
       "  </tbody>\n",
       "</table>\n",
       "</div>"
      ],
      "text/plain": [
       "     0      1     2     3     4    5     6     7     8     9     10    11  \\\n",
       "173   3  13.71  5.65  2.45  20.5   95  1.68  0.61  0.52  1.06   7.7  0.64   \n",
       "174   3  13.40  3.91  2.48  23.0  102  1.80  0.75  0.43  1.41   7.3  0.70   \n",
       "175   3  13.27  4.28  2.26  20.0  120  1.59  0.69  0.43  1.35  10.2  0.59   \n",
       "176   3  13.17  2.59  2.37  20.0  120  1.65  0.68  0.53  1.46   9.3  0.60   \n",
       "177   3  14.13  4.10  2.74  24.5   96  2.05  0.76  0.56  1.35   9.2  0.61   \n",
       "\n",
       "       12   13  \n",
       "173  1.74  740  \n",
       "174  1.56  750  \n",
       "175  1.56  835  \n",
       "176  1.62  840  \n",
       "177  1.60  560  "
      ]
     },
     "execution_count": 136,
     "metadata": {},
     "output_type": "execute_result"
    }
   ],
   "source": [
    "# df_wine = pd.read_csv('https:\\\\archive.ics.uci.edu/ml/machine-learning-databases/wine/')\n",
    "df_wine = pd.read_csv('https://archive.ics.uci.edu/ml/machine-learning-databases/wine/wine.data',\n",
    "                     header=None)\n",
    "df_wine.tail()"
   ]
  },
  {
   "cell_type": "code",
   "execution_count": 137,
   "id": "b618c816",
   "metadata": {},
   "outputs": [],
   "source": [
    "from sklearn.model_selection import train_test_split\n",
    "\n",
    "# Sacamos nuestro conjunto de características (matriz de caracteristicas X)\n",
    "X, y = df_wine.iloc[:, 1:].values, df_wine.iloc[:,0].values\n",
    "\n",
    "# Dividimos nuestro conjunto en entrenamiento y prueba\n",
    "X_train, X_test, y_train, y_test = train_test_split(X, y, test_size=0.3)"
   ]
  },
  {
   "cell_type": "markdown",
   "id": "47d042d5",
   "metadata": {},
   "source": [
    "### Estandarizamos (Preprocesamiento)"
   ]
  },
  {
   "cell_type": "code",
   "execution_count": 138,
   "id": "e4ffbebc",
   "metadata": {},
   "outputs": [],
   "source": [
    "from sklearn.preprocessing import StandardScaler\n",
    "sc = StandardScaler()\n",
    "X_train_std = sc.fit_transform(X_train)\n",
    "X_test = sc.transform(X_test)"
   ]
  },
  {
   "cell_type": "markdown",
   "id": "fa6e7470",
   "metadata": {},
   "source": [
    "### Reduccion PCA "
   ]
  },
  {
   "cell_type": "code",
   "execution_count": 139,
   "id": "987bb6f9",
   "metadata": {},
   "outputs": [],
   "source": [
    "from sklearn.decomposition import PCA\n",
    "\n",
    "pca = PCA(n_components=2)\n",
    "X_train_pca = pca.fit_transform(X_train_std)\n",
    "X_test_pca = pca.transform(X_test_std)"
   ]
  },
  {
   "cell_type": "markdown",
   "id": "d20e52cb",
   "metadata": {},
   "source": [
    "### Clasificador 'Regresion Logistica'"
   ]
  },
  {
   "cell_type": "code",
   "execution_count": 140,
   "id": "0615fe9f",
   "metadata": {},
   "outputs": [
    {
     "data": {
      "text/plain": [
       "LogisticRegression(solver='liblinear')"
      ]
     },
     "execution_count": 140,
     "metadata": {},
     "output_type": "execute_result"
    }
   ],
   "source": [
    "from sklearn.linear_model import LogisticRegression\n",
    "\n",
    "\n",
    "lr = LogisticRegression(multi_class='auto', solver='liblinear')\n",
    "lr.fit(X_train_pca, y_train)"
   ]
  },
  {
   "cell_type": "markdown",
   "id": "b46f19cd",
   "metadata": {},
   "source": [
    "### Visualizamos datos de entrenamiento"
   ]
  },
  {
   "cell_type": "code",
   "execution_count": 142,
   "id": "05d8f1a2",
   "metadata": {},
   "outputs": [
    {
     "data": {
      "image/png": "[encoded data removed]",
      "text/plain": [
       "<Figure size 432x288 with 1 Axes>"
      ]
     },
     "metadata": {
      "needs_background": "light"
     },
     "output_type": "display_data"
    }
   ],
   "source": [
    "from mlxtend.plotting import plot_decision_regions\n",
    "\n",
    "plot_decision_regions(X_train_pca, y_train, clf=lr,\n",
    "                     legend=2)\n",
    "plt.xlabel('PC1')\n",
    "plt.ylabel('PC2')\n",
    "plt.show()"
   ]
  },
  {
   "cell_type": "markdown",
   "id": "155ee284",
   "metadata": {},
   "source": [
    "### Visualizacion datos de prueba\n"
   ]
  },
  {
   "cell_type": "code",
   "execution_count": 143,
   "id": "f695cce0",
   "metadata": {},
   "outputs": [
    {
     "data": {
      "image/png": "[encoded data removed]",
      "text/plain": [
       "<Figure size 432x288 with 1 Axes>"
      ]
     },
     "metadata": {
      "needs_background": "light"
     },
     "output_type": "display_data"
    }
   ],
   "source": [
    "plot_decision_regions(X_test_pca, y_test, clf=lr,\n",
    "                     legend=2)\n",
    "plt.xlabel('PC1')\n",
    "plt.ylabel('PC2')\n",
    "plt.show()"
   ]
  },
  {
   "cell_type": "markdown",
   "id": "4c04b67c",
   "metadata": {},
   "source": [
    "Hay varios errores justamente porque de $13$ dimensiones (componente) que teniamos originalmente, estamos usando soló $2$.\n",
    "\n",
    "Esta separando linealmente bien el $\\%60$, sera normal que tengamos el $\\%40$ de errores.\n",
    "\n",
    "Hicimos esto para mostrar de manera grafica en un plano-2d."
   ]
  }
 ],
 "metadata": {
  "kernelspec": {
   "display_name": "Python 3",
   "language": "python",
   "name": "python3"
  },
  "language_info": {
   "codemirror_mode": {
    "name": "ipython",
    "version": 3
   },
   "file_extension": ".py",
   "mimetype": "text/x-python",
   "name": "python",
   "nbconvert_exporter": "python",
   "pygments_lexer": "ipython3",
   "version": "3.8.8"
  }
 },
 "nbformat": 4,
 "nbformat_minor": 5
}
