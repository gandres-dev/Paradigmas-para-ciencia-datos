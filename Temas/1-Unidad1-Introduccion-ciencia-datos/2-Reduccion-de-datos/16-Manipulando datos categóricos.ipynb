{
 "cells": [
  {
   "cell_type": "markdown",
   "id": "596fc5c1",
   "metadata": {},
   "source": [
    "## Manipulando datos categóricos\n",
    "\n",
    "Comúnmente los conjuntos de datos conteinen datos categóricos. Es importante distinguir entre datos categóricos __ordinales__ y __nominales__.\n",
    "\n",
    "- __Ordinales__: Son aquellos que pueden ser ordenados (p.e., en la talla de una prenda $M < G < XG$).\n",
    "\n",
    "- __Nominales__: No tiene mucho sentido pensar en un orden(p,e, en el color de una prenda).\n"
   ]
  },
  {
   "cell_type": "code",
   "execution_count": 2,
   "id": "fbe0a351",
   "metadata": {},
   "outputs": [],
   "source": [
    "import pandas as pd\n",
    "import numpy as np"
   ]
  },
  {
   "cell_type": "code",
   "execution_count": 36,
   "id": "355504f0",
   "metadata": {},
   "outputs": [
    {
     "data": {
      "text/html": [
       "<div>\n",
       "<style scoped>\n",
       "    .dataframe tbody tr th:only-of-type {\n",
       "        vertical-align: middle;\n",
       "    }\n",
       "\n",
       "    .dataframe tbody tr th {\n",
       "        vertical-align: top;\n",
       "    }\n",
       "\n",
       "    .dataframe thead th {\n",
       "        text-align: right;\n",
       "    }\n",
       "</style>\n",
       "<table border=\"1\" class=\"dataframe\">\n",
       "  <thead>\n",
       "    <tr style=\"text-align: right;\">\n",
       "      <th></th>\n",
       "      <th>color</th>\n",
       "      <th>talla</th>\n",
       "      <th>precio</th>\n",
       "      <th>clase</th>\n",
       "    </tr>\n",
       "  </thead>\n",
       "  <tbody>\n",
       "    <tr>\n",
       "      <th>0</th>\n",
       "      <td>verde</td>\n",
       "      <td>M</td>\n",
       "      <td>10.3</td>\n",
       "      <td>clase1</td>\n",
       "    </tr>\n",
       "    <tr>\n",
       "      <th>1</th>\n",
       "      <td>rojo</td>\n",
       "      <td>G</td>\n",
       "      <td>14.2</td>\n",
       "      <td>clase2</td>\n",
       "    </tr>\n",
       "    <tr>\n",
       "      <th>2</th>\n",
       "      <td>azul</td>\n",
       "      <td>XG</td>\n",
       "      <td>15.6</td>\n",
       "      <td>clase1</td>\n",
       "    </tr>\n",
       "  </tbody>\n",
       "</table>\n",
       "</div>"
      ],
      "text/plain": [
       "   color talla  precio   clase\n",
       "0  verde     M    10.3  clase1\n",
       "1   rojo     G    14.2  clase2\n",
       "2   azul    XG    15.6  clase1"
      ]
     },
     "execution_count": 36,
     "metadata": {},
     "output_type": "execute_result"
    }
   ],
   "source": [
    "\n",
    "df = pd . DataFrame ([ \n",
    "    ['verde', 'M' , 10.3 , 'clase1'],\n",
    "    ['rojo', 'G' , 14.2 , 'clase2'],\n",
    "    ['azul', 'XG' , 15.6 , 'clase1'] ])\n",
    "\n",
    "df.columns = ['color', 'talla' , 'precio', 'clase']\n",
    "df\n"
   ]
  },
  {
   "cell_type": "markdown",
   "id": "f398d3b5",
   "metadata": {},
   "source": [
    "Este conjunto de datos contiene una característica _nominal_(color) una _ordinal_(talla) y una _numérica_(precio). Este conjunto puede utilizarse en un __algortimo supervisado__, dado que las etiquetas de la clase a la que pertenece cada muestra en la última columna."
   ]
  },
  {
   "cell_type": "markdown",
   "id": "b15db7aa",
   "metadata": {},
   "source": [
    "## Mapeando valores ordinales\n",
    "\n",
    "Para garantizar que nuestros algoritmos interpreten correctamente características ordinales, es necesario convertir estas características en valores enteros; desafortunadamente no hay una función que pueda determinar automáticamente el orden correcto a partir de las etiquetas de la talla; por lo tanto, en general se debe realizar este proceso manualmente (con ayuda de un diccionario):"
   ]
  },
  {
   "cell_type": "code",
   "execution_count": 37,
   "id": "cc053363",
   "metadata": {},
   "outputs": [
    {
     "data": {
      "text/html": [
       "<div>\n",
       "<style scoped>\n",
       "    .dataframe tbody tr th:only-of-type {\n",
       "        vertical-align: middle;\n",
       "    }\n",
       "\n",
       "    .dataframe tbody tr th {\n",
       "        vertical-align: top;\n",
       "    }\n",
       "\n",
       "    .dataframe thead th {\n",
       "        text-align: right;\n",
       "    }\n",
       "</style>\n",
       "<table border=\"1\" class=\"dataframe\">\n",
       "  <thead>\n",
       "    <tr style=\"text-align: right;\">\n",
       "      <th></th>\n",
       "      <th>color</th>\n",
       "      <th>talla</th>\n",
       "      <th>precio</th>\n",
       "      <th>clase</th>\n",
       "    </tr>\n",
       "  </thead>\n",
       "  <tbody>\n",
       "    <tr>\n",
       "      <th>0</th>\n",
       "      <td>verde</td>\n",
       "      <td>1</td>\n",
       "      <td>10.3</td>\n",
       "      <td>clase1</td>\n",
       "    </tr>\n",
       "    <tr>\n",
       "      <th>1</th>\n",
       "      <td>rojo</td>\n",
       "      <td>2</td>\n",
       "      <td>14.2</td>\n",
       "      <td>clase2</td>\n",
       "    </tr>\n",
       "    <tr>\n",
       "      <th>2</th>\n",
       "      <td>azul</td>\n",
       "      <td>3</td>\n",
       "      <td>15.6</td>\n",
       "      <td>clase1</td>\n",
       "    </tr>\n",
       "  </tbody>\n",
       "</table>\n",
       "</div>"
      ],
      "text/plain": [
       "   color  talla  precio   clase\n",
       "0  verde      1    10.3  clase1\n",
       "1   rojo      2    14.2  clase2\n",
       "2   azul      3    15.6  clase1"
      ]
     },
     "execution_count": 37,
     "metadata": {},
     "output_type": "execute_result"
    }
   ],
   "source": [
    "talla_map = {'XG': 3, 'G': 2, 'M': 1}\n",
    "df.talla = df['talla'].map(talla_map)\n",
    "df"
   ]
  },
  {
   "cell_type": "markdown",
   "id": "61dfba85",
   "metadata": {},
   "source": [
    "## Codificando las etiquetas\n",
    "Muchas algortirmos de aprendizaje requieren que las __etiquetas de clase esten codificados como números enteros__. Aunque la mayoría de los algoritmos que provee _sckit-learn_ pueden realizar esta conversión internamente, es una buena práctica proveer las etiquetas como enteros y como las clases no son ordinales no importa que número se asigna a cada una de ellas. Por lo tanto, podemos enumerar las etiquetas de clase comenzando con 0:"
   ]
  },
  {
   "cell_type": "code",
   "execution_count": 8,
   "id": "ae8ce691",
   "metadata": {},
   "outputs": [
    {
     "data": {
      "text/plain": [
       "array(['clase1', 'clase2'], dtype=object)"
      ]
     },
     "execution_count": 8,
     "metadata": {},
     "output_type": "execute_result"
    }
   ],
   "source": [
    "np.unique(df.clase)"
   ]
  },
  {
   "cell_type": "code",
   "execution_count": 9,
   "id": "2d75e853",
   "metadata": {},
   "outputs": [
    {
     "data": {
      "text/plain": [
       "{'clase1': 0, 'clase2': 1}"
      ]
     },
     "execution_count": 9,
     "metadata": {},
     "output_type": "execute_result"
    }
   ],
   "source": [
    "import numpy as np\n",
    "\n",
    "# dictionario compreshion (it's better when there are many datos)\n",
    "clase_map = {et: idx for idx, et in enumerate(np.unique(df.clase))}\n",
    "clase_map"
   ]
  },
  {
   "cell_type": "markdown",
   "id": "e81383d4",
   "metadata": {},
   "source": [
    "A continuación podemos usar el diccionario para realizar la conversión de las etiquetas de la clase a enteros:"
   ]
  },
  {
   "cell_type": "code",
   "execution_count": 10,
   "id": "e175f24a",
   "metadata": {},
   "outputs": [
    {
     "data": {
      "text/html": [
       "<div>\n",
       "<style scoped>\n",
       "    .dataframe tbody tr th:only-of-type {\n",
       "        vertical-align: middle;\n",
       "    }\n",
       "\n",
       "    .dataframe tbody tr th {\n",
       "        vertical-align: top;\n",
       "    }\n",
       "\n",
       "    .dataframe thead th {\n",
       "        text-align: right;\n",
       "    }\n",
       "</style>\n",
       "<table border=\"1\" class=\"dataframe\">\n",
       "  <thead>\n",
       "    <tr style=\"text-align: right;\">\n",
       "      <th></th>\n",
       "      <th>color</th>\n",
       "      <th>talla</th>\n",
       "      <th>precio</th>\n",
       "      <th>clase</th>\n",
       "    </tr>\n",
       "  </thead>\n",
       "  <tbody>\n",
       "    <tr>\n",
       "      <th>0</th>\n",
       "      <td>verde</td>\n",
       "      <td>1</td>\n",
       "      <td>10.3</td>\n",
       "      <td>0</td>\n",
       "    </tr>\n",
       "    <tr>\n",
       "      <th>1</th>\n",
       "      <td>rojo</td>\n",
       "      <td>2</td>\n",
       "      <td>14.2</td>\n",
       "      <td>1</td>\n",
       "    </tr>\n",
       "    <tr>\n",
       "      <th>2</th>\n",
       "      <td>azul</td>\n",
       "      <td>3</td>\n",
       "      <td>15.6</td>\n",
       "      <td>0</td>\n",
       "    </tr>\n",
       "  </tbody>\n",
       "</table>\n",
       "</div>"
      ],
      "text/plain": [
       "   color  talla  precio  clase\n",
       "0  verde      1    10.3      0\n",
       "1   rojo      2    14.2      1\n",
       "2   azul      3    15.6      0"
      ]
     },
     "execution_count": 10,
     "metadata": {},
     "output_type": "execute_result"
    }
   ],
   "source": [
    "df['clase'] = df['clase'].map(clase_map)\n",
    "df"
   ]
  },
  {
   "cell_type": "markdown",
   "id": "f2c6359f",
   "metadata": {},
   "source": [
    "Convenientemente existe la clase _LabelEncoder_ implementada en _scikit_learn_."
   ]
  },
  {
   "cell_type": "code",
   "execution_count": 38,
   "id": "41f890e0",
   "metadata": {},
   "outputs": [],
   "source": [
    "from sklearn.preprocessing import LabelEncoder\n",
    "\n",
    "le = LabelEncoder()"
   ]
  },
  {
   "cell_type": "markdown",
   "id": "458ad7cf",
   "metadata": {},
   "source": [
    "## Codificando en formato one-hot valores nominales"
   ]
  },
  {
   "cell_type": "markdown",
   "id": "fef9b982",
   "metadata": {},
   "source": [
    "Podemos realizar un proceso similar par las columnas color (dado que no se requiere orden).\n",
    "\n",
    "- http://blog.josemarianoalvarez.com/2018/03/15/categorias-y-la-codificacion-one-hot/\n",
    "\n",
    "- https://ichi.pro/es/que-es-one-hot-encoding-y-como-usar-la-funcion-get-dummies-de-pandas-160729382340976\n",
    "\n",
    "- https://machinelearningmastery.com/why-one-hot-encode-data-in-machine-learning/\n"
   ]
  },
  {
   "cell_type": "code",
   "execution_count": null,
   "id": "9b516e1d",
   "metadata": {},
   "outputs": [],
   "source": [
    "import numpy"
   ]
  },
  {
   "cell_type": "code",
   "execution_count": 11,
   "id": "d6c76d82",
   "metadata": {},
   "outputs": [
    {
     "data": {
      "text/plain": [
       "[['azul', 0], ['rojo', 1], ['verde', 2]]"
      ]
     },
     "execution_count": 11,
     "metadata": {},
     "output_type": "execute_result"
    }
   ],
   "source": [
    "color_map = [ [c, idx] for idx, c in enumerate(np.unique(df.color))]\n",
    "color_map"
   ]
  },
  {
   "cell_type": "markdown",
   "id": "3df77322",
   "metadata": {},
   "source": [
    "Si nos detuvieramos en este punto, estaríamos cayendo en uno de los errores más comúnes cuando se utilizan datos categóricos: los colores no tienen un orden particular; sim embargo un algoritmo de aprendizaje supondria que verde _es mayor que_ rojo y que rojo _es meyor que_ azul.\n",
    "Esta suposición no es correcta y aunque se podría obtener un buen resultado, en general puede no ser óptimo.\n",
    "\n",
    "Una posible solución es utilizar la técnica conocida como **codificacion _one hot_**. La idea básica es crear una nueva _característica ficticia_ (dummy) por cada valor único de la columna nominal correspondiente. En este caso, se generarán tres columnas: _azul, rojo y verde_. Se utilizan valores binarios para indicar el color particulas de cada muestra.\n",
    "\n",
    "Para realizar esta transformación se puede utilizar el _OneHotEncoder_ disponible en el módulo _preprocessing_ de scikit-learn:"
   ]
  },
  {
   "cell_type": "code",
   "execution_count": 13,
   "id": "d8cabc7a",
   "metadata": {},
   "outputs": [
    {
     "data": {
      "text/plain": [
       "array([[1., 0., 0., 1., 0., 0.],\n",
       "       [0., 1., 0., 0., 1., 0.],\n",
       "       [0., 0., 1., 0., 0., 1.]])"
      ]
     },
     "execution_count": 13,
     "metadata": {},
     "output_type": "execute_result"
    }
   ],
   "source": [
    "from sklearn.preprocessing import OneHotEncoder\n",
    "ohe = OneHotEncoder(handle_unknown='ignore')\n",
    "ohe.fit(color_map)\n",
    "ohe.transform(color_map).toarray()"
   ]
  },
  {
   "cell_type": "markdown",
   "id": "a5040545",
   "metadata": {},
   "source": [
    "¿No deberían ser solamente tres columnas?\n",
    "\n",
    "Por alguna razon aparecen seis, repitiendose las primeras tres nuevamente, lo importante son las primeras tres que indican si el color esta encendido(1) o apagado."
   ]
  },
  {
   "cell_type": "code",
   "execution_count": 17,
   "id": "d4f9487a",
   "metadata": {},
   "outputs": [
    {
     "data": {
      "text/plain": [
       "array(['color_azul', 'color_rojo', 'color_verde', 'grupo_0', 'grupo_1',\n",
       "       'grupo_2'], dtype=object)"
      ]
     },
     "execution_count": 17,
     "metadata": {},
     "output_type": "execute_result"
    }
   ],
   "source": [
    "ohe.get_feature_names(['color', 'grupo'])\n"
   ]
  },
  {
   "cell_type": "markdown",
   "id": "bdc42581",
   "metadata": {},
   "source": [
    "Una forma más conveniente para crear esas características ficticias para la codificación _one hot_, es utilizar el método _get_dummies_ implementado en pandas. Si se aplica a un _DataFrame_, este método convertirá las columnas de tipo _string_ y dejará las otras columnas sin cambios:"
   ]
  },
  {
   "cell_type": "code",
   "execution_count": 18,
   "id": "d79a075e",
   "metadata": {},
   "outputs": [
    {
     "data": {
      "text/html": [
       "<div>\n",
       "<style scoped>\n",
       "    .dataframe tbody tr th:only-of-type {\n",
       "        vertical-align: middle;\n",
       "    }\n",
       "\n",
       "    .dataframe tbody tr th {\n",
       "        vertical-align: top;\n",
       "    }\n",
       "\n",
       "    .dataframe thead th {\n",
       "        text-align: right;\n",
       "    }\n",
       "</style>\n",
       "<table border=\"1\" class=\"dataframe\">\n",
       "  <thead>\n",
       "    <tr style=\"text-align: right;\">\n",
       "      <th></th>\n",
       "      <th>precio</th>\n",
       "      <th>talla</th>\n",
       "      <th>color_azul</th>\n",
       "      <th>color_rojo</th>\n",
       "      <th>color_verde</th>\n",
       "    </tr>\n",
       "  </thead>\n",
       "  <tbody>\n",
       "    <tr>\n",
       "      <th>0</th>\n",
       "      <td>10.3</td>\n",
       "      <td>1</td>\n",
       "      <td>0</td>\n",
       "      <td>0</td>\n",
       "      <td>1</td>\n",
       "    </tr>\n",
       "    <tr>\n",
       "      <th>1</th>\n",
       "      <td>14.2</td>\n",
       "      <td>2</td>\n",
       "      <td>0</td>\n",
       "      <td>1</td>\n",
       "      <td>0</td>\n",
       "    </tr>\n",
       "    <tr>\n",
       "      <th>2</th>\n",
       "      <td>15.6</td>\n",
       "      <td>3</td>\n",
       "      <td>1</td>\n",
       "      <td>0</td>\n",
       "      <td>0</td>\n",
       "    </tr>\n",
       "  </tbody>\n",
       "</table>\n",
       "</div>"
      ],
      "text/plain": [
       "   precio  talla  color_azul  color_rojo  color_verde\n",
       "0    10.3      1           0           0            1\n",
       "1    14.2      2           0           1            0\n",
       "2    15.6      3           1           0            0"
      ]
     },
     "execution_count": 18,
     "metadata": {},
     "output_type": "execute_result"
    }
   ],
   "source": [
    "pd.get_dummies(df[['precio', 'color', 'talla']])"
   ]
  },
  {
   "cell_type": "markdown",
   "id": "2eab3a9d",
   "metadata": {},
   "source": [
    "Es importante tomar en cuenta que al utilizar este tipo de codificación se puede obtener problemas para algunos métodos(p.e, métodos que requieren calcular la matriz inversa). Si las características tienen correlación alta, las matrices son muy dificiles de invertir.\n",
    "\n",
    "Para reducir la correlación de las variables, se puede simplemente eliminar una característica del arreglo _one hot_ obtenido, es importante notar que no se pierde información al eliminar una columna. El parámetro _drop_first_ de _get_dummies_ puede ser de ayuda:"
   ]
  },
  {
   "cell_type": "code",
   "execution_count": 19,
   "id": "bd232295",
   "metadata": {},
   "outputs": [
    {
     "data": {
      "text/html": [
       "<div>\n",
       "<style scoped>\n",
       "    .dataframe tbody tr th:only-of-type {\n",
       "        vertical-align: middle;\n",
       "    }\n",
       "\n",
       "    .dataframe tbody tr th {\n",
       "        vertical-align: top;\n",
       "    }\n",
       "\n",
       "    .dataframe thead th {\n",
       "        text-align: right;\n",
       "    }\n",
       "</style>\n",
       "<table border=\"1\" class=\"dataframe\">\n",
       "  <thead>\n",
       "    <tr style=\"text-align: right;\">\n",
       "      <th></th>\n",
       "      <th>precio</th>\n",
       "      <th>talla</th>\n",
       "      <th>color_rojo</th>\n",
       "      <th>color_verde</th>\n",
       "    </tr>\n",
       "  </thead>\n",
       "  <tbody>\n",
       "    <tr>\n",
       "      <th>0</th>\n",
       "      <td>10.3</td>\n",
       "      <td>1</td>\n",
       "      <td>0</td>\n",
       "      <td>1</td>\n",
       "    </tr>\n",
       "    <tr>\n",
       "      <th>1</th>\n",
       "      <td>14.2</td>\n",
       "      <td>2</td>\n",
       "      <td>1</td>\n",
       "      <td>0</td>\n",
       "    </tr>\n",
       "    <tr>\n",
       "      <th>2</th>\n",
       "      <td>15.6</td>\n",
       "      <td>3</td>\n",
       "      <td>0</td>\n",
       "      <td>0</td>\n",
       "    </tr>\n",
       "  </tbody>\n",
       "</table>\n",
       "</div>"
      ],
      "text/plain": [
       "   precio  talla  color_rojo  color_verde\n",
       "0    10.3      1           0            1\n",
       "1    14.2      2           1            0\n",
       "2    15.6      3           0            0"
      ]
     },
     "execution_count": 19,
     "metadata": {},
     "output_type": "execute_result"
    }
   ],
   "source": [
    "pd.get_dummies(df[['precio', 'color', 'talla']],\n",
    "              drop_first=True)"
   ]
  }
 ],
 "metadata": {
  "kernelspec": {
   "display_name": "Python 3",
   "language": "python",
   "name": "python3"
  },
  "language_info": {
   "codemirror_mode": {
    "name": "ipython",
    "version": 3
   },
   "file_extension": ".py",
   "mimetype": "text/x-python",
   "name": "python",
   "nbconvert_exporter": "python",
   "pygments_lexer": "ipython3",
   "version": "3.8.8"
  }
 },
 "nbformat": 4,
 "nbformat_minor": 5
}
