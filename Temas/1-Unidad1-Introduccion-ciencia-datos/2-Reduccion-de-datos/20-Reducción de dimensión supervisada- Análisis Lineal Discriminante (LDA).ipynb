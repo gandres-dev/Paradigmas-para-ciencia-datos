{
 "cells": [
  {
   "cell_type": "markdown",
   "id": "a04b7baf",
   "metadata": {},
   "source": [
    "# Reducción de dimensión supervisada: Análisis Lineal Discriminante (LDA)"
   ]
  },
  {
   "cell_type": "markdown",
   "id": "5bc7f7b6",
   "metadata": {},
   "source": [
    "Linear Discriminant Analysis (LDA) es una técnica de extracción de características\n",
    "que puede usarse para incrementar la eficiencia computacional y reducir los sobreajustes. For-\n",
    "mulado inicialmente por Ronald A. Fischer (https://bit.ly/3f9e6KF) en 1936 con el conjunto de\n",
    "datos de flores iris para problemas de clasificación de dos clases. En 1948 C. Radhakrishna Rao\n",
    "(https://bit.ly/2VX3Hub) lo generalizó para problemas multiclase bajo el supuesto de covarianzas\n",
    "de clase iguales y clases con distribuciones normales.\n",
    "En general, los conceptos detrás de LDA son muy similares a PCA: mientras PCA busca las\n",
    "componentes ortogonales de varianza mínima, el objetivo de LDA es encontrar un subespacio de\n",
    "características que optimice la separabilidad de clases.\n",
    "El algoritmo se compone de los siguientes pasos:"
   ]
  },
  {
   "cell_type": "markdown",
   "id": "bbb4bb95",
   "metadata": {},
   "source": [
    "<img src=\"./img/algorithms/LDA.png\" alt=\"drawing\" width=\"70%\"/>"
   ]
  },
  {
   "cell_type": "markdown",
   "id": "e9b021fd",
   "metadata": {},
   "source": [
    "Con LDA Y PCA es necesario estandarizar nuestro datos, porque si no se van a sesgar nuestro datos, porque en ambos utilizamos **matrices que nos dicen que tan dispersas son las variables**"
   ]
  },
  {
   "cell_type": "markdown",
   "id": "69250795",
   "metadata": {},
   "source": [
    "## LDA con scikit-learn"
   ]
  },
  {
   "cell_type": "code",
   "execution_count": 5,
   "id": "ad69e6b3",
   "metadata": {},
   "outputs": [],
   "source": [
    "import numpy as np\n",
    "import matplotlib.pyplot as plt\n",
    "import pandas as pd"
   ]
  },
  {
   "cell_type": "markdown",
   "id": "f96d3c95",
   "metadata": {},
   "source": [
    "### Obtencion de los datos"
   ]
  },
  {
   "cell_type": "code",
   "execution_count": 6,
   "id": "e1dd5cc6",
   "metadata": {},
   "outputs": [
    {
     "data": {
      "text/html": [
       "<div>\n",
       "<style scoped>\n",
       "    .dataframe tbody tr th:only-of-type {\n",
       "        vertical-align: middle;\n",
       "    }\n",
       "\n",
       "    .dataframe tbody tr th {\n",
       "        vertical-align: top;\n",
       "    }\n",
       "\n",
       "    .dataframe thead th {\n",
       "        text-align: right;\n",
       "    }\n",
       "</style>\n",
       "<table border=\"1\" class=\"dataframe\">\n",
       "  <thead>\n",
       "    <tr style=\"text-align: right;\">\n",
       "      <th></th>\n",
       "      <th>0</th>\n",
       "      <th>1</th>\n",
       "      <th>2</th>\n",
       "      <th>3</th>\n",
       "      <th>4</th>\n",
       "      <th>5</th>\n",
       "      <th>6</th>\n",
       "      <th>7</th>\n",
       "      <th>8</th>\n",
       "      <th>9</th>\n",
       "      <th>10</th>\n",
       "      <th>11</th>\n",
       "      <th>12</th>\n",
       "      <th>13</th>\n",
       "    </tr>\n",
       "  </thead>\n",
       "  <tbody>\n",
       "    <tr>\n",
       "      <th>173</th>\n",
       "      <td>3</td>\n",
       "      <td>13.71</td>\n",
       "      <td>5.65</td>\n",
       "      <td>2.45</td>\n",
       "      <td>20.5</td>\n",
       "      <td>95</td>\n",
       "      <td>1.68</td>\n",
       "      <td>0.61</td>\n",
       "      <td>0.52</td>\n",
       "      <td>1.06</td>\n",
       "      <td>7.7</td>\n",
       "      <td>0.64</td>\n",
       "      <td>1.74</td>\n",
       "      <td>740</td>\n",
       "    </tr>\n",
       "    <tr>\n",
       "      <th>174</th>\n",
       "      <td>3</td>\n",
       "      <td>13.40</td>\n",
       "      <td>3.91</td>\n",
       "      <td>2.48</td>\n",
       "      <td>23.0</td>\n",
       "      <td>102</td>\n",
       "      <td>1.80</td>\n",
       "      <td>0.75</td>\n",
       "      <td>0.43</td>\n",
       "      <td>1.41</td>\n",
       "      <td>7.3</td>\n",
       "      <td>0.70</td>\n",
       "      <td>1.56</td>\n",
       "      <td>750</td>\n",
       "    </tr>\n",
       "    <tr>\n",
       "      <th>175</th>\n",
       "      <td>3</td>\n",
       "      <td>13.27</td>\n",
       "      <td>4.28</td>\n",
       "      <td>2.26</td>\n",
       "      <td>20.0</td>\n",
       "      <td>120</td>\n",
       "      <td>1.59</td>\n",
       "      <td>0.69</td>\n",
       "      <td>0.43</td>\n",
       "      <td>1.35</td>\n",
       "      <td>10.2</td>\n",
       "      <td>0.59</td>\n",
       "      <td>1.56</td>\n",
       "      <td>835</td>\n",
       "    </tr>\n",
       "    <tr>\n",
       "      <th>176</th>\n",
       "      <td>3</td>\n",
       "      <td>13.17</td>\n",
       "      <td>2.59</td>\n",
       "      <td>2.37</td>\n",
       "      <td>20.0</td>\n",
       "      <td>120</td>\n",
       "      <td>1.65</td>\n",
       "      <td>0.68</td>\n",
       "      <td>0.53</td>\n",
       "      <td>1.46</td>\n",
       "      <td>9.3</td>\n",
       "      <td>0.60</td>\n",
       "      <td>1.62</td>\n",
       "      <td>840</td>\n",
       "    </tr>\n",
       "    <tr>\n",
       "      <th>177</th>\n",
       "      <td>3</td>\n",
       "      <td>14.13</td>\n",
       "      <td>4.10</td>\n",
       "      <td>2.74</td>\n",
       "      <td>24.5</td>\n",
       "      <td>96</td>\n",
       "      <td>2.05</td>\n",
       "      <td>0.76</td>\n",
       "      <td>0.56</td>\n",
       "      <td>1.35</td>\n",
       "      <td>9.2</td>\n",
       "      <td>0.61</td>\n",
       "      <td>1.60</td>\n",
       "      <td>560</td>\n",
       "    </tr>\n",
       "  </tbody>\n",
       "</table>\n",
       "</div>"
      ],
      "text/plain": [
       "     0      1     2     3     4    5     6     7     8     9     10    11  \\\n",
       "173   3  13.71  5.65  2.45  20.5   95  1.68  0.61  0.52  1.06   7.7  0.64   \n",
       "174   3  13.40  3.91  2.48  23.0  102  1.80  0.75  0.43  1.41   7.3  0.70   \n",
       "175   3  13.27  4.28  2.26  20.0  120  1.59  0.69  0.43  1.35  10.2  0.59   \n",
       "176   3  13.17  2.59  2.37  20.0  120  1.65  0.68  0.53  1.46   9.3  0.60   \n",
       "177   3  14.13  4.10  2.74  24.5   96  2.05  0.76  0.56  1.35   9.2  0.61   \n",
       "\n",
       "       12   13  \n",
       "173  1.74  740  \n",
       "174  1.56  750  \n",
       "175  1.56  835  \n",
       "176  1.62  840  \n",
       "177  1.60  560  "
      ]
     },
     "execution_count": 6,
     "metadata": {},
     "output_type": "execute_result"
    }
   ],
   "source": [
    "df_wine = pd.read_csv('https://archive.ics.uci.edu/ml/machine-learning-databases/wine/wine.data',\n",
    "                     header=None)\n",
    "df_wine.tail()"
   ]
  },
  {
   "cell_type": "code",
   "execution_count": 8,
   "id": "c1c529d6",
   "metadata": {},
   "outputs": [],
   "source": [
    "from sklearn.model_selection import train_test_split\n",
    "\n",
    "X, y = df_wine.iloc[:,1:].values, df_wine.iloc[:,0].values\n",
    "\n",
    "X_train, X_test, y_train, y_test = train_test_split(X, y, test_size=0.3)\n"
   ]
  },
  {
   "cell_type": "markdown",
   "id": "e7f6a464",
   "metadata": {},
   "source": [
    "### Estandarización (Preprocesamiento)"
   ]
  },
  {
   "cell_type": "code",
   "execution_count": 9,
   "id": "e8726cef",
   "metadata": {},
   "outputs": [],
   "source": [
    "from sklearn.preprocessing import StandardScaler\n",
    "sc = StandardScaler()\n",
    "\n",
    "X_train_std = sc.fit_transform(X_train)\n",
    "X_test_std = sc.transform(X_test)"
   ]
  },
  {
   "cell_type": "markdown",
   "id": "cb302112",
   "metadata": {},
   "source": [
    "### Reducción LDA\n",
    "\n",
    "El `X_train_lda` ya es nadama de $2$ componenetes, ya se hizo todo el trabajo en `fit` de entrenamiento, y ese entrenameinto hace el algortimo mencionado y nos regresa una matriz de proyeccción para nuestro conjunto.\n",
    "\n",
    "*Vamos proyectar un conjunto de $13$ caracteristicas a un conjunto de $2$*"
   ]
  },
  {
   "cell_type": "code",
   "execution_count": 13,
   "id": "c9807ab8",
   "metadata": {},
   "outputs": [],
   "source": [
    "from sklearn.discriminant_analysis import LinearDiscriminantAnalysis as LDA\n",
    "\n",
    "lda = LDA(n_components=2)\n",
    "# Como este si es supervisado, debemos indicar la y_train\n",
    "X_train_lda = lda.fit_transform(X_train_std, y_train)\n",
    "X_test_lda = lda.transform(X_test_std)"
   ]
  },
  {
   "cell_type": "markdown",
   "id": "fbeea19a",
   "metadata": {},
   "source": [
    "### Clasificador Regresición logistica\n",
    "\n",
    "Ya entrenamos nuestro modelo con lda, ya obtuvimos nuestras $2$ caracteristicas `X_train_lda` y ahora usaremos una regresión logisca para clasificar.\n"
   ]
  },
  {
   "cell_type": "code",
   "execution_count": 15,
   "id": "f156943a",
   "metadata": {},
   "outputs": [
    {
     "data": {
      "text/plain": [
       "LogisticRegression()"
      ]
     },
     "execution_count": 15,
     "metadata": {},
     "output_type": "execute_result"
    }
   ],
   "source": [
    "from sklearn.linear_model import LogisticRegression\n",
    "\n",
    "lr = LogisticRegression()\n",
    "# Aqui entramos nuesto clasificador\n",
    "lr.fit(X_train_lda, y_train)"
   ]
  },
  {
   "cell_type": "markdown",
   "id": "33af62f7",
   "metadata": {},
   "source": [
    "### Visualización de datos de entrenamiento"
   ]
  },
  {
   "cell_type": "code",
   "execution_count": 20,
   "id": "044eda0c",
   "metadata": {},
   "outputs": [
    {
     "data": {
      "image/png": "[encoded data removed]",
      "text/plain": [
       "<Figure size 432x288 with 1 Axes>"
      ]
     },
     "metadata": {
      "needs_background": "light"
     },
     "output_type": "display_data"
    }
   ],
   "source": [
    "from mlxtend.plotting import plot_decision_regions\n",
    "\n",
    "plot_decision_regions(X_train_lda, y_train, clf=lr)\n",
    "plt.xlabel('LDA1')\n",
    "plt.ylabel('LDA2')\n",
    "plt.show()"
   ]
  },
  {
   "cell_type": "markdown",
   "id": "cbd95df9",
   "metadata": {},
   "source": [
    "`clr=clasificador`, si el clasificador no esta entrenado, nos mandará un error, deben de entrenar ese clasificador antes de ponerlo ahi."
   ]
  },
  {
   "cell_type": "markdown",
   "id": "f14e9805",
   "metadata": {},
   "source": [
    "### Visualizacion con datos de prueba"
   ]
  },
  {
   "cell_type": "code",
   "execution_count": 21,
   "id": "55c4a4ff",
   "metadata": {},
   "outputs": [
    {
     "data": {
      "image/png": "[encoded data removed]",
      "text/plain": [
       "<Figure size 432x288 with 1 Axes>"
      ]
     },
     "metadata": {
      "needs_background": "light"
     },
     "output_type": "display_data"
    }
   ],
   "source": [
    "from mlxtend.plotting import plot_decision_regions\n",
    "\n",
    "plot_decision_regions(X_test_lda, y_test, clf=lr)\n",
    "plt.xlabel('LDA1')\n",
    "plt.ylabel('LDA2')\n",
    "plt.show()"
   ]
  },
  {
   "cell_type": "markdown",
   "id": "ea7f1c9b",
   "metadata": {},
   "source": [
    "PCA solo encuentra aquellas que sean las principales, en cambio LDA hace transformaciones con las matrices de dispersión que nos lleva a otro espacio, en el cual se optimize la separabilidad de clases, y vemos que si funciona mejor LDA, a pesar, que elegimos $2$ componentes.\n",
    "\n",
    "El problema de LDA es que es totalmente supervisado, necesitamos saber las salidas para entrenarlo, en cambio, PCA no, podriamos trabajar con conjuntos que no tengamos las salidas y aun asi podremos trabajar con el.\n"
   ]
  },
  {
   "cell_type": "markdown",
   "id": "22f479b5",
   "metadata": {},
   "source": [
    "**Notas**\n",
    "\n",
    "- fit: Lo que hace es ajustar (aprendizaje a si mismo), aplicar el algoritmo dado, obtiene lo que tenga que obtener.\n",
    "\n",
    "- transform: Aplica una transformacion, pasar un conjunto a otro, dependiento del algortimo invocado."
   ]
  },
  {
   "cell_type": "code",
   "execution_count": null,
   "id": "c4ffba85",
   "metadata": {},
   "outputs": [],
   "source": [
    "# Tarea moral: Hacer la matriz de dispersion, la cual\n",
    "# es la que se ocupa para este algoritmo, es vez de la matriz\n",
    "# de covarianza que se utiliza para PCA."
   ]
  }
 ],
 "metadata": {
  "kernelspec": {
   "display_name": "Python 3",
   "language": "python",
   "name": "python3"
  },
  "language_info": {
   "codemirror_mode": {
    "name": "ipython",
    "version": 3
   },
   "file_extension": ".py",
   "mimetype": "text/x-python",
   "name": "python",
   "nbconvert_exporter": "python",
   "pygments_lexer": "ipython3",
   "version": "3.8.8"
  }
 },
 "nbformat": 4,
 "nbformat_minor": 5
}
