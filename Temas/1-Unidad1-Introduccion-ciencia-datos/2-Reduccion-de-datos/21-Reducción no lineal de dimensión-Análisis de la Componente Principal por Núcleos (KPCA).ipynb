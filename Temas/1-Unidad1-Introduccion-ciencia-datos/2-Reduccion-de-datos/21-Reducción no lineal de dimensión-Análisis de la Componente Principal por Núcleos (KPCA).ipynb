{
 "cells": [
  {
   "cell_type": "markdown",
   "id": "fc2089ab",
   "metadata": {},
   "source": [
    "# Reducción no lineal de dimensión: Análisis de la Componente Principal por Núcleos (KPCA)"
   ]
  },
  {
   "cell_type": "markdown",
   "id": "8d1152bc",
   "metadata": {},
   "source": [
    "Muchas veces tendremos conjuntos de datos que no se pueden separa linealmente dentro de la propia dimensionalidad, la idea del KPCA es llevarlo a una dimension más alta.\n",
    "\n",
    "Aplicar una transformación no lineal. Ejemplo cuando vimos lo de redes neuronales [playground.tensorflow](https://playground.tensorflow.org/), que agregabamos unas caracteristicas cudrados, senos, multiplicaciones,etc, esas son concidas como funciones de kernel.\n",
    "\n",
    "Al aplicar una transformacion no lineal, lo llevamos a un dimension más arriba, y es probable de esa dimension si se puedan separar los conjuntos linealmente.\n",
    "\n",
    "Esa es la idea intuitica de KPCA.\n",
    "\n",
    "- Primero aplicamos una función de kernel.\n",
    "\n",
    "- Lo llevamos a una dimension superior.\n",
    "\n",
    "- Despues aplicamos PCA en esa dimensión superior."
   ]
  },
  {
   "cell_type": "markdown",
   "id": "cd064661",
   "metadata": {},
   "source": [
    "keyword: Hiperparametro"
   ]
  },
  {
   "cell_type": "markdown",
   "id": "773fe4c6",
   "metadata": {},
   "source": [
    "## Implementacion de RBF Kernel PCA"
   ]
  },
  {
   "cell_type": "code",
   "execution_count": 1,
   "id": "1410a5aa",
   "metadata": {},
   "outputs": [],
   "source": [
    "#KPCA con RBF como kernel\n",
    "import scipy\n",
    "from scipy.spatial.distance import pdist, squareform\n",
    "from scipy.linalg import eigh\n",
    "import numpy as np\n",
    "import matplotlib.pyplot as plt"
   ]
  },
  {
   "cell_type": "code",
   "execution_count": 28,
   "id": "0817a0fa",
   "metadata": {},
   "outputs": [],
   "source": [
    "def rbf_kpca(X, gamma, n_components):\n",
    "    \"\"\"\n",
    "    Kernel RBF\n",
    "    \n",
    "    Arguments:\n",
    "    X -- El conjunto de caracteristicas.\n",
    "    gamma -- Valor de gamma\n",
    "    n_components -- NUmero de componentes que obtendremos al fina.\n",
    "    \"\"\"\n",
    "    \n",
    "    sq_dists = pdist(X,'sqeuclidean') # distancias cuadraticas\n",
    "    mat_sq_dists = squareform(sq_dists) # matriz de distancias\n",
    "    K = np.exp(-gamma * mat_sq_dists)\n",
    "    # Centrar\n",
    "    N = K.shape[0] \n",
    "    one_n = np.ones((N,N)) / N\n",
    "    K = K - one_n.dot(K) - K.dot(one_n) + one_n.dot(K).dot(one_n)\n",
    "    \n",
    "    eigen_vals, eigen_vecs = eigh(K)\n",
    "    eigen_vals, eigen_vecs = eigen_vals[::-1], eigen_vecs[:,::-1]\n",
    "    \n",
    "    print(eigen_vals.shape, ' : ', eigen_vecs.shape)\n",
    "    \n",
    "    # Selecciona los k primeros\n",
    "    alphas = np.column_stack([eigen_vecs[:, i] for i in range(n_components)])\n",
    "    lambdas = np.column_stack([eigen_vals[i] for i in range(n_components)])\n",
    "    \n",
    "    return alphas,lambdas"
   ]
  },
  {
   "cell_type": "markdown",
   "id": "94769562",
   "metadata": {},
   "source": [
    "### Obtencion de datos"
   ]
  },
  {
   "cell_type": "code",
   "execution_count": 7,
   "id": "9e15963a",
   "metadata": {},
   "outputs": [
    {
     "data": {
      "image/png": "[encoded data removed]",
      "text/plain": [
       "<Figure size 432x288 with 1 Axes>"
      ]
     },
     "metadata": {
      "needs_background": "light"
     },
     "output_type": "display_data"
    }
   ],
   "source": [
    "from sklearn.datasets import make_moons\n",
    "\n",
    "X, y = make_moons(n_samples=100, random_state=123)\n",
    "\n",
    "\n",
    "plt.scatter(X[y==0,0], X[y==0,1], color='red', marker='*',\n",
    "           alpha=0.5)\n",
    "\n",
    "plt.scatter(X[y==1,0], X[y==1,1], color='blue', marker='o',\n",
    "           alpha=0.5)\n",
    "\n",
    "plt.show()"
   ]
  },
  {
   "cell_type": "markdown",
   "id": "a18e3d84",
   "metadata": {},
   "source": [
    "Dos medias lunas, esos son nuestro conjuntos, no existe una separación lineal, no hay ninguna linea que vaya a separar esos dos conjuntos.\n",
    "\n",
    "Vamos a preguntarnos si PCA puede hacer algo."
   ]
  },
  {
   "cell_type": "markdown",
   "id": "f395b523",
   "metadata": {},
   "source": [
    "### Estandarización\n",
    "\n",
    "Vemos en la grafica que no hay un sesgo en los valores, tambien debido a que es un conjunto fictio."
   ]
  },
  {
   "cell_type": "markdown",
   "id": "2b38fd5a",
   "metadata": {},
   "source": [
    "### Reducción PCA\n"
   ]
  },
  {
   "cell_type": "code",
   "execution_count": 18,
   "id": "a3fc9c1c",
   "metadata": {},
   "outputs": [],
   "source": [
    "from sklearn.decomposition import PCA\n",
    "\n",
    "pca = PCA(n_components=2)\n",
    "X_pca = pca.fit_transform(X)"
   ]
  },
  {
   "cell_type": "code",
   "execution_count": 20,
   "id": "67b28d59",
   "metadata": {},
   "outputs": [
    {
     "data": {
      "text/plain": [
       "<matplotlib.collections.PathCollection at 0x7f9b50c16430>"
      ]
     },
     "execution_count": 20,
     "metadata": {},
     "output_type": "execute_result"
    },
    {
     "data": {
      "image/png": "[encoded data removed]",
      "text/plain": [
       "<Figure size 720x288 with 2 Axes>"
      ]
     },
     "metadata": {
      "needs_background": "light"
     },
     "output_type": "display_data"
    }
   ],
   "source": [
    "# Haremos subgraficas, una delante de la otra\n",
    "fig, ax = plt.subplots(nrows=1, ncols=2, figsize=(10,4), sharey=True)\n",
    "ax[0].scatter(X_pca[y==0,0], X_pca[y==0,1], color='red', marker='*',\n",
    "           alpha=0.5)\n",
    "\n",
    "ax[0].scatter(X_pca[y==1,0], X_pca[y==1,1], color='blue', marker='o',\n",
    "           alpha=0.5)\n",
    "\n",
    "# Mandaremos el resultado de PCA a la derecha, para ver si\n",
    "# se separa a nuestros conjuntos.\n",
    "ax[1].scatter(X_pca[y==0,0], np.zeros((50,1))+0.02, color='red', marker='*',\n",
    "           alpha=0.5)\n",
    "\n",
    "ax[1].scatter(X_pca[y==1,0], np.zeros((50,1))-0.02, color='blue', marker='o',\n",
    "           alpha=0.5)"
   ]
  },
  {
   "cell_type": "markdown",
   "id": "5e2ef8c3",
   "metadata": {},
   "source": [
    "Este es el resultado, por lo tanto PCA no puede separar estos conjuntos.\n",
    "\n",
    "Esto es debido porque los conjuntos no son linealmente separables."
   ]
  },
  {
   "cell_type": "markdown",
   "id": "565a454e",
   "metadata": {},
   "source": [
    "## Usaremos KPCA\n",
    "\n",
    "Esto lo llevara a un dimension de dos por dos y depues lo vamos a regresar a solo dos."
   ]
  },
  {
   "cell_type": "code",
   "execution_count": 31,
   "id": "c0535d15",
   "metadata": {},
   "outputs": [
    {
     "name": "stdout",
     "output_type": "stream",
     "text": [
      "(100,)  :  (100, 100)\n"
     ]
    },
    {
     "data": {
      "text/plain": [
       "<matplotlib.collections.PathCollection at 0x7f9b51229310>"
      ]
     },
     "execution_count": 31,
     "metadata": {},
     "output_type": "execute_result"
    },
    {
     "data": {
      "image/png": "[encoded data removed]",
      "text/plain": [
       "<Figure size 720x288 with 2 Axes>"
      ]
     },
     "metadata": {
      "needs_background": "light"
     },
     "output_type": "display_data"
    }
   ],
   "source": [
    "X_kpca, l = rbf_kpca(X, gamma=15, n_components=2)\n",
    "\n",
    "# Haremos subgraficas, una delante de la otra\n",
    "fig, ax = plt.subplots(nrows=1, ncols=2, figsize=(10,4), sharey=True)\n",
    "ax[0].scatter(X_kpca[y==0,0], X_kpca[y==0,1], color='red', marker='*',\n",
    "           alpha=0.5)\n",
    "\n",
    "ax[0].scatter(X_kpca[y==1,0], X_kpca[y==1,1], color='blue', marker='o',\n",
    "           alpha=0.5)\n",
    "\n",
    "# Mandaremos el resultado de PCA a la derecha, para ver si\n",
    "# se separa a nuestros conjuntos.\n",
    "ax[1].scatter(X_kpca[y==0,0], np.zeros((50,1))+0.02, color='red', marker='*',\n",
    "           alpha=0.5)\n",
    "\n",
    "ax[1].scatter(X_kpca[y==1,0], np.zeros((50,1))-0.02, color='blue', marker='o',\n",
    "           alpha=0.5)"
   ]
  },
  {
   "cell_type": "markdown",
   "id": "758dcd5a",
   "metadata": {},
   "source": [
    "Lo que acabamos de hacer es pasar nuestro conjunto de `X` que eran las medias lunas por nuestra función del kernel, lo llevamos a una matriz de $2x2$ con gamma=$15$ y con eso, despues obtener las dos principales, nos devuelve estos conjuntos como mariposas, y los volvemos a proyectar en la parte derecha en el entorno de $y=0$ y vemos que si no los manda muy cerca de zero y que son perfectamente separables.\n",
    "\n",
    "Por lo tanto, con KPCA los separa bastante bien."
   ]
  },
  {
   "cell_type": "markdown",
   "id": "20e3011e",
   "metadata": {},
   "source": [
    "Podemos jugar cone esa _gamma_ para ver si los separa bien:"
   ]
  },
  {
   "cell_type": "code",
   "execution_count": 32,
   "id": "98e62392",
   "metadata": {},
   "outputs": [
    {
     "name": "stdout",
     "output_type": "stream",
     "text": [
      "(100,)  :  (100, 100)\n"
     ]
    },
    {
     "data": {
      "text/plain": [
       "<matplotlib.collections.PathCollection at 0x7f9b51cbde80>"
      ]
     },
     "execution_count": 32,
     "metadata": {},
     "output_type": "execute_result"
    },
    {
     "data": {
      "image/png": "[encoded data removed]",
      "text/plain": [
       "<Figure size 720x288 with 2 Axes>"
      ]
     },
     "metadata": {
      "needs_background": "light"
     },
     "output_type": "display_data"
    }
   ],
   "source": [
    "X_kpca, l = rbf_kpca(X, gamma=3, n_components=2)\n",
    "\n",
    "# Haremos subgraficas, una delante de la otra\n",
    "fig, ax = plt.subplots(nrows=1, ncols=2, figsize=(10,4), sharey=True)\n",
    "ax[0].scatter(X_kpca[y==0,0], X_kpca[y==0,1], color='red', marker='*',\n",
    "           alpha=0.5)\n",
    "\n",
    "ax[0].scatter(X_kpca[y==1,0], X_kpca[y==1,1], color='blue', marker='o',\n",
    "           alpha=0.5)\n",
    "\n",
    "# Mandaremos el resultado de PCA a la derecha, para ver si\n",
    "# se separa a nuestros conjuntos.\n",
    "ax[1].scatter(X_kpca[y==0,0], np.zeros((50,1))+0.02, color='red', marker='*',\n",
    "           alpha=0.5)\n",
    "\n",
    "ax[1].scatter(X_kpca[y==1,0], np.zeros((50,1))-0.02, color='blue', marker='o',\n",
    "           alpha=0.5)"
   ]
  },
  {
   "cell_type": "markdown",
   "id": "b895c087",
   "metadata": {},
   "source": [
    "Eso se le conoce como ajuste de hiperparametro.\n",
    "\n",
    "La gamma es un _hiperparametro_ para la separacion de conjuntos.\n",
    "\n",
    "La idea basica es jugar  con ese hiperparametro hasta encontrar el valor que los separa adeucademente.\n"
   ]
  },
  {
   "cell_type": "markdown",
   "id": "9701af28",
   "metadata": {},
   "source": [
    "## KPCA con sckit-learn"
   ]
  },
  {
   "cell_type": "code",
   "execution_count": 33,
   "id": "42bd8af5",
   "metadata": {},
   "outputs": [],
   "source": [
    "from sklearn.decomposition import KernelPCA\n",
    "\n",
    "# Le tenememos que indicar que kernel\n",
    "kpca = KernelPCA(n_components=2, kernel='rbf', gamma=15)\n",
    "X_kpca = kpca.fit_transform(X)"
   ]
  },
  {
   "cell_type": "markdown",
   "id": "89b48746",
   "metadata": {},
   "source": [
    "Un ejercicio moral, es ir probando con diferentes kernel (kernel polinomial y el kernel tangente hiperbólico) y ver si sí los separa los datos, ir jugando con la gamma, en el caso de los demas kernel puede haber otros hiperparametros, ver que sucede."
   ]
  },
  {
   "cell_type": "markdown",
   "id": "e8298314",
   "metadata": {},
   "source": [
    "### Visualizando"
   ]
  },
  {
   "cell_type": "code",
   "execution_count": 34,
   "id": "f78073be",
   "metadata": {},
   "outputs": [
    {
     "data": {
      "text/plain": [
       "<matplotlib.collections.PathCollection at 0x7f9b512d7730>"
      ]
     },
     "execution_count": 34,
     "metadata": {},
     "output_type": "execute_result"
    },
    {
     "data": {
      "image/png": "[encoded data removed]",
      "text/plain": [
       "<Figure size 720x288 with 2 Axes>"
      ]
     },
     "metadata": {
      "needs_background": "light"
     },
     "output_type": "display_data"
    }
   ],
   "source": [
    "# Haremos subgraficas, una delante de la otra\n",
    "fig, ax = plt.subplots(nrows=1, ncols=2, figsize=(10,4), sharey=True)\n",
    "ax[0].scatter(X_kpca[y==0,0], X_kpca[y==0,1], color='red', marker='*',\n",
    "           alpha=0.5)\n",
    "\n",
    "ax[0].scatter(X_kpca[y==1,0], X_kpca[y==1,1], color='blue', marker='o',\n",
    "           alpha=0.5)\n",
    "\n",
    "# Mandaremos el resultado de PCA a la derecha, para ver si\n",
    "# se separa a nuestros conjuntos.\n",
    "ax[1].scatter(X_kpca[y==0,0], np.zeros((50,1))+0.02, color='red', marker='*',\n",
    "           alpha=0.5)\n",
    "\n",
    "ax[1].scatter(X_kpca[y==1,0], np.zeros((50,1))-0.02, color='blue', marker='o',\n",
    "           alpha=0.5)"
   ]
  },
  {
   "cell_type": "markdown",
   "id": "cbcb9871",
   "metadata": {},
   "source": [
    "Vemos que es casi exactametne igual, pero tiene algunas sutilezas en los ejes, pero los conjuntos si los separa bien, a comparación con PCA simple.\n",
    "\n"
   ]
  },
  {
   "cell_type": "markdown",
   "id": "9cb8a8fc",
   "metadata": {},
   "source": [
    "## Ejemplo 2\n",
    "\n",
    "Existe otro conjunto, donde los datos se ven como circulos concentricos, el cual con kernel PCA si lo puede separar."
   ]
  },
  {
   "cell_type": "code",
   "execution_count": 36,
   "id": "2bcb9aeb",
   "metadata": {},
   "outputs": [],
   "source": [
    "# Tarea moral, aplicar lo mismo que hicimos con medias lunas\n",
    "# pero ahora con el conjunto de datos que forman circulos concentricos\n",
    "\n",
    "# Hint: Debemos jugar con la gamma"
   ]
  },
  {
   "cell_type": "code",
   "execution_count": null,
   "id": "9c8bfe0f",
   "metadata": {},
   "outputs": [],
   "source": []
  }
 ],
 "metadata": {
  "kernelspec": {
   "display_name": "Python 3",
   "language": "python",
   "name": "python3"
  },
  "language_info": {
   "codemirror_mode": {
    "name": "ipython",
    "version": 3
   },
   "file_extension": ".py",
   "mimetype": "text/x-python",
   "name": "python",
   "nbconvert_exporter": "python",
   "pygments_lexer": "ipython3",
   "version": "3.8.8"
  }
 },
 "nbformat": 4,
 "nbformat_minor": 5
}
