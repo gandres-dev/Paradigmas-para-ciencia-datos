{
 "cells": [
  {
   "cell_type": "markdown",
   "id": "bb0187f9",
   "metadata": {},
   "source": [
    "# Seleccionando características significativas"
   ]
  },
  {
   "cell_type": "markdown",
   "id": "2154a124",
   "metadata": {},
   "source": [
    "Si se observa que un modelo tiene mejor rendimiento con el conjunto de entrenamiento que con\n",
    "el de pruebas, es un indicador de sobreajuste; esto significa que el modelo adecúa sus parámetros\n",
    "a las observaciones de los datos de entrenamiento, pero no generaliza bien a nuevos datos.\n",
    "Entre las posibles soluciones al sobreajuste, se tiene la **reducción de la dimensión de los datos**."
   ]
  },
  {
   "cell_type": "markdown",
   "id": "add43590",
   "metadata": {},
   "source": [
    "Mientras más caracteristicas (columnas) tengamos será más lento el algortimo. Pude darse le sobre ajuste, el motivo porque hay dos o más columnas extras."
   ]
  },
  {
   "cell_type": "markdown",
   "id": "1bbe7dd8",
   "metadata": {},
   "source": [
    "## Selección secuencial de características\n",
    "\n",
    "Los algoritmos de selección secuencial son una familia de algoritmos voraces (greedy) usados\n",
    "para reducir la dimensión d de características a un subespacio de dimensión $k$ que cumple $k < d$.\n",
    "\n",
    "El objetivo es seleccionar automáticamente un subconjunto de características que sean las\n",
    "más relevantes para el problema; con esto se puede mejorar la eficiencia o reducir errores de\n",
    "generalización del modelo al eliminar características irrevantes o ruido."
   ]
  },
  {
   "cell_type": "markdown",
   "id": "508d3779",
   "metadata": {},
   "source": [
    "## Sequential Backward Selection (Secuencial hacia atras)\n",
    "\n",
    "Un algoritmo de selección común es el llamado **Sequential Backward Selection (SBS )** cuyo objetivo es reducir la dimensión del espacio de características con un mínimo de pérdidas en el rendimiento del modelo mejorando la eficiencia computacional. Además, SBS puede mejorar también el poder predictivo de un modelo si está sobreajustado.\n",
    "\n",
    "La idea detrás de SBS es simple: eliminar secuencialmente características de un conjunto hasta que se tenga el número deseado de ellas. Para determinar qué columna eliminar se debe establecer una función criterio J ; uno muy usado es simplemente comparar el rendimiento del modelo antes y después de eliminar una columna; la característica a eliminar será aquella que cause el menor descenso en el rendimiento. \n",
    "\n",
    "El algoritmo puede describirse en cuatro pasos:"
   ]
  },
  {
   "cell_type": "markdown",
   "id": "7c11863b",
   "metadata": {},
   "source": [
    "\n",
    "\n",
    "1. Inicializar el algoritmo con k = d, d es la dimensión del espacio original de características $X_d$\n",
    "\n",
    "2. Determinar la característica $x^−$ que maximiza el criterio: $x^−$ = arg máx $(J (X k − x))$, donde $x$ ∈ $X_k$\n",
    "\n",
    "3. Eliminar la característica $x⁻$ del conjunto: $X_k−1$ = $X_k − x^− ; k = k − 1$\n",
    "\n",
    "4. Si k es mayor que el número deseado de características, repetir desde el paso 2; de otro\n",
    "modo, terminar la ejecución\n",
    "\n"
   ]
  },
  {
   "cell_type": "markdown",
   "id": "a924e36e",
   "metadata": {},
   "source": [
    "La idea basicamente es seleccionar la ultima columna, penultima,\n",
    "eliminamos una en cada paso del algortimo, vemos que tan bien o mal se comporta al quitar esa columna, y nos quedamos con aquel que obtegamos el mejor rendimiento. Eliminar la columna que me perjudique menos, la que menos peso tiene en el algortimo que estoy usando,\n",
    "\n",
    "La J es un algortimo de aprendizaje que me sirve para saber con cual de las columnas me puedo quedar.\n",
    "\n",
    "Eliminar aquellas que no perjudiquen mi algortimo.\n",
    "\n",
    "\n",
    "Esto es muy debandante ya que tengo que ejecutar el algortimo con todas las columas y despues quitar una y ver que tanto me perjudico mi algortimo quitando esa columna, y repito nuevamente quitando la siguientem, etc. hasta quedarme con la $k$ que me hayan indicado."
   ]
  },
  {
   "cell_type": "markdown",
   "id": "f458e822",
   "metadata": {},
   "source": [
    "## Ejemplo 1"
   ]
  },
  {
   "cell_type": "code",
   "execution_count": 1,
   "id": "fcdb181e",
   "metadata": {},
   "outputs": [],
   "source": [
    "import numpy as np\n",
    "import pandas as pd\n",
    "import matplotlib.pyplot as plt\n",
    "import random"
   ]
  },
  {
   "cell_type": "code",
   "execution_count": 6,
   "id": "16e6cd13",
   "metadata": {},
   "outputs": [
    {
     "data": {
      "text/html": [
       "<div>\n",
       "<style scoped>\n",
       "    .dataframe tbody tr th:only-of-type {\n",
       "        vertical-align: middle;\n",
       "    }\n",
       "\n",
       "    .dataframe tbody tr th {\n",
       "        vertical-align: top;\n",
       "    }\n",
       "\n",
       "    .dataframe thead th {\n",
       "        text-align: right;\n",
       "    }\n",
       "</style>\n",
       "<table border=\"1\" class=\"dataframe\">\n",
       "  <thead>\n",
       "    <tr style=\"text-align: right;\">\n",
       "      <th></th>\n",
       "      <th>altura</th>\n",
       "      <th>peso</th>\n",
       "      <th>talla</th>\n",
       "    </tr>\n",
       "  </thead>\n",
       "  <tbody>\n",
       "    <tr>\n",
       "      <th>0</th>\n",
       "      <td>170</td>\n",
       "      <td>64</td>\n",
       "      <td>L</td>\n",
       "    </tr>\n",
       "    <tr>\n",
       "      <th>1</th>\n",
       "      <td>168</td>\n",
       "      <td>62</td>\n",
       "      <td>L</td>\n",
       "    </tr>\n",
       "    <tr>\n",
       "      <th>2</th>\n",
       "      <td>163</td>\n",
       "      <td>60</td>\n",
       "      <td>M</td>\n",
       "    </tr>\n",
       "    <tr>\n",
       "      <th>3</th>\n",
       "      <td>168</td>\n",
       "      <td>63</td>\n",
       "      <td>L</td>\n",
       "    </tr>\n",
       "    <tr>\n",
       "      <th>4</th>\n",
       "      <td>158</td>\n",
       "      <td>63</td>\n",
       "      <td>M</td>\n",
       "    </tr>\n",
       "  </tbody>\n",
       "</table>\n",
       "</div>"
      ],
      "text/plain": [
       "   altura  peso talla\n",
       "0     170    64     L\n",
       "1     168    62     L\n",
       "2     163    60     M\n",
       "3     168    63     L\n",
       "4     158    63     M"
      ]
     },
     "execution_count": 6,
     "metadata": {},
     "output_type": "execute_result"
    }
   ],
   "source": [
    "data = pd.read_csv('https://bit.ly/3yWJipU')\n",
    "data.head()"
   ]
  },
  {
   "cell_type": "code",
   "execution_count": 3,
   "id": "fb802316",
   "metadata": {},
   "outputs": [
    {
     "data": {
      "text/html": [
       "<div>\n",
       "<style scoped>\n",
       "    .dataframe tbody tr th:only-of-type {\n",
       "        vertical-align: middle;\n",
       "    }\n",
       "\n",
       "    .dataframe tbody tr th {\n",
       "        vertical-align: top;\n",
       "    }\n",
       "\n",
       "    .dataframe thead th {\n",
       "        text-align: right;\n",
       "    }\n",
       "</style>\n",
       "<table border=\"1\" class=\"dataframe\">\n",
       "  <thead>\n",
       "    <tr style=\"text-align: right;\">\n",
       "      <th></th>\n",
       "      <th>0</th>\n",
       "      <th>1</th>\n",
       "      <th>2</th>\n",
       "      <th>3</th>\n",
       "      <th>4</th>\n",
       "      <th>5</th>\n",
       "      <th>6</th>\n",
       "      <th>7</th>\n",
       "      <th>8</th>\n",
       "      <th>9</th>\n",
       "      <th>10</th>\n",
       "      <th>11</th>\n",
       "      <th>12</th>\n",
       "      <th>13</th>\n",
       "      <th>14</th>\n",
       "      <th>15</th>\n",
       "      <th>16</th>\n",
       "      <th>17</th>\n",
       "      <th>18</th>\n",
       "      <th>19</th>\n",
       "    </tr>\n",
       "  </thead>\n",
       "  <tbody>\n",
       "    <tr>\n",
       "      <th>altura</th>\n",
       "      <td>170</td>\n",
       "      <td>168</td>\n",
       "      <td>163</td>\n",
       "      <td>168</td>\n",
       "      <td>158</td>\n",
       "      <td>160</td>\n",
       "      <td>168</td>\n",
       "      <td>165</td>\n",
       "      <td>160</td>\n",
       "      <td>158</td>\n",
       "      <td>169</td>\n",
       "      <td>158</td>\n",
       "      <td>170</td>\n",
       "      <td>165</td>\n",
       "      <td>161</td>\n",
       "      <td>170</td>\n",
       "      <td>163</td>\n",
       "      <td>160</td>\n",
       "      <td>165</td>\n",
       "      <td>163</td>\n",
       "    </tr>\n",
       "    <tr>\n",
       "      <th>peso</th>\n",
       "      <td>64</td>\n",
       "      <td>62</td>\n",
       "      <td>60</td>\n",
       "      <td>63</td>\n",
       "      <td>63</td>\n",
       "      <td>60</td>\n",
       "      <td>66</td>\n",
       "      <td>61</td>\n",
       "      <td>59</td>\n",
       "      <td>59</td>\n",
       "      <td>67</td>\n",
       "      <td>58</td>\n",
       "      <td>63</td>\n",
       "      <td>65</td>\n",
       "      <td>60</td>\n",
       "      <td>68</td>\n",
       "      <td>61</td>\n",
       "      <td>64</td>\n",
       "      <td>62</td>\n",
       "      <td>64</td>\n",
       "    </tr>\n",
       "    <tr>\n",
       "      <th>talla</th>\n",
       "      <td>L</td>\n",
       "      <td>L</td>\n",
       "      <td>M</td>\n",
       "      <td>L</td>\n",
       "      <td>M</td>\n",
       "      <td>M</td>\n",
       "      <td>L</td>\n",
       "      <td>L</td>\n",
       "      <td>M</td>\n",
       "      <td>M</td>\n",
       "      <td>L</td>\n",
       "      <td>M</td>\n",
       "      <td>L</td>\n",
       "      <td>L</td>\n",
       "      <td>M</td>\n",
       "      <td>L</td>\n",
       "      <td>M</td>\n",
       "      <td>L</td>\n",
       "      <td>L</td>\n",
       "      <td>L</td>\n",
       "    </tr>\n",
       "  </tbody>\n",
       "</table>\n",
       "</div>"
      ],
      "text/plain": [
       "         0    1    2    3    4    5    6    7    8    9    10   11   12   13  \\\n",
       "altura  170  168  163  168  158  160  168  165  160  158  169  158  170  165   \n",
       "peso     64   62   60   63   63   60   66   61   59   59   67   58   63   65   \n",
       "talla     L    L    M    L    M    M    L    L    M    M    L    M    L    L   \n",
       "\n",
       "         14   15   16   17   18   19  \n",
       "altura  161  170  163  160  165  163  \n",
       "peso     60   68   61   64   62   64  \n",
       "talla     M    L    M    L    L    L  "
      ]
     },
     "execution_count": 3,
     "metadata": {},
     "output_type": "execute_result"
    }
   ],
   "source": [
    "data.T"
   ]
  },
  {
   "cell_type": "markdown",
   "id": "65e67a45",
   "metadata": {},
   "source": [
    "Este es un ejemplo de $3$ columnas, la talla nos ayudara a evaluar nuestro algortimo."
   ]
  },
  {
   "cell_type": "markdown",
   "id": "64d57d22",
   "metadata": {},
   "source": [
    "## Preprocessamiento\n",
    "\n",
    "Agregamos una nueva columna que nos marque el color segun la talla L -> 1 y M -> 0."
   ]
  },
  {
   "cell_type": "code",
   "execution_count": 7,
   "id": "19a432c6",
   "metadata": {},
   "outputs": [
    {
     "data": {
      "text/html": [
       "<div>\n",
       "<style scoped>\n",
       "    .dataframe tbody tr th:only-of-type {\n",
       "        vertical-align: middle;\n",
       "    }\n",
       "\n",
       "    .dataframe tbody tr th {\n",
       "        vertical-align: top;\n",
       "    }\n",
       "\n",
       "    .dataframe thead th {\n",
       "        text-align: right;\n",
       "    }\n",
       "</style>\n",
       "<table border=\"1\" class=\"dataframe\">\n",
       "  <thead>\n",
       "    <tr style=\"text-align: right;\">\n",
       "      <th></th>\n",
       "      <th>altura</th>\n",
       "      <th>peso</th>\n",
       "      <th>talla</th>\n",
       "      <th>color</th>\n",
       "    </tr>\n",
       "  </thead>\n",
       "  <tbody>\n",
       "    <tr>\n",
       "      <th>0</th>\n",
       "      <td>170</td>\n",
       "      <td>64</td>\n",
       "      <td>L</td>\n",
       "      <td>1</td>\n",
       "    </tr>\n",
       "    <tr>\n",
       "      <th>1</th>\n",
       "      <td>168</td>\n",
       "      <td>62</td>\n",
       "      <td>L</td>\n",
       "      <td>1</td>\n",
       "    </tr>\n",
       "    <tr>\n",
       "      <th>2</th>\n",
       "      <td>163</td>\n",
       "      <td>60</td>\n",
       "      <td>M</td>\n",
       "      <td>0</td>\n",
       "    </tr>\n",
       "    <tr>\n",
       "      <th>3</th>\n",
       "      <td>168</td>\n",
       "      <td>63</td>\n",
       "      <td>L</td>\n",
       "      <td>1</td>\n",
       "    </tr>\n",
       "    <tr>\n",
       "      <th>4</th>\n",
       "      <td>158</td>\n",
       "      <td>63</td>\n",
       "      <td>M</td>\n",
       "      <td>0</td>\n",
       "    </tr>\n",
       "  </tbody>\n",
       "</table>\n",
       "</div>"
      ],
      "text/plain": [
       "   altura  peso talla  color\n",
       "0     170    64     L      1\n",
       "1     168    62     L      1\n",
       "2     163    60     M      0\n",
       "3     168    63     L      1\n",
       "4     158    63     M      0"
      ]
     },
     "execution_count": 7,
     "metadata": {},
     "output_type": "execute_result"
    }
   ],
   "source": [
    "talla_map = {'L': 1, 'M': 0}\n",
    "data['color'] = data.talla.map(talla_map)\n",
    "data.head()"
   ]
  },
  {
   "cell_type": "code",
   "execution_count": 8,
   "id": "cad7cff7",
   "metadata": {},
   "outputs": [
    {
     "data": {
      "text/html": [
       "<div>\n",
       "<style scoped>\n",
       "    .dataframe tbody tr th:only-of-type {\n",
       "        vertical-align: middle;\n",
       "    }\n",
       "\n",
       "    .dataframe tbody tr th {\n",
       "        vertical-align: top;\n",
       "    }\n",
       "\n",
       "    .dataframe thead th {\n",
       "        text-align: right;\n",
       "    }\n",
       "</style>\n",
       "<table border=\"1\" class=\"dataframe\">\n",
       "  <thead>\n",
       "    <tr style=\"text-align: right;\">\n",
       "      <th></th>\n",
       "      <th>0</th>\n",
       "      <th>1</th>\n",
       "      <th>2</th>\n",
       "      <th>3</th>\n",
       "      <th>4</th>\n",
       "      <th>5</th>\n",
       "      <th>6</th>\n",
       "      <th>7</th>\n",
       "      <th>8</th>\n",
       "      <th>9</th>\n",
       "      <th>10</th>\n",
       "      <th>11</th>\n",
       "      <th>12</th>\n",
       "      <th>13</th>\n",
       "      <th>14</th>\n",
       "      <th>15</th>\n",
       "      <th>16</th>\n",
       "      <th>17</th>\n",
       "      <th>18</th>\n",
       "      <th>19</th>\n",
       "    </tr>\n",
       "  </thead>\n",
       "  <tbody>\n",
       "    <tr>\n",
       "      <th>altura</th>\n",
       "      <td>170</td>\n",
       "      <td>168</td>\n",
       "      <td>163</td>\n",
       "      <td>168</td>\n",
       "      <td>158</td>\n",
       "      <td>160</td>\n",
       "      <td>168</td>\n",
       "      <td>165</td>\n",
       "      <td>160</td>\n",
       "      <td>158</td>\n",
       "      <td>169</td>\n",
       "      <td>158</td>\n",
       "      <td>170</td>\n",
       "      <td>165</td>\n",
       "      <td>161</td>\n",
       "      <td>170</td>\n",
       "      <td>163</td>\n",
       "      <td>160</td>\n",
       "      <td>165</td>\n",
       "      <td>163</td>\n",
       "    </tr>\n",
       "    <tr>\n",
       "      <th>peso</th>\n",
       "      <td>64</td>\n",
       "      <td>62</td>\n",
       "      <td>60</td>\n",
       "      <td>63</td>\n",
       "      <td>63</td>\n",
       "      <td>60</td>\n",
       "      <td>66</td>\n",
       "      <td>61</td>\n",
       "      <td>59</td>\n",
       "      <td>59</td>\n",
       "      <td>67</td>\n",
       "      <td>58</td>\n",
       "      <td>63</td>\n",
       "      <td>65</td>\n",
       "      <td>60</td>\n",
       "      <td>68</td>\n",
       "      <td>61</td>\n",
       "      <td>64</td>\n",
       "      <td>62</td>\n",
       "      <td>64</td>\n",
       "    </tr>\n",
       "    <tr>\n",
       "      <th>talla</th>\n",
       "      <td>L</td>\n",
       "      <td>L</td>\n",
       "      <td>M</td>\n",
       "      <td>L</td>\n",
       "      <td>M</td>\n",
       "      <td>M</td>\n",
       "      <td>L</td>\n",
       "      <td>L</td>\n",
       "      <td>M</td>\n",
       "      <td>M</td>\n",
       "      <td>L</td>\n",
       "      <td>M</td>\n",
       "      <td>L</td>\n",
       "      <td>L</td>\n",
       "      <td>M</td>\n",
       "      <td>L</td>\n",
       "      <td>M</td>\n",
       "      <td>L</td>\n",
       "      <td>L</td>\n",
       "      <td>L</td>\n",
       "    </tr>\n",
       "    <tr>\n",
       "      <th>color</th>\n",
       "      <td>1</td>\n",
       "      <td>1</td>\n",
       "      <td>0</td>\n",
       "      <td>1</td>\n",
       "      <td>0</td>\n",
       "      <td>0</td>\n",
       "      <td>1</td>\n",
       "      <td>1</td>\n",
       "      <td>0</td>\n",
       "      <td>0</td>\n",
       "      <td>1</td>\n",
       "      <td>0</td>\n",
       "      <td>1</td>\n",
       "      <td>1</td>\n",
       "      <td>0</td>\n",
       "      <td>1</td>\n",
       "      <td>0</td>\n",
       "      <td>1</td>\n",
       "      <td>1</td>\n",
       "      <td>1</td>\n",
       "    </tr>\n",
       "  </tbody>\n",
       "</table>\n",
       "</div>"
      ],
      "text/plain": [
       "         0    1    2    3    4    5    6    7    8    9    10   11   12   13  \\\n",
       "altura  170  168  163  168  158  160  168  165  160  158  169  158  170  165   \n",
       "peso     64   62   60   63   63   60   66   61   59   59   67   58   63   65   \n",
       "talla     L    L    M    L    M    M    L    L    M    M    L    M    L    L   \n",
       "color     1    1    0    1    0    0    1    1    0    0    1    0    1    1   \n",
       "\n",
       "         14   15   16   17   18   19  \n",
       "altura  161  170  163  160  165  163  \n",
       "peso     60   68   61   64   62   64  \n",
       "talla     M    L    M    L    L    L  \n",
       "color     0    1    0    1    1    1  "
      ]
     },
     "execution_count": 8,
     "metadata": {},
     "output_type": "execute_result"
    }
   ],
   "source": [
    "data.T"
   ]
  },
  {
   "cell_type": "markdown",
   "id": "b50d88c5",
   "metadata": {},
   "source": [
    "## Graficamos nuestros puntos\n"
   ]
  },
  {
   "cell_type": "code",
   "execution_count": 11,
   "id": "5371b761",
   "metadata": {},
   "outputs": [
    {
     "data": {
      "image/png": "[encoded data removed]",
      "text/plain": [
       "<Figure size 432x288 with 1 Axes>"
      ]
     },
     "metadata": {
      "needs_background": "light"
     },
     "output_type": "display_data"
    }
   ],
   "source": [
    "plt.scatter(data.peso, data.altura, c=data.color)\n",
    "\n",
    "\n",
    "# Creando un nuevo punto\n",
    "new = pd.DataFrame([ [162, 64, None, None]])\n",
    "new.columns = ['altura', 'peso', 'talla', 'color']\n",
    "plt.scatter(new.peso, new.altura, color='r')\n",
    "\n",
    "# Creando un nuevo punto\n",
    "new = pd.DataFrame([ [167, 60, None, None]])\n",
    "new.columns = ['altura', 'peso', 'talla', 'color']\n",
    "plt.scatter(new.peso, new.altura, color='g')\n",
    "\n",
    "plt.xlabel('peso')\n",
    "plt.ylabel('altura')b\n",
    "plt.show()\n"
   ]
  },
  {
   "cell_type": "markdown",
   "id": "01696d0a",
   "metadata": {},
   "source": [
    "Puntos amarillos, son los de talla grande\n",
    "\n",
    "Puntos morados, talla pequeña\n",
    "\n",
    "Punto verde es punto que nosotros creamos\n",
    "\n",
    "Punto rojo es punto que nosotros creamos\n",
    "\n",
    "\n",
    "Con estos nuevmos puntos, queremos determinar ¿a qué tallan pertenecen?\n",
    "\n",
    "De manera intuitiva podemos determinar que el punto rojo deberia ser amarillo y el verde podria ser igualmente amarillo.\n",
    "\n",
    "\n",
    "Necesitaremos un algortimo de clasificacion que se encarge de determinar a que clase pertenece."
   ]
  },
  {
   "cell_type": "markdown",
   "id": "f9942303",
   "metadata": {},
   "source": [
    "## Algortimo de clasificacion: K-vecinos\n",
    "\n",
    "Este algortimo se encarga se calcular las distancias euclidianas hacia a cada uno de los puntos y el marcador que nos indicara a cual pertenece sera las distancias más cortas de una cierta cantidad $k$ de vecinos."
   ]
  },
  {
   "cell_type": "code",
   "execution_count": null,
   "id": "32a6ee79",
   "metadata": {},
   "outputs": [],
   "source": [
    "# En este momento no lo implementaresmo, será más adelante,\n",
    "# solo explica la idea del algortimo para ver como clasificar\n",
    "# esos puntos"
   ]
  },
  {
   "cell_type": "markdown",
   "id": "f2bef6f5",
   "metadata": {},
   "source": [
    "La idea es que si quitamos una columnas, solo tiene dos opciones quitar peso o altura, si quitamos peso, vemos como se evalua nuestro algortimo de k-vecinos con solo la columna de la altura, vemos clasificaria esos dos puntos, ahora si quitamos la columna de la altura, probamos nuevamente nuestro algoritmo y vemos como clasificaria esos dos puntos con solo la columna de peso."
   ]
  },
  {
   "cell_type": "markdown",
   "id": "59c104ef",
   "metadata": {},
   "source": [
    "# Ejemplo 2\n",
    "\n",
    "Lo ahoremos ahora con un conjunto más interesante, que tiene mucha más dimensiones."
   ]
  },
  {
   "cell_type": "markdown",
   "id": "ec060f76",
   "metadata": {},
   "source": [
    "### Importacion de librerias"
   ]
  },
  {
   "cell_type": "code",
   "execution_count": 14,
   "id": "515874ce",
   "metadata": {},
   "outputs": [],
   "source": [
    "# Ejemplo de la implementacion SBS\n",
    "\n",
    "import numpy as np\n",
    "import matplotlib.pyplot as plt\n",
    "import pandas as pd"
   ]
  },
  {
   "cell_type": "markdown",
   "id": "b5130a72",
   "metadata": {},
   "source": [
    "### Cargando nuestro dataset"
   ]
  },
  {
   "cell_type": "code",
   "execution_count": 13,
   "id": "aae24c85",
   "metadata": {},
   "outputs": [
    {
     "data": {
      "text/html": [
       "<div>\n",
       "<style scoped>\n",
       "    .dataframe tbody tr th:only-of-type {\n",
       "        vertical-align: middle;\n",
       "    }\n",
       "\n",
       "    .dataframe tbody tr th {\n",
       "        vertical-align: top;\n",
       "    }\n",
       "\n",
       "    .dataframe thead th {\n",
       "        text-align: right;\n",
       "    }\n",
       "</style>\n",
       "<table border=\"1\" class=\"dataframe\">\n",
       "  <thead>\n",
       "    <tr style=\"text-align: right;\">\n",
       "      <th></th>\n",
       "      <th>Class</th>\n",
       "      <th>Alcohol</th>\n",
       "      <th>Malic acid</th>\n",
       "      <th>Ash</th>\n",
       "      <th>Alcalinity of ash</th>\n",
       "      <th>Magnesium</th>\n",
       "      <th>Total phenols</th>\n",
       "      <th>Flavanoids</th>\n",
       "      <th>Nonflavanoid phenols</th>\n",
       "      <th>Proanthocyanins</th>\n",
       "      <th>Color intensity</th>\n",
       "      <th>Hue</th>\n",
       "      <th>OD280/OD315 of diluted wines</th>\n",
       "      <th>Proline</th>\n",
       "    </tr>\n",
       "  </thead>\n",
       "  <tbody>\n",
       "    <tr>\n",
       "      <th>173</th>\n",
       "      <td>3</td>\n",
       "      <td>13.71</td>\n",
       "      <td>5.65</td>\n",
       "      <td>2.45</td>\n",
       "      <td>20.5</td>\n",
       "      <td>95</td>\n",
       "      <td>1.68</td>\n",
       "      <td>0.61</td>\n",
       "      <td>0.52</td>\n",
       "      <td>1.06</td>\n",
       "      <td>7.7</td>\n",
       "      <td>0.64</td>\n",
       "      <td>1.74</td>\n",
       "      <td>740</td>\n",
       "    </tr>\n",
       "    <tr>\n",
       "      <th>174</th>\n",
       "      <td>3</td>\n",
       "      <td>13.40</td>\n",
       "      <td>3.91</td>\n",
       "      <td>2.48</td>\n",
       "      <td>23.0</td>\n",
       "      <td>102</td>\n",
       "      <td>1.80</td>\n",
       "      <td>0.75</td>\n",
       "      <td>0.43</td>\n",
       "      <td>1.41</td>\n",
       "      <td>7.3</td>\n",
       "      <td>0.70</td>\n",
       "      <td>1.56</td>\n",
       "      <td>750</td>\n",
       "    </tr>\n",
       "    <tr>\n",
       "      <th>175</th>\n",
       "      <td>3</td>\n",
       "      <td>13.27</td>\n",
       "      <td>4.28</td>\n",
       "      <td>2.26</td>\n",
       "      <td>20.0</td>\n",
       "      <td>120</td>\n",
       "      <td>1.59</td>\n",
       "      <td>0.69</td>\n",
       "      <td>0.43</td>\n",
       "      <td>1.35</td>\n",
       "      <td>10.2</td>\n",
       "      <td>0.59</td>\n",
       "      <td>1.56</td>\n",
       "      <td>835</td>\n",
       "    </tr>\n",
       "    <tr>\n",
       "      <th>176</th>\n",
       "      <td>3</td>\n",
       "      <td>13.17</td>\n",
       "      <td>2.59</td>\n",
       "      <td>2.37</td>\n",
       "      <td>20.0</td>\n",
       "      <td>120</td>\n",
       "      <td>1.65</td>\n",
       "      <td>0.68</td>\n",
       "      <td>0.53</td>\n",
       "      <td>1.46</td>\n",
       "      <td>9.3</td>\n",
       "      <td>0.60</td>\n",
       "      <td>1.62</td>\n",
       "      <td>840</td>\n",
       "    </tr>\n",
       "    <tr>\n",
       "      <th>177</th>\n",
       "      <td>3</td>\n",
       "      <td>14.13</td>\n",
       "      <td>4.10</td>\n",
       "      <td>2.74</td>\n",
       "      <td>24.5</td>\n",
       "      <td>96</td>\n",
       "      <td>2.05</td>\n",
       "      <td>0.76</td>\n",
       "      <td>0.56</td>\n",
       "      <td>1.35</td>\n",
       "      <td>9.2</td>\n",
       "      <td>0.61</td>\n",
       "      <td>1.60</td>\n",
       "      <td>560</td>\n",
       "    </tr>\n",
       "  </tbody>\n",
       "</table>\n",
       "</div>"
      ],
      "text/plain": [
       "     Class  Alcohol  Malic acid   Ash  Alcalinity of ash  Magnesium  \\\n",
       "173      3    13.71        5.65  2.45               20.5         95   \n",
       "174      3    13.40        3.91  2.48               23.0        102   \n",
       "175      3    13.27        4.28  2.26               20.0        120   \n",
       "176      3    13.17        2.59  2.37               20.0        120   \n",
       "177      3    14.13        4.10  2.74               24.5         96   \n",
       "\n",
       "     Total phenols  Flavanoids  Nonflavanoid phenols  Proanthocyanins  \\\n",
       "173           1.68        0.61                  0.52             1.06   \n",
       "174           1.80        0.75                  0.43             1.41   \n",
       "175           1.59        0.69                  0.43             1.35   \n",
       "176           1.65        0.68                  0.53             1.46   \n",
       "177           2.05        0.76                  0.56             1.35   \n",
       "\n",
       "     Color intensity   Hue  OD280/OD315 of diluted wines  Proline  \n",
       "173              7.7  0.64                          1.74      740  \n",
       "174              7.3  0.70                          1.56      750  \n",
       "175             10.2  0.59                          1.56      835  \n",
       "176              9.3  0.60                          1.62      840  \n",
       "177              9.2  0.61                          1.60      560  "
      ]
     },
     "execution_count": 13,
     "metadata": {},
     "output_type": "execute_result"
    }
   ],
   "source": [
    "# df_wine = pd.read_csv('https:\\\\archive.ics.uci.edu/ml/machine-learning-databases/wine/')\n",
    "df_wine = pd.read_csv('https://archive.ics.uci.edu/ml/machine-learning-databases/wine/wine.data',\n",
    "                     header=None)\n",
    "# Total de 13 caracteristicas\n",
    "df_wine.columns = ['Class', 'Alcohol', 'Malic acid', 'Ash', 'Alcalinity of ash', 'Magnesium',\n",
    "                   'Total phenols', 'Flavanoids', 'Nonflavanoid phenols', 'Proanthocyanins', \n",
    "                   'Color intensity', 'Hue', 'OD280/OD315 of diluted wines', 'Proline']\n",
    "df_wine.tail()"
   ]
  },
  {
   "cell_type": "markdown",
   "id": "4debcfb4",
   "metadata": {},
   "source": [
    "##  Preprocesamiento de datos"
   ]
  },
  {
   "cell_type": "code",
   "execution_count": 15,
   "id": "c4f20028",
   "metadata": {},
   "outputs": [],
   "source": [
    "from sklearn.model_selection import train_test_split\n",
    "\n",
    "# Datos de entrenamiento y prueba\n",
    "X, y = df_wine.iloc[:,1:].values, df_wine.iloc[:,0].values\n",
    "X_train, X_test, y_train, y_test = train_test_split(X, y, test_size=0.3)\n",
    "\n",
    "# Estandarizamos \n",
    "from sklearn.preprocessing import StandardScaler\n",
    "sc = StandardScaler()\n",
    "X_train_std = sc.fit_transform(X_train)\n",
    "X_test_std = sc.transform(X_test)"
   ]
  },
  {
   "cell_type": "code",
   "execution_count": null,
   "id": "b45b7c8a",
   "metadata": {},
   "outputs": [],
   "source": [
    "import numpy as np\n",
    "# La utilizaremos precisamente combinations por la idea\n",
    "# de ir moviendonos, quitando una columna y a ver  que sucede\n",
    "# una y cada una de ellas y despues tomar la que nos regrese el\n",
    "# mejor resultado, asi para todas las combinaciones posibles.\n",
    "from itertools import combinations\n",
    "from sklearn.base import clone\n",
    "from sklearn.metrics import accuracy_score"
   ]
  },
  {
   "cell_type": "markdown",
   "id": "acdc380c",
   "metadata": {},
   "source": [
    "### Reduccion de datos\n"
   ]
  },
  {
   "cell_type": "code",
   "execution_count": null,
   "id": "1b5734d9",
   "metadata": {},
   "outputs": [],
   "source": [
    "\n",
    "class SBS():\n",
    "    def __init__(self, estimador, k_features, scoring=accurancy_score, ...)\n",
    "\n",
    "    # Funcion ajuste\n",
    "    def fit(self, X, y):\n",
    "        pass    \n",
    "    # Funcion para transformar\n",
    "    def transform(self, X):\n",
    "        pass\n",
    "    # Una funcion que nos diga que tan bien o mal se comporta nuestro algortimo\n",
    "    # comparado con la iteracion anterior\n",
    "    def _calc_score(self, X_train, y_train, X_test, y_test, indices):\n",
    "        pass"
   ]
  },
  {
   "cell_type": "markdown",
   "id": "2246fdb5",
   "metadata": {},
   "source": [
    "### Usando el Modelo K-Vecinos"
   ]
  },
  {
   "cell_type": "code",
   "execution_count": null,
   "id": "3c4bb323",
   "metadata": {},
   "outputs": [],
   "source": [
    "import matplotlib.pyploy as plt\n",
    "from sklearn.neighbors import KNeighborsClassifier\n",
    "\n",
    "knn = KNeighborsClassifier(n_neighbors=5)\n",
    "\n",
    "sbs = SBS(knn, k_feactures=1)\n",
    "sbs.fit(X_train_std, y_train)"
   ]
  },
  {
   "cell_type": "markdown",
   "id": "9a2fa806",
   "metadata": {},
   "source": [
    "### Graficación"
   ]
  },
  {
   "cell_type": "code",
   "execution_count": null,
   "id": "106f2e8c",
   "metadata": {},
   "outputs": [],
   "source": [
    "k_feat = [len(k) for k in sbs.subsets_]\n"
   ]
  },
  {
   "cell_type": "markdown",
   "id": "92e3a9e8",
   "metadata": {},
   "source": [
    "Hacer la implementacion sbs y regresar al video por min 1:02 aprox"
   ]
  }
 ],
 "metadata": {
  "kernelspec": {
   "display_name": "Python 3",
   "language": "python",
   "name": "python3"
  },
  "language_info": {
   "codemirror_mode": {
    "name": "ipython",
    "version": 3
   },
   "file_extension": ".py",
   "mimetype": "text/x-python",
   "name": "python",
   "nbconvert_exporter": "python",
   "pygments_lexer": "ipython3",
   "version": "3.8.8"
  }
 },
 "nbformat": 4,
 "nbformat_minor": 5
}
