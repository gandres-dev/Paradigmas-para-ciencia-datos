{
  "nbformat": 4,
  "nbformat_minor": 0,
  "metadata": {
    "colab": {
      "name": "Identificador spam.ipynb",
      "provenance": [],
      "collapsed_sections": []
    },
    "kernelspec": {
      "name": "python3",
      "display_name": "Python 3"
    },
    "language_info": {
      "name": "python"
    }
  },
  "cells": [
    {
      "cell_type": "markdown",
      "metadata": {
        "id": "fCphOJaxOird"
      },
      "source": [
        "# Construcción de un detector de spam\n",
        "Construcción de un detector de spam en textos cortos (SMS) en inglés:\n",
        "Se han realizado estudios y se ha determinado que los mensajes de spam contienen palabras como free, win, winner, cash y prize; además suelen incluir letras mayúsculas y signos de admiración.\n",
        "Este es un problema de clasificación supervisada binaria, dado que los mensajes serán identificados como “spam”o“no spam” y los datos de entrenamiento están etiquetados, se encuentran en\n",
        "https://archive.ics.uci.edu/ml/datasets/SMS+Spam+Collection.\n",
        "Como el conjunto de datos es grande (5572 filas) y el modelo sólo acepta valores numéricos\n",
        "como entrada, es necesario hacer un preprocesamiento; utilizaremos el concepto de Bag of Words\n",
        "(BoW bolsa de palabras). BoW es un término usado para especificar problemas que tienen datos\n",
        "de texto en los que se requiere obtener la frecuencia de cada palabra en el texto tratando cada\n",
        "palabra como un elemento independiente sin importar el orden.\n",
        "Para esto puede usarse la clase CountVectorizer de sklearn, esta clase realiza lo siguiente:\n",
        "\n",
        "- Crea tokens individuales para cada palabra asignando un ID entero para cada token\n",
        "- Cuenta las ocurrencias de cada token\n",
        "- Convierte todas las palabras en minúsculas para no tratar la misma palabra como dos\n",
        "distintas si están escritas con alguna letra mayúscula\n",
        "- Ignora los signos de puntuación para no tratar como distintas aquellas palabras que incluyan\n",
        "alguno de estos símbolos\n",
        "- Un parámetro importante es stop_words que sirve para no tomar en cuenta las palabras\n",
        "más comúnes del idioma especificado; p.e. si se indica english se ignoraran entradas como\n",
        "“am”, “and”, “the”, etc.\n",
        "Como ejemplo sencillo, se consideran cuatro documentos y se aplica CountVectorizer :"
      ]
    },
    {
      "cell_type": "code",
      "metadata": {
        "id": "nC7LUoOWD8Ih"
      },
      "source": [
        "documents = ['Hello, how are you!',\n",
        "             'Win money, win from home.',\n",
        "             'Call me now.',\n",
        "             'Hello, Call hello you tomorrow?']                                       "
      ],
      "execution_count": 22,
      "outputs": []
    },
    {
      "cell_type": "code",
      "metadata": {
        "colab": {
          "base_uri": "https://localhost:8080/"
        },
        "id": "HtN4A1qMPuf7",
        "outputId": "d94fb118-f76a-4cd6-a0dd-e4a6dbe5c5c0"
      },
      "source": [
        "from sklearn.feature_extraction.text import CountVectorizer\n",
        "count = CountVectorizer()\n",
        "print(count)"
      ],
      "execution_count": 23,
      "outputs": [
        {
          "output_type": "stream",
          "name": "stdout",
          "text": [
            "CountVectorizer(analyzer='word', binary=False, decode_error='strict',\n",
            "                dtype=<class 'numpy.int64'>, encoding='utf-8', input='content',\n",
            "                lowercase=True, max_df=1.0, max_features=None, min_df=1,\n",
            "                ngram_range=(1, 1), preprocessor=None, stop_words=None,\n",
            "                strip_accents=None, token_pattern='(?u)\\\\b\\\\w\\\\w+\\\\b',\n",
            "                tokenizer=None, vocabulary=None)\n"
          ]
        }
      ]
    },
    {
      "cell_type": "code",
      "metadata": {
        "id": "Iq1EjQGeEja-",
        "colab": {
          "base_uri": "https://localhost:8080/"
        },
        "outputId": "341e45fa-4329-466a-8271-cf6d30bc723b"
      },
      "source": [
        "count.fit(documents)\n",
        "names = count.get_feature_names()\n",
        "names"
      ],
      "execution_count": 24,
      "outputs": [
        {
          "output_type": "execute_result",
          "data": {
            "text/plain": [
              "['are',\n",
              " 'call',\n",
              " 'from',\n",
              " 'hello',\n",
              " 'home',\n",
              " 'how',\n",
              " 'me',\n",
              " 'money',\n",
              " 'now',\n",
              " 'tomorrow',\n",
              " 'win',\n",
              " 'you']"
            ]
          },
          "metadata": {},
          "execution_count": 24
        }
      ]
    },
    {
      "cell_type": "markdown",
      "metadata": {
        "id": "BNHsne9NR2ne"
      },
      "source": [
        "Son todas las palabras únicas del texto"
      ]
    },
    {
      "cell_type": "code",
      "metadata": {
        "id": "YSJwl4pnEujv",
        "colab": {
          "base_uri": "https://localhost:8080/"
        },
        "outputId": "6c42921a-d038-4175-a912-17d9d5a9033a"
      },
      "source": [
        "count.transform(documents).toarray()"
      ],
      "execution_count": 25,
      "outputs": [
        {
          "output_type": "execute_result",
          "data": {
            "text/plain": [
              "array([[1, 0, 0, 1, 0, 1, 0, 0, 0, 0, 0, 1],\n",
              "       [0, 0, 1, 0, 1, 0, 0, 1, 0, 0, 2, 0],\n",
              "       [0, 1, 0, 0, 0, 0, 1, 0, 1, 0, 0, 0],\n",
              "       [0, 1, 0, 2, 0, 0, 0, 0, 0, 1, 0, 1]])"
            ]
          },
          "metadata": {},
          "execution_count": 25
        }
      ]
    },
    {
      "cell_type": "markdown",
      "metadata": {
        "id": "aT11TGqrTYMO"
      },
      "source": [
        "Indica las ocurrencias de cada palabra"
      ]
    },
    {
      "cell_type": "code",
      "metadata": {
        "id": "j-1SggBpTJyu"
      },
      "source": [
        "import numpy as np\n",
        "import pandas as pd\n",
        "import matplotlib.pyplot as plt"
      ],
      "execution_count": 26,
      "outputs": []
    },
    {
      "cell_type": "code",
      "metadata": {
        "colab": {
          "base_uri": "https://localhost:8080/",
          "height": 143
        },
        "id": "J9HLyd2RTJ4G",
        "outputId": "05547d8f-f59b-42ac-922c-5bc6824fd74f"
      },
      "source": [
        "df = pd.read_csv('https://bit.ly/2kCy3CN',\n",
        "                 sep='\\t',\n",
        "                 names=['label', 'sms_message'])\n",
        "df.head(3)"
      ],
      "execution_count": 27,
      "outputs": [
        {
          "output_type": "execute_result",
          "data": {
            "text/html": [
              "<div>\n",
              "<style scoped>\n",
              "    .dataframe tbody tr th:only-of-type {\n",
              "        vertical-align: middle;\n",
              "    }\n",
              "\n",
              "    .dataframe tbody tr th {\n",
              "        vertical-align: top;\n",
              "    }\n",
              "\n",
              "    .dataframe thead th {\n",
              "        text-align: right;\n",
              "    }\n",
              "</style>\n",
              "<table border=\"1\" class=\"dataframe\">\n",
              "  <thead>\n",
              "    <tr style=\"text-align: right;\">\n",
              "      <th></th>\n",
              "      <th>label</th>\n",
              "      <th>sms_message</th>\n",
              "    </tr>\n",
              "  </thead>\n",
              "  <tbody>\n",
              "    <tr>\n",
              "      <th>0</th>\n",
              "      <td>ham</td>\n",
              "      <td>Go until jurong point, crazy.. Available only ...</td>\n",
              "    </tr>\n",
              "    <tr>\n",
              "      <th>1</th>\n",
              "      <td>ham</td>\n",
              "      <td>Ok lar... Joking wif u oni...</td>\n",
              "    </tr>\n",
              "    <tr>\n",
              "      <th>2</th>\n",
              "      <td>spam</td>\n",
              "      <td>Free entry in 2 a wkly comp to win FA Cup fina...</td>\n",
              "    </tr>\n",
              "  </tbody>\n",
              "</table>\n",
              "</div>"
            ],
            "text/plain": [
              "  label                                        sms_message\n",
              "0   ham  Go until jurong point, crazy.. Available only ...\n",
              "1   ham                      Ok lar... Joking wif u oni...\n",
              "2  spam  Free entry in 2 a wkly comp to win FA Cup fina..."
            ]
          },
          "metadata": {},
          "execution_count": 27
        }
      ]
    },
    {
      "cell_type": "markdown",
      "metadata": {
        "id": "up7L4-PGTJ8d"
      },
      "source": [
        "Etiquetas\n",
        "ham - mensaje normal\n",
        "spam - span"
      ]
    },
    {
      "cell_type": "code",
      "metadata": {
        "colab": {
          "base_uri": "https://localhost:8080/",
          "height": 143
        },
        "id": "e7e8rd8zTKAt",
        "outputId": "95ee2f5a-5a76-4dfb-cfd8-17c95b809a11"
      },
      "source": [
        "# Preprocesamiento\n",
        "# Cambiar a etiquetas de tipo númerico\n",
        "\n",
        "df.label = df.label.map({'ham':0, 'spam':1})\n",
        "df.head(3)"
      ],
      "execution_count": 28,
      "outputs": [
        {
          "output_type": "execute_result",
          "data": {
            "text/html": [
              "<div>\n",
              "<style scoped>\n",
              "    .dataframe tbody tr th:only-of-type {\n",
              "        vertical-align: middle;\n",
              "    }\n",
              "\n",
              "    .dataframe tbody tr th {\n",
              "        vertical-align: top;\n",
              "    }\n",
              "\n",
              "    .dataframe thead th {\n",
              "        text-align: right;\n",
              "    }\n",
              "</style>\n",
              "<table border=\"1\" class=\"dataframe\">\n",
              "  <thead>\n",
              "    <tr style=\"text-align: right;\">\n",
              "      <th></th>\n",
              "      <th>label</th>\n",
              "      <th>sms_message</th>\n",
              "    </tr>\n",
              "  </thead>\n",
              "  <tbody>\n",
              "    <tr>\n",
              "      <th>0</th>\n",
              "      <td>0</td>\n",
              "      <td>Go until jurong point, crazy.. Available only ...</td>\n",
              "    </tr>\n",
              "    <tr>\n",
              "      <th>1</th>\n",
              "      <td>0</td>\n",
              "      <td>Ok lar... Joking wif u oni...</td>\n",
              "    </tr>\n",
              "    <tr>\n",
              "      <th>2</th>\n",
              "      <td>1</td>\n",
              "      <td>Free entry in 2 a wkly comp to win FA Cup fina...</td>\n",
              "    </tr>\n",
              "  </tbody>\n",
              "</table>\n",
              "</div>"
            ],
            "text/plain": [
              "   label                                        sms_message\n",
              "0      0  Go until jurong point, crazy.. Available only ...\n",
              "1      0                      Ok lar... Joking wif u oni...\n",
              "2      1  Free entry in 2 a wkly comp to win FA Cup fina..."
            ]
          },
          "metadata": {},
          "execution_count": 28
        }
      ]
    },
    {
      "cell_type": "markdown",
      "metadata": {
        "id": "WqsfAprCUzzW"
      },
      "source": [
        "**Cuando tenemos conjuntos etiquetado, podemos dividir en conjunto de entramientos y prueba**"
      ]
    },
    {
      "cell_type": "code",
      "metadata": {
        "colab": {
          "base_uri": "https://localhost:8080/"
        },
        "id": "o-boo3QZTKFt",
        "outputId": "c9b65659-f5e0-49ef-b14e-5288ec899a93"
      },
      "source": [
        "from sklearn.model_selection import train_test_split\n",
        "\n",
        "X_train, X_test, y_train, y_test = train_test_split(df.sms_message, df.label,\n",
        "                                                    random_state=1)\n",
        "print('Completo: ', df.shape[0])\n",
        "print('Entrenamiento: ', X_train.shape[0])\n",
        "print('Prueba: ', X_test.shape[0])"
      ],
      "execution_count": 29,
      "outputs": [
        {
          "output_type": "stream",
          "name": "stdout",
          "text": [
            "Completo:  5572\n",
            "Entrenamiento:  4179\n",
            "Prueba:  1393\n"
          ]
        }
      ]
    },
    {
      "cell_type": "code",
      "metadata": {
        "id": "6Onxh-LYUqv_"
      },
      "source": [
        "from sklearn.feature_extraction.text import CountVectorizer\n",
        "\n",
        "count_vectorize = CountVectorizer()\n",
        "X_train_count = count_vectorize.fit_transform(X_train) \n",
        "X_test_count = count_vectorize.transform(X_test) "
      ],
      "execution_count": 30,
      "outputs": []
    },
    {
      "cell_type": "markdown",
      "metadata": {
        "id": "O6BHgoThWWFV"
      },
      "source": [
        "fit- es ajusta, es aplicar el algoritmo, en ese caso, sacar la cuenta de ocucurrencia de cada palabra\n",
        "\n",
        "fit_transform - obtiene las cuentas (frecuencias) y devuelve el el valor (aplica al mismo objeto)\n",
        "\n",
        "transfom- una vez entrenado tu modelo, se usa transform para aplicarlo "
      ]
    },
    {
      "cell_type": "code",
      "metadata": {
        "colab": {
          "base_uri": "https://localhost:8080/"
        },
        "id": "KUI4evAiUq0n",
        "outputId": "0dadeaf2-e3b4-428a-aef5-d86941f2fbc1"
      },
      "source": [
        "from sklearn.naive_bayes import MultinomialNB\n",
        "\n",
        "nb = MultinomialNB()\n",
        "# Obtenemos las probabilidades\n",
        "nb.fit(X_train_count, y_train)"
      ],
      "execution_count": 31,
      "outputs": [
        {
          "output_type": "execute_result",
          "data": {
            "text/plain": [
              "MultinomialNB(alpha=1.0, class_prior=None, fit_prior=True)"
            ]
          },
          "metadata": {},
          "execution_count": 31
        }
      ]
    },
    {
      "cell_type": "code",
      "metadata": {
        "id": "OvGCjA5tUq4N"
      },
      "source": [
        "y_hat = nb.predict(X_test_count)"
      ],
      "execution_count": 32,
      "outputs": []
    },
    {
      "cell_type": "code",
      "metadata": {
        "colab": {
          "base_uri": "https://localhost:8080/"
        },
        "id": "k__JV0QQYLCG",
        "outputId": "5023d692-a690-4d33-96ba-f378065c3cd5"
      },
      "source": [
        "from sklearn.metrics import accuracy_score, precision_score, recall_score, f1_score\n",
        "\n",
        "print('Accuracy: ', accuracy_score(y_test, y_hat))\n",
        "print('Precision: ', precision_score(y_test, y_hat))\n",
        "print('Recall: ', recall_score(y_test, y_hat))\n",
        "print('F1: ', f1_score(y_test, y_hat))"
      ],
      "execution_count": 33,
      "outputs": [
        {
          "output_type": "stream",
          "name": "stdout",
          "text": [
            "Accuracy:  0.9885139985642498\n",
            "Precision:  0.9720670391061452\n",
            "Recall:  0.9405405405405406\n",
            "F1:  0.9560439560439562\n"
          ]
        }
      ]
    },
    {
      "cell_type": "code",
      "metadata": {
        "id": "M0E7kTRwYLIO"
      },
      "source": [
        ""
      ],
      "execution_count": 33,
      "outputs": []
    },
    {
      "cell_type": "code",
      "metadata": {
        "id": "3L6ZF3WqYLN-"
      },
      "source": [
        ""
      ],
      "execution_count": 33,
      "outputs": []
    },
    {
      "cell_type": "code",
      "metadata": {
        "id": "DyqU0WVoUq8v"
      },
      "source": [
        ""
      ],
      "execution_count": 33,
      "outputs": []
    },
    {
      "cell_type": "code",
      "metadata": {
        "id": "y1fT_vxaTKJ2"
      },
      "source": [
        ""
      ],
      "execution_count": 33,
      "outputs": []
    }
  ]
}