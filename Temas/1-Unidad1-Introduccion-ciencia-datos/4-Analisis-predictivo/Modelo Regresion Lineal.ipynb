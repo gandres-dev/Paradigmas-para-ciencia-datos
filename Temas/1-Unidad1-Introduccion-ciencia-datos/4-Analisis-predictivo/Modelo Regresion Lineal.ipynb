{
 "cells": [
  {
   "cell_type": "markdown",
   "id": "5d2ab64e",
   "metadata": {},
   "source": [
    "# Modelo Regresion Lineal"
   ]
  },
  {
   "cell_type": "markdown",
   "id": "07d2873b",
   "metadata": {},
   "source": [
    "## Lecturas previas\n",
    "- https://youtu.be/kqS1iprWCNg\n",
    "- https://youtu.be/k964_uNn3l0\n",
    "- https://youtu.be/SZyH6YkQqIk\n",
    "\n",
    "Ideas matematicas\n",
    "- https://youtu.be/8wpUCagUfwc\n",
    "- \n",
    "- https://es.khanacademy.org/math/statistics-probability/describing-relationships-quantitative-data/regression-library/a/introduction-to-residuals\n",
    "- https://es.khanacademy.org/math/statistics-probability/describing-relationships-quantitative-data  (path map)\n",
    "\n",
    "Aproxamacion minimos cuadrados\n",
    "- https://es.khanacademy.org/math/linear-algebra/alternate-bases/orthogonal-projections/v/linear-algebra-least-squares-approximation\n",
    "\n",
    "\n",
    "- https://es.khanacademy.org/math/ap-statistics/bivariate-data-ap/least-squares-regression/v/regression-residual-intro\n",
    "\n",
    "- https://es.khanacademy.org/math/ap-statistics/bivariate-data-ap/assessing-fit-least-squares-regression/v/residual-plots\n"
   ]
  },
  {
   "cell_type": "code",
   "execution_count": 1,
   "id": "799c832f",
   "metadata": {},
   "outputs": [],
   "source": [
    "import matplotlib.pyplot as plt\n",
    "import numpy as np"
   ]
  },
  {
   "cell_type": "code",
   "execution_count": 2,
   "id": "ca335976",
   "metadata": {},
   "outputs": [
    {
     "data": {
      "text/plain": [
       "<matplotlib.collections.PathCollection at 0x7f88340844f0>"
      ]
     },
     "execution_count": 2,
     "metadata": {},
     "output_type": "execute_result"
    },
    {
     "data": {
      "image/png": "[encoded data removed]",
      "text/plain": [
       "<Figure size 432x288 with 1 Axes>"
      ]
     },
     "metadata": {
      "needs_background": "light"
     },
     "output_type": "display_data"
    }
   ],
   "source": [
    "# Escribiremos unos datos ficticios para el ejemplo\n",
    "x = np.array([0.2,0.6,0.6,1.5,1.8])\n",
    "y = np.array([0.1,0.4,0.9,1.2,1.7])\n",
    "plt.scatter(x, y)"
   ]
  },
  {
   "cell_type": "markdown",
   "id": "3f30fac0",
   "metadata": {},
   "source": [
    "Vemos si hay una dependencia lineal"
   ]
  },
  {
   "cell_type": "code",
   "execution_count": 4,
   "id": "af866572",
   "metadata": {},
   "outputs": [],
   "source": [
    "X_train, y_train = np.array([0.6, 1.8]), np.array([0.4, 1.7])\n",
    "X_test, y_test = np.array([0.2, 0.6, 1.5]), np.array([0.1, 0.9, 1.2])"
   ]
  },
  {
   "cell_type": "code",
   "execution_count": 64,
   "id": "9269b205",
   "metadata": {},
   "outputs": [
    {
     "data": {
      "text/plain": [
       "LinearRegression()"
      ]
     },
     "execution_count": 64,
     "metadata": {},
     "output_type": "execute_result"
    }
   ],
   "source": [
    "from sklearn.linear_model import LinearRegression\n",
    "\n",
    "# reshape ese igual resize, cambiamos la dimension\n",
    "# Es los mismos datos , solo ahora es (2,1)\n",
    "X_train.resize(len(X_train), 1)\n",
    "X_train.resize(len(y_train), 1)\n",
    "\n",
    "modelo = LinearRegression()\n",
    "modelo.fit(X_train, y_train)"
   ]
  },
  {
   "cell_type": "code",
   "execution_count": 66,
   "id": "b0e9b297",
   "metadata": {},
   "outputs": [
    {
     "name": "stdout",
     "output_type": "stream",
     "text": [
      "y = -0.2500 + 1.0833x\n"
     ]
    }
   ],
   "source": [
    "coefs = modelo.coef_[0]\n",
    "intercept = modelo.intercept_\n",
    "print(\"y = {:.4f} + {:.4f}x\".format(intercept, coefs))"
   ]
  },
  {
   "cell_type": "code",
   "execution_count": 15,
   "id": "b96df3eb",
   "metadata": {},
   "outputs": [
    {
     "data": {
      "text/plain": [
       "[<matplotlib.lines.Line2D at 0x7f881d435460>]"
      ]
     },
     "execution_count": 15,
     "metadata": {},
     "output_type": "execute_result"
    },
    {
     "data": {
      "image/png": "[encoded data removed]",
      "text/plain": [
       "<Figure size 432x288 with 1 Axes>"
      ]
     },
     "metadata": {
      "needs_background": "light"
     },
     "output_type": "display_data"
    }
   ],
   "source": [
    "xx = np.linspace(0.0, 2, 2)\n",
    "yy = modelo.predict(xx.reshape(len(xx), 1)) # Es necesario agregar un 1 \n",
    "\n",
    "plt.scatter(x, y)\n",
    "plt.plot(xx, yy, c='r')"
   ]
  },
  {
   "cell_type": "code",
   "execution_count": 14,
   "id": "85bff97a",
   "metadata": {},
   "outputs": [
    {
     "data": {
      "text/plain": [
       "0.09946759259259248"
      ]
     },
     "execution_count": 14,
     "metadata": {},
     "output_type": "execute_result"
    }
   ],
   "source": [
    "from sklearn.metrics import mean_squared_error as mse\n",
    "msel = mse(y_test, modelo.predict(X_test.reshape(len(X_test), 1)))\n",
    "msel"
   ]
  },
  {
   "cell_type": "markdown",
   "id": "7f949cdf",
   "metadata": {},
   "source": [
    "Esta sobreajustado con esos  dos puntos\n",
    "\n",
    "** Regularizacion** \n",
    "\n",
    "Ridge\n",
    "\n",
    "Establece una penalizacion, cada vez que encuentra un erro al hacer las pruebas le da una penalizacion para encontrar una mejor solucion."
   ]
  },
  {
   "cell_type": "code",
   "execution_count": 17,
   "id": "0dbc2d57",
   "metadata": {},
   "outputs": [],
   "source": [
    "from sklearn.linear_model import Ridge\n",
    "modelo2 = Ridge(alpha=0.3)\n",
    "modelo2.fit(X_train, y_train)\n",
    "\n",
    "# Monstrar el modelo\n",
    "coefs = modelo2.coef_[0]\n"
   ]
  },
  {
   "cell_type": "code",
   "execution_count": 23,
   "id": "dca1f5a5",
   "metadata": {},
   "outputs": [
    {
     "ename": "IndexError",
     "evalue": "invalid index to scalar variable.",
     "output_type": "error",
     "traceback": [
      "\u001b[0;31m---------------------------------------------------------------------------\u001b[0m",
      "\u001b[0;31mIndexError\u001b[0m                                Traceback (most recent call last)",
      "\u001b[0;32m<ipython-input-23-141a740b78d6>\u001b[0m in \u001b[0;36m<module>\u001b[0;34m\u001b[0m\n\u001b[0;32m----> 1\u001b[0;31m \u001b[0mintercept\u001b[0m \u001b[0;34m=\u001b[0m \u001b[0mmodelo2\u001b[0m\u001b[0;34m.\u001b[0m\u001b[0mintercept_\u001b[0m\u001b[0;34m[\u001b[0m\u001b[0;36m0\u001b[0m\u001b[0;34m]\u001b[0m\u001b[0;34m\u001b[0m\u001b[0;34m\u001b[0m\u001b[0m\n\u001b[0m\u001b[1;32m      2\u001b[0m \u001b[0mprint\u001b[0m\u001b[0;34m(\u001b[0m\u001b[0;34m\"y = (:4.f) + (:.4f)x\"\u001b[0m\u001b[0;34m.\u001b[0m\u001b[0mformat\u001b[0m\u001b[0;34m(\u001b[0m\u001b[0mintercept\u001b[0m\u001b[0;34m,\u001b[0m \u001b[0mcoefs\u001b[0m\u001b[0;34m[\u001b[0m\u001b[0;36m0\u001b[0m\u001b[0;34m]\u001b[0m\u001b[0;34m)\u001b[0m\u001b[0;34m)\u001b[0m\u001b[0;34m\u001b[0m\u001b[0;34m\u001b[0m\u001b[0m\n",
      "\u001b[0;31mIndexError\u001b[0m: invalid index to scalar variable."
     ]
    }
   ],
   "source": [
    "intercept = modelo2.intercept_[0]\n",
    "print(\"y = (:4.f) + (:.4f)x\".format(intercept, coefs[0]))"
   ]
  },
  {
   "cell_type": "code",
   "execution_count": 13,
   "id": "b60534e3",
   "metadata": {},
   "outputs": [
    {
     "data": {
      "text/plain": [
       "[<matplotlib.lines.Line2D at 0x7f881d4619a0>]"
      ]
     },
     "execution_count": 13,
     "metadata": {},
     "output_type": "execute_result"
    },
    {
     "data": {
      "image/png": "[encoded data removed]",
      "text/plain": [
       "<Figure size 432x288 with 1 Axes>"
      ]
     },
     "metadata": {
      "needs_background": "light"
     },
     "output_type": "display_data"
    }
   ],
   "source": [
    "xx = np.linspace(0.0, 2, 2)\n",
    "yy = modelo2.predict(xx.reshape(len(xx), 1)) # Es necesario agregar un 1 \n",
    "\n",
    "plt.scatter(x, y)\n",
    "plt.plot(xx, yy, c='r')"
   ]
  },
  {
   "cell_type": "markdown",
   "id": "418b0929",
   "metadata": {},
   "source": [
    "Evita el sobre ajuste con las datos"
   ]
  },
  {
   "cell_type": "code",
   "execution_count": null,
   "id": "5edc0e20",
   "metadata": {},
   "outputs": [],
   "source": []
  },
  {
   "cell_type": "code",
   "execution_count": null,
   "id": "5208e7aa",
   "metadata": {},
   "outputs": [],
   "source": []
  }
 ],
 "metadata": {
  "kernelspec": {
   "display_name": "Python 3 (ipykernel)",
   "language": "python",
   "name": "python3"
  },
  "language_info": {
   "codemirror_mode": {
    "name": "ipython",
    "version": 3
   },
   "file_extension": ".py",
   "mimetype": "text/x-python",
   "name": "python",
   "nbconvert_exporter": "python",
   "pygments_lexer": "ipython3",
   "version": "3.9.7"
  }
 },
 "nbformat": 4,
 "nbformat_minor": 5
}
