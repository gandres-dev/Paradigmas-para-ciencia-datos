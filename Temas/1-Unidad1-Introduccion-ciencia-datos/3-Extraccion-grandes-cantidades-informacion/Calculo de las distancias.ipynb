{
 "cells": [
  {
   "cell_type": "markdown",
   "id": "239bf22f",
   "metadata": {},
   "source": [
    "# Calculo de las distancias"
   ]
  },
  {
   "cell_type": "code",
   "execution_count": 4,
   "id": "9dda296e",
   "metadata": {},
   "outputs": [],
   "source": [
    "import numpy as np\n",
    "from matplotlib import pyplot as plt\n",
    "plt.style.use('ggplot')\n",
    "plt.rcParams['figure.figsize'] = (12, 6)"
   ]
  },
  {
   "cell_type": "code",
   "execution_count": 10,
   "id": "e2232e4c",
   "metadata": {},
   "outputs": [
    {
     "data": {
      "text/plain": [
       "<matplotlib.collections.PathCollection at 0x7fdf02f3eaf0>"
      ]
     },
     "execution_count": 10,
     "metadata": {},
     "output_type": "execute_result"
    },
    {
     "data": {
      "image/png": "[encoded data removed]",
      "text/plain": [
       "<Figure size 864x432 with 1 Axes>"
      ]
     },
     "metadata": {},
     "output_type": "display_data"
    }
   ],
   "source": [
    "data = np.array([[8,10],[3,10.5],[7,13.5],[5,18],[5,13],[6,9],[9,11],[3,18],[8.5,12],[8,16]])\n",
    "C = np.array([[8,10],[3,10.5]])\n",
    "\n",
    "fig = plt.figure()\n",
    "plt.scatter(C[0][0], C[0][1], marker='*', s=200, c='k')\n",
    "plt.scatter(C[1][0], C[1][1], marker='*', s=200, c='k')\n",
    "plt.scatter(data[:,0], data[:,1])"
   ]
  },
  {
   "cell_type": "code",
   "execution_count": 14,
   "id": "e6818bd2",
   "metadata": {},
   "outputs": [
    {
     "name": "stdout",
     "output_type": "stream",
     "text": [
      "[0. 1. 0. 1. 1. 0. 0. 1. 0. 0.]\n"
     ]
    },
    {
     "data": {
      "text/plain": [
       "[array([0.        , 5.02493781]),\n",
       " array([5.02493781, 0.        ]),\n",
       " array([3.64005494, 5.        ]),\n",
       " array([8.54400375, 7.76208735]),\n",
       " array([4.24264069, 3.20156212]),\n",
       " array([2.23606798, 3.35410197]),\n",
       " array([1.41421356, 6.02079729]),\n",
       " array([9.43398113, 7.5       ]),\n",
       " array([2.06155281, 5.70087713]),\n",
       " array([6.        , 7.43303437])]"
      ]
     },
     "execution_count": 14,
     "metadata": {},
     "output_type": "execute_result"
    }
   ],
   "source": [
    "distances = []\n",
    "clusters = np.zeros(len(data))\n",
    "\n",
    "def dist(a, b, ax=1):\n",
    "    return np.linalg.norm(a-b, axis=ax)\n",
    "\n",
    "for i in range(len(data)):\n",
    "    distance = dist(data[i], C)\n",
    "    distances.append(distance)\n",
    "    cluster = np.argmin(distance)\n",
    "    clusters[i] = cluster\n",
    "    \n",
    "print(clusters)\n",
    "distances\n",
    "    "
   ]
  },
  {
   "cell_type": "code",
   "execution_count": 19,
   "id": "7395784b",
   "metadata": {},
   "outputs": [
    {
     "name": "stdout",
     "output_type": "stream",
     "text": [
      "[array([ 8., 10.]), array([ 7. , 13.5]), array([6., 9.]), array([ 9., 11.]), array([ 8.5, 12. ]), array([ 8., 16.])]\n",
      "[array([ 3. , 10.5]), array([ 5., 18.]), array([ 5., 13.]), array([ 3., 18.])]\n"
     ]
    },
    {
     "data": {
      "text/plain": [
       "array([[ 7.75      , 11.91666667],\n",
       "       [ 4.        , 14.875     ]])"
      ]
     },
     "execution_count": 19,
     "metadata": {},
     "output_type": "execute_result"
    }
   ],
   "source": [
    "for i in range(len(C)):\n",
    "    points = [data[j] for j in range(len(data)) if clusters[j] == i]\n",
    "    print(points)\n",
    "    C[i] = np.mean(points, axis=0)\n",
    "C"
   ]
  },
  {
   "cell_type": "markdown",
   "id": "b6b7ac99",
   "metadata": {},
   "source": [
    "Se pueden ver los dos grupos con su respectivo centroide."
   ]
  },
  {
   "cell_type": "code",
   "execution_count": 18,
   "id": "5ba28bf6",
   "metadata": {},
   "outputs": [
    {
     "data": {
      "text/plain": [
       "<matplotlib.collections.PathCollection at 0x7fdf017d2850>"
      ]
     },
     "execution_count": 18,
     "metadata": {},
     "output_type": "execute_result"
    },
    {
     "data": {
      "image/png": "[encoded data removed]",
      "text/plain": [
       "<Figure size 864x432 with 1 Axes>"
      ]
     },
     "metadata": {},
     "output_type": "display_data"
    }
   ],
   "source": [
    "fig = plt.figure()\n",
    "plt.scatter(C[0][0], C[0][1], marker='*', s=200, c='k')\n",
    "plt.scatter(C[1][0], C[1][1], marker='*', s=200, c='k')\n",
    "plt.scatter(data[:,0], data[:,1])"
   ]
  },
  {
   "cell_type": "code",
   "execution_count": null,
   "id": "8678906f",
   "metadata": {},
   "outputs": [],
   "source": []
  },
  {
   "cell_type": "code",
   "execution_count": null,
   "id": "30f4f858",
   "metadata": {},
   "outputs": [],
   "source": []
  }
 ],
 "metadata": {
  "kernelspec": {
   "display_name": "Python 3",
   "language": "python",
   "name": "python3"
  },
  "language_info": {
   "codemirror_mode": {
    "name": "ipython",
    "version": 3
   },
   "file_extension": ".py",
   "mimetype": "text/x-python",
   "name": "python",
   "nbconvert_exporter": "python",
   "pygments_lexer": "ipython3",
   "version": "3.8.8"
  }
 },
 "nbformat": 4,
 "nbformat_minor": 5
}
