{
 "cells": [
  {
   "cell_type": "markdown",
   "metadata": {},
   "source": [
    "# Hadoop"
   ]
  },
  {
   "cell_type": "markdown",
   "metadata": {},
   "source": [
    "La candidad de datos sigue y sigue creciendo.\n",
    "\n",
    "Necesitamos hacerlo en pararelo\n",
    "\n",
    "\n",
    "Arquitectura- hadop\n",
    "Modelo - mapreduce\n",
    "\n",
    "Tiene su propio sistema de archivo, cada nodo realiza un proceso."
   ]
  },
  {
   "cell_type": "markdown",
   "metadata": {},
   "source": [
    "## Lecturas previas\n",
    "- https://dgb.cultura.gob.mx/info_dgb.php?id=100 (cuentos)\n",
    "\n",
    "- https://dgb.cultura.gob.mx/Documentos/PublicacionesDGB/BibliotecaInfantil/CervantesSaavedra.pdf (Recomendacion el quijote)\n",
    "\n",
    "\n"
   ]
  },
  {
   "cell_type": "markdown",
   "metadata": {},
   "source": [
    "## Computo pararela\n",
    "\n",
    "* Multiokes programas con un mismo conjunto de datos\n",
    "\n",
    "* Multiples programas con multiples datos\n",
    "\n",
    "\n",
    "Para cada se necesita un mecanismo para que no se corropa la informacion.\n",
    "\n",
    "https://www.frbb.utn.edu.ar/hpc/lib/exe/fetch.php?media=2017-02-aquitecturas.pdf (pag 16)"
   ]
  },
  {
   "cell_type": "markdown",
   "metadata": {},
   "source": [
    "* Nodo maestro (Name node)\n",
    "* No trabajador "
   ]
  },
  {
   "cell_type": "code",
   "execution_count": null,
   "metadata": {},
   "outputs": [],
   "source": [
    "\n"
   ]
  },
  {
   "cell_type": "code",
   "execution_count": null,
   "metadata": {},
   "outputs": [],
   "source": []
  },
  {
   "cell_type": "code",
   "execution_count": null,
   "metadata": {},
   "outputs": [],
   "source": []
  },
  {
   "cell_type": "code",
   "execution_count": null,
   "metadata": {},
   "outputs": [],
   "source": []
  },
  {
   "cell_type": "code",
   "execution_count": null,
   "metadata": {},
   "outputs": [],
   "source": []
  },
  {
   "cell_type": "code",
   "execution_count": null,
   "metadata": {},
   "outputs": [],
   "source": []
  }
 ],
 "metadata": {
  "kernelspec": {
   "display_name": "Python 3",
   "language": "python",
   "name": "python3"
  },
  "language_info": {
   "codemirror_mode": {
    "name": "ipython",
    "version": 3
   },
   "file_extension": ".py",
   "mimetype": "text/x-python",
   "name": "python",
   "nbconvert_exporter": "python",
   "pygments_lexer": "ipython3",
   "version": "3.9.6"
  }
 },
 "nbformat": 4,
 "nbformat_minor": 5
}
