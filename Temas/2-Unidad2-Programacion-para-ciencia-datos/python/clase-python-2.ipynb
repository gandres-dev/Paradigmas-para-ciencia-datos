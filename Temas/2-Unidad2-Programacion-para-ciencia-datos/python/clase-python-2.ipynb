{
 "cells": [
  {
   "cell_type": "code",
   "execution_count": 1,
   "id": "8d9d22e7",
   "metadata": {},
   "outputs": [],
   "source": [
    "# Pandas es una biblioteca para acceso y manipulacion de datos\n",
    "\n",
    "# Convencion para importar pandas\n",
    "import pandas as pd \n"
   ]
  },
  {
   "cell_type": "code",
   "execution_count": 2,
   "id": "896d7484",
   "metadata": {},
   "outputs": [
    {
     "data": {
      "text/plain": [
       "pandas.core.frame.DataFrame"
      ]
     },
     "execution_count": 2,
     "metadata": {},
     "output_type": "execute_result"
    }
   ],
   "source": [
    "datos = pd.read_csv('https://bit.ly/31B56KB')\n",
    "type(datos)"
   ]
  },
  {
   "cell_type": "code",
   "execution_count": 3,
   "id": "bfeeba1c",
   "metadata": {},
   "outputs": [
    {
     "data": {
      "text/html": [
       "<div>\n",
       "<style scoped>\n",
       "    .dataframe tbody tr th:only-of-type {\n",
       "        vertical-align: middle;\n",
       "    }\n",
       "\n",
       "    .dataframe tbody tr th {\n",
       "        vertical-align: top;\n",
       "    }\n",
       "\n",
       "    .dataframe thead th {\n",
       "        text-align: right;\n",
       "    }\n",
       "</style>\n",
       "<table border=\"1\" class=\"dataframe\">\n",
       "  <thead>\n",
       "    <tr style=\"text-align: right;\">\n",
       "      <th></th>\n",
       "      <th>Contaminacion_SO2</th>\n",
       "      <th>Temperatura</th>\n",
       "      <th>Fabricas</th>\n",
       "      <th>Habitantes</th>\n",
       "      <th>Velocidad_viento</th>\n",
       "      <th>Lluvia</th>\n",
       "      <th>Dias_Lluvia</th>\n",
       "    </tr>\n",
       "  </thead>\n",
       "  <tbody>\n",
       "    <tr>\n",
       "      <th>0</th>\n",
       "      <td>10</td>\n",
       "      <td>70.3</td>\n",
       "      <td>213</td>\n",
       "      <td>582</td>\n",
       "      <td>6.0</td>\n",
       "      <td>7.05</td>\n",
       "      <td>36</td>\n",
       "    </tr>\n",
       "    <tr>\n",
       "      <th>1</th>\n",
       "      <td>13</td>\n",
       "      <td>61.0</td>\n",
       "      <td>91</td>\n",
       "      <td>132</td>\n",
       "      <td>8.2</td>\n",
       "      <td>48.52</td>\n",
       "      <td>100</td>\n",
       "    </tr>\n",
       "    <tr>\n",
       "      <th>2</th>\n",
       "      <td>12</td>\n",
       "      <td>56.7</td>\n",
       "      <td>453</td>\n",
       "      <td>716</td>\n",
       "      <td>8.7</td>\n",
       "      <td>20.66</td>\n",
       "      <td>67</td>\n",
       "    </tr>\n",
       "    <tr>\n",
       "      <th>3</th>\n",
       "      <td>17</td>\n",
       "      <td>51.9</td>\n",
       "      <td>454</td>\n",
       "      <td>515</td>\n",
       "      <td>9.0</td>\n",
       "      <td>12.95</td>\n",
       "      <td>86</td>\n",
       "    </tr>\n",
       "    <tr>\n",
       "      <th>4</th>\n",
       "      <td>56</td>\n",
       "      <td>49.1</td>\n",
       "      <td>412</td>\n",
       "      <td>158</td>\n",
       "      <td>9.0</td>\n",
       "      <td>43.37</td>\n",
       "      <td>127</td>\n",
       "    </tr>\n",
       "  </tbody>\n",
       "</table>\n",
       "</div>"
      ],
      "text/plain": [
       "   Contaminacion_SO2  Temperatura  Fabricas  Habitantes  Velocidad_viento  \\\n",
       "0                 10         70.3       213         582               6.0   \n",
       "1                 13         61.0        91         132               8.2   \n",
       "2                 12         56.7       453         716               8.7   \n",
       "3                 17         51.9       454         515               9.0   \n",
       "4                 56         49.1       412         158               9.0   \n",
       "\n",
       "   Lluvia  Dias_Lluvia  \n",
       "0    7.05           36  \n",
       "1   48.52          100  \n",
       "2   20.66           67  \n",
       "3   12.95           86  \n",
       "4   43.37          127  "
      ]
     },
     "execution_count": 3,
     "metadata": {},
     "output_type": "execute_result"
    }
   ],
   "source": [
    "datos.head()"
   ]
  },
  {
   "cell_type": "code",
   "execution_count": 4,
   "id": "44692942",
   "metadata": {
    "scrolled": true
   },
   "outputs": [
    {
     "data": {
      "text/html": [
       "<div>\n",
       "<style scoped>\n",
       "    .dataframe tbody tr th:only-of-type {\n",
       "        vertical-align: middle;\n",
       "    }\n",
       "\n",
       "    .dataframe tbody tr th {\n",
       "        vertical-align: top;\n",
       "    }\n",
       "\n",
       "    .dataframe thead th {\n",
       "        text-align: right;\n",
       "    }\n",
       "</style>\n",
       "<table border=\"1\" class=\"dataframe\">\n",
       "  <thead>\n",
       "    <tr style=\"text-align: right;\">\n",
       "      <th></th>\n",
       "      <th>Contaminacion_SO2</th>\n",
       "      <th>Temperatura</th>\n",
       "      <th>Fabricas</th>\n",
       "      <th>Habitantes</th>\n",
       "      <th>Velocidad_viento</th>\n",
       "      <th>Lluvia</th>\n",
       "      <th>Dias_Lluvia</th>\n",
       "    </tr>\n",
       "  </thead>\n",
       "  <tbody>\n",
       "    <tr>\n",
       "      <th>0</th>\n",
       "      <td>10</td>\n",
       "      <td>70.3</td>\n",
       "      <td>213</td>\n",
       "      <td>582</td>\n",
       "      <td>6.0</td>\n",
       "      <td>7.05</td>\n",
       "      <td>36</td>\n",
       "    </tr>\n",
       "    <tr>\n",
       "      <th>1</th>\n",
       "      <td>13</td>\n",
       "      <td>61.0</td>\n",
       "      <td>91</td>\n",
       "      <td>132</td>\n",
       "      <td>8.2</td>\n",
       "      <td>48.52</td>\n",
       "      <td>100</td>\n",
       "    </tr>\n",
       "    <tr>\n",
       "      <th>2</th>\n",
       "      <td>12</td>\n",
       "      <td>56.7</td>\n",
       "      <td>453</td>\n",
       "      <td>716</td>\n",
       "      <td>8.7</td>\n",
       "      <td>20.66</td>\n",
       "      <td>67</td>\n",
       "    </tr>\n",
       "  </tbody>\n",
       "</table>\n",
       "</div>"
      ],
      "text/plain": [
       "   Contaminacion_SO2  Temperatura  Fabricas  Habitantes  Velocidad_viento  \\\n",
       "0                 10         70.3       213         582               6.0   \n",
       "1                 13         61.0        91         132               8.2   \n",
       "2                 12         56.7       453         716               8.7   \n",
       "\n",
       "   Lluvia  Dias_Lluvia  \n",
       "0    7.05           36  \n",
       "1   48.52          100  \n",
       "2   20.66           67  "
      ]
     },
     "execution_count": 4,
     "metadata": {},
     "output_type": "execute_result"
    }
   ],
   "source": [
    "datos.head(3)"
   ]
  },
  {
   "cell_type": "code",
   "execution_count": 5,
   "id": "f482d114",
   "metadata": {},
   "outputs": [
    {
     "data": {
      "text/html": [
       "<div>\n",
       "<style scoped>\n",
       "    .dataframe tbody tr th:only-of-type {\n",
       "        vertical-align: middle;\n",
       "    }\n",
       "\n",
       "    .dataframe tbody tr th {\n",
       "        vertical-align: top;\n",
       "    }\n",
       "\n",
       "    .dataframe thead th {\n",
       "        text-align: right;\n",
       "    }\n",
       "</style>\n",
       "<table border=\"1\" class=\"dataframe\">\n",
       "  <thead>\n",
       "    <tr style=\"text-align: right;\">\n",
       "      <th></th>\n",
       "      <th>Contaminacion_SO2</th>\n",
       "      <th>Temperatura</th>\n",
       "      <th>Fabricas</th>\n",
       "      <th>Habitantes</th>\n",
       "      <th>Velocidad_viento</th>\n",
       "      <th>Lluvia</th>\n",
       "      <th>Dias_Lluvia</th>\n",
       "    </tr>\n",
       "  </thead>\n",
       "  <tbody>\n",
       "    <tr>\n",
       "      <th>36</th>\n",
       "      <td>31</td>\n",
       "      <td>59.3</td>\n",
       "      <td>96</td>\n",
       "      <td>308</td>\n",
       "      <td>10.6</td>\n",
       "      <td>44.68</td>\n",
       "      <td>116</td>\n",
       "    </tr>\n",
       "    <tr>\n",
       "      <th>37</th>\n",
       "      <td>26</td>\n",
       "      <td>57.8</td>\n",
       "      <td>197</td>\n",
       "      <td>299</td>\n",
       "      <td>7.6</td>\n",
       "      <td>42.59</td>\n",
       "      <td>115</td>\n",
       "    </tr>\n",
       "    <tr>\n",
       "      <th>38</th>\n",
       "      <td>29</td>\n",
       "      <td>51.1</td>\n",
       "      <td>379</td>\n",
       "      <td>531</td>\n",
       "      <td>9.4</td>\n",
       "      <td>38.79</td>\n",
       "      <td>164</td>\n",
       "    </tr>\n",
       "    <tr>\n",
       "      <th>39</th>\n",
       "      <td>31</td>\n",
       "      <td>55.2</td>\n",
       "      <td>35</td>\n",
       "      <td>71</td>\n",
       "      <td>6.5</td>\n",
       "      <td>40.75</td>\n",
       "      <td>148</td>\n",
       "    </tr>\n",
       "    <tr>\n",
       "      <th>40</th>\n",
       "      <td>16</td>\n",
       "      <td>45.7</td>\n",
       "      <td>569</td>\n",
       "      <td>717</td>\n",
       "      <td>11.8</td>\n",
       "      <td>29.07</td>\n",
       "      <td>123</td>\n",
       "    </tr>\n",
       "  </tbody>\n",
       "</table>\n",
       "</div>"
      ],
      "text/plain": [
       "    Contaminacion_SO2  Temperatura  Fabricas  Habitantes  Velocidad_viento  \\\n",
       "36                 31         59.3        96         308              10.6   \n",
       "37                 26         57.8       197         299               7.6   \n",
       "38                 29         51.1       379         531               9.4   \n",
       "39                 31         55.2        35          71               6.5   \n",
       "40                 16         45.7       569         717              11.8   \n",
       "\n",
       "    Lluvia  Dias_Lluvia  \n",
       "36   44.68          116  \n",
       "37   42.59          115  \n",
       "38   38.79          164  \n",
       "39   40.75          148  \n",
       "40   29.07          123  "
      ]
     },
     "execution_count": 5,
     "metadata": {},
     "output_type": "execute_result"
    }
   ],
   "source": [
    "datos.tail()"
   ]
  },
  {
   "cell_type": "code",
   "execution_count": 6,
   "id": "4439e5ac",
   "metadata": {},
   "outputs": [
    {
     "name": "stdout",
     "output_type": "stream",
     "text": [
      "<class 'pandas.core.frame.DataFrame'>\n",
      "RangeIndex: 41 entries, 0 to 40\n",
      "Data columns (total 7 columns):\n",
      " #   Column             Non-Null Count  Dtype  \n",
      "---  ------             --------------  -----  \n",
      " 0   Contaminacion_SO2  41 non-null     int64  \n",
      " 1   Temperatura        41 non-null     float64\n",
      " 2   Fabricas           41 non-null     int64  \n",
      " 3   Habitantes         41 non-null     int64  \n",
      " 4   Velocidad_viento   41 non-null     float64\n",
      " 5   Lluvia             41 non-null     float64\n",
      " 6   Dias_Lluvia        41 non-null     int64  \n",
      "dtypes: float64(3), int64(4)\n",
      "memory usage: 2.4 KB\n"
     ]
    }
   ],
   "source": [
    "datos.info()"
   ]
  },
  {
   "cell_type": "code",
   "execution_count": 7,
   "id": "a999419c",
   "metadata": {},
   "outputs": [
    {
     "data": {
      "text/html": [
       "<div>\n",
       "<style scoped>\n",
       "    .dataframe tbody tr th:only-of-type {\n",
       "        vertical-align: middle;\n",
       "    }\n",
       "\n",
       "    .dataframe tbody tr th {\n",
       "        vertical-align: top;\n",
       "    }\n",
       "\n",
       "    .dataframe thead th {\n",
       "        text-align: right;\n",
       "    }\n",
       "</style>\n",
       "<table border=\"1\" class=\"dataframe\">\n",
       "  <thead>\n",
       "    <tr style=\"text-align: right;\">\n",
       "      <th></th>\n",
       "      <th>Contaminacion_SO2</th>\n",
       "      <th>Temperatura</th>\n",
       "      <th>Fabricas</th>\n",
       "      <th>Habitantes</th>\n",
       "      <th>Velocidad_viento</th>\n",
       "      <th>Lluvia</th>\n",
       "      <th>Dias_Lluvia</th>\n",
       "    </tr>\n",
       "  </thead>\n",
       "  <tbody>\n",
       "    <tr>\n",
       "      <th>count</th>\n",
       "      <td>41.000000</td>\n",
       "      <td>41.000000</td>\n",
       "      <td>41.000000</td>\n",
       "      <td>41.000000</td>\n",
       "      <td>41.000000</td>\n",
       "      <td>41.000000</td>\n",
       "      <td>41.000000</td>\n",
       "    </tr>\n",
       "    <tr>\n",
       "      <th>mean</th>\n",
       "      <td>30.048780</td>\n",
       "      <td>55.763415</td>\n",
       "      <td>463.097561</td>\n",
       "      <td>608.609756</td>\n",
       "      <td>9.443902</td>\n",
       "      <td>36.769024</td>\n",
       "      <td>113.902439</td>\n",
       "    </tr>\n",
       "    <tr>\n",
       "      <th>std</th>\n",
       "      <td>23.472272</td>\n",
       "      <td>7.227716</td>\n",
       "      <td>563.473948</td>\n",
       "      <td>579.113023</td>\n",
       "      <td>1.428644</td>\n",
       "      <td>11.771550</td>\n",
       "      <td>26.506419</td>\n",
       "    </tr>\n",
       "    <tr>\n",
       "      <th>min</th>\n",
       "      <td>8.000000</td>\n",
       "      <td>43.500000</td>\n",
       "      <td>35.000000</td>\n",
       "      <td>71.000000</td>\n",
       "      <td>6.000000</td>\n",
       "      <td>7.050000</td>\n",
       "      <td>36.000000</td>\n",
       "    </tr>\n",
       "    <tr>\n",
       "      <th>25%</th>\n",
       "      <td>13.000000</td>\n",
       "      <td>50.600000</td>\n",
       "      <td>181.000000</td>\n",
       "      <td>299.000000</td>\n",
       "      <td>8.700000</td>\n",
       "      <td>30.960000</td>\n",
       "      <td>103.000000</td>\n",
       "    </tr>\n",
       "    <tr>\n",
       "      <th>50%</th>\n",
       "      <td>26.000000</td>\n",
       "      <td>54.600000</td>\n",
       "      <td>347.000000</td>\n",
       "      <td>515.000000</td>\n",
       "      <td>9.300000</td>\n",
       "      <td>38.740000</td>\n",
       "      <td>115.000000</td>\n",
       "    </tr>\n",
       "    <tr>\n",
       "      <th>75%</th>\n",
       "      <td>35.000000</td>\n",
       "      <td>59.300000</td>\n",
       "      <td>462.000000</td>\n",
       "      <td>717.000000</td>\n",
       "      <td>10.600000</td>\n",
       "      <td>43.110000</td>\n",
       "      <td>128.000000</td>\n",
       "    </tr>\n",
       "    <tr>\n",
       "      <th>max</th>\n",
       "      <td>110.000000</td>\n",
       "      <td>75.500000</td>\n",
       "      <td>3344.000000</td>\n",
       "      <td>3369.000000</td>\n",
       "      <td>12.700000</td>\n",
       "      <td>59.800000</td>\n",
       "      <td>166.000000</td>\n",
       "    </tr>\n",
       "  </tbody>\n",
       "</table>\n",
       "</div>"
      ],
      "text/plain": [
       "       Contaminacion_SO2  Temperatura     Fabricas   Habitantes  \\\n",
       "count          41.000000    41.000000    41.000000    41.000000   \n",
       "mean           30.048780    55.763415   463.097561   608.609756   \n",
       "std            23.472272     7.227716   563.473948   579.113023   \n",
       "min             8.000000    43.500000    35.000000    71.000000   \n",
       "25%            13.000000    50.600000   181.000000   299.000000   \n",
       "50%            26.000000    54.600000   347.000000   515.000000   \n",
       "75%            35.000000    59.300000   462.000000   717.000000   \n",
       "max           110.000000    75.500000  3344.000000  3369.000000   \n",
       "\n",
       "       Velocidad_viento     Lluvia  Dias_Lluvia  \n",
       "count         41.000000  41.000000    41.000000  \n",
       "mean           9.443902  36.769024   113.902439  \n",
       "std            1.428644  11.771550    26.506419  \n",
       "min            6.000000   7.050000    36.000000  \n",
       "25%            8.700000  30.960000   103.000000  \n",
       "50%            9.300000  38.740000   115.000000  \n",
       "75%           10.600000  43.110000   128.000000  \n",
       "max           12.700000  59.800000   166.000000  "
      ]
     },
     "execution_count": 7,
     "metadata": {},
     "output_type": "execute_result"
    }
   ],
   "source": [
    "datos.describe()"
   ]
  },
  {
   "cell_type": "code",
   "execution_count": 8,
   "id": "ee833691",
   "metadata": {},
   "outputs": [
    {
     "data": {
      "text/plain": [
       "41"
      ]
     },
     "execution_count": 8,
     "metadata": {},
     "output_type": "execute_result"
    }
   ],
   "source": [
    "len(datos)"
   ]
  },
  {
   "cell_type": "code",
   "execution_count": 9,
   "id": "8a2f545c",
   "metadata": {},
   "outputs": [
    {
     "data": {
      "text/plain": [
       "Index(['Contaminacion_SO2', 'Temperatura', 'Fabricas', 'Habitantes',\n",
       "       'Velocidad_viento', 'Lluvia', 'Dias_Lluvia'],\n",
       "      dtype='object')"
      ]
     },
     "execution_count": 9,
     "metadata": {},
     "output_type": "execute_result"
    }
   ],
   "source": [
    "datos.columns"
   ]
  },
  {
   "cell_type": "code",
   "execution_count": 10,
   "id": "3b9958c4",
   "metadata": {},
   "outputs": [
    {
     "data": {
      "text/plain": [
       "Contaminacion_SO2      int64\n",
       "Temperatura          float64\n",
       "Fabricas               int64\n",
       "Habitantes             int64\n",
       "Velocidad_viento     float64\n",
       "Lluvia               float64\n",
       "Dias_Lluvia            int64\n",
       "dtype: object"
      ]
     },
     "execution_count": 10,
     "metadata": {},
     "output_type": "execute_result"
    }
   ],
   "source": [
    "datos.dtypes"
   ]
  },
  {
   "cell_type": "code",
   "execution_count": 11,
   "id": "876e7968",
   "metadata": {},
   "outputs": [
    {
     "data": {
      "text/plain": [
       "(41, 7)"
      ]
     },
     "execution_count": 11,
     "metadata": {},
     "output_type": "execute_result"
    }
   ],
   "source": [
    "datos.shape"
   ]
  },
  {
   "cell_type": "code",
   "execution_count": 12,
   "id": "a29309ec",
   "metadata": {},
   "outputs": [],
   "source": [
    "# 41 filas, 7 columnas"
   ]
  },
  {
   "cell_type": "code",
   "execution_count": 13,
   "id": "34d8dffe",
   "metadata": {},
   "outputs": [
    {
     "data": {
      "text/plain": [
       "41"
      ]
     },
     "execution_count": 13,
     "metadata": {},
     "output_type": "execute_result"
    }
   ],
   "source": [
    "datos.shape[0]"
   ]
  },
  {
   "cell_type": "code",
   "execution_count": 14,
   "id": "38306089",
   "metadata": {},
   "outputs": [
    {
     "data": {
      "text/plain": [
       "array([[  10.  ,   70.3 ,  213.  ,  582.  ,    6.  ,    7.05,   36.  ],\n",
       "       [  13.  ,   61.  ,   91.  ,  132.  ,    8.2 ,   48.52,  100.  ],\n",
       "       [  12.  ,   56.7 ,  453.  ,  716.  ,    8.7 ,   20.66,   67.  ],\n",
       "       [  17.  ,   51.9 ,  454.  ,  515.  ,    9.  ,   12.95,   86.  ],\n",
       "       [  56.  ,   49.1 ,  412.  ,  158.  ,    9.  ,   43.37,  127.  ],\n",
       "       [  36.  ,   54.  ,   80.  ,   80.  ,    9.  ,   40.25,  114.  ],\n",
       "       [  29.  ,   57.3 ,  434.  ,  757.  ,    9.3 ,   38.89,  111.  ],\n",
       "       [  14.  ,   68.4 ,  136.  ,  529.  ,    8.8 ,   54.47,  116.  ],\n",
       "       [  10.  ,   75.5 ,  207.  ,  335.  ,    9.  ,   59.8 ,  128.  ],\n",
       "       [  24.  ,   61.5 ,  368.  ,  497.  ,    9.1 ,   48.34,  115.  ],\n",
       "       [ 110.  ,   50.6 , 3344.  , 3369.  ,   10.4 ,   34.44,  122.  ],\n",
       "       [  28.  ,   52.3 ,  361.  ,  746.  ,    9.7 ,   38.74,  121.  ],\n",
       "       [  17.  ,   49.  ,  104.  ,  201.  ,   11.2 ,   30.85,  103.  ],\n",
       "       [   8.  ,   56.6 ,  125.  ,  277.  ,   12.7 ,   30.58,   82.  ],\n",
       "       [  30.  ,   55.6 ,  291.  ,  593.  ,    8.3 ,   43.11,  123.  ],\n",
       "       [   9.  ,   68.3 ,  204.  ,  361.  ,    8.4 ,   56.77,  113.  ],\n",
       "       [  47.  ,   55.  ,  625.  ,  905.  ,    9.6 ,   41.31,  111.  ],\n",
       "       [  35.  ,   49.9 , 1064.  , 1513.  ,   10.1 ,   30.96,  129.  ],\n",
       "       [  29.  ,   43.5 ,  699.  ,  744.  ,   10.6 ,   25.94,  137.  ],\n",
       "       [  14.  ,   54.5 ,  381.  ,  507.  ,   10.  ,   37.  ,   99.  ],\n",
       "       [  56.  ,   55.9 ,  775.  ,  622.  ,    9.5 ,   35.89,  105.  ],\n",
       "       [  14.  ,   51.5 ,  181.  ,  347.  ,   10.9 ,   30.18,   98.  ],\n",
       "       [  11.  ,   56.8 ,   46.  ,  244.  ,    8.9 ,    7.77,   58.  ],\n",
       "       [  46.  ,   47.6 ,   44.  ,  116.  ,    8.8 ,   33.36,  135.  ],\n",
       "       [  11.  ,   47.1 ,  391.  ,  463.  ,   12.4 ,   36.11,  166.  ],\n",
       "       [  23.  ,   54.  ,  462.  ,  453.  ,    7.1 ,   39.04,  132.  ],\n",
       "       [  65.  ,   49.7 , 1007.  ,  751.  ,   10.9 ,   34.99,  155.  ],\n",
       "       [  26.  ,   51.5 ,  266.  ,  540.  ,    8.6 ,   37.01,  134.  ],\n",
       "       [  69.  ,   54.6 , 1692.  , 1950.  ,    9.6 ,   39.93,  115.  ],\n",
       "       [  61.  ,   50.4 ,  347.  ,  520.  ,    9.4 ,   36.22,  147.  ],\n",
       "       [  94.  ,   50.  ,  343.  ,  179.  ,   10.6 ,   42.75,  125.  ],\n",
       "       [  10.  ,   61.6 ,  337.  ,  624.  ,    9.2 ,   49.1 ,  105.  ],\n",
       "       [  18.  ,   59.4 ,  275.  ,  448.  ,    7.9 ,   46.  ,  119.  ],\n",
       "       [   9.  ,   66.2 ,  641.  ,  844.  ,   10.9 ,   35.94,   78.  ],\n",
       "       [  10.  ,   68.9 ,  721.  , 1233.  ,   10.8 ,   48.19,  103.  ],\n",
       "       [  28.  ,   51.  ,  137.  ,  176.  ,    8.7 ,   15.17,   89.  ],\n",
       "       [  31.  ,   59.3 ,   96.  ,  308.  ,   10.6 ,   44.68,  116.  ],\n",
       "       [  26.  ,   57.8 ,  197.  ,  299.  ,    7.6 ,   42.59,  115.  ],\n",
       "       [  29.  ,   51.1 ,  379.  ,  531.  ,    9.4 ,   38.79,  164.  ],\n",
       "       [  31.  ,   55.2 ,   35.  ,   71.  ,    6.5 ,   40.75,  148.  ],\n",
       "       [  16.  ,   45.7 ,  569.  ,  717.  ,   11.8 ,   29.07,  123.  ]])"
      ]
     },
     "execution_count": 14,
     "metadata": {},
     "output_type": "execute_result"
    }
   ],
   "source": [
    "datos.values"
   ]
  },
  {
   "cell_type": "code",
   "execution_count": 15,
   "id": "faf3576b",
   "metadata": {},
   "outputs": [
    {
     "data": {
      "text/plain": [
       "0    70.3\n",
       "1    61.0\n",
       "2    56.7\n",
       "Name: Temperatura, dtype: float64"
      ]
     },
     "execution_count": 15,
     "metadata": {},
     "output_type": "execute_result"
    }
   ],
   "source": [
    "# Primera sintaxis que se definio\n",
    "datos['Temperatura'].head(3)"
   ]
  },
  {
   "cell_type": "code",
   "execution_count": 16,
   "id": "40b978c1",
   "metadata": {},
   "outputs": [
    {
     "data": {
      "text/plain": [
       "0    70.3\n",
       "1    61.0\n",
       "2    56.7\n",
       "Name: Temperatura, dtype: float64"
      ]
     },
     "execution_count": 16,
     "metadata": {},
     "output_type": "execute_result"
    }
   ],
   "source": [
    "# Segunda sintaxis\n",
    "datos.Temperatura.head(3)"
   ]
  },
  {
   "cell_type": "code",
   "execution_count": 17,
   "id": "3720c944",
   "metadata": {},
   "outputs": [
    {
     "data": {
      "text/plain": [
       "pandas.core.series.Series"
      ]
     },
     "execution_count": 17,
     "metadata": {},
     "output_type": "execute_result"
    }
   ],
   "source": [
    "#Sories: almacena una columna\n",
    "s = datos.Contaminacion_SO2\n",
    "type(s)"
   ]
  },
  {
   "cell_type": "code",
   "execution_count": 18,
   "id": "79aa937e",
   "metadata": {},
   "outputs": [
    {
     "data": {
      "text/plain": [
       "dtype('int64')"
      ]
     },
     "execution_count": 18,
     "metadata": {},
     "output_type": "execute_result"
    }
   ],
   "source": [
    "s.dtype"
   ]
  },
  {
   "cell_type": "code",
   "execution_count": 19,
   "id": "aeb1e969",
   "metadata": {},
   "outputs": [
    {
     "data": {
      "text/plain": [
       "array([ 10,  13,  12,  17,  56,  36,  29,  14,  10,  24, 110,  28,  17,\n",
       "         8,  30,   9,  47,  35,  29,  14,  56,  14,  11,  46,  11,  23,\n",
       "        65,  26,  69,  61,  94,  10,  18,   9,  10,  28,  31,  26,  29,\n",
       "        31,  16])"
      ]
     },
     "execution_count": 19,
     "metadata": {},
     "output_type": "execute_result"
    }
   ],
   "source": [
    "s.values"
   ]
  },
  {
   "cell_type": "code",
   "execution_count": 20,
   "id": "2a30399c",
   "metadata": {},
   "outputs": [
    {
     "data": {
      "text/plain": [
       "10     4\n",
       "14     3\n",
       "29     3\n",
       "26     2\n",
       "56     2\n",
       "9      2\n",
       "11     2\n",
       "17     2\n",
       "31     2\n",
       "28     2\n",
       "65     1\n",
       "47     1\n",
       "110    1\n",
       "36     1\n",
       "35     1\n",
       "30     1\n",
       "46     1\n",
       "24     1\n",
       "23     1\n",
       "69     1\n",
       "18     1\n",
       "94     1\n",
       "13     1\n",
       "12     1\n",
       "8      1\n",
       "16     1\n",
       "61     1\n",
       "Name: Contaminacion_SO2, dtype: int64"
      ]
     },
     "execution_count": 20,
     "metadata": {},
     "output_type": "execute_result"
    }
   ],
   "source": [
    "s.value_counts()"
   ]
  },
  {
   "cell_type": "code",
   "execution_count": 21,
   "id": "69b2b13b",
   "metadata": {},
   "outputs": [
    {
     "data": {
      "text/plain": [
       "count     41.000000\n",
       "mean      30.048780\n",
       "std       23.472272\n",
       "min        8.000000\n",
       "25%       13.000000\n",
       "50%       26.000000\n",
       "75%       35.000000\n",
       "max      110.000000\n",
       "Name: Contaminacion_SO2, dtype: float64"
      ]
     },
     "execution_count": 21,
     "metadata": {},
     "output_type": "execute_result"
    }
   ],
   "source": [
    "s.describe()"
   ]
  },
  {
   "cell_type": "code",
   "execution_count": 22,
   "id": "4d7a7e1c",
   "metadata": {},
   "outputs": [
    {
     "data": {
      "text/plain": [
       "30.048780487804876"
      ]
     },
     "execution_count": 22,
     "metadata": {},
     "output_type": "execute_result"
    }
   ],
   "source": [
    "s.mean()"
   ]
  },
  {
   "cell_type": "code",
   "execution_count": 23,
   "id": "b5118a59",
   "metadata": {},
   "outputs": [
    {
     "data": {
      "text/plain": [
       "1232"
      ]
     },
     "execution_count": 23,
     "metadata": {},
     "output_type": "execute_result"
    }
   ],
   "source": [
    "s.sum()"
   ]
  },
  {
   "cell_type": "code",
   "execution_count": 24,
   "id": "0887843b",
   "metadata": {},
   "outputs": [
    {
     "data": {
      "text/plain": [
       "array([ 10,  13,  12,  17,  56,  36,  29,  14,  24, 110,  28,   8,  30,\n",
       "         9,  47,  35,  11,  46,  23,  65,  26,  69,  61,  94,  18,  31,\n",
       "        16])"
      ]
     },
     "execution_count": 24,
     "metadata": {},
     "output_type": "execute_result"
    }
   ],
   "source": [
    "s.unique()"
   ]
  },
  {
   "cell_type": "code",
   "execution_count": 25,
   "id": "e1e71b46",
   "metadata": {},
   "outputs": [
    {
     "data": {
      "text/plain": [
       "27"
      ]
     },
     "execution_count": 25,
     "metadata": {},
     "output_type": "execute_result"
    }
   ],
   "source": [
    "len(s.unique())"
   ]
  },
  {
   "cell_type": "code",
   "execution_count": 26,
   "id": "3164c444",
   "metadata": {},
   "outputs": [
    {
     "data": {
      "text/plain": [
       "13     8\n",
       "33     9\n",
       "15     9\n",
       "0     10\n",
       "34    10\n",
       "31    10\n",
       "8     10\n",
       "24    11\n",
       "22    11\n",
       "2     12\n",
       "Name: Contaminacion_SO2, dtype: int64"
      ]
     },
     "execution_count": 26,
     "metadata": {},
     "output_type": "execute_result"
    }
   ],
   "source": [
    "# Orderar por valores\n",
    "s.sort_values(ascending=True).head(10)"
   ]
  },
  {
   "cell_type": "code",
   "execution_count": 27,
   "id": "31759050",
   "metadata": {},
   "outputs": [
    {
     "data": {
      "text/plain": [
       "9      24\n",
       "10    110\n",
       "11     28\n",
       "12     17\n",
       "13      8\n",
       "14     30\n",
       "15      9\n",
       "Name: Contaminacion_SO2, dtype: int64"
      ]
     },
     "execution_count": 27,
     "metadata": {},
     "output_type": "execute_result"
    }
   ],
   "source": [
    "# slices con series type\n",
    "s[9:16]"
   ]
  },
  {
   "cell_type": "code",
   "execution_count": 28,
   "id": "314c9116",
   "metadata": {},
   "outputs": [
    {
     "data": {
      "text/html": [
       "<div>\n",
       "<style scoped>\n",
       "    .dataframe tbody tr th:only-of-type {\n",
       "        vertical-align: middle;\n",
       "    }\n",
       "\n",
       "    .dataframe tbody tr th {\n",
       "        vertical-align: top;\n",
       "    }\n",
       "\n",
       "    .dataframe thead th {\n",
       "        text-align: right;\n",
       "    }\n",
       "</style>\n",
       "<table border=\"1\" class=\"dataframe\">\n",
       "  <thead>\n",
       "    <tr style=\"text-align: right;\">\n",
       "      <th></th>\n",
       "      <th>Contaminacion_SO2</th>\n",
       "      <th>Temperatura</th>\n",
       "      <th>Fabricas</th>\n",
       "      <th>Habitantes</th>\n",
       "      <th>Velocidad_viento</th>\n",
       "      <th>Lluvia</th>\n",
       "      <th>Dias_Lluvia</th>\n",
       "    </tr>\n",
       "  </thead>\n",
       "  <tbody>\n",
       "    <tr>\n",
       "      <th>9</th>\n",
       "      <td>24</td>\n",
       "      <td>61.5</td>\n",
       "      <td>368</td>\n",
       "      <td>497</td>\n",
       "      <td>9.1</td>\n",
       "      <td>48.34</td>\n",
       "      <td>115</td>\n",
       "    </tr>\n",
       "    <tr>\n",
       "      <th>10</th>\n",
       "      <td>110</td>\n",
       "      <td>50.6</td>\n",
       "      <td>3344</td>\n",
       "      <td>3369</td>\n",
       "      <td>10.4</td>\n",
       "      <td>34.44</td>\n",
       "      <td>122</td>\n",
       "    </tr>\n",
       "    <tr>\n",
       "      <th>11</th>\n",
       "      <td>28</td>\n",
       "      <td>52.3</td>\n",
       "      <td>361</td>\n",
       "      <td>746</td>\n",
       "      <td>9.7</td>\n",
       "      <td>38.74</td>\n",
       "      <td>121</td>\n",
       "    </tr>\n",
       "    <tr>\n",
       "      <th>12</th>\n",
       "      <td>17</td>\n",
       "      <td>49.0</td>\n",
       "      <td>104</td>\n",
       "      <td>201</td>\n",
       "      <td>11.2</td>\n",
       "      <td>30.85</td>\n",
       "      <td>103</td>\n",
       "    </tr>\n",
       "    <tr>\n",
       "      <th>13</th>\n",
       "      <td>8</td>\n",
       "      <td>56.6</td>\n",
       "      <td>125</td>\n",
       "      <td>277</td>\n",
       "      <td>12.7</td>\n",
       "      <td>30.58</td>\n",
       "      <td>82</td>\n",
       "    </tr>\n",
       "    <tr>\n",
       "      <th>14</th>\n",
       "      <td>30</td>\n",
       "      <td>55.6</td>\n",
       "      <td>291</td>\n",
       "      <td>593</td>\n",
       "      <td>8.3</td>\n",
       "      <td>43.11</td>\n",
       "      <td>123</td>\n",
       "    </tr>\n",
       "    <tr>\n",
       "      <th>15</th>\n",
       "      <td>9</td>\n",
       "      <td>68.3</td>\n",
       "      <td>204</td>\n",
       "      <td>361</td>\n",
       "      <td>8.4</td>\n",
       "      <td>56.77</td>\n",
       "      <td>113</td>\n",
       "    </tr>\n",
       "  </tbody>\n",
       "</table>\n",
       "</div>"
      ],
      "text/plain": [
       "    Contaminacion_SO2  Temperatura  Fabricas  Habitantes  Velocidad_viento  \\\n",
       "9                  24         61.5       368         497               9.1   \n",
       "10                110         50.6      3344        3369              10.4   \n",
       "11                 28         52.3       361         746               9.7   \n",
       "12                 17         49.0       104         201              11.2   \n",
       "13                  8         56.6       125         277              12.7   \n",
       "14                 30         55.6       291         593               8.3   \n",
       "15                  9         68.3       204         361               8.4   \n",
       "\n",
       "    Lluvia  Dias_Lluvia  \n",
       "9    48.34          115  \n",
       "10   34.44          122  \n",
       "11   38.74          121  \n",
       "12   30.85          103  \n",
       "13   30.58           82  \n",
       "14   43.11          123  \n",
       "15   56.77          113  "
      ]
     },
     "execution_count": 28,
     "metadata": {},
     "output_type": "execute_result"
    }
   ],
   "source": [
    "# Also dataframe\n",
    "datos[9:16]"
   ]
  },
  {
   "cell_type": "code",
   "execution_count": 29,
   "id": "e58f423b",
   "metadata": {},
   "outputs": [
    {
     "data": {
      "text/html": [
       "<div>\n",
       "<style scoped>\n",
       "    .dataframe tbody tr th:only-of-type {\n",
       "        vertical-align: middle;\n",
       "    }\n",
       "\n",
       "    .dataframe tbody tr th {\n",
       "        vertical-align: top;\n",
       "    }\n",
       "\n",
       "    .dataframe thead th {\n",
       "        text-align: right;\n",
       "    }\n",
       "</style>\n",
       "<table border=\"1\" class=\"dataframe\">\n",
       "  <thead>\n",
       "    <tr style=\"text-align: right;\">\n",
       "      <th></th>\n",
       "      <th>Temperatura</th>\n",
       "      <th>Fabricas</th>\n",
       "      <th>Habitantes</th>\n",
       "    </tr>\n",
       "  </thead>\n",
       "  <tbody>\n",
       "    <tr>\n",
       "      <th>3</th>\n",
       "      <td>51.9</td>\n",
       "      <td>454</td>\n",
       "      <td>515</td>\n",
       "    </tr>\n",
       "    <tr>\n",
       "      <th>4</th>\n",
       "      <td>49.1</td>\n",
       "      <td>412</td>\n",
       "      <td>158</td>\n",
       "    </tr>\n",
       "    <tr>\n",
       "      <th>5</th>\n",
       "      <td>54.0</td>\n",
       "      <td>80</td>\n",
       "      <td>80</td>\n",
       "    </tr>\n",
       "    <tr>\n",
       "      <th>6</th>\n",
       "      <td>57.3</td>\n",
       "      <td>434</td>\n",
       "      <td>757</td>\n",
       "    </tr>\n",
       "    <tr>\n",
       "      <th>7</th>\n",
       "      <td>68.4</td>\n",
       "      <td>136</td>\n",
       "      <td>529</td>\n",
       "    </tr>\n",
       "  </tbody>\n",
       "</table>\n",
       "</div>"
      ],
      "text/plain": [
       "   Temperatura  Fabricas  Habitantes\n",
       "3         51.9       454         515\n",
       "4         49.1       412         158\n",
       "5         54.0        80          80\n",
       "6         57.3       434         757\n",
       "7         68.4       136         529"
      ]
     },
     "execution_count": 29,
     "metadata": {},
     "output_type": "execute_result"
    }
   ],
   "source": [
    "# Recorte el dataframe a lo largo y a lo ancho\n",
    "datos.iloc[3:8,1:4]"
   ]
  },
  {
   "cell_type": "code",
   "execution_count": 86,
   "id": "2ab6e0f2",
   "metadata": {},
   "outputs": [
    {
     "data": {
      "text/plain": [
       "array([ 36, 100,  67,  86, 127, 114, 111, 116, 128, 115, 122, 121, 103,\n",
       "        82, 123, 113, 111, 129, 137,  99, 105,  98,  58, 135, 166, 132,\n",
       "       155, 134, 115, 147, 125, 105, 119,  78, 103,  89, 116, 115, 164,\n",
       "       148, 123])"
      ]
     },
     "execution_count": 86,
     "metadata": {},
     "output_type": "execute_result"
    }
   ],
   "source": [
    "s = datos.Dias_Lluvia\n",
    "s.values"
   ]
  },
  {
   "cell_type": "code",
   "execution_count": 31,
   "id": "567a2e06",
   "metadata": {},
   "outputs": [
    {
     "data": {
      "text/plain": [
       "115    3\n",
       "123    2\n",
       "103    2\n",
       "105    2\n",
       "116    2\n",
       "111    2\n",
       "113    1\n",
       "36     1\n",
       "166    1\n",
       "128    1\n",
       "114    1\n",
       "129    1\n",
       "119    1\n",
       "121    1\n",
       "122    1\n",
       "100    1\n",
       "99     1\n",
       "98     1\n",
       "155    1\n",
       "89     1\n",
       "86     1\n",
       "148    1\n",
       "147    1\n",
       "82     1\n",
       "132    1\n",
       "78     1\n",
       "125    1\n",
       "137    1\n",
       "135    1\n",
       "134    1\n",
       "58     1\n",
       "67     1\n",
       "164    1\n",
       "127    1\n",
       "Name: Dias_Lluvia, dtype: int64"
      ]
     },
     "execution_count": 31,
     "metadata": {},
     "output_type": "execute_result"
    }
   ],
   "source": [
    "s.value_counts()"
   ]
  },
  {
   "cell_type": "code",
   "execution_count": 32,
   "id": "507278b0",
   "metadata": {},
   "outputs": [],
   "source": [
    "grupo = datos.groupby('Dias_Lluvia')"
   ]
  },
  {
   "cell_type": "code",
   "execution_count": 33,
   "id": "6046329a",
   "metadata": {},
   "outputs": [
    {
     "data": {
      "text/html": [
       "<div>\n",
       "<style scoped>\n",
       "    .dataframe tbody tr th:only-of-type {\n",
       "        vertical-align: middle;\n",
       "    }\n",
       "\n",
       "    .dataframe tbody tr th {\n",
       "        vertical-align: top;\n",
       "    }\n",
       "\n",
       "    .dataframe thead th {\n",
       "        text-align: right;\n",
       "    }\n",
       "</style>\n",
       "<table border=\"1\" class=\"dataframe\">\n",
       "  <thead>\n",
       "    <tr style=\"text-align: right;\">\n",
       "      <th></th>\n",
       "      <th>Contaminacion_SO2</th>\n",
       "      <th>Temperatura</th>\n",
       "      <th>Fabricas</th>\n",
       "      <th>Habitantes</th>\n",
       "      <th>Velocidad_viento</th>\n",
       "      <th>Lluvia</th>\n",
       "    </tr>\n",
       "    <tr>\n",
       "      <th>Dias_Lluvia</th>\n",
       "      <th></th>\n",
       "      <th></th>\n",
       "      <th></th>\n",
       "      <th></th>\n",
       "      <th></th>\n",
       "      <th></th>\n",
       "    </tr>\n",
       "  </thead>\n",
       "  <tbody>\n",
       "    <tr>\n",
       "      <th>36</th>\n",
       "      <td>10.000000</td>\n",
       "      <td>70.300000</td>\n",
       "      <td>213.000000</td>\n",
       "      <td>582.000000</td>\n",
       "      <td>6.000000</td>\n",
       "      <td>7.050</td>\n",
       "    </tr>\n",
       "    <tr>\n",
       "      <th>58</th>\n",
       "      <td>11.000000</td>\n",
       "      <td>56.800000</td>\n",
       "      <td>46.000000</td>\n",
       "      <td>244.000000</td>\n",
       "      <td>8.900000</td>\n",
       "      <td>7.770</td>\n",
       "    </tr>\n",
       "    <tr>\n",
       "      <th>67</th>\n",
       "      <td>12.000000</td>\n",
       "      <td>56.700000</td>\n",
       "      <td>453.000000</td>\n",
       "      <td>716.000000</td>\n",
       "      <td>8.700000</td>\n",
       "      <td>20.660</td>\n",
       "    </tr>\n",
       "    <tr>\n",
       "      <th>78</th>\n",
       "      <td>9.000000</td>\n",
       "      <td>66.200000</td>\n",
       "      <td>641.000000</td>\n",
       "      <td>844.000000</td>\n",
       "      <td>10.900000</td>\n",
       "      <td>35.940</td>\n",
       "    </tr>\n",
       "    <tr>\n",
       "      <th>82</th>\n",
       "      <td>8.000000</td>\n",
       "      <td>56.600000</td>\n",
       "      <td>125.000000</td>\n",
       "      <td>277.000000</td>\n",
       "      <td>12.700000</td>\n",
       "      <td>30.580</td>\n",
       "    </tr>\n",
       "    <tr>\n",
       "      <th>86</th>\n",
       "      <td>17.000000</td>\n",
       "      <td>51.900000</td>\n",
       "      <td>454.000000</td>\n",
       "      <td>515.000000</td>\n",
       "      <td>9.000000</td>\n",
       "      <td>12.950</td>\n",
       "    </tr>\n",
       "    <tr>\n",
       "      <th>89</th>\n",
       "      <td>28.000000</td>\n",
       "      <td>51.000000</td>\n",
       "      <td>137.000000</td>\n",
       "      <td>176.000000</td>\n",
       "      <td>8.700000</td>\n",
       "      <td>15.170</td>\n",
       "    </tr>\n",
       "    <tr>\n",
       "      <th>98</th>\n",
       "      <td>14.000000</td>\n",
       "      <td>51.500000</td>\n",
       "      <td>181.000000</td>\n",
       "      <td>347.000000</td>\n",
       "      <td>10.900000</td>\n",
       "      <td>30.180</td>\n",
       "    </tr>\n",
       "    <tr>\n",
       "      <th>99</th>\n",
       "      <td>14.000000</td>\n",
       "      <td>54.500000</td>\n",
       "      <td>381.000000</td>\n",
       "      <td>507.000000</td>\n",
       "      <td>10.000000</td>\n",
       "      <td>37.000</td>\n",
       "    </tr>\n",
       "    <tr>\n",
       "      <th>100</th>\n",
       "      <td>13.000000</td>\n",
       "      <td>61.000000</td>\n",
       "      <td>91.000000</td>\n",
       "      <td>132.000000</td>\n",
       "      <td>8.200000</td>\n",
       "      <td>48.520</td>\n",
       "    </tr>\n",
       "    <tr>\n",
       "      <th>103</th>\n",
       "      <td>13.500000</td>\n",
       "      <td>58.950000</td>\n",
       "      <td>412.500000</td>\n",
       "      <td>717.000000</td>\n",
       "      <td>11.000000</td>\n",
       "      <td>39.520</td>\n",
       "    </tr>\n",
       "    <tr>\n",
       "      <th>105</th>\n",
       "      <td>33.000000</td>\n",
       "      <td>58.750000</td>\n",
       "      <td>556.000000</td>\n",
       "      <td>623.000000</td>\n",
       "      <td>9.350000</td>\n",
       "      <td>42.495</td>\n",
       "    </tr>\n",
       "    <tr>\n",
       "      <th>111</th>\n",
       "      <td>38.000000</td>\n",
       "      <td>56.150000</td>\n",
       "      <td>529.500000</td>\n",
       "      <td>831.000000</td>\n",
       "      <td>9.450000</td>\n",
       "      <td>40.100</td>\n",
       "    </tr>\n",
       "    <tr>\n",
       "      <th>113</th>\n",
       "      <td>9.000000</td>\n",
       "      <td>68.300000</td>\n",
       "      <td>204.000000</td>\n",
       "      <td>361.000000</td>\n",
       "      <td>8.400000</td>\n",
       "      <td>56.770</td>\n",
       "    </tr>\n",
       "    <tr>\n",
       "      <th>114</th>\n",
       "      <td>36.000000</td>\n",
       "      <td>54.000000</td>\n",
       "      <td>80.000000</td>\n",
       "      <td>80.000000</td>\n",
       "      <td>9.000000</td>\n",
       "      <td>40.250</td>\n",
       "    </tr>\n",
       "    <tr>\n",
       "      <th>115</th>\n",
       "      <td>39.666667</td>\n",
       "      <td>57.966667</td>\n",
       "      <td>752.333333</td>\n",
       "      <td>915.333333</td>\n",
       "      <td>8.766667</td>\n",
       "      <td>43.620</td>\n",
       "    </tr>\n",
       "    <tr>\n",
       "      <th>116</th>\n",
       "      <td>22.500000</td>\n",
       "      <td>63.850000</td>\n",
       "      <td>116.000000</td>\n",
       "      <td>418.500000</td>\n",
       "      <td>9.700000</td>\n",
       "      <td>49.575</td>\n",
       "    </tr>\n",
       "    <tr>\n",
       "      <th>119</th>\n",
       "      <td>18.000000</td>\n",
       "      <td>59.400000</td>\n",
       "      <td>275.000000</td>\n",
       "      <td>448.000000</td>\n",
       "      <td>7.900000</td>\n",
       "      <td>46.000</td>\n",
       "    </tr>\n",
       "    <tr>\n",
       "      <th>121</th>\n",
       "      <td>28.000000</td>\n",
       "      <td>52.300000</td>\n",
       "      <td>361.000000</td>\n",
       "      <td>746.000000</td>\n",
       "      <td>9.700000</td>\n",
       "      <td>38.740</td>\n",
       "    </tr>\n",
       "    <tr>\n",
       "      <th>122</th>\n",
       "      <td>110.000000</td>\n",
       "      <td>50.600000</td>\n",
       "      <td>3344.000000</td>\n",
       "      <td>3369.000000</td>\n",
       "      <td>10.400000</td>\n",
       "      <td>34.440</td>\n",
       "    </tr>\n",
       "    <tr>\n",
       "      <th>123</th>\n",
       "      <td>23.000000</td>\n",
       "      <td>50.650000</td>\n",
       "      <td>430.000000</td>\n",
       "      <td>655.000000</td>\n",
       "      <td>10.050000</td>\n",
       "      <td>36.090</td>\n",
       "    </tr>\n",
       "    <tr>\n",
       "      <th>125</th>\n",
       "      <td>94.000000</td>\n",
       "      <td>50.000000</td>\n",
       "      <td>343.000000</td>\n",
       "      <td>179.000000</td>\n",
       "      <td>10.600000</td>\n",
       "      <td>42.750</td>\n",
       "    </tr>\n",
       "    <tr>\n",
       "      <th>127</th>\n",
       "      <td>56.000000</td>\n",
       "      <td>49.100000</td>\n",
       "      <td>412.000000</td>\n",
       "      <td>158.000000</td>\n",
       "      <td>9.000000</td>\n",
       "      <td>43.370</td>\n",
       "    </tr>\n",
       "    <tr>\n",
       "      <th>128</th>\n",
       "      <td>10.000000</td>\n",
       "      <td>75.500000</td>\n",
       "      <td>207.000000</td>\n",
       "      <td>335.000000</td>\n",
       "      <td>9.000000</td>\n",
       "      <td>59.800</td>\n",
       "    </tr>\n",
       "    <tr>\n",
       "      <th>129</th>\n",
       "      <td>35.000000</td>\n",
       "      <td>49.900000</td>\n",
       "      <td>1064.000000</td>\n",
       "      <td>1513.000000</td>\n",
       "      <td>10.100000</td>\n",
       "      <td>30.960</td>\n",
       "    </tr>\n",
       "    <tr>\n",
       "      <th>132</th>\n",
       "      <td>23.000000</td>\n",
       "      <td>54.000000</td>\n",
       "      <td>462.000000</td>\n",
       "      <td>453.000000</td>\n",
       "      <td>7.100000</td>\n",
       "      <td>39.040</td>\n",
       "    </tr>\n",
       "    <tr>\n",
       "      <th>134</th>\n",
       "      <td>26.000000</td>\n",
       "      <td>51.500000</td>\n",
       "      <td>266.000000</td>\n",
       "      <td>540.000000</td>\n",
       "      <td>8.600000</td>\n",
       "      <td>37.010</td>\n",
       "    </tr>\n",
       "    <tr>\n",
       "      <th>135</th>\n",
       "      <td>46.000000</td>\n",
       "      <td>47.600000</td>\n",
       "      <td>44.000000</td>\n",
       "      <td>116.000000</td>\n",
       "      <td>8.800000</td>\n",
       "      <td>33.360</td>\n",
       "    </tr>\n",
       "    <tr>\n",
       "      <th>137</th>\n",
       "      <td>29.000000</td>\n",
       "      <td>43.500000</td>\n",
       "      <td>699.000000</td>\n",
       "      <td>744.000000</td>\n",
       "      <td>10.600000</td>\n",
       "      <td>25.940</td>\n",
       "    </tr>\n",
       "    <tr>\n",
       "      <th>147</th>\n",
       "      <td>61.000000</td>\n",
       "      <td>50.400000</td>\n",
       "      <td>347.000000</td>\n",
       "      <td>520.000000</td>\n",
       "      <td>9.400000</td>\n",
       "      <td>36.220</td>\n",
       "    </tr>\n",
       "    <tr>\n",
       "      <th>148</th>\n",
       "      <td>31.000000</td>\n",
       "      <td>55.200000</td>\n",
       "      <td>35.000000</td>\n",
       "      <td>71.000000</td>\n",
       "      <td>6.500000</td>\n",
       "      <td>40.750</td>\n",
       "    </tr>\n",
       "    <tr>\n",
       "      <th>155</th>\n",
       "      <td>65.000000</td>\n",
       "      <td>49.700000</td>\n",
       "      <td>1007.000000</td>\n",
       "      <td>751.000000</td>\n",
       "      <td>10.900000</td>\n",
       "      <td>34.990</td>\n",
       "    </tr>\n",
       "    <tr>\n",
       "      <th>164</th>\n",
       "      <td>29.000000</td>\n",
       "      <td>51.100000</td>\n",
       "      <td>379.000000</td>\n",
       "      <td>531.000000</td>\n",
       "      <td>9.400000</td>\n",
       "      <td>38.790</td>\n",
       "    </tr>\n",
       "    <tr>\n",
       "      <th>166</th>\n",
       "      <td>11.000000</td>\n",
       "      <td>47.100000</td>\n",
       "      <td>391.000000</td>\n",
       "      <td>463.000000</td>\n",
       "      <td>12.400000</td>\n",
       "      <td>36.110</td>\n",
       "    </tr>\n",
       "  </tbody>\n",
       "</table>\n",
       "</div>"
      ],
      "text/plain": [
       "             Contaminacion_SO2  Temperatura     Fabricas   Habitantes  \\\n",
       "Dias_Lluvia                                                             \n",
       "36                   10.000000    70.300000   213.000000   582.000000   \n",
       "58                   11.000000    56.800000    46.000000   244.000000   \n",
       "67                   12.000000    56.700000   453.000000   716.000000   \n",
       "78                    9.000000    66.200000   641.000000   844.000000   \n",
       "82                    8.000000    56.600000   125.000000   277.000000   \n",
       "86                   17.000000    51.900000   454.000000   515.000000   \n",
       "89                   28.000000    51.000000   137.000000   176.000000   \n",
       "98                   14.000000    51.500000   181.000000   347.000000   \n",
       "99                   14.000000    54.500000   381.000000   507.000000   \n",
       "100                  13.000000    61.000000    91.000000   132.000000   \n",
       "103                  13.500000    58.950000   412.500000   717.000000   \n",
       "105                  33.000000    58.750000   556.000000   623.000000   \n",
       "111                  38.000000    56.150000   529.500000   831.000000   \n",
       "113                   9.000000    68.300000   204.000000   361.000000   \n",
       "114                  36.000000    54.000000    80.000000    80.000000   \n",
       "115                  39.666667    57.966667   752.333333   915.333333   \n",
       "116                  22.500000    63.850000   116.000000   418.500000   \n",
       "119                  18.000000    59.400000   275.000000   448.000000   \n",
       "121                  28.000000    52.300000   361.000000   746.000000   \n",
       "122                 110.000000    50.600000  3344.000000  3369.000000   \n",
       "123                  23.000000    50.650000   430.000000   655.000000   \n",
       "125                  94.000000    50.000000   343.000000   179.000000   \n",
       "127                  56.000000    49.100000   412.000000   158.000000   \n",
       "128                  10.000000    75.500000   207.000000   335.000000   \n",
       "129                  35.000000    49.900000  1064.000000  1513.000000   \n",
       "132                  23.000000    54.000000   462.000000   453.000000   \n",
       "134                  26.000000    51.500000   266.000000   540.000000   \n",
       "135                  46.000000    47.600000    44.000000   116.000000   \n",
       "137                  29.000000    43.500000   699.000000   744.000000   \n",
       "147                  61.000000    50.400000   347.000000   520.000000   \n",
       "148                  31.000000    55.200000    35.000000    71.000000   \n",
       "155                  65.000000    49.700000  1007.000000   751.000000   \n",
       "164                  29.000000    51.100000   379.000000   531.000000   \n",
       "166                  11.000000    47.100000   391.000000   463.000000   \n",
       "\n",
       "             Velocidad_viento  Lluvia  \n",
       "Dias_Lluvia                            \n",
       "36                   6.000000   7.050  \n",
       "58                   8.900000   7.770  \n",
       "67                   8.700000  20.660  \n",
       "78                  10.900000  35.940  \n",
       "82                  12.700000  30.580  \n",
       "86                   9.000000  12.950  \n",
       "89                   8.700000  15.170  \n",
       "98                  10.900000  30.180  \n",
       "99                  10.000000  37.000  \n",
       "100                  8.200000  48.520  \n",
       "103                 11.000000  39.520  \n",
       "105                  9.350000  42.495  \n",
       "111                  9.450000  40.100  \n",
       "113                  8.400000  56.770  \n",
       "114                  9.000000  40.250  \n",
       "115                  8.766667  43.620  \n",
       "116                  9.700000  49.575  \n",
       "119                  7.900000  46.000  \n",
       "121                  9.700000  38.740  \n",
       "122                 10.400000  34.440  \n",
       "123                 10.050000  36.090  \n",
       "125                 10.600000  42.750  \n",
       "127                  9.000000  43.370  \n",
       "128                  9.000000  59.800  \n",
       "129                 10.100000  30.960  \n",
       "132                  7.100000  39.040  \n",
       "134                  8.600000  37.010  \n",
       "135                  8.800000  33.360  \n",
       "137                 10.600000  25.940  \n",
       "147                  9.400000  36.220  \n",
       "148                  6.500000  40.750  \n",
       "155                 10.900000  34.990  \n",
       "164                  9.400000  38.790  \n",
       "166                 12.400000  36.110  "
      ]
     },
     "execution_count": 33,
     "metadata": {},
     "output_type": "execute_result"
    }
   ],
   "source": [
    "grupo.mean()"
   ]
  },
  {
   "cell_type": "code",
   "execution_count": 34,
   "id": "64486824",
   "metadata": {},
   "outputs": [
    {
     "data": {
      "text/html": [
       "<div>\n",
       "<style scoped>\n",
       "    .dataframe tbody tr th:only-of-type {\n",
       "        vertical-align: middle;\n",
       "    }\n",
       "\n",
       "    .dataframe tbody tr th {\n",
       "        vertical-align: top;\n",
       "    }\n",
       "\n",
       "    .dataframe thead th {\n",
       "        text-align: right;\n",
       "    }\n",
       "</style>\n",
       "<table border=\"1\" class=\"dataframe\">\n",
       "  <thead>\n",
       "    <tr style=\"text-align: right;\">\n",
       "      <th></th>\n",
       "      <th>Contaminacion_SO2</th>\n",
       "      <th>Temperatura</th>\n",
       "      <th>Fabricas</th>\n",
       "      <th>Habitantes</th>\n",
       "      <th>Velocidad_viento</th>\n",
       "      <th>Lluvia</th>\n",
       "    </tr>\n",
       "    <tr>\n",
       "      <th>Dias_Lluvia</th>\n",
       "      <th></th>\n",
       "      <th></th>\n",
       "      <th></th>\n",
       "      <th></th>\n",
       "      <th></th>\n",
       "      <th></th>\n",
       "    </tr>\n",
       "  </thead>\n",
       "  <tbody>\n",
       "    <tr>\n",
       "      <th>36</th>\n",
       "      <td>10</td>\n",
       "      <td>70.3</td>\n",
       "      <td>213</td>\n",
       "      <td>582</td>\n",
       "      <td>6.0</td>\n",
       "      <td>7.05</td>\n",
       "    </tr>\n",
       "    <tr>\n",
       "      <th>58</th>\n",
       "      <td>11</td>\n",
       "      <td>56.8</td>\n",
       "      <td>46</td>\n",
       "      <td>244</td>\n",
       "      <td>8.9</td>\n",
       "      <td>7.77</td>\n",
       "    </tr>\n",
       "    <tr>\n",
       "      <th>67</th>\n",
       "      <td>12</td>\n",
       "      <td>56.7</td>\n",
       "      <td>453</td>\n",
       "      <td>716</td>\n",
       "      <td>8.7</td>\n",
       "      <td>20.66</td>\n",
       "    </tr>\n",
       "    <tr>\n",
       "      <th>78</th>\n",
       "      <td>9</td>\n",
       "      <td>66.2</td>\n",
       "      <td>641</td>\n",
       "      <td>844</td>\n",
       "      <td>10.9</td>\n",
       "      <td>35.94</td>\n",
       "    </tr>\n",
       "    <tr>\n",
       "      <th>82</th>\n",
       "      <td>8</td>\n",
       "      <td>56.6</td>\n",
       "      <td>125</td>\n",
       "      <td>277</td>\n",
       "      <td>12.7</td>\n",
       "      <td>30.58</td>\n",
       "    </tr>\n",
       "    <tr>\n",
       "      <th>86</th>\n",
       "      <td>17</td>\n",
       "      <td>51.9</td>\n",
       "      <td>454</td>\n",
       "      <td>515</td>\n",
       "      <td>9.0</td>\n",
       "      <td>12.95</td>\n",
       "    </tr>\n",
       "    <tr>\n",
       "      <th>89</th>\n",
       "      <td>28</td>\n",
       "      <td>51.0</td>\n",
       "      <td>137</td>\n",
       "      <td>176</td>\n",
       "      <td>8.7</td>\n",
       "      <td>15.17</td>\n",
       "    </tr>\n",
       "    <tr>\n",
       "      <th>98</th>\n",
       "      <td>14</td>\n",
       "      <td>51.5</td>\n",
       "      <td>181</td>\n",
       "      <td>347</td>\n",
       "      <td>10.9</td>\n",
       "      <td>30.18</td>\n",
       "    </tr>\n",
       "    <tr>\n",
       "      <th>99</th>\n",
       "      <td>14</td>\n",
       "      <td>54.5</td>\n",
       "      <td>381</td>\n",
       "      <td>507</td>\n",
       "      <td>10.0</td>\n",
       "      <td>37.00</td>\n",
       "    </tr>\n",
       "    <tr>\n",
       "      <th>100</th>\n",
       "      <td>13</td>\n",
       "      <td>61.0</td>\n",
       "      <td>91</td>\n",
       "      <td>132</td>\n",
       "      <td>8.2</td>\n",
       "      <td>48.52</td>\n",
       "    </tr>\n",
       "  </tbody>\n",
       "</table>\n",
       "</div>"
      ],
      "text/plain": [
       "             Contaminacion_SO2  Temperatura  Fabricas  Habitantes  \\\n",
       "Dias_Lluvia                                                         \n",
       "36                          10         70.3       213         582   \n",
       "58                          11         56.8        46         244   \n",
       "67                          12         56.7       453         716   \n",
       "78                           9         66.2       641         844   \n",
       "82                           8         56.6       125         277   \n",
       "86                          17         51.9       454         515   \n",
       "89                          28         51.0       137         176   \n",
       "98                          14         51.5       181         347   \n",
       "99                          14         54.5       381         507   \n",
       "100                         13         61.0        91         132   \n",
       "\n",
       "             Velocidad_viento  Lluvia  \n",
       "Dias_Lluvia                            \n",
       "36                        6.0    7.05  \n",
       "58                        8.9    7.77  \n",
       "67                        8.7   20.66  \n",
       "78                       10.9   35.94  \n",
       "82                       12.7   30.58  \n",
       "86                        9.0   12.95  \n",
       "89                        8.7   15.17  \n",
       "98                       10.9   30.18  \n",
       "99                       10.0   37.00  \n",
       "100                       8.2   48.52  "
      ]
     },
     "execution_count": 34,
     "metadata": {},
     "output_type": "execute_result"
    }
   ],
   "source": [
    "# La suma agrupada por dias de lluvias\n",
    "grupo.sum().head(10)"
   ]
  },
  {
   "cell_type": "code",
   "execution_count": 35,
   "id": "77fd5c9f",
   "metadata": {},
   "outputs": [],
   "source": [
    "s_grupo = grupo.sum()"
   ]
  },
  {
   "cell_type": "code",
   "execution_count": 36,
   "id": "5c39ae6e",
   "metadata": {},
   "outputs": [
    {
     "data": {
      "text/plain": [
       "Dias_Lluvia\n",
       "36      True\n",
       "58     False\n",
       "67     False\n",
       "78      True\n",
       "82     False\n",
       "86     False\n",
       "89     False\n",
       "98     False\n",
       "99     False\n",
       "100    False\n",
       "103     True\n",
       "105     True\n",
       "111     True\n",
       "113     True\n",
       "114    False\n",
       "115     True\n",
       "116     True\n",
       "119    False\n",
       "121    False\n",
       "122    False\n",
       "123     True\n",
       "125    False\n",
       "127    False\n",
       "128     True\n",
       "129    False\n",
       "132    False\n",
       "134    False\n",
       "135    False\n",
       "137    False\n",
       "147    False\n",
       "148    False\n",
       "155    False\n",
       "164    False\n",
       "166    False\n",
       "Name: Temperatura, dtype: bool"
      ]
     },
     "execution_count": 36,
     "metadata": {},
     "output_type": "execute_result"
    }
   ],
   "source": [
    "cond = s_grupo.Temperatura >= 65\n",
    "type(cond)\n",
    "cond"
   ]
  },
  {
   "cell_type": "code",
   "execution_count": 37,
   "id": "1a62a565",
   "metadata": {
    "scrolled": true
   },
   "outputs": [
    {
     "data": {
      "text/html": [
       "<div>\n",
       "<style scoped>\n",
       "    .dataframe tbody tr th:only-of-type {\n",
       "        vertical-align: middle;\n",
       "    }\n",
       "\n",
       "    .dataframe tbody tr th {\n",
       "        vertical-align: top;\n",
       "    }\n",
       "\n",
       "    .dataframe thead th {\n",
       "        text-align: right;\n",
       "    }\n",
       "</style>\n",
       "<table border=\"1\" class=\"dataframe\">\n",
       "  <thead>\n",
       "    <tr style=\"text-align: right;\">\n",
       "      <th></th>\n",
       "      <th>Contaminacion_SO2</th>\n",
       "      <th>Temperatura</th>\n",
       "      <th>Fabricas</th>\n",
       "      <th>Habitantes</th>\n",
       "      <th>Velocidad_viento</th>\n",
       "      <th>Lluvia</th>\n",
       "    </tr>\n",
       "    <tr>\n",
       "      <th>Dias_Lluvia</th>\n",
       "      <th></th>\n",
       "      <th></th>\n",
       "      <th></th>\n",
       "      <th></th>\n",
       "      <th></th>\n",
       "      <th></th>\n",
       "    </tr>\n",
       "  </thead>\n",
       "  <tbody>\n",
       "    <tr>\n",
       "      <th>36</th>\n",
       "      <td>10</td>\n",
       "      <td>70.3</td>\n",
       "      <td>213</td>\n",
       "      <td>582</td>\n",
       "      <td>6.0</td>\n",
       "      <td>7.05</td>\n",
       "    </tr>\n",
       "    <tr>\n",
       "      <th>78</th>\n",
       "      <td>9</td>\n",
       "      <td>66.2</td>\n",
       "      <td>641</td>\n",
       "      <td>844</td>\n",
       "      <td>10.9</td>\n",
       "      <td>35.94</td>\n",
       "    </tr>\n",
       "    <tr>\n",
       "      <th>103</th>\n",
       "      <td>27</td>\n",
       "      <td>117.9</td>\n",
       "      <td>825</td>\n",
       "      <td>1434</td>\n",
       "      <td>22.0</td>\n",
       "      <td>79.04</td>\n",
       "    </tr>\n",
       "    <tr>\n",
       "      <th>105</th>\n",
       "      <td>66</td>\n",
       "      <td>117.5</td>\n",
       "      <td>1112</td>\n",
       "      <td>1246</td>\n",
       "      <td>18.7</td>\n",
       "      <td>84.99</td>\n",
       "    </tr>\n",
       "    <tr>\n",
       "      <th>111</th>\n",
       "      <td>76</td>\n",
       "      <td>112.3</td>\n",
       "      <td>1059</td>\n",
       "      <td>1662</td>\n",
       "      <td>18.9</td>\n",
       "      <td>80.20</td>\n",
       "    </tr>\n",
       "    <tr>\n",
       "      <th>113</th>\n",
       "      <td>9</td>\n",
       "      <td>68.3</td>\n",
       "      <td>204</td>\n",
       "      <td>361</td>\n",
       "      <td>8.4</td>\n",
       "      <td>56.77</td>\n",
       "    </tr>\n",
       "    <tr>\n",
       "      <th>115</th>\n",
       "      <td>119</td>\n",
       "      <td>173.9</td>\n",
       "      <td>2257</td>\n",
       "      <td>2746</td>\n",
       "      <td>26.3</td>\n",
       "      <td>130.86</td>\n",
       "    </tr>\n",
       "    <tr>\n",
       "      <th>116</th>\n",
       "      <td>45</td>\n",
       "      <td>127.7</td>\n",
       "      <td>232</td>\n",
       "      <td>837</td>\n",
       "      <td>19.4</td>\n",
       "      <td>99.15</td>\n",
       "    </tr>\n",
       "    <tr>\n",
       "      <th>123</th>\n",
       "      <td>46</td>\n",
       "      <td>101.3</td>\n",
       "      <td>860</td>\n",
       "      <td>1310</td>\n",
       "      <td>20.1</td>\n",
       "      <td>72.18</td>\n",
       "    </tr>\n",
       "    <tr>\n",
       "      <th>128</th>\n",
       "      <td>10</td>\n",
       "      <td>75.5</td>\n",
       "      <td>207</td>\n",
       "      <td>335</td>\n",
       "      <td>9.0</td>\n",
       "      <td>59.80</td>\n",
       "    </tr>\n",
       "  </tbody>\n",
       "</table>\n",
       "</div>"
      ],
      "text/plain": [
       "             Contaminacion_SO2  Temperatura  Fabricas  Habitantes  \\\n",
       "Dias_Lluvia                                                         \n",
       "36                          10         70.3       213         582   \n",
       "78                           9         66.2       641         844   \n",
       "103                         27        117.9       825        1434   \n",
       "105                         66        117.5      1112        1246   \n",
       "111                         76        112.3      1059        1662   \n",
       "113                          9         68.3       204         361   \n",
       "115                        119        173.9      2257        2746   \n",
       "116                         45        127.7       232         837   \n",
       "123                         46        101.3       860        1310   \n",
       "128                         10         75.5       207         335   \n",
       "\n",
       "             Velocidad_viento  Lluvia  \n",
       "Dias_Lluvia                            \n",
       "36                        6.0    7.05  \n",
       "78                       10.9   35.94  \n",
       "103                      22.0   79.04  \n",
       "105                      18.7   84.99  \n",
       "111                      18.9   80.20  \n",
       "113                       8.4   56.77  \n",
       "115                      26.3  130.86  \n",
       "116                      19.4   99.15  \n",
       "123                      20.1   72.18  \n",
       "128                       9.0   59.80  "
      ]
     },
     "execution_count": 37,
     "metadata": {},
     "output_type": "execute_result"
    }
   ],
   "source": [
    "# Crea un arreglo con el arreglo de booleanos donde la temperatura sea mayor a 65\n",
    "s_grupo[cond]"
   ]
  },
  {
   "cell_type": "code",
   "execution_count": 38,
   "id": "f524310b",
   "metadata": {},
   "outputs": [],
   "source": [
    "# Numpy\n",
    "# Nos permite utilizar arreglos y matrices 'a la matlab'\n",
    "# Operaciones vectorizadas\n",
    "import numpy as np # Convencion estandar\n",
    "# from numpy import * # Evitarlo, esta prohibido "
   ]
  },
  {
   "cell_type": "markdown",
   "id": "11b9cce4",
   "metadata": {},
   "source": [
    "# Numpy"
   ]
  },
  {
   "cell_type": "code",
   "execution_count": 39,
   "id": "e97014c8",
   "metadata": {},
   "outputs": [
    {
     "data": {
      "text/plain": [
       "numpy.ndarray"
      ]
     },
     "execution_count": 39,
     "metadata": {},
     "output_type": "execute_result"
    }
   ],
   "source": [
    "# Recibe una lista\n",
    "v = np.array([1,2,4,5,6])\n",
    "type(v)"
   ]
  },
  {
   "cell_type": "code",
   "execution_count": 40,
   "id": "5e7c5051",
   "metadata": {},
   "outputs": [
    {
     "data": {
      "text/plain": [
       "(5,)"
      ]
     },
     "execution_count": 40,
     "metadata": {},
     "output_type": "execute_result"
    }
   ],
   "source": [
    "v.shape"
   ]
  },
  {
   "cell_type": "code",
   "execution_count": 41,
   "id": "7f295cff",
   "metadata": {},
   "outputs": [
    {
     "data": {
      "text/plain": [
       "1"
      ]
     },
     "execution_count": 41,
     "metadata": {},
     "output_type": "execute_result"
    }
   ],
   "source": [
    "v.ndim"
   ]
  },
  {
   "cell_type": "code",
   "execution_count": 42,
   "id": "d88c9202",
   "metadata": {},
   "outputs": [
    {
     "data": {
      "text/plain": [
       "dtype('int64')"
      ]
     },
     "execution_count": 42,
     "metadata": {},
     "output_type": "execute_result"
    }
   ],
   "source": [
    "# Muestra el tipo dato del contenido\n",
    "v.dtype"
   ]
  },
  {
   "cell_type": "code",
   "execution_count": 43,
   "id": "8bc8264a",
   "metadata": {},
   "outputs": [
    {
     "data": {
      "text/plain": [
       "array([ 2,  4,  8, 10, 12])"
      ]
     },
     "execution_count": 43,
     "metadata": {},
     "output_type": "execute_result"
    }
   ],
   "source": [
    "# Suma vectorizada\n",
    "# Suma elemento por elemento\n",
    "v + v\n"
   ]
  },
  {
   "cell_type": "code",
   "execution_count": 44,
   "id": "75474e2a",
   "metadata": {},
   "outputs": [
    {
     "data": {
      "text/plain": [
       "array([ 7.18, 14.36, 28.72, 35.9 , 43.08])"
      ]
     },
     "execution_count": 44,
     "metadata": {},
     "output_type": "execute_result"
    }
   ],
   "source": [
    "# Multiplicacion por un escalar\n",
    "7.18 * v"
   ]
  },
  {
   "cell_type": "code",
   "execution_count": 45,
   "id": "d9ad4df5",
   "metadata": {},
   "outputs": [
    {
     "data": {
      "text/plain": [
       "array([ 1,  4, 16, 25, 36])"
      ]
     },
     "execution_count": 45,
     "metadata": {},
     "output_type": "execute_result"
    }
   ],
   "source": [
    "# Multiplicacion elemento por elemento\n",
    "v * v"
   ]
  },
  {
   "cell_type": "code",
   "execution_count": 46,
   "id": "0c21be89",
   "metadata": {},
   "outputs": [
    {
     "data": {
      "text/plain": [
       "82"
      ]
     },
     "execution_count": 46,
     "metadata": {},
     "output_type": "execute_result"
    }
   ],
   "source": [
    "# Producto punto\n",
    "v @ v"
   ]
  },
  {
   "cell_type": "code",
   "execution_count": 47,
   "id": "760e9219",
   "metadata": {},
   "outputs": [
    {
     "data": {
      "text/plain": [
       "array([0., 0., 0., 0., 0.])"
      ]
     },
     "execution_count": 47,
     "metadata": {},
     "output_type": "execute_result"
    }
   ],
   "source": [
    "np.zeros(5)"
   ]
  },
  {
   "cell_type": "code",
   "execution_count": 48,
   "id": "f5538100",
   "metadata": {},
   "outputs": [
    {
     "data": {
      "text/plain": [
       "array([1., 1., 1., 1., 1.])"
      ]
     },
     "execution_count": 48,
     "metadata": {},
     "output_type": "execute_result"
    }
   ],
   "source": [
    "np.ones(5)"
   ]
  },
  {
   "cell_type": "code",
   "execution_count": 49,
   "id": "cd0067e6",
   "metadata": {},
   "outputs": [
    {
     "data": {
      "text/plain": [
       "numpy.ndarray"
      ]
     },
     "execution_count": 49,
     "metadata": {},
     "output_type": "execute_result"
    }
   ],
   "source": [
    "#Creacion de matrices\n",
    "# El contructor es el mismo\n",
    "m = np.array([[1,2,3] , [4,5,6], [7,8,9]]) \n",
    "type(m)"
   ]
  },
  {
   "cell_type": "code",
   "execution_count": 50,
   "id": "4a80263f",
   "metadata": {},
   "outputs": [
    {
     "data": {
      "text/plain": [
       "array([[ 2,  4,  6],\n",
       "       [ 8, 10, 12],\n",
       "       [14, 16, 18]])"
      ]
     },
     "execution_count": 50,
     "metadata": {},
     "output_type": "execute_result"
    }
   ],
   "source": [
    "m + m"
   ]
  },
  {
   "cell_type": "code",
   "execution_count": 51,
   "id": "7ebd9aa5",
   "metadata": {},
   "outputs": [
    {
     "data": {
      "text/plain": [
       "array([[ 7.12, 14.24, 21.36],\n",
       "       [28.48, 35.6 , 42.72],\n",
       "       [49.84, 56.96, 64.08]])"
      ]
     },
     "execution_count": 51,
     "metadata": {},
     "output_type": "execute_result"
    }
   ],
   "source": [
    "# Multiplicacion\n",
    "7.12 * m"
   ]
  },
  {
   "cell_type": "code",
   "execution_count": 52,
   "id": "f191f0d5",
   "metadata": {},
   "outputs": [
    {
     "data": {
      "text/plain": [
       "array([[ 1,  4,  9],\n",
       "       [16, 25, 36],\n",
       "       [49, 64, 81]])"
      ]
     },
     "execution_count": 52,
     "metadata": {},
     "output_type": "execute_result"
    }
   ],
   "source": [
    "# Multiplicacion elemento por elemento\n",
    "m * m"
   ]
  },
  {
   "cell_type": "code",
   "execution_count": 53,
   "id": "8535e4bb",
   "metadata": {},
   "outputs": [
    {
     "data": {
      "text/plain": [
       "array([[ 30,  36,  42],\n",
       "       [ 66,  81,  96],\n",
       "       [102, 126, 150]])"
      ]
     },
     "execution_count": 53,
     "metadata": {},
     "output_type": "execute_result"
    }
   ],
   "source": [
    "# Multiplicacion por matriz\n",
    "m @ m"
   ]
  },
  {
   "cell_type": "code",
   "execution_count": 54,
   "id": "81f2bb84",
   "metadata": {},
   "outputs": [
    {
     "data": {
      "text/plain": [
       "array([[0., 0., 0.],\n",
       "       [0., 0., 0.]])"
      ]
     },
     "execution_count": 54,
     "metadata": {},
     "output_type": "execute_result"
    }
   ],
   "source": [
    "# Pasar la dimension\n",
    "np.zeros((2,3))"
   ]
  },
  {
   "cell_type": "code",
   "execution_count": 55,
   "id": "c3c03f97",
   "metadata": {},
   "outputs": [
    {
     "data": {
      "text/plain": [
       "array([[1., 1.],\n",
       "       [1., 1.],\n",
       "       [1., 1.]])"
      ]
     },
     "execution_count": 55,
     "metadata": {},
     "output_type": "execute_result"
    }
   ],
   "source": [
    "m2 = np.ones((3,2))\n",
    "m2"
   ]
  },
  {
   "cell_type": "code",
   "execution_count": 56,
   "id": "a56a3cb0",
   "metadata": {},
   "outputs": [
    {
     "data": {
      "text/plain": [
       "(3, 2)"
      ]
     },
     "execution_count": 56,
     "metadata": {},
     "output_type": "execute_result"
    }
   ],
   "source": [
    "m2.shape"
   ]
  },
  {
   "cell_type": "code",
   "execution_count": 57,
   "id": "bf2afa28",
   "metadata": {},
   "outputs": [
    {
     "data": {
      "text/plain": [
       "array([[5.19574843e+01, 4.59834019e+01, 7.69111102e+01, 4.18535679e+01,\n",
       "        8.37806723e+01],\n",
       "       [8.74799897e+01, 7.30261219e+01, 4.83226390e+01, 6.23143834e+01,\n",
       "        3.29344700e+01],\n",
       "       [6.11929075e+01, 4.88190712e+01, 4.61328725e+01, 5.59197979e-02,\n",
       "        2.99595026e+01]])"
      ]
     },
     "execution_count": 57,
     "metadata": {},
     "output_type": "execute_result"
    }
   ],
   "source": [
    "# Inicializar valores aleatorios\n",
    "# numeros pseudo aleatorio entre el 0 y 1\n",
    "r = np.random.random((3,5))*100\n",
    "r"
   ]
  },
  {
   "cell_type": "code",
   "execution_count": 58,
   "id": "0b5c81c6",
   "metadata": {},
   "outputs": [
    {
     "data": {
      "text/plain": [
       "array([[5.19574843e+01, 8.74799897e+01, 6.11929075e+01],\n",
       "       [4.59834019e+01, 7.30261219e+01, 4.88190712e+01],\n",
       "       [7.69111102e+01, 4.83226390e+01, 4.61328725e+01],\n",
       "       [4.18535679e+01, 6.23143834e+01, 5.59197979e-02],\n",
       "       [8.37806723e+01, 3.29344700e+01, 2.99595026e+01]])"
      ]
     },
     "execution_count": 58,
     "metadata": {},
     "output_type": "execute_result"
    }
   ],
   "source": [
    "# Transpuesta\n",
    "rt = r.T\n",
    "rt"
   ]
  },
  {
   "cell_type": "code",
   "execution_count": 59,
   "id": "e921742b",
   "metadata": {},
   "outputs": [
    {
     "data": {
      "text/plain": [
       "48.81907123837115"
      ]
     },
     "execution_count": 59,
     "metadata": {},
     "output_type": "execute_result"
    }
   ],
   "source": [
    "# Fila y columna\n",
    "rt[1,2]"
   ]
  },
  {
   "cell_type": "code",
   "execution_count": 60,
   "id": "d58eb7ba",
   "metadata": {},
   "outputs": [
    {
     "data": {
      "text/plain": [
       "array([45.98340185, 73.02612195, 48.81907124])"
      ]
     },
     "execution_count": 60,
     "metadata": {},
     "output_type": "execute_result"
    }
   ],
   "source": [
    "# Slicings entre la matriz\n",
    "rt[1,:]"
   ]
  },
  {
   "cell_type": "code",
   "execution_count": 61,
   "id": "e6aeb8e5",
   "metadata": {},
   "outputs": [
    {
     "data": {
      "text/plain": [
       "array([6.11929075e+01, 4.88190712e+01, 4.61328725e+01, 5.59197979e-02,\n",
       "       2.99595026e+01])"
      ]
     },
     "execution_count": 61,
     "metadata": {},
     "output_type": "execute_result"
    }
   ],
   "source": [
    "rt[:,2]"
   ]
  },
  {
   "cell_type": "code",
   "execution_count": 62,
   "id": "70e92d13",
   "metadata": {},
   "outputs": [
    {
     "data": {
      "text/plain": [
       "array([[4.83226390e+01, 4.61328725e+01],\n",
       "       [6.23143834e+01, 5.59197979e-02],\n",
       "       [3.29344700e+01, 2.99595026e+01]])"
      ]
     },
     "execution_count": 62,
     "metadata": {},
     "output_type": "execute_result"
    }
   ],
   "source": [
    "# Particion en ambas direcciones\n",
    "rt[2:5, 1:3]"
   ]
  },
  {
   "cell_type": "code",
   "execution_count": 63,
   "id": "1c223dd0",
   "metadata": {},
   "outputs": [
    {
     "data": {
      "text/plain": [
       "array([[ True,  True,  True],\n",
       "       [ True,  True,  True],\n",
       "       [ True,  True,  True],\n",
       "       [False,  True, False],\n",
       "       [ True, False, False]])"
      ]
     },
     "execution_count": 63,
     "metadata": {},
     "output_type": "execute_result"
    }
   ],
   "source": [
    "# Generar un matriz booleana\n",
    "rt > 45"
   ]
  },
  {
   "cell_type": "code",
   "execution_count": 64,
   "id": "a01a824e",
   "metadata": {},
   "outputs": [
    {
     "data": {
      "text/plain": [
       "array([51.95748427, 87.47998972, 61.19290748, 45.98340185, 73.02612195,\n",
       "       48.81907124, 76.91111019, 48.32263897, 46.13287246, 62.31438338,\n",
       "       83.78067229])"
      ]
     },
     "execution_count": 64,
     "metadata": {},
     "output_type": "execute_result"
    }
   ],
   "source": [
    "# Arreglo de los valores que cumplieron esa condicion\n",
    "rt[ rt > 45 ]"
   ]
  },
  {
   "cell_type": "code",
   "execution_count": 65,
   "id": "111a83fb",
   "metadata": {},
   "outputs": [
    {
     "data": {
      "text/plain": [
       "790.7241141322868"
      ]
     },
     "execution_count": 65,
     "metadata": {},
     "output_type": "execute_result"
    }
   ],
   "source": [
    "# Suma tatal de toda la matriz\n",
    "rt.sum()\n"
   ]
  },
  {
   "cell_type": "code",
   "execution_count": 66,
   "id": "5935817b",
   "metadata": {},
   "outputs": [
    {
     "data": {
      "text/plain": [
       "array([200.63038146, 167.82859503, 171.36662162, 104.22387108,\n",
       "       146.67464493])"
      ]
     },
     "execution_count": 66,
     "metadata": {},
     "output_type": "execute_result"
    }
   ],
   "source": [
    "rt.sum(axis=1)"
   ]
  },
  {
   "cell_type": "code",
   "execution_count": 67,
   "id": "d818b0e4",
   "metadata": {},
   "outputs": [
    {
     "data": {
      "text/plain": [
       "21.99910939144333"
      ]
     },
     "execution_count": 67,
     "metadata": {},
     "output_type": "execute_result"
    }
   ],
   "source": [
    "rt.std()"
   ]
  },
  {
   "cell_type": "code",
   "execution_count": 68,
   "id": "81588c45",
   "metadata": {},
   "outputs": [
    {
     "data": {
      "text/plain": [
       "array([16.98174796, 18.95132904, 21.08345794])"
      ]
     },
     "execution_count": 68,
     "metadata": {},
     "output_type": "execute_result"
    }
   ],
   "source": [
    "rt.std(axis=0)"
   ]
  },
  {
   "cell_type": "code",
   "execution_count": 69,
   "id": "41d5a90f",
   "metadata": {},
   "outputs": [
    {
     "data": {
      "text/plain": [
       "array([0, 1, 2, 3, 4, 5, 6, 7, 8, 9])"
      ]
     },
     "execution_count": 69,
     "metadata": {},
     "output_type": "execute_result"
    }
   ],
   "source": [
    "# Cambiar el shape\n",
    "a = np.arange(10)\n",
    "a"
   ]
  },
  {
   "cell_type": "code",
   "execution_count": 70,
   "id": "3b3a026b",
   "metadata": {},
   "outputs": [
    {
     "data": {
      "text/plain": [
       "array([[0, 1, 2, 3, 4],\n",
       "       [5, 6, 7, 8, 9]])"
      ]
     },
     "execution_count": 70,
     "metadata": {},
     "output_type": "execute_result"
    }
   ],
   "source": [
    "a2 = a.reshape(2,5)\n",
    "a2"
   ]
  },
  {
   "cell_type": "code",
   "execution_count": 71,
   "id": "49d46e8b",
   "metadata": {},
   "outputs": [
    {
     "data": {
      "text/plain": [
       "array([[0, 1],\n",
       "       [2, 3],\n",
       "       [4, 5],\n",
       "       [6, 7],\n",
       "       [8, 9]])"
      ]
     },
     "execution_count": 71,
     "metadata": {},
     "output_type": "execute_result"
    }
   ],
   "source": [
    "a.reshape(5,2)"
   ]
  },
  {
   "cell_type": "code",
   "execution_count": 72,
   "id": "089ae10e",
   "metadata": {},
   "outputs": [
    {
     "data": {
      "text/plain": [
       "(2,)"
      ]
     },
     "execution_count": 72,
     "metadata": {},
     "output_type": "execute_result"
    }
   ],
   "source": [
    "# Combinar las operaciones\n",
    "v = np.array([8,9])\n",
    "m = np.array([[1,2,3], [4,5,6]]).T\n",
    "v.shape"
   ]
  },
  {
   "cell_type": "code",
   "execution_count": 73,
   "id": "12993a6f",
   "metadata": {},
   "outputs": [
    {
     "data": {
      "text/plain": [
       "array([[1, 4],\n",
       "       [2, 5],\n",
       "       [3, 6]])"
      ]
     },
     "execution_count": 73,
     "metadata": {},
     "output_type": "execute_result"
    }
   ],
   "source": [
    "m"
   ]
  },
  {
   "cell_type": "code",
   "execution_count": 74,
   "id": "4287760a",
   "metadata": {},
   "outputs": [
    {
     "data": {
      "text/plain": [
       "array([8, 9])"
      ]
     },
     "execution_count": 74,
     "metadata": {},
     "output_type": "execute_result"
    }
   ],
   "source": [
    "v"
   ]
  },
  {
   "cell_type": "code",
   "execution_count": 75,
   "id": "e494d04b",
   "metadata": {},
   "outputs": [
    {
     "data": {
      "text/plain": [
       "(3, 2)"
      ]
     },
     "execution_count": 75,
     "metadata": {},
     "output_type": "execute_result"
    }
   ],
   "source": [
    "m.shape"
   ]
  },
  {
   "cell_type": "code",
   "execution_count": 76,
   "id": "ec23fc65",
   "metadata": {},
   "outputs": [
    {
     "data": {
      "text/plain": [
       "array([[ 9, 13],\n",
       "       [10, 14],\n",
       "       [11, 15]])"
      ]
     },
     "execution_count": 76,
     "metadata": {},
     "output_type": "execute_result"
    }
   ],
   "source": [
    "# La segunda forma de la matriz debe ser igual al primer del vector\n",
    "v+m"
   ]
  },
  {
   "cell_type": "code",
   "execution_count": 77,
   "id": "56021403",
   "metadata": {},
   "outputs": [
    {
     "data": {
      "text/plain": [
       "array([[ 8, 36],\n",
       "       [16, 45],\n",
       "       [24, 54]])"
      ]
     },
     "execution_count": 77,
     "metadata": {},
     "output_type": "execute_result"
    }
   ],
   "source": [
    "v * m"
   ]
  },
  {
   "cell_type": "code",
   "execution_count": 78,
   "id": "8018f890",
   "metadata": {},
   "outputs": [
    {
     "data": {
      "text/plain": [
       "array([44, 61, 78])"
      ]
     },
     "execution_count": 78,
     "metadata": {},
     "output_type": "execute_result"
    }
   ],
   "source": [
    "# Producto matricial\n",
    "m @ v"
   ]
  },
  {
   "cell_type": "code",
   "execution_count": 79,
   "id": "eebbe2d8",
   "metadata": {},
   "outputs": [],
   "source": [
    "# Tiempos que utilizan Numpy vs python\n",
    "import numpy as np\n",
    "import numpy.random as rnd\n",
    "from operator import matmul\n",
    "from time import time"
   ]
  },
  {
   "cell_type": "code",
   "execution_count": 80,
   "id": "f64ec0a0",
   "metadata": {},
   "outputs": [],
   "source": [
    "def mult_mat(m1, m2):\n",
    "    if m1.shape[1] != m2.shape[0]:\n",
    "        return None\n",
    "    mat = np.zeros([m1.shape[0], m2.shape[1]])\n",
    "    for i in range(mat.shape[0]):\n",
    "        for j in range(mat.shape[1]):\n",
    "            for k in range(mat.shape[0]):\n",
    "                mat[i][j] += m1[i][k] * m2[k][j]\n",
    "    return mat"
   ]
  },
  {
   "cell_type": "code",
   "execution_count": 81,
   "id": "6d7d1396",
   "metadata": {},
   "outputs": [],
   "source": [
    "def time_fun(m1, m2, func):\n",
    "    t_ini = time()\n",
    "    func(m1, m2)\n",
    "    return time() - t_ini\n",
    "    "
   ]
  },
  {
   "cell_type": "code",
   "execution_count": 82,
   "id": "b9e94c71",
   "metadata": {},
   "outputs": [],
   "source": [
    "m1 = rnd.rand(300, 400)\n",
    "m2 = rnd.rand(400, 200)"
   ]
  },
  {
   "cell_type": "code",
   "execution_count": 83,
   "id": "0bee07b3",
   "metadata": {},
   "outputs": [
    {
     "name": "stdout",
     "output_type": "stream",
     "text": [
      "tiempo numpy:  0.04332923889160156\n",
      "tiempo matmul:  0.002557516098022461\n",
      "tiempo python:  15.471097469329834\n"
     ]
    }
   ],
   "source": [
    "# Usa python, pero no programes en python\n",
    "print(\"tiempo numpy: \", time_fun(m1, m2, np.dot))\n",
    "print(\"tiempo matmul: \", time_fun(m1, m2, matmul))\n",
    "print(\"tiempo python: \", time_fun(m1, m2, mult_mat))"
   ]
  },
  {
   "cell_type": "code",
   "execution_count": 84,
   "id": "42225047",
   "metadata": {},
   "outputs": [],
   "source": [
    "# Viernes 27 de Agosto"
   ]
  },
  {
   "cell_type": "code",
   "execution_count": 92,
   "id": "bd0578cb",
   "metadata": {},
   "outputs": [],
   "source": [
    "# Respuesta de la pregunta anterior\n",
    "# df2 = datos.filter(['Temperartura', 'Dias_Lluvia'])\n",
    "# df2 = datos.drop(['Temperartura', 'Dias_Lluvia'],axis=1)\n",
    "# d = [datos.Temperatura, datos.Lluvia].copy()\n"
   ]
  },
  {
   "cell_type": "markdown",
   "id": "eeec62c2",
   "metadata": {},
   "source": [
    "## Matplotlib"
   ]
  },
  {
   "cell_type": "code",
   "execution_count": 122,
   "id": "f9822097",
   "metadata": {},
   "outputs": [],
   "source": [
    "import numpy as np\n",
    "import matplotlib.pyplot as plt"
   ]
  },
  {
   "cell_type": "code",
   "execution_count": 106,
   "id": "e5d2527b",
   "metadata": {},
   "outputs": [
    {
     "data": {
      "text/plain": [
       "array([-5.        , -4.79591837, -4.59183673, -4.3877551 , -4.18367347,\n",
       "       -3.97959184, -3.7755102 , -3.57142857, -3.36734694, -3.16326531,\n",
       "       -2.95918367, -2.75510204, -2.55102041, -2.34693878, -2.14285714,\n",
       "       -1.93877551, -1.73469388, -1.53061224, -1.32653061, -1.12244898,\n",
       "       -0.91836735, -0.71428571, -0.51020408, -0.30612245, -0.10204082,\n",
       "        0.10204082,  0.30612245,  0.51020408,  0.71428571,  0.91836735,\n",
       "        1.12244898,  1.32653061,  1.53061224,  1.73469388,  1.93877551,\n",
       "        2.14285714,  2.34693878,  2.55102041,  2.75510204,  2.95918367,\n",
       "        3.16326531,  3.36734694,  3.57142857,  3.7755102 ,  3.97959184,\n",
       "        4.18367347,  4.3877551 ,  4.59183673,  4.79591837,  5.        ])"
      ]
     },
     "execution_count": 106,
     "metadata": {},
     "output_type": "execute_result"
    }
   ],
   "source": [
    "x = np.linspace(-5, 5, 50)\n",
    "x"
   ]
  },
  {
   "cell_type": "code",
   "execution_count": 110,
   "id": "07aa770a",
   "metadata": {},
   "outputs": [
    {
     "data": {
      "text/plain": [
       "[<matplotlib.lines.Line2D at 0x7f06e3c89c70>]"
      ]
     },
     "execution_count": 110,
     "metadata": {},
     "output_type": "execute_result"
    },
    {
     "data": {
      "image/png": "[encoded data removed]",
      "text/plain": [
       "<Figure size 432x288 with 1 Axes>"
      ]
     },
     "metadata": {
      "needs_background": "light"
     },
     "output_type": "display_data"
    }
   ],
   "source": [
    "# Funcion vectorizada\n",
    "y = np.sin(x)\n",
    "plt.plot(x, y, 'y.', linestyle='dashed', markersize=10)"
   ]
  },
  {
   "cell_type": "code",
   "execution_count": 119,
   "id": "3816f1c0",
   "metadata": {},
   "outputs": [
    {
     "data": {
      "image/png": "[encoded data removed]",
      "text/plain": [
       "<Figure size 432x288 with 1 Axes>"
      ]
     },
     "metadata": {
      "needs_background": "light"
     },
     "output_type": "display_data"
    }
   ],
   "source": [
    "x = np.linspace(0, 2, 100)\n",
    "plt.plot(x, x, label='lineal')\n",
    "plt.plot(x, x**2, label='cuadratica')\n",
    "plt.plot(x, x**3, label='cubica')\n",
    "plt.xlabel('eje x')\n",
    "plt.ylabel('f(x)')\n",
    "plt.title('Funciones')\n",
    "plt.grid()\n",
    "plt.legend()\n",
    "plt.show()"
   ]
  },
  {
   "cell_type": "code",
   "execution_count": 131,
   "id": "6fdbf5ba",
   "metadata": {},
   "outputs": [
    {
     "data": {
      "image/png": "[encoded data removed]",
      "text/plain": [
       "<Figure size 432x288 with 1 Axes>"
      ]
     },
     "metadata": {
      "needs_background": "light"
     },
     "output_type": "display_data"
    }
   ],
   "source": [
    "# Grafica de dispersion\n",
    "n = 50\n",
    "x = np.random.rand(n)\n",
    "y = np.random.rand(n)\n",
    "colores = np.random.rand(n) * 20\n",
    "areas = (30 * np.random.rand(n)) ** 2\n",
    "plt.scatter(x, y, s=areas, c=colores, alpha=0.4)\n",
    "plt.show()"
   ]
  },
  {
   "cell_type": "code",
   "execution_count": 134,
   "id": "eb653d79",
   "metadata": {
    "scrolled": true
   },
   "outputs": [
    {
     "data": {
      "image/png": "[encoded data removed]",
      "text/plain": [
       "<Figure size 432x288 with 1 Axes>"
      ]
     },
     "metadata": {
      "needs_background": "light"
     },
     "output_type": "display_data"
    }
   ],
   "source": [
    "# Histograma\n",
    "# mu-media\n",
    "# sigma-desviacion estandar\n",
    "mu, sigma = 100, 15\n",
    "x = mu+sigma * np.random.randn(1000)\n",
    "plt.hist(x, 50, density=True)\n",
    "plt.title('Histograma')\n",
    "plt.text(70, 0.030, r'$\\mu=100, \\ \\sigma=15$')\n",
    "plt.show()\n"
   ]
  },
  {
   "cell_type": "code",
   "execution_count": 143,
   "id": "d7dba2b0",
   "metadata": {},
   "outputs": [
    {
     "data": {
      "text/plain": [
       "Text(0.5, 1.0, 'Dispersion con areas')"
      ]
     },
     "execution_count": 143,
     "metadata": {},
     "output_type": "execute_result"
    },
    {
     "data": {
      "image/png": "[encoded data removed]",
      "text/plain": [
       "<Figure size 576x576 with 4 Axes>"
      ]
     },
     "metadata": {
      "needs_background": "light"
     },
     "output_type": "display_data"
    }
   ],
   "source": [
    "# Subgraficas\n",
    "data = {'foo': 10, 'bar': 15, 'foobar': 5, 'barfoo': 20}\n",
    "names = list(data.keys())\n",
    "values = list(data.values())\n",
    "fig, ((ax1, ax2),(ax3, ax4)) = plt.subplots(2,2, figsize=(8,8), sharey=True)\n",
    "\n",
    "ax1.bar(names, values)\n",
    "ax1.set_title('Barras')\n",
    "\n",
    "ax2.scatter(names, values)\n",
    "ax2.set_title('Dispersion')\n",
    "\n",
    "ax3.plot(names, values)\n",
    "ax3.set_title('Lineas')\n",
    "\n",
    "areas = [v * 50 for v in values]\n",
    "ax4.scatter(names, values, s=areas)\n",
    "ax4.set_title('Dispersion con areas')"
   ]
  },
  {
   "cell_type": "code",
   "execution_count": 147,
   "id": "023cb336",
   "metadata": {},
   "outputs": [
    {
     "name": "stdout",
     "output_type": "stream",
     "text": [
      "1  =>  5.2 error:  0.040000000000000036\n"
     ]
    },
    {
     "data": {
      "text/plain": [
       "5.2"
      ]
     },
     "execution_count": 147,
     "metadata": {},
     "output_type": "execute_result"
    }
   ],
   "source": [
    "def heron(N, n=1, e=1e-5):\n",
    "    \"\"\"\n",
    "    heron:\n",
    "        Funcion que obtiene la raiz de N por el metodo de Heron de Alejandria\n",
    "    \n",
    "    Parametros\n",
    "    ------------\n",
    "    N:  número porsitivo\n",
    "        Número del cual se desea obtener la raíz\n",
    "    n:  número (entero) positivo\n",
    "    e;  valor flatante\n",
    "    \"\"\"\n",
    "    \n",
    "    if N <= 0: return None\n",
    "    err, i = 1.0, 0\n",
    "    while err > e:\n",
    "        nn = 0.5 * (N/n + n)\n",
    "        err = abs(n - nn) / n\n",
    "        n = nn\n",
    "        i += 1\n",
    "        print(i, ' => ', n, 'error: ', err)\n",
    "        return n\n",
    "    \n",
    "heron(27, 5)"
   ]
  }
 ],
 "metadata": {
  "kernelspec": {
   "display_name": "Python 3",
   "language": "python",
   "name": "python3"
  },
  "language_info": {
   "codemirror_mode": {
    "name": "ipython",
    "version": 3
   },
   "file_extension": ".py",
   "mimetype": "text/x-python",
   "name": "python",
   "nbconvert_exporter": "python",
   "pygments_lexer": "ipython3",
   "version": "3.8.8"
  }
 },
 "nbformat": 4,
 "nbformat_minor": 5
}
