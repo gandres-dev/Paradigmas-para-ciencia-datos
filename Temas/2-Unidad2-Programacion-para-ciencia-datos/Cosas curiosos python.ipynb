{
 "cells": [
  {
   "cell_type": "markdown",
   "id": "90b68eb6",
   "metadata": {},
   "source": [
    "# Cosas curiosos python"
   ]
  },
  {
   "cell_type": "markdown",
   "id": "045dae90",
   "metadata": {},
   "source": [
    "### Lista mutables"
   ]
  },
  {
   "cell_type": "code",
   "execution_count": 13,
   "id": "886bf470",
   "metadata": {},
   "outputs": [],
   "source": [
    "x = [[]] * 5"
   ]
  },
  {
   "cell_type": "code",
   "execution_count": 14,
   "id": "d92637c6",
   "metadata": {},
   "outputs": [
    {
     "data": {
      "text/plain": [
       "[[], [], [], [], []]"
      ]
     },
     "execution_count": 14,
     "metadata": {},
     "output_type": "execute_result"
    }
   ],
   "source": [
    "x"
   ]
  },
  {
   "cell_type": "code",
   "execution_count": 15,
   "id": "3b0b1ffc",
   "metadata": {},
   "outputs": [],
   "source": [
    "x[0].append(4)"
   ]
  },
  {
   "cell_type": "code",
   "execution_count": 16,
   "id": "327158d9",
   "metadata": {},
   "outputs": [
    {
     "data": {
      "text/plain": [
       "[[4], [4], [4], [4], [4]]"
      ]
     },
     "execution_count": 16,
     "metadata": {},
     "output_type": "execute_result"
    }
   ],
   "source": [
    "x"
   ]
  },
  {
   "cell_type": "markdown",
   "id": "36be2a38",
   "metadata": {},
   "source": [
    "Al parecer para las 5 listas, es la mimsa lista, y ya que una lista es __mutable__ se modifican las 5 listas.\n",
    "\n",
    "Para craer una lista de listas vacias, es mejor utilizar, listas por comprensión"
   ]
  },
  {
   "cell_type": "code",
   "execution_count": 17,
   "id": "244ab7f6",
   "metadata": {},
   "outputs": [],
   "source": [
    "x = [[] for _ in range(5)]"
   ]
  },
  {
   "cell_type": "code",
   "execution_count": 18,
   "id": "ed787976",
   "metadata": {},
   "outputs": [
    {
     "data": {
      "text/plain": [
       "[[], [], [], [], []]"
      ]
     },
     "execution_count": 18,
     "metadata": {},
     "output_type": "execute_result"
    }
   ],
   "source": [
    "x"
   ]
  },
  {
   "cell_type": "code",
   "execution_count": 19,
   "id": "a593e14b",
   "metadata": {},
   "outputs": [],
   "source": [
    "x[0].append(4)"
   ]
  },
  {
   "cell_type": "code",
   "execution_count": 20,
   "id": "c32d1fc4",
   "metadata": {},
   "outputs": [
    {
     "data": {
      "text/plain": [
       "[[4], [], [], [], []]"
      ]
     },
     "execution_count": 20,
     "metadata": {},
     "output_type": "execute_result"
    }
   ],
   "source": [
    "x"
   ]
  },
  {
   "cell_type": "markdown",
   "id": "a0647bf6",
   "metadata": {},
   "source": [
    "---"
   ]
  },
  {
   "cell_type": "markdown",
   "id": "5a7f8221",
   "metadata": {},
   "source": [
    "### Objetos inmutables\n",
    "\n",
    "Que paso si son numeros"
   ]
  },
  {
   "cell_type": "code",
   "execution_count": 21,
   "id": "7b7b6cde",
   "metadata": {},
   "outputs": [],
   "source": [
    "x = [[0]] * 5"
   ]
  },
  {
   "cell_type": "code",
   "execution_count": 22,
   "id": "353711d6",
   "metadata": {},
   "outputs": [
    {
     "data": {
      "text/plain": [
       "[[0], [0], [0], [0], [0]]"
      ]
     },
     "execution_count": 22,
     "metadata": {},
     "output_type": "execute_result"
    }
   ],
   "source": [
    "x"
   ]
  },
  {
   "cell_type": "code",
   "execution_count": 24,
   "id": "db6d205a",
   "metadata": {},
   "outputs": [],
   "source": [
    "x[0].append(4)"
   ]
  },
  {
   "cell_type": "code",
   "execution_count": 25,
   "id": "6357b0c6",
   "metadata": {},
   "outputs": [
    {
     "data": {
      "text/plain": [
       "[[0, 4], [0, 4], [0, 4], [0, 4], [0, 4]]"
      ]
     },
     "execution_count": 25,
     "metadata": {},
     "output_type": "execute_result"
    }
   ],
   "source": [
    "x"
   ]
  },
  {
   "cell_type": "code",
   "execution_count": 26,
   "id": "8d0d48a3",
   "metadata": {},
   "outputs": [
    {
     "data": {
      "text/plain": [
       "[0, 0, 0, 0, 0]"
      ]
     },
     "execution_count": 26,
     "metadata": {},
     "output_type": "execute_result"
    }
   ],
   "source": [
    "x = [0] * 5\n",
    "x"
   ]
  },
  {
   "cell_type": "code",
   "execution_count": 27,
   "id": "88125ea4",
   "metadata": {},
   "outputs": [],
   "source": [
    "x[0] = 4"
   ]
  },
  {
   "cell_type": "code",
   "execution_count": 28,
   "id": "1a897882",
   "metadata": {},
   "outputs": [
    {
     "data": {
      "text/plain": [
       "[4, 0, 0, 0, 0]"
      ]
     },
     "execution_count": 28,
     "metadata": {},
     "output_type": "execute_result"
    }
   ],
   "source": [
    "x"
   ]
  },
  {
   "cell_type": "markdown",
   "id": "2d85e3fc",
   "metadata": {},
   "source": [
    "---"
   ]
  },
  {
   "cell_type": "code",
   "execution_count": null,
   "id": "943725bf",
   "metadata": {},
   "outputs": [],
   "source": []
  },
  {
   "cell_type": "code",
   "execution_count": null,
   "id": "e2dba036",
   "metadata": {},
   "outputs": [],
   "source": []
  }
 ],
 "metadata": {
  "kernelspec": {
   "display_name": "Python 3",
   "language": "python",
   "name": "python3"
  },
  "language_info": {
   "codemirror_mode": {
    "name": "ipython",
    "version": 3
   },
   "file_extension": ".py",
   "mimetype": "text/x-python",
   "name": "python",
   "nbconvert_exporter": "python",
   "pygments_lexer": "ipython3",
   "version": "3.8.8"
  }
 },
 "nbformat": 4,
 "nbformat_minor": 5
}
