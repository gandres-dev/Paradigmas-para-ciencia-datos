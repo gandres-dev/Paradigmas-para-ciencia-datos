{
 "cells": [
  {
   "cell_type": "markdown",
   "id": "68966c02",
   "metadata": {},
   "source": [
    "# Paradigmas y Programación para Ciencia de Datos - Primer parcial\n",
    "\n",
    "## Integrantes\n",
    "\n",
    "- Silva Velázquez Elsy Camila\n",
    "- Longines Tapia Hugo Didier\n",
    "- Andrés Urbano Guillermo Gerardo"
   ]
  },
  {
   "cell_type": "markdown",
   "id": "f6bb2fd5",
   "metadata": {},
   "source": [
    "## 1-Obtén las funciones discriminantes del clasificador determinista y también el estadístico para el conjunto de datos Iris; elige al menos dos conjuntos diferentes de columnas para generar funciones diferentes (10p)"
   ]
  },
  {
   "cell_type": "markdown",
   "id": "5fce54ba",
   "metadata": {},
   "source": [
    "Dataset: Iris \n",
    "\n",
    "|sepal length|sepal width|petal length|petal width| clase|\n",
    "|-----------------|--------|-----------|-----------|------|\n",
    "|5.1|3.5|1.4|0.2|Iris-setosa|\n",
    "|4.9|3.0|1.4|0.2|Iris-setosa|\n",
    "|4.7|3.2|1.3|0.2|Iris-setosa|\n",
    "|4.6|3.1|1.5|0.2|Iris-setosa|\n",
    "|5.0|3.6|1.4|0.2|Iris-setosa|\n",
    "|...|...|...|...|...|\n",
    "\n",
    "\n",
    "\n",
    "    Number of Instances: 150 (50 in each of three classes).\n",
    "    Class Distribution: 33.3% for each of 3 classes."
   ]
  },
  {
   "cell_type": "markdown",
   "id": "085794c9",
   "metadata": {},
   "source": [
    "### Librerias"
   ]
  },
  {
   "cell_type": "code",
   "execution_count": 167,
   "id": "5f7e573f",
   "metadata": {},
   "outputs": [],
   "source": [
    "#Clasificador determinista de Euclides\n",
    "import numpy as np \n",
    "from sympy import Matrix, symbols, simplify"
   ]
  },
  {
   "cell_type": "markdown",
   "id": "bd94ed09",
   "metadata": {},
   "source": [
    "### Obtención de los datos"
   ]
  },
  {
   "cell_type": "code",
   "execution_count": 209,
   "id": "77adff12",
   "metadata": {},
   "outputs": [
    {
     "name": "stdout",
     "output_type": "stream",
     "text": [
      "Etiquetas :  [0 1 2]\n"
     ]
    },
    {
     "data": {
      "text/plain": [
       "(150, 2)"
      ]
     },
     "execution_count": 209,
     "metadata": {},
     "output_type": "execute_result"
    }
   ],
   "source": [
    "from sklearn import datasets\n",
    "\n",
    "iris = datasets.load_iris()\n",
    "# Las caracteristicas tomaremos seran:  petal length y petal width\n",
    "w1 = iris.data[:, [2]]\n",
    "w2 = iris.data[:, [3]]\n",
    "\n",
    "# Dado que son tres clases disitintas para iris, obtendremos un vector con 0,1 y 2\n",
    "y = iris.target[:]\n",
    "print('Etiquetas : ' , np.unique(y))\n",
    "X.shape"
   ]
  },
  {
   "cell_type": "markdown",
   "id": "62a480f6",
   "metadata": {},
   "source": [
    "### Obtén las funciones discriminantes del clasificador determinista"
   ]
  },
  {
   "cell_type": "code",
   "execution_count": 210,
   "id": "690cb21f",
   "metadata": {},
   "outputs": [],
   "source": [
    "def clasif_e(samples):\n",
    "    n_samples = len(samples) #Número de clases\n",
    "    #print(n_samples)\n",
    "    X = Matrix( [symbols('x'+str(i)) for i in range(samples[0].shape[0])] )\n",
    "    #print(X)\n",
    "    fds = [] #almacen de funciones\n",
    "    for s in samples:\n",
    "        m = Matrix(np.mean(s, axis=1))\n",
    "        fds.append( simplify( X.T*m - 0.5*(m.T*m) ) )\n",
    "    return fds"
   ]
  },
  {
   "cell_type": "code",
   "execution_count": 211,
   "id": "adfdb933",
   "metadata": {},
   "outputs": [
    {
     "name": "stdout",
     "output_type": "stream",
     "text": [
      "[Matrix([[3.758*x0 - 7.061282]]), Matrix([[1.19933333333333*x0 - 0.719200222222223]])]\n",
      "fd0 :  Matrix([[4.21271800000000]])\n",
      "fd1 :  Matrix([[2.87879977777778]])\n"
     ]
    }
   ],
   "source": [
    "w1 = w1.T\n",
    "w2 = w2.T\n",
    "samples = (w1,w2)\n",
    "fds = clasif_e(samples)\n",
    "print(fds)\n",
    "for fd in range(len(fds)):\n",
    "    print('fd'+str(fd)+ ' : ',fds[fd].evalf(subs={'x0':3, 'x1':1, 'x2':3, 'x3':1}))"
   ]
  },
  {
   "cell_type": "markdown",
   "id": "000d53da",
   "metadata": {},
   "source": [
    "### Obtén las funciones discriminantes del clasificador estadístico"
   ]
  },
  {
   "cell_type": "code",
   "execution_count": 212,
   "id": "307bcfc2",
   "metadata": {},
   "outputs": [
    {
     "name": "stdout",
     "output_type": "stream",
     "text": [
      "Etiquetas :  [0 1 2]\n"
     ]
    },
    {
     "data": {
      "text/plain": [
       "(150, 2)"
      ]
     },
     "execution_count": 212,
     "metadata": {},
     "output_type": "execute_result"
    }
   ],
   "source": [
    "iris = datasets.load_iris()\n",
    "\n",
    "# Las caracteristicas tomaremos seran:  sepal length y sepal width\n",
    "#w1 = iris.data[:, [0]]\n",
    "# w2 = iris.data[:, [1]]\n",
    "\n",
    "w1 = iris.data[:, [2]]\n",
    "w2 = iris.data[:, [3]]\n",
    "\n",
    "# Dado que son tres clases disitintas para iris, obtendremos\n",
    "# un vector con 0,1 y 3's en y\n",
    "y = iris.target[:]\n",
    "print('Etiquetas : ' , np.unique(y))\n",
    "X.shape"
   ]
  },
  {
   "cell_type": "code",
   "execution_count": 213,
   "id": "107f919f",
   "metadata": {},
   "outputs": [],
   "source": [
    "#Clasificador probabilista de Mahalanobis\n",
    "import numpy as np\n",
    "from sympy import Matrix, symbols , simplify, log\n",
    "\n",
    "def clasif_m(samples):\n",
    "    n_samples = len(samples) #Número de clases\n",
    "    X = Matrix( [symbols('x'+str(i)) for i in range(samples[0].shape[0])] )\n",
    "    fds = [] #almacen de funciones\n",
    "    for s in samples:\n",
    "        m = Matrix(np.mean(s, axis=1))\n",
    "        print('Media:\\n',m)\n",
    "        m_cov = np.cov(s, bias=True)\n",
    "        print('Covarianza:\\n',m_cov)\n",
    "        m_ci = Matrix(m_cov).inv()\n",
    "        print('Inversa:\\n',m_ci)\n",
    "        fds.append( simplify( (X.T*m_ci*X)/-2 + X.T*m_ci*m - (m.T*m_ci*m)/2 - Matrix([log(m_ci.det())/2]) ) )\n",
    "    return fds"
   ]
  },
  {
   "cell_type": "markdown",
   "id": "f8fcbabd",
   "metadata": {},
   "source": [
    "\n",
    "### 2. Aplica la regla de aprendizaje para los pesos de una neurona artificial basada en el modelo delperceptron que calcule la función booleana XOR de dos parámetros mostrando la evolución delos pesos (8p) Nota: El algoritmo sí termina con pesos inicializados a 0, explica a qué se debe"
   ]
  },
  {
   "cell_type": "markdown",
   "id": "72d6417d",
   "metadata": {},
   "source": [
    "$$XOR$$\n",
    "\n",
    "|x1|x2|clase|\n",
    "|--|---|-----|\n",
    "|0|0|0|\n",
    "|0|1|1|\n",
    "|1|0|1|\n",
    "|1|1|0|\n",
    "\n"
   ]
  },
  {
   "cell_type": "markdown",
   "id": "6a8f0eb4",
   "metadata": {},
   "source": [
    "## Modelo del perceptron"
   ]
  },
  {
   "cell_type": "code",
   "execution_count": 6,
   "id": "d62f032e",
   "metadata": {
    "code_folding": [
     3
    ]
   },
   "outputs": [],
   "source": [
    "import numpy as np\n",
    "\n",
    "# Algoritmo supervisado\n",
    "class Perceptron(object):\n",
    "    \n",
    "    def __init__(self, eta=0.01, n_iter=50, random_state=1):        \n",
    "        self.eta = eta\n",
    "        self.n_iter = n_iter\n",
    "        self.random_state =random_state\n",
    "        \n",
    "    def fit(self, X, y):\n",
    "        \"\"\"Cuando en realidad el perceptron aprende.\"\"\"\n",
    "        rgen = np.random.RandomState(self.random_state)        \n",
    "        if self.random_state is None:            \n",
    "            self.w_ = np.zeros(1 + len(X[0])) \n",
    "        else:\n",
    "            self.w_ = rgen.normal(loc=0.0, scale=0.01, size=1 + X.shape[1])\n",
    "        \n",
    "        # Lista de errores \n",
    "        self.errors_ = []\n",
    "        # Esta parte de iterar y ver actualizar nuevo pesos se llama 'Epoca'\n",
    "        for _ in range(self.n_iter):\n",
    "            errors = 0                        \n",
    "            for xi, yi in zip(X, y):                                \n",
    "                update = self.eta * (yi - self.predict(xi))                \n",
    "                self.w_[1:] += update * xi \n",
    "                # x_0 = 1\n",
    "                self.w_[0] += update * 1                                               \n",
    "                errors += int(update != 0.0)\n",
    "            self.errors_.append(errors)\n",
    "            # Testear\n",
    "            #print(\"---Iteración: {} - Lista de errores by iter: {}--\".format(_ + 1, self.errors_))            \n",
    "            print(\"pesos: \", self.w_)\n",
    "        return self \n",
    "    \n",
    "    def net_input(self, X):\n",
    "        \"\"\"Calcular el producto punto\"\"\"\n",
    "        return np.dot(X, self.w_[1:]) + self.w_[0]\n",
    "        \n",
    "    def predict(self, X):\n",
    "        \"\"\" Predice el perceptrón en el paso actual (funcion activacion, en esta caso funcion escalon 1 a -1)\"\"\"                \n",
    "        return np.where(self.net_input(X) >= 0.0, 1, -1)     "
   ]
  },
  {
   "cell_type": "markdown",
   "id": "70d39927",
   "metadata": {},
   "source": [
    "### Obtencion de datos"
   ]
  },
  {
   "cell_type": "code",
   "execution_count": 7,
   "id": "c4c2ae83",
   "metadata": {},
   "outputs": [
    {
     "name": "stdout",
     "output_type": "stream",
     "text": [
      "pesos:  [ 0.  -0.1  0.1]\n",
      "pesos:  [0. 0. 0.]\n",
      "pesos:  [ 0.  -0.1  0.1]\n",
      "pesos:  [0. 0. 0.]\n",
      "pesos:  [ 0.  -0.1  0.1]\n",
      "pesos:  [0. 0. 0.]\n",
      "pesos:  [ 0.  -0.1  0.1]\n",
      "pesos:  [0. 0. 0.]\n",
      "pesos:  [ 0.  -0.1  0.1]\n",
      "pesos:  [0. 0. 0.]\n",
      "pesos:  [ 0.  -0.1  0.1]\n",
      "pesos:  [0. 0. 0.]\n",
      "pesos:  [ 0.  -0.1  0.1]\n",
      "pesos:  [0. 0. 0.]\n",
      "pesos:  [ 0.  -0.1  0.1]\n",
      "pesos:  [0. 0. 0.]\n",
      "pesos:  [ 0.  -0.1  0.1]\n",
      "pesos:  [0. 0. 0.]\n",
      "Pesos : [0. 0. 0.] \n"
     ]
    }
   ],
   "source": [
    "X =  np.array([[0 ,0], [0 ,1], [1 ,0], [1 ,1]])\n",
    "y =  np.array([0 ,1 ,1 , 0])\n",
    "\n",
    "ppn = Perceptron(n_iter =18, eta =0.1, random_state=None)\n",
    "ppn.fit(X, y)\n",
    "print('Pesos : %s ' % ppn.w_)"
   ]
  },
  {
   "cell_type": "markdown",
   "id": "f9ec7034",
   "metadata": {},
   "source": [
    "Vemos que al hacer muchar iteración sigen variando, por lo tanto, podemos concluir que no son linealmente separables, al ver la grafica de los puntos, notamos que necesitamos $2$ rectas para separar nuestro conjunto de datos, dado que los estan separados en cada esquina, impidiendo que con una recta pueda dividirlos.\n"
   ]
  },
  {
   "cell_type": "markdown",
   "id": "9d701981",
   "metadata": {},
   "source": [
    "## Visualizando"
   ]
  },
  {
   "cell_type": "code",
   "execution_count": 14,
   "id": "b4ad9dae",
   "metadata": {},
   "outputs": [
    {
     "data": {
      "image/png": "[encoded data removed]",
      "text/plain": [
       "<Figure size 432x288 with 1 Axes>"
      ]
     },
     "metadata": {
      "needs_background": "light"
     },
     "output_type": "display_data"
    }
   ],
   "source": [
    "from mlxtend.plotting import plot_decision_regions\n",
    "import matplotlib.pyplot as plt\n",
    "\n",
    "plot_decision_regions(X, y, clf=ppn)\n",
    "plt.xlabel('x1')\n",
    "plt.ylabel('x2')\n",
    "plt.title(\"Modelo perceptron\")\n",
    "plt.show()"
   ]
  },
  {
   "cell_type": "markdown",
   "id": "61587200",
   "metadata": {},
   "source": [
    "## 3 ¿La regresión logística puede separar bien la función booleana XOR de dos parámetros? Argumenta tu respuesta (5p)"
   ]
  },
  {
   "cell_type": "code",
   "execution_count": 15,
   "id": "f32838ba",
   "metadata": {},
   "outputs": [],
   "source": [
    "# La muestras\n",
    "X = np.array([[0,0], [0,1], [1,0], [1,1]])\n",
    "y = np.array([0, 1, 1, 0])"
   ]
  },
  {
   "cell_type": "code",
   "execution_count": 18,
   "id": "77f5264d",
   "metadata": {},
   "outputs": [
    {
     "data": {
      "text/plain": [
       "LogisticRegression(C=150.0, random_state=1)"
      ]
     },
     "execution_count": 18,
     "metadata": {},
     "output_type": "execute_result"
    }
   ],
   "source": [
    "from sklearn.linear_model import LogisticRegression\n",
    "\n",
    "lr = LogisticRegression(C=150.0, random_state=1)\n",
    "lr.fit(X, y)"
   ]
  },
  {
   "cell_type": "markdown",
   "id": "65dc1b3a",
   "metadata": {},
   "source": [
    "### Visualizando"
   ]
  },
  {
   "cell_type": "code",
   "execution_count": 19,
   "id": "5bccceb5",
   "metadata": {},
   "outputs": [
    {
     "name": "stderr",
     "output_type": "stream",
     "text": [
      "/home/guillermo/anaconda3/lib/python3.8/site-packages/mlxtend/plotting/decision_regions.py:243: UserWarning: No contour levels were found within the data range.\n",
      "  ax.contour(xx, yy, Z, cset.levels,\n"
     ]
    },
    {
     "data": {
      "image/png": "[encoded data removed]",
      "text/plain": [
       "<Figure size 432x288 with 1 Axes>"
      ]
     },
     "metadata": {
      "needs_background": "light"
     },
     "output_type": "display_data"
    }
   ],
   "source": [
    "from mlxtend.plotting import plot_decision_regions\n",
    "import matplotlib.pyplot as plt\n",
    "\n",
    "plot_decision_regions(X, y, clf=lr)\n",
    "plt.xlabel('x1')\n",
    "plt.ylabel('x2')\n",
    "plt.title(\"Regresion logistica\")\n",
    "plt.show()"
   ]
  },
  {
   "cell_type": "markdown",
   "id": "b8ebb1c0",
   "metadata": {},
   "source": [
    "Vemos que con regresión logistica tampoco pude separar los datos."
   ]
  },
  {
   "cell_type": "markdown",
   "id": "05e32e2e",
   "metadata": {},
   "source": [
    "## 4. Escribe un pseudocódigo detallado del algoritmo Sequential Forward Selection (5p)"
   ]
  },
  {
   "cell_type": "markdown",
   "id": "cc4d5d9b",
   "metadata": {},
   "source": [
    "Secuencia hacia adelante es exactamente al reves del SBS\n",
    "\n",
    "Primero, inicializamos con un conjunto vacio de caracteristicas\n",
    "\n",
    "Agregamos una columna y nos quedamos con aquella que nos entregue el mayor rendimiento\n",
    "\n",
    "Agregando una columna a la vez\n",
    "\n",
    "Agregamos la primera, y vemos cuanto nos entrega de rendimiento, despues quitamos esa y agregamos solo la segunda vemos como le va, así hasta recorrerlas todas\n",
    "\n",
    "Y nos quedaremos de ellas, con la más grande de todas \n",
    "\n",
    "\n",
    " Despues de esa que nos quedamos, agregamos una segunda columna de las restantes y nos vamos quedando con la mayor y la vamos metiendo en nuestro conjunto de caractaristicas.\n",
    " \n",
    " \n",
    " Es casi igual, pero iniciaciando con un conjunto vacio de caracteristicas y en ese vamos agregando, mientras que con SBS iniciamos con todas y vamos quitando."
   ]
  },
  {
   "cell_type": "markdown",
   "id": "c9225123",
   "metadata": {},
   "source": [
    "El algoritmo puede describirse:\n",
    "\n",
    "\n",
    "1. Inicializar el algoritmo con k = 0, con un conjunto vacio de caracteristicas .\n",
    "\n",
    "2. Agregar una caracteristica a $X_k$.\n",
    "\n",
    "2. Conocer el rendimiento usando el que maximiza el criterio: $x^−$ = arg máx $(J (X_k))$, donde $x$ ∈ $X_k$\n",
    "\n",
    "3. Agrega la característica $x⁻$ del conjunto: $X_k$ si es el maximo rendimiento.\n",
    "\n",
    "4. Si k es mayor que el número deseado de características, repetir desde el paso 2; de otro modo, terminar la ejecución"
   ]
  },
  {
   "cell_type": "markdown",
   "id": "957b35a9",
   "metadata": {},
   "source": [
    "## 5. ¿Qué sucede al utilizar Linear Discriminant Analysis (LDA) sobre el conjunto de medias lunas? Escribe un código que lo muestre (7p)"
   ]
  },
  {
   "cell_type": "markdown",
   "id": "c3b75671",
   "metadata": {},
   "source": [
    "### Obtencion datos"
   ]
  },
  {
   "cell_type": "code",
   "execution_count": 31,
   "id": "22233580",
   "metadata": {},
   "outputs": [
    {
     "data": {
      "image/png": "[encoded data removed]",
      "text/plain": [
       "<Figure size 432x288 with 1 Axes>"
      ]
     },
     "metadata": {
      "needs_background": "light"
     },
     "output_type": "display_data"
    }
   ],
   "source": [
    "import numpy as np\n",
    "import matplotlib.pyplot as plt \n",
    "\n",
    "\n",
    "from sklearn.datasets import make_moons\n",
    "\n",
    "X, y = make_moons(n_samples=100, random_state=123)\n",
    "\n",
    "\n",
    "plt.scatter(X[y==0,0], X[y==0,1], color='red', marker='*',\n",
    "           alpha=0.5)\n",
    "\n",
    "plt.scatter(X[y==1,0], X[y==1,1], color='blue', marker='o',\n",
    "           alpha=0.5)\n",
    "\n",
    "plt.show()"
   ]
  },
  {
   "cell_type": "markdown",
   "id": "353f95df",
   "metadata": {},
   "source": [
    "## Estandarizamos"
   ]
  },
  {
   "cell_type": "code",
   "execution_count": 35,
   "id": "ecdbfd4d",
   "metadata": {},
   "outputs": [],
   "source": [
    "from sklearn.preprocessing import StandardScaler\n",
    "sc = StandardScaler()\n",
    "\n",
    "X_std = sc.fit_transform(X)"
   ]
  },
  {
   "cell_type": "markdown",
   "id": "673268a0",
   "metadata": {},
   "source": [
    "### Reduccion LDA"
   ]
  },
  {
   "cell_type": "code",
   "execution_count": null,
   "id": "b78192cc",
   "metadata": {},
   "outputs": [],
   "source": [
    "from sklearn.discriminant_analysis import LinearDiscriminantAnalysis as LDA\n",
    "\n",
    "lda = LDA(n_components=2)\n",
    "# Como este si es supervisado, debemos indicar la y_train\n",
    "X_lda = lda.fit_transform(X_std, y)"
   ]
  },
  {
   "cell_type": "markdown",
   "id": "ba53e120",
   "metadata": {},
   "source": [
    "### Visualizando"
   ]
  },
  {
   "cell_type": "code",
   "execution_count": null,
   "id": "b1535ce2",
   "metadata": {},
   "outputs": [],
   "source": [
    "fig, ax = plt.subplots (nrows=1, ncols=2, figsize =(10,4))\n",
    "ax[0].scatter(X_lda[y==0, 0], X_lda[y==0, 0], color='red',\n",
    "marker='^', alpha =0.5)\n",
    "ax[0].scatter(X_lda[y==1, 0], X_lda[y==1, 0], color='blue',\n",
    "marker='o', alpha=0.5)\n",
    "ax[1].scatter(X_lda[y==0, 0], np.zeros((50,1))+0.02, color='red',\n",
    "marker='^', alpha =0.5)\n",
    "ax[1].scatter(X_lda[y==1, 0], np.zeros((50,1))-0.02, color='blue',\n",
    "marker='o', alpha=0.5)\n",
    "\n",
    "\n",
    "ax[0].set_xlabel('PC1')\n",
    "ax[0].set_ylabel('PC2 ')\n",
    "ax[1].set_ylim ([-1,1])\n",
    "ax[0].set_xlabel('PC1 ')\n",
    "plt.show()"
   ]
  },
  {
   "cell_type": "markdown",
   "id": "76cbf6b2",
   "metadata": {},
   "source": [
    "## 6-Escribe un código que utilice KernelPCA con rbf y otra función de kernel para separar círculos concéntricos; compara los resultados con el uso de PCA sobre los mismos datos (10p)"
   ]
  },
  {
   "cell_type": "code",
   "execution_count": 57,
   "id": "b2169581",
   "metadata": {},
   "outputs": [],
   "source": [
    "# Datos : círculos concéntricos\n",
    "from sklearn . datasets import make_circles\n",
    "X , y = make_circles ( n_samples =1000 , random_state =123 , noise =0.1 , factor =0.2)"
   ]
  },
  {
   "cell_type": "code",
   "execution_count": 58,
   "id": "1acab160",
   "metadata": {},
   "outputs": [
    {
     "data": {
      "image/png": "[encoded data removed]",
      "text/plain": [
       "<Figure size 432x288 with 1 Axes>"
      ]
     },
     "metadata": {
      "needs_background": "light"
     },
     "output_type": "display_data"
    }
   ],
   "source": [
    "plt.scatter(X[y==0,0], X[y==0,1], color='red', marker='*',\n",
    "           alpha=0.5)\n",
    "\n",
    "plt.scatter(X[y==1,0], X[y==1,1], color='blue', marker='o',\n",
    "           alpha=0.5)\n",
    "\n",
    "plt.show()"
   ]
  },
  {
   "cell_type": "markdown",
   "id": "577d89ac",
   "metadata": {},
   "source": [
    "## Reduccion con PCA\n"
   ]
  },
  {
   "cell_type": "code",
   "execution_count": 126,
   "id": "65567f35",
   "metadata": {},
   "outputs": [],
   "source": [
    "from sklearn.decomposition import PCA\n",
    "\n",
    "pca = PCA(n_components=2)\n",
    "X_pca = pca.fit_transform(X)"
   ]
  },
  {
   "cell_type": "code",
   "execution_count": 120,
   "id": "be1eb0be",
   "metadata": {},
   "outputs": [
    {
     "data": {
      "text/plain": [
       "<matplotlib.collections.PathCollection at 0x7fa6fd11e6a0>"
      ]
     },
     "execution_count": 120,
     "metadata": {},
     "output_type": "execute_result"
    },
    {
     "data": {
      "image/png": "[encoded data removed]",
      "text/plain": [
       "<Figure size 720x288 with 2 Axes>"
      ]
     },
     "metadata": {
      "needs_background": "light"
     },
     "output_type": "display_data"
    }
   ],
   "source": [
    "# Haremos subgraficas, una delante de la otra\n",
    "fig, ax = plt.subplots(nrows=1, ncols=2, figsize=(10,4), sharey=True)\n",
    "ax[0].scatter(X_pca[y==0,0], X_pca[y==0,1], color='red', marker='*',\n",
    "           alpha=0.5)\n",
    "\n",
    "ax[0].scatter(X_pca[y==1,0], X_pca[y==1,1], color='blue', marker='o',\n",
    "           alpha=0.5)\n",
    "\n",
    "# Mandaremos el resultado de PCA a la derecha, para ver si\n",
    "# se separa a nuestros conjuntos.\n",
    "ax[1].scatter(X_pca[y==0,0], np.zeros((500,1))+0.02, color='red', marker='*',\n",
    "           alpha=0.5)\n",
    "\n",
    "ax[1].scatter(X_pca[y==1,0], np.zeros((500,1))-0.02, color='blue', marker='o',\n",
    "           alpha=0.5)"
   ]
  },
  {
   "cell_type": "markdown",
   "id": "a3b9e5a9",
   "metadata": {},
   "source": [
    "### Reduccion con KPCA"
   ]
  },
  {
   "cell_type": "code",
   "execution_count": 37,
   "id": "9a9d7397",
   "metadata": {},
   "outputs": [],
   "source": [
    "from sklearn.decomposition import KernelPCA\n",
    "\n",
    "# Le tenememos que indicar que kernel\n",
    "kpca = KernelPCA(n_components=2, kernel='rbf', gamma=15)\n",
    "X_kpca = kpca.fit_transform(X)"
   ]
  },
  {
   "cell_type": "markdown",
   "id": "509bd093",
   "metadata": {},
   "source": [
    "### Visualizando"
   ]
  },
  {
   "cell_type": "code",
   "execution_count": 108,
   "id": "2b2f4bab",
   "metadata": {},
   "outputs": [
    {
     "data": {
      "text/plain": [
       "<matplotlib.collections.PathCollection at 0x7fa6ff9e92b0>"
      ]
     },
     "execution_count": 108,
     "metadata": {},
     "output_type": "execute_result"
    },
    {
     "data": {
      "image/png": "[encoded data removed]",
      "text/plain": [
       "<Figure size 720x288 with 2 Axes>"
      ]
     },
     "metadata": {
      "needs_background": "light"
     },
     "output_type": "display_data"
    }
   ],
   "source": [
    "# Haremos subgraficas, una delante de la otra\n",
    "fig, ax = plt.subplots(nrows=1, ncols=2, figsize=(10,4), sharey=True)\n",
    "ax[0].scatter(X_kpca[y==0,0], X_kpca[y==0,1], color='red', marker='*',\n",
    "           alpha=0.5)\n",
    "\n",
    "ax[0].scatter(X_kpca[y==1,0], X_kpca[y==1,1], color='blue', marker='o',\n",
    "           alpha=0.5)\n",
    "\n",
    "# Mandaremos el resultado de PCA a la derecha, para ver si\n",
    "# se separa a nuestros conjuntos.\n",
    "ax[1].scatter(X_kpca[y==0,0], np.zeros((500,1))+0.02, color='red', marker='*',\n",
    "           alpha=0.5)\n",
    "\n",
    "ax[1].scatter(X_kpca[y==1,0], np.zeros((500,1))-0.02, color='blue', marker='o',\n",
    "           alpha=0.5)"
   ]
  },
  {
   "cell_type": "markdown",
   "id": "f45991ce",
   "metadata": {},
   "source": [
    "Vemos que con KPCA si se pueden seperar linealmente, mientras que con PCA no es posible seperar nuestro conjunto de datos."
   ]
  },
  {
   "cell_type": "markdown",
   "id": "c29c93f9",
   "metadata": {},
   "source": [
    "# Reduccion con KPCA otro kernel "
   ]
  },
  {
   "cell_type": "code",
   "execution_count": 59,
   "id": "5810dd19",
   "metadata": {},
   "outputs": [],
   "source": [
    "from sklearn.decomposition import KernelPCA\n",
    "\n",
    "# Le tenememos que indicar que kernel\n",
    "kpca = KernelPCA(n_components=2, kernel='poly', gamma=18)\n",
    "X_kpca = kpca.fit_transform(X)"
   ]
  },
  {
   "cell_type": "markdown",
   "id": "3e948a9b",
   "metadata": {},
   "source": [
    "## 7 -Elige dos estimadores y demuestra que definen algoritmos escalables (10p)"
   ]
  },
  {
   "cell_type": "markdown",
   "id": "074b0eba",
   "metadata": {},
   "source": [
    "\n",
    "1. $\\bar{X}_{px1} = n^{-1}[\\sum_{i=1}^{n}x_{i,1}, \\cdots , \\sum_{i=1}^{n}x_{i,p} ]$\n",
    "2. $\\hat{\\sigma}_j^2 = n^{-1}\\sum_{i=1}^n x_{ij}^2 - \\bar{x}_j^2$"
   ]
  },
  {
   "cell_type": "markdown",
   "id": "97c14900",
   "metadata": {},
   "source": [
    "## Solución 1\n",
    "1. $\\bar{X}_{px1} = n^{-1}[\\sum_{i=1}^{n}x_{i,1}, \\cdots , \\sum_{i=1}^{n}x_{i,p} ]$\n",
    "\n",
    "Primero hay que recordar algunas cosas. \n",
    "Para este caso nuestros datos son representados por el siguiente conjunto:\n",
    "\n",
    "$D = ({X_1, \\cdots , X_n})$ donde $X_i = [x_{i,1}, \\cdots, x_{i,p}]^T$\n",
    "\n",
    "Ya que estamos en un caso donde las observaciones son multivariadas.\n",
    "\n",
    "Por lo tanto lo primero que hay que hacer es ver que los datos podemos partirlos. Ya que tengamos que la partición de los datos, faltaría demostrar que la media y la varianza se mantienen siendo las mismas. Es decir que nuestra media y varianza pueden ser partidas. \n",
    "\n",
    "\n",
    "Si $S(D)= [S_1(D), \\cdots, S_d(D)]$ entonces veamos que nuestro conjunto se puede partir de la siguiente forma:\n",
    "\n",
    "$$S(D_1) + S(D_2) = \\begin{bmatrix}  \\sum_{i=1}^m x_{i,1}  \\\\ \\vdots \\\\ \\sum_{i=1}^m x_{i,p} \\\\ m \\end{bmatrix} + \\begin{bmatrix}  \\sum_{i=m+1}^n x_{i,1}  \\\\ \\vdots \\\\ \\sum_{i=m+1}^n x_{i,p} \\\\ n-m \\end{bmatrix} = \\begin{bmatrix} \\sum_{i=1}^m x_{i,1} + \\sum_{i=m+1}^n x_{i,1} \\\\ \\vdots \\\\ \\sum_{i=1}^m x_{i,p} + \\sum_{i=m+1}^n x_{i,p} \\\\ m+n-m\\end{bmatrix} $$\n",
    "\n",
    "Por lo tanto obtenemos: \n",
    "\n",
    "$$S(D_1)+S(D_2) = \\begin{bmatrix} \\sum_{i=1}^n x_{i,1} \\\\ \\vdots \\\\ \\sum_{i=1}^n x_{i,p}\\end{bmatrix} = S(D)$$\n",
    "\n",
    "Entonces si podemos partir nuestros datos de tal forma que al sumarlo nos regresen los datos completos. \n",
    "\n",
    "Ahora lo que necesitamos es ver que con esa partición cualquiera, nuestra media de $S(D_1)$ sumada con la media de $S(D_2)$ nos regresa la media total. \n",
    "\n",
    "Entonces lo que tenemos que hacer es partir de una $\\mu_1$ y $\\mu_2$ y ver que al sumarlas nos regresa la formula del ejercicio. Eso con la partición que ya dimos arriba.\n",
    "\n",
    "Entonces tenemos:\n",
    "$$\\mu_1 + \\mu_2 = m^{-1}[\\sum_{i=1}^m x_{i,1}, \\cdots , \\sum_{i=1}^m x_{i,p}] + (n-m)^{-1}[\\sum_{i=m+1}^n x_{i,1}, \\cdots , \\sum_{i=m+1}^n x_{i,p}]$$\n",
    "\n",
    "$$=[m^{-1}\\sum_{i=1}^m x_{i,1} + (n-m)^{-1}\\sum_{i=m+1}^n x_{i,1}, \\cdots , m^{-1}\\sum_{i=1}^m x_{i,p} + (n-m)^{-1}\\sum_{i=m+1}^n x_{i,p}]$$\n",
    "\n",
    "Como podemos observar, lo único que nos falta por hacer es ver que $m^{-1} + (n-m)^{-1} = n^{-1}$ ya que las sumas como ya vimos en $S(D_1) + S(D_2)$ nos daran lo que queremos. \n",
    "\n",
    "Entonces demostremos lo siguiente:\n",
    "\n",
    "$$\\frac{1}{m} + \\frac{1}{n-m} = \\frac{n-m}{m(n-m)} + \\frac{m}{m(n-m)} = \\frac{n}{m(n-m)}$$\n",
    "\n",
    "Pero esta igualdad implica lo siguiente:\n",
    "\n",
    "$$m + (n-m) = \\frac{m(n-m)}{n} = n $$ \n",
    "\n",
    "Lo cual a su vez al despejar nos lleva a la siguiente conclusión:\n",
    "\n",
    "$$ \\frac{1}{n} = n^{-1} = \\frac{n}{m(n-m)} = m^{-1} + (n-m)^{-1}$$\n",
    "\n",
    "Por lo tanto nuestra suma $m^{-1} + (n-m)^{-1} = n^{-1}$ acabamos de demostrar que es correcta. Esto nos implica directamente que: \n",
    "\n",
    "$$\\mu_1 + \\mu_2 = \n",
    "[m^{-1}\\sum_{i=1}^m x_{i,1} + (n-m)^{-1}\\sum_{i=m+1}^n x_{i,1}, \\cdots , m^{-1}\\sum_{i=1}^m x_{i,p} + (n-m)^{-1}\\sum_{i=m+1}^n x_{i,p}] = [n^{-1}\\sum_{i=1}^n x_{i,1}, \\cdots, n^{-1}\\sum_{i=1}^n x_{i,p}]$$\n",
    "\n",
    "Por lo tanto llegamos a que:\n",
    "\n",
    "$$\\mu_1 + \\mu_2 = n^{-1}[\\sum_{i=1}^n x_{i,1}, \\cdots, \\sum_{i=1}^n x_{i,p}] = \\mu = $\\bar{X}_{px1}$$\n",
    "\n",
    "**QED.**\n"
   ]
  },
  {
   "cell_type": "markdown",
   "id": "745b1be9",
   "metadata": {},
   "source": [
    "## Solución 2\n",
    "\n",
    "2. $\\hat{\\sigma}_j^2 = n^{-1}\\sum_{i=1}^n x_{ij}^2 - \\bar{x}_j^2$ \n",
    "\n",
    "Utilizando la misma partición del ejemplo anterior lo que queremos demostrar es que $\\hat{\\sigma}_j^2 = \\hat{\\sigma}_{1j}^2 + \\hat{\\sigma}_{2j}^2$ donde es la suma de las varianzas de la partición.\n",
    "\n",
    "Entonces veamos quien es la suma de ambas varianzas:\n",
    "\n",
    "$$\\hat{\\sigma}_{1j}^2 + \\hat{\\sigma}_{2j}^2 =  m^{-1}\\sum_{i=1}^m x_{ij}^2 - \\bar{x}_j^2 +  (n-m)^{-1}\\sum_{i=m+1}^n x_{ij}^2 - \\bar{x}_j^2$$\n",
    "\n",
    "Aquí lo único que tenemos que utilizar es lo que ya demostramos en el ejemplo anterior respecto a $m^{-1} + (n-m)^{-1} = n^{-1}$. Ya en el fondo lo que estamos haciendo es lo siguiente: \n",
    "\n",
    "$$\\sum_{i=1}^m (m^{-1}) (x_{ij}^2 - \\bar{x}_j^2) + \\sum_{i=m+1}^n ((n-m)^{-1}) (x_{ij}^2 - \\bar{x}_j^2) = \\sum_{i=1}^n (m^{-1}) (x_{ij}^2 - \\bar{x}_j^2) + ((n-m)^{-1}) (x_{ij}^2 - \\bar{x}_j^2)  $$\n",
    "\n",
    "$$ = \\sum_{i=1}^n (n^{-1})(x_{ij}^2 - \\bar{x}_j^2) = n^{-1}\\sum_{i=1}^n x_{ij}^2 - \\bar{x}_j^2  $$\n",
    "\n",
    "Por lo tanto:\n",
    "\n",
    "$$\\hat{\\sigma}_{1j}^2 + \\hat{\\sigma}_{2j}^2 =  n^{-1}\\sum_{i=1}^n x_{ij}^2 - \\bar{x}_j^2 = \\hat{\\sigma}_{j}^2 $$\n",
    "\n",
    "**QED**.\n"
   ]
  },
  {
   "cell_type": "markdown",
   "id": "7d6ed6eb",
   "metadata": {},
   "source": [
    "## 8. Obtén las expresiones para determinar los intervalos de contenedores para histogramas bidimensionales en función del número de contenedores (5p)"
   ]
  },
  {
   "cell_type": "markdown",
   "id": "2b9cbe24",
   "metadata": {},
   "source": [
    "Sea, $a=x(n)-x(1)$ y $b=y(n)-y(1)$  y $h$ el número de intervaos deseados; podemos definir los intervalos como:\n",
    "\n",
    "$$\n",
    "C_{i}(h) = A \\times B = \\left\\{\n",
    "\\begin{array}{r}\n",
    "\\left[x_{1}, x_{1}+\\frac{a}{h}\\right] \\times \\left[y_{1}, y_{1}+\\frac{b}{h}\\right], \\hspace{1cm} \\text{si i es 1 }\\\\\n",
    "\\left(x_{1}+(i-1) \\frac{a}{h}, x_{1}+(i) \\frac{a}{h}\\right] \\times \\left(y_{1}+(i-1) \\frac{b}{h}, y_{1}+(i) \\frac{b}{h}\\right], \\hspace{1cm} \\text{en otro caso} \n",
    "\\end{array}\n",
    "\\right.\n",
    "$$\n",
    "\n",
    "Esto, ya que como vimos en clase, los intervalos de un histograma para 1 dimensión están dados por: \n",
    "\n",
    "$$\n",
    "\\begin{aligned}\n",
    "a_{1}=&\\left[x_{1}, x_{1}+\\frac{a}{h}\\right] \\\\\n",
    "& \\vdots \\\\\n",
    "a_{i}=&\\left(x_{1}+(i-1) \\frac{a}{h}, x_{1}+(i) \\frac{a}{h}\\right] \\\\\n",
    "& \\vdots \\\\\n",
    "a_{h}=&\\left(x_{1}+(h-1) \\frac{a}{h}, x_{n}\\right]\n",
    "\\end{aligned}\n",
    "$$\n",
    "\n",
    "$$\n",
    "\\begin{aligned}\n",
    "b_{1}=&\\left[y_{1}, y_{1}+\\frac{b}{h}\\right] \\\\\n",
    "& \\vdots \\\\\n",
    "b_{i}=&\\left(y_{1}+(i-1) \\frac{b}{h}, y_{1}+(i) \\frac{b}{h}\\right] \\\\\n",
    "& \\vdots \\\\\n",
    "b_{h}=&\\left(y_{1}+(h-1) \\frac{b}{h}, y_{n}\\right]\n",
    "\\end{aligned}\n",
    "$$\n",
    "\n",
    "\n",
    "\n",
    "$$\n",
    "B=\\left\\{\\left(b_{1}\\right), \\ldots,\\left(b_{h}\\right)\\right\\}\n",
    "$$\n",
    "\n",
    "$$\n",
    "A=\\left\\{\\left(a_{1}\\right), \\ldots,\\left(a_{h}\\right)\\right\\}\n",
    "$$"
   ]
  },
  {
   "cell_type": "code",
   "execution_count": 172,
   "id": "c0981ce0",
   "metadata": {},
   "outputs": [
    {
     "name": "stdout",
     "output_type": "stream",
     "text": [
      "(-4.534459567552757, -3.4081006962585834)\n",
      "(-3.4081006962585834, -2.28174182496441)\n",
      "(-2.28174182496441, -1.1553829536702365)\n",
      "(-1.1553829536702365, -0.02902408237606302)\n",
      "(-0.02902408237606302, 1.0973347889181104)\n",
      "(1.0973347889181104, 2.223693660212284)\n",
      "(5.244468669344802, -5.891785174828679)\n",
      "(5.244468669344802, -3.107721713785309)\n",
      "(5.244468669344802, -0.3236582527419385)\n",
      "(5.244468669344802, 2.460405208301432)\n"
     ]
    },
    {
     "data": {
      "image/png": "[encoded data removed]",
      "text/plain": [
       "<Figure size 864x576 with 1 Axes>"
      ]
     },
     "metadata": {
      "needs_background": "light"
     },
     "output_type": "display_data"
    }
   ],
   "source": [
    "#Obtén las expresiones para determinar los intervalos de contenedores para histogramas bidimensionales en función del número de contenedores\n",
    "\n",
    "import numpy as np\n",
    "import matplotlib.pyplot as plt\n",
    "import random\n",
    "\n",
    "#Obtengamos un conjunto de datos para probar el histograma\n",
    "x = np.random.normal(size = 1000)\n",
    "y = x * np.random.normal(size = 1000)  #Usamos la distribución normal\n",
    "\n",
    "#Definamos los bins\n",
    "x_min = np.min(x)        #Mínimo del intervalo en el eje X\n",
    "y_min = np.min(y)        #Mínimo del intervalo en el eje Y \n",
    "\n",
    "x_max = np.max(x)        #Máximo del intervalo en el eje X\n",
    "y_max = np.max(y)        #Máximo del intervalo en el eje Y\n",
    "\n",
    "#Queremos tener 15 contenedores, 5 intervalos en el eje X y 3 en el eje Y\n",
    "n_x = 5      #Núm de intervalos en el eje X\n",
    "n_y = 3      #Núm de intervalos en el eje Y\n",
    "\n",
    "x_bins = np.linspace(x_min, x_max, 6)     \n",
    "y_bins = np.linspace(y_min, y_max, 4)       #Obtenemos contenedores\n",
    "\n",
    "#Mostramos intervalos obtenidos\n",
    "len_x = (x_max -x_min)/6       #Definimos longitud de intervalos en X\n",
    "len_y = (y_max -y_min)/4      #Definimos longitud de intervalos en Y\n",
    "\n",
    "for i in range(n_x +1):   \n",
    "  b_xi = (x_min +(i-1)*len_x, x_min +i*len_x)\n",
    "  print(b_xi)\n",
    "\n",
    "for j in range(n_y +1):  \n",
    "  b_yi = (y_min +(i-1)*len_y, y_min +j*len_y)\n",
    "  print(b_yi)\n",
    "\n",
    "fig, ax = plt.subplots(figsize = (12,8))\n",
    "\n",
    "#Creamos histograma \n",
    "plt.hist2d(x, y, bins = [x_bins, y_bins])\n",
    "plt.title('Bins')\n",
    "\n",
    "ax.set_xlabel('Eje X')\n",
    "ax.set_ylabel('Eje Y')\n",
    "\n",
    "plt.show()"
   ]
  },
  {
   "cell_type": "markdown",
   "id": "27018d2c",
   "metadata": {},
   "source": [
    "## 9- Un resorte se somete a estiramiento aplicando distintos pesos (X) y se anotó su alargamiento (y); la solución de la ecuación normal, determina los estimadores"
   ]
  },
  {
   "cell_type": "markdown",
   "id": "efdd4434",
   "metadata": {},
   "source": [
    "\n",
    "9. Datos:\n",
    "$$\n",
    "\\begin{aligned}\n",
    "&\\mathbf{X}=[0.3, 0.64, 0.99, 1.33, 1.67, 2.01, 2.36, 2.7] \\\\\n",
    "&\\mathbf{y}=[0.15, 0.11, 0.2, 0.43, 0.39, 0.62, 0.72, 0.81]\n",
    "\\end{aligned}\n",
    "$$\n",
    "\n",
    "Al calcular $\\mathbf{X}^{T} \\mathbf{X}$ y su inversa, hacemos $\\boldsymbol{L}=\\boldsymbol{m} \\boldsymbol{F}+\\boldsymbol{n} \\text { para un mejor ajuste de los datos. }$\n",
    "\n",
    "sabemos que:\n",
    "\n",
    "$$\n",
    "\\begin{gathered}\n",
    "\\hat{\\boldsymbol{\\beta}}=\\left(\\mathbf{X}^{T} \\mathbf{X}\\right)^{-1} \\mathbf{X}^{T} \\mathbf{y} \\\\\n",
    "\\sigma_{\\epsilon}^{2}=\\frac{\\sum_{i=1}^{n}\\left(y_{i}-\\hat{y}_{i}\\right)^{2}}{n-q} \\\\\n",
    "\\operatorname{var}(\\hat{\\boldsymbol{\\beta}})=\\sigma_{\\epsilon}^{2}\\left(\\mathbf{X}^{T} \\mathbf{X}\\right)^{-1}\n",
    "\\end{gathered}\n",
    "$$\n",
    "\n",
    "$\\hat{\\boldsymbol{\\beta}}=\\left(\\mathbf{X}^{T} \\mathbf{X}\\right)^{-1} \\mathbf{X}^{T} \\mathbf{y}$\n",
    "\n",
    "Primero\n",
    "\n",
    "$$\n",
    "\\mathbf{X}^{T} \\mathbf{X} = \\left(\\begin{array}{llllllll}\n",
    "\\frac{3}{10} & \\frac{16}{25} & \\frac{99}{100} & \\frac{133}{100} & 1.67 & 2.01 &2.36 & 2.7 \\\\\n",
    "1 & 1 & 1 & 1 & 1 & 1 & 1 & 1\n",
    "\\end{array}\\right) \\cdot\n",
    "\\left(\\begin{array}{ll}\n",
    "\\frac{3}{10} & 1 \\\\\n",
    "\\frac{64}{100} & 1 \\\\\n",
    "\\frac{99}{100} & 1 \\\\\n",
    "\\frac{133}{100} & 1 \\\\\n",
    "1.67 & 1 \\\\\n",
    "2.01 & 1 \\\\\n",
    "2.36 & 1 \\\\\n",
    "2.7 & 1\n",
    "\\end{array}\\right)=\n",
    "\\left(\\begin{array}{cc}\n",
    "22.9372 & 12 \\\\\n",
    "12 & 8\n",
    "\\end{array}\\right)\n",
    "$$\n",
    "\n",
    "$\\left(\\mathbf{X}^{T} \\mathbf{X}\\right)^{-1}$\n",
    "\n",
    "\n"
   ]
  },
  {
   "cell_type": "code",
   "execution_count": 9,
   "id": "ede1be5c",
   "metadata": {},
   "outputs": [
    {
     "data": {
      "text/plain": [
       "array([[0.15],\n",
       "       [0.11],\n",
       "       [0.02],\n",
       "       [0.43],\n",
       "       [0.39],\n",
       "       [0.62],\n",
       "       [0.72],\n",
       "       [0.81]])"
      ]
     },
     "execution_count": 9,
     "metadata": {},
     "output_type": "execute_result"
    }
   ],
   "source": [
    "import numpy as np\n",
    "\n",
    "X=[[0.3,0.64,0.99,1.33,1.67,2.01, 2.36, 2.7],[1,1,1,1,1,1,1,1]]\n",
    "y=[[0.15,0.11,0.02,0.43,0.39, 0.62, 0.72, 0.81]]\n",
    "\n",
    "X = np.array(X).T\n",
    "y = np.array(y).T\n",
    "y"
   ]
  },
  {
   "cell_type": "code",
   "execution_count": 6,
   "id": "8c130340",
   "metadata": {},
   "outputs": [
    {
     "name": "stdout",
     "output_type": "stream",
     "text": [
      "[[0.3  0.64 0.99 1.33 1.67 2.01 2.36 2.7 ]\n",
      " [1.   1.   1.   1.   1.   1.   1.   1.  ]]\n"
     ]
    },
    {
     "data": {
      "text/plain": [
       "array([[22.9372, 12.    ],\n",
       "       [12.    ,  8.    ]])"
      ]
     },
     "execution_count": 6,
     "metadata": {},
     "output_type": "execute_result"
    }
   ],
   "source": [
    "\n",
    "X1 = np.dot(X.T, X)\n",
    "X1"
   ]
  },
  {
   "cell_type": "code",
   "execution_count": 4,
   "id": "d21c7e31",
   "metadata": {},
   "outputs": [
    {
     "name": "stdout",
     "output_type": "stream",
     "text": [
      "[[ 0.20254395 -0.30381593]\n",
      " [-0.30381593  0.58072389]]\n"
     ]
    },
    {
     "data": {
      "text/plain": [
       "array([[ 0.32727052],\n",
       "       [-0.08465578]])"
      ]
     },
     "execution_count": 4,
     "metadata": {},
     "output_type": "execute_result"
    }
   ],
   "source": [
    "# Inversa\n",
    "\n",
    "X1 = np.linalg.inv(X1)\n",
    "print(X1)\n",
    "\n",
    "X2 = np.dot(X.T, y)\n",
    "X2\n",
    "\n",
    "B = np.dot(X1, X2)\n",
    "B"
   ]
  },
  {
   "cell_type": "markdown",
   "id": "f2fb4269",
   "metadata": {},
   "source": [
    "$\\sigma_{\\epsilon}^{2}=\\frac{\\sum_{i=1}^{n}\\left(y_{i}-\\hat{y}_{i}\\right)^{2}}{n-q}$,  donde $\\hat{y}=\\mathbf{x}_{i}^{T} \\hat{\\boldsymbol{\\beta}}$"
   ]
  },
  {
   "cell_type": "code",
   "execution_count": 51,
   "id": "d170ca27",
   "metadata": {},
   "outputs": [
    {
     "data": {
      "text/plain": [
       "[[0.013525378757190329],\n",
       " [0.12479735477598641],\n",
       " [0.23934203597180587],\n",
       " [0.350614011990602],\n",
       " [0.46188598800939806],\n",
       " [0.5731579640281941],\n",
       " [0.6877026452240136],\n",
       " [0.7989746212428097]]"
      ]
     },
     "execution_count": 51,
     "metadata": {},
     "output_type": "execute_result"
    }
   ],
   "source": [
    "# Calculamos Y-gorrito\n",
    "\n",
    "yv = []\n",
    "for i in range(len(X)):\n",
    "    yv.append(list(np.dot(X[i].T, B)))\n",
    "\n",
    "yv"
   ]
  },
  {
   "cell_type": "code",
   "execution_count": 52,
   "id": "0171f727",
   "metadata": {},
   "outputs": [
    {
     "data": {
      "text/plain": [
       "array([0.01363063])"
      ]
     },
     "execution_count": 52,
     "metadata": {},
     "output_type": "execute_result"
    }
   ],
   "source": [
    "# Calculamos la suma\n",
    "sumas = []\n",
    "for i in range(len(y)):\n",
    "    sumas.append((y[i]-yv[i])**2)\n",
    "    \n",
    "sigma = sum(sumas)/(len(X) - len(X.T))\n",
    "sigma"
   ]
  },
  {
   "cell_type": "markdown",
   "id": "af949066",
   "metadata": {},
   "source": [
    "$\\operatorname{var}(\\hat{\\boldsymbol{\\beta}})=\\sigma_{\\epsilon}^{2}\\left(\\mathbf{X}^{T} \\mathbf{X}\\right)^{-1}$"
   ]
  },
  {
   "cell_type": "code",
   "execution_count": 54,
   "id": "cd761791",
   "metadata": {},
   "outputs": [
    {
     "data": {
      "text/plain": [
       "array([[ 0.0027608 , -0.0041412 ],\n",
       "       [-0.0041412 ,  0.00791563]])"
      ]
     },
     "execution_count": 54,
     "metadata": {},
     "output_type": "execute_result"
    }
   ],
   "source": [
    "# Calculamos la varianza\n",
    "\n",
    "var = sigma * X1\n",
    "var"
   ]
  }
 ],
 "metadata": {
  "kernelspec": {
   "display_name": "Python 3",
   "language": "python",
   "name": "python3"
  },
  "language_info": {
   "codemirror_mode": {
    "name": "ipython",
    "version": 3
   },
   "file_extension": ".py",
   "mimetype": "text/x-python",
   "name": "python",
   "nbconvert_exporter": "python",
   "pygments_lexer": "ipython3",
   "version": "3.8.8"
  }
 },
 "nbformat": 4,
 "nbformat_minor": 5
}
