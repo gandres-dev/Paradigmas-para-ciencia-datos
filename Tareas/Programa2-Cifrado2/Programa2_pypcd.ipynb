{
  "nbformat": 4,
  "nbformat_minor": 0,
  "metadata": {
    "colab": {
      "name": "Programa2_pypcd.ipynb",
      "provenance": [],
      "collapsed_sections": []
    },
    "kernelspec": {
      "name": "python3",
      "display_name": "Python 3"
    },
    "language_info": {
      "name": "python"
    }
  },
  "cells": [
    {
      "cell_type": "markdown",
      "metadata": {
        "id": "CRaUxBJ1zKn_"
      },
      "source": [
        "# Programa 2 (PyPCD)\n",
        "\n",
        "## Integrantes\n",
        "- Silva Velázquez Elsy Camila \n",
        "- Longines Tapia Hugo Didier \n",
        "- Andrés Urbano Guillermo Gerardo"
      ]
    },
    {
      "cell_type": "code",
      "metadata": {
        "id": "Shc6RTaTfDio"
      },
      "source": [
        "import string\n",
        "import random\n",
        "\n",
        "def codificar(texto, clave):\n",
        "    \"\"\"Regresa una cadena codificada con una palabra clave.    \n",
        "    \n",
        "    Arguments:\n",
        "    texto -- una cadena que sera el mensaje a codificar.    \n",
        "    clave -- una cadena que sera la clave.\n",
        "    Return values:    \n",
        "    Una cadena en mayusculas sin espacios codificada.\n",
        "    \n",
        "    Doctest:\n",
        "    >>> codificar('LA CRIPTOGRAFIA ES ROMANTICA', 'HOLA')\n",
        "    ROFSACXLIGIRNACTAEMIJAPRAOTY\n",
        "    \n",
        "    >>> codificar('MEXICO LINDO QUERIDO', 'MANGO')\n",
        "    ELQDINEKMOOIXIUOCDRZ\n",
        "    \"\"\" \n",
        "    # Quitamos todos los espacios\n",
        "    texto = list(texto.upper().replace(\" \", \"\"))\n",
        "    clave = list(clave.upper().replace(\" \", \"\"))\n",
        "    residuo = len(texto) % len(clave)\n",
        "\n",
        "    if residuo:\n",
        "        # Rellenamos las sobrantes\n",
        "        abc = string.ascii_uppercase\n",
        "        # Usando list comprehension agregamos letras aleatorias\n",
        "        aux = [abc[random.randint(0, 26-1)] for i in range(len(clave) - residuo)]\n",
        "        texto = texto + aux\n",
        "    \n",
        "    # Particiones para hacer la tabla segun la longitud de la clave\n",
        "    tabla = []\n",
        "    tabla.append(clave)\n",
        "    for n in range(len(texto) // len(clave)):\n",
        "        tabla.append(texto[n * len(clave):(n+1) * len(clave)])        \n",
        "    \n",
        "\n",
        "    # Hicimos una lista por cada columna\n",
        "    tabla2 = []\n",
        "    for j in range(len(clave)):\n",
        "        aux = []\n",
        "        for i in range(len(tabla)):            \n",
        "            aux.append(tabla[i][j])        \n",
        "        tabla2.append(aux)\n",
        "    \n",
        "    # Ordenamos las lista segun su primer elemento en orden alfabetico.\n",
        "    tabla2.sort()\n",
        "\n",
        "    # Quitamos el primer elemento de cada lista para borrar la palabra clave-\n",
        "    result = []    \n",
        "    for columna in tabla2:   \n",
        "        # Juntamos las listas     \n",
        "        result += columna[1:]\n",
        "    return \"\".join(result)    "
      ],
      "execution_count": null,
      "outputs": []
    },
    {
      "cell_type": "code",
      "metadata": {
        "colab": {
          "base_uri": "https://localhost:8080/",
          "height": 35
        },
        "id": "SRq3x-msiXFi",
        "outputId": "d3135934-d1de-48e3-b6f9-2481784363f0"
      },
      "source": [
        "codificar('paradigmas de ciencia de datos', 'paradigmas')"
      ],
      "execution_count": null,
      "outputs": [
        {
          "output_type": "execute_result",
          "data": {
            "application/vnd.google.colaboratory.intrinsic+json": {
              "type": "string"
            },
            "text/plain": [
              "'AAFAEDAITDEOGCLINSMINPDERCASDZ'"
            ]
          },
          "metadata": {},
          "execution_count": 3
        }
      ]
    },
    {
      "cell_type": "code",
      "metadata": {
        "colab": {
          "base_uri": "https://localhost:8080/",
          "height": 35
        },
        "id": "Ai08UDgn9NDl",
        "outputId": "2f6f295c-6c07-40bf-c332-231d4ef23fe2"
      },
      "source": [
        "codificar('MEXICO LINDO QUERIDO', 'MANGO')"
      ],
      "execution_count": null,
      "outputs": [
        {
          "output_type": "execute_result",
          "data": {
            "application/vnd.google.colaboratory.intrinsic+json": {
              "type": "string"
            },
            "text/plain": [
              "'ELQDINEYMOOIXIUOCDRW'"
            ]
          },
          "metadata": {},
          "execution_count": 3
        }
      ]
    },
    {
      "cell_type": "code",
      "metadata": {
        "id": "Wq084L-1zI8E"
      },
      "source": [
        "\n",
        "def descifrar(texto, clave):\n",
        "    \"\"\"Regresa una cadena codificada.    \n",
        "    \n",
        "    Arguments:\n",
        "    texto -- una cadena que sera el mensaje a codificar.    \n",
        "    clave -- una cadeana que sera la clave.\n",
        "    Return values:    \n",
        "    Una cadena en mayusculas sin espacios codificada.\n",
        "    \n",
        "    Doctest:\n",
        "    >>> descifrar('ROFSACHLIGIRNACTAEMIWAPRAOTW', 'HOLA')\n",
        "    LACRIPTOGRAFIAESROMANTICAWWH\n",
        "    \n",
        "    >>> descifrar('ELQDINEKMOOIXIUOCDRZ', 'MANGO')\n",
        "    MEXICOLINDOQUERIDOKZ\n",
        "    \"\"\" \n",
        "    texto = texto.upper()\n",
        "    clave = clave.upper()\n",
        "    tabla = []\n",
        "    # Dividimos el texto como letras tiene la palabra clave.\n",
        "    renglones = len(texto) // len(clave)\n",
        "    for n in range(len(clave)):\n",
        "        tabla.append(list(texto[n * renglones:(n+1) * renglones]))\n",
        "    \n",
        "    # Ordenamos alfabéticamente la palabra clave.\n",
        "    clave_copia = clave\n",
        "    clave = list(clave)\n",
        "    clave.sort()\n",
        "    \n",
        "    # Insertamos cada letra de la palabra clave al inicio de cada columna.\n",
        "    i = 0\n",
        "    for columna in tabla:\n",
        "        columna.insert(0, clave[i])\n",
        "        i += 1\n",
        "    \n",
        "    # Creamos una tabla extra donde ordenara en el mimsmo orden de la palabra clave.\n",
        "    tabla2 = []    \n",
        "    for letra in clave_copia:\n",
        "        for columna in tabla:\n",
        "            if letra == columna[0]:\n",
        "                tabla2.append(columna)\n",
        "    # Se concatena cada línea de la tabla para obtener el texto.\n",
        "    result = \"\"\n",
        "    for i in range(1, len(tabla2[0])):\n",
        "        for item in tabla2:\n",
        "            result += item[i]\n",
        "    return result"
      ],
      "execution_count": null,
      "outputs": []
    },
    {
      "cell_type": "code",
      "metadata": {
        "colab": {
          "base_uri": "https://localhost:8080/",
          "height": 35
        },
        "id": "Pr0g6rRZzrob",
        "outputId": "ca91e043-58cf-4b0a-8e6f-c5870ce53862"
      },
      "source": [
        "descifrar('AD A EACODC GEAIIDMNTP AREDSIS', 'paradigmas')"
      ],
      "execution_count": null,
      "outputs": [
        {
          "output_type": "execute_result",
          "data": {
            "application/vnd.google.colaboratory.intrinsic+json": {
              "type": "string"
            },
            "text/plain": [
              "'PAAARAAADIGMAAAS D CED CCIEND CIA EOD EO DAT EOS'"
            ]
          },
          "metadata": {},
          "execution_count": 5
        }
      ]
    },
    {
      "cell_type": "code",
      "metadata": {
        "colab": {
          "base_uri": "https://localhost:8080/",
          "height": 35
        },
        "id": "qXA4Q-pp9Yob",
        "outputId": "3619ac34-84e5-4d79-9873-9187a64f6b66"
      },
      "source": [
        "descifrar('ELQDINEKMOOIXIUOCDRZ', 'MANGO')"
      ],
      "execution_count": null,
      "outputs": [
        {
          "output_type": "execute_result",
          "data": {
            "application/vnd.google.colaboratory.intrinsic+json": {
              "type": "string"
            },
            "text/plain": [
              "'MEXICOLINDOQUERIDOKZ'"
            ]
          },
          "metadata": {},
          "execution_count": 358
        }
      ]
    },
    {
      "cell_type": "markdown",
      "metadata": {
        "id": "er4AtSKOM5GV"
      },
      "source": [
        "**Nota.** Cuando hay repetición en la clave no logramos hacer que el desempate fuera por orden de aparición."
      ]
    }
  ]
}