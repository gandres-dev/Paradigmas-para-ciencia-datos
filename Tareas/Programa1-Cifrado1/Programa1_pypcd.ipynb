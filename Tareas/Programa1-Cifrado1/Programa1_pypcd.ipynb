{
  "nbformat": 4,
  "nbformat_minor": 0,
  "metadata": {
    "colab": {
      "name": "Programa1-pypcd.ipynb",
      "provenance": [],
      "collapsed_sections": []
    },
    "kernelspec": {
      "name": "python3",
      "display_name": "Python 3"
    },
    "language_info": {
      "name": "python"
    }
  },
  "cells": [
    {
      "cell_type": "markdown",
      "metadata": {
        "id": "0ybNEu5-liay"
      },
      "source": [
        "## Integrantes:\n",
        "- Elsy Camila Silva Velázquez\n",
        "- Guillermo Gerardo Andrés Urbano\n",
        "- Hugo Didier Longines Tapia"
      ]
    },
    {
      "cell_type": "code",
      "metadata": {
        "id": "s5XKD-KLl9rP"
      },
      "source": [
        "\n",
        "import re\n",
        "\n",
        "def codificar(mensaje):\n",
        "    \"\"\"Regresa una cadena codificada.    \n",
        "    \n",
        "    Arguments:\n",
        "    mensaje -- una cadena que sera el mensaje a codificar.    \n",
        "    Return values:    \n",
        "    Una cadena en mayusculas sin espacios codificada.\n",
        "    \n",
        "    Doctest:\n",
        "    >>> codificar(' Hola mundo')\n",
        "    BCCDCAAACBDECCADCD\n",
        "    \n",
        "    >>> codificar('El cielo azul')\n",
        "    AECAACBDAECACDAAEEDECA\n",
        "    \"\"\" \n",
        "    m = mensaje\n",
        "    m = m.upper()\n",
        "    m = re.sub('\\s+', '', m)\n",
        "    lis = list(m)\n",
        "    \n",
        "    # Lista que representara el abecedario\n",
        "    inn = ['A', 'B', 'C', 'D', 'E', 'F', 'G', 'H', 'I', 'J', 'K', 'L',\n",
        "        'M', 'N','O', 'P', 'Q', 'R', 'S', 'T', 'U', 'V', 'W', 'X', 'Y', 'Z']\n",
        "    # Lista de coordenadas\n",
        "    out = ['AA', 'AB', 'AC', 'AD', 'AE', 'BA', 'BB', 'BC', 'BD', 'BD', 'BE',\n",
        "    'CA', 'CB', 'CC', 'CD', 'CE', 'DA', 'DB', 'DC', 'DD', 'DE', 'EA', 'EB',\n",
        "    'EC', 'ED', 'EE']\n",
        "\n",
        "    dict = {}\n",
        "    # Inicializamos nuestro dictionario con una estructura {'A':'AA', 'B':'AB',..}\n",
        "    for i in range(len(inn)):\n",
        "        dict[inn[i]] = out[i]\n",
        "\n",
        "    newmessage = []\n",
        "\n",
        "    for j in lis:\n",
        "        code = j.replace(j, dict[j])\n",
        "        newmessage.append(code)\n",
        "\n",
        "    return(''.join(newmessage))"
      ],
      "execution_count": null,
      "outputs": []
    },
    {
      "cell_type": "code",
      "metadata": {
        "colab": {
          "base_uri": "https://localhost:8080/",
          "height": 35
        },
        "id": "Yk9uowUvmNC3",
        "outputId": "aaa74013-6171-4314-a8fd-3b0810a72eca"
      },
      "source": [
        "codificar('El cielo azul')"
      ],
      "execution_count": null,
      "outputs": [
        {
          "output_type": "execute_result",
          "data": {
            "application/vnd.google.colaboratory.intrinsic+json": {
              "type": "string"
            },
            "text/plain": [
              "'AECAACBDAECACDAAEEDECA'"
            ]
          },
          "metadata": {},
          "execution_count": 2
        }
      ]
    },
    {
      "cell_type": "code",
      "metadata": {
        "id": "BvwbXLP3mPWO"
      },
      "source": [
        "\n",
        "import re\n",
        "\n",
        "def decodificar(codd):\n",
        "    \"\"\"Regresa una cadena decodificada.\n",
        "    \n",
        "    Arguments:\n",
        "    codd -- una cadena que decodificara al mensaje original.\n",
        "    Return values:    \n",
        "    Una cadena en mayusculas sin espacios decodificada.\n",
        "    \n",
        "    Doctest:\n",
        "    >>> decodificar('BCCDCAAACBDECCADCD')\n",
        "    HOLAMUNDO\n",
        "    \n",
        "    >>> decodificar('AECAACBDAECACDAAEEDECA')\n",
        "    ELCIELOAZUL\n",
        "    \"\"\" \n",
        "    codigo = codd\n",
        "    \n",
        "    # Separemos el código por pares de letras \n",
        "    codigo = re.findall(r'..', codigo)\n",
        "\n",
        "    dict2 = {}\n",
        "    \n",
        "    # Lista que representara el abecedario\n",
        "    inn = ['A', 'B', 'C', 'D', 'E', 'F', 'G', 'H', 'J', 'I', 'K', 'L',\n",
        "        'M', 'N','O', 'P', 'Q', 'R', 'S', 'T', 'U', 'V', 'W', 'X', 'Y', 'Z']\n",
        "\n",
        "    # Lista de coordenadas\n",
        "    out = ['AA', 'AB', 'AC', 'AD', 'AE', 'BA', 'BB', 'BC', 'BD', 'BD', 'BE',\n",
        "        'CA', 'CB', 'CC', 'CD', 'CE', 'DA', 'DB', 'DC', 'DD', 'DE', 'EA', 'EB',\n",
        "        'EC', 'ED', 'EE']\n",
        "    \n",
        "    # Inicializamos nuestro dictionario con una estructura {'A':'AA', 'B':'AB',..}\n",
        "    for i in range(len(out)):\n",
        "        dict2[out[i]] = inn[i]\n",
        "\n",
        "    message = []\n",
        "\n",
        "    for j in codigo:\n",
        "        car = j.replace(j, dict2[j])\n",
        "        message.append(car)\n",
        "\n",
        "    return(''.join(message))"
      ],
      "execution_count": null,
      "outputs": []
    },
    {
      "cell_type": "code",
      "metadata": {
        "colab": {
          "base_uri": "https://localhost:8080/",
          "height": 35
        },
        "id": "fLzmBjrymV-g",
        "outputId": "429fb907-cc2f-4fd0-a869-3236d4129c39"
      },
      "source": [
        "decodificar('AECAACBDAECACDAAEEDECA')"
      ],
      "execution_count": null,
      "outputs": [
        {
          "output_type": "execute_result",
          "data": {
            "application/vnd.google.colaboratory.intrinsic+json": {
              "type": "string"
            },
            "text/plain": [
              "'ELCIELOAZUL'"
            ]
          },
          "metadata": {},
          "execution_count": 4
        }
      ]
    }
  ]
}