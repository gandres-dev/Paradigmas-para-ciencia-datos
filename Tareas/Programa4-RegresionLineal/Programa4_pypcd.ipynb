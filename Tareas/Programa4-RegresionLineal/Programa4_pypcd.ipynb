{
  "nbformat": 4,
  "nbformat_minor": 0,
  "metadata": {
    "colab": {
      "name": "Programa4_pypcd.ipynb",
      "provenance": [],
      "collapsed_sections": []
    },
    "kernelspec": {
      "name": "python3",
      "display_name": "Python 3"
    },
    "language_info": {
      "name": "python"
    }
  },
  "cells": [
    {
      "cell_type": "markdown",
      "metadata": {
        "id": "B6T8f_7teKOu"
      },
      "source": [
        "# Programa 4\n",
        "\n",
        "### Integrantes\n",
        "- Silva Velázquez Elsy Camila\n",
        "- Longines Tapia Hugo Didier\n",
        "- Andrés Urbano Guillermo Gerardo\n",
        "\n",
        "---\n",
        "\n",
        "♦ Implementar el cálculo del estimador:\n",
        "\n",
        "$βˆ = (X^T X − λI)^{−1} X^Ty$\n",
        "\n",
        "♦ Iterar el modelo de regresión Ridge variando el valor de λ para obtener el mejor para el\n",
        "ejemplo con datos artificiales (de preferencia con la implementación propia).\n",
        "\n",
        "♦ Revisar el uso de las regresiones Lasso y ElasticNet."
      ]
    },
    {
      "cell_type": "code",
      "metadata": {
        "id": "ocPn9gyBgkds"
      },
      "source": [
        "import numpy as np"
      ],
      "execution_count": null,
      "outputs": []
    },
    {
      "cell_type": "code",
      "metadata": {
        "id": "dyRlFKutePxD"
      },
      "source": [
        "def estimador_B(X, y):    \n",
        "    \"\"\"    \n",
        "    Genera el estimador B.\n",
        "    \n",
        "    Param-\n",
        "    X -- es una matriz nxq donde el i-esimo renglon es el valor predictivo xi.\n",
        "    y -- es el vector de los n valores observados.    \n",
        "    \n",
        "    X^T X debe ser invertible.\n",
        "    \n",
        "    Return\n",
        "    Es un vector de números reales y longitud q. \n",
        "    \"\"\"\n",
        "    det = None                \n",
        "    X1 = np.linalg.inv(np.dot(X.T, X))\n",
        "    try:\n",
        "        det = np.linalg.det(X1)  \n",
        "    except:\n",
        "        return \"Su matriz debe ser cuadrada\"\n",
        "    if (det == 0):\n",
        "        return 'Su matriz no tiene inversa'\n",
        "    X2 = np.dot(X.T, y)\n",
        "    B = np.dot(X1, X2)\n",
        "    return B"
      ],
      "execution_count": null,
      "outputs": []
    },
    {
      "cell_type": "code",
      "metadata": {
        "colab": {
          "base_uri": "https://localhost:8080/"
        },
        "id": "xnws4HiwyNon",
        "outputId": "a0ad93ec-f703-426f-8c9f-2f8b9c22f667"
      },
      "source": [
        "# X = np.array([ [4,3,2], [5,0,1], [4,3,2]]) # Esta matriz no tiene inversa\n",
        "# X = np.random.rand(3,3) # matriz\n",
        "# y = np.random.rand(X.shape[0])\n",
        "\n",
        "# Pruba\n",
        "X = np.array([[0.3 , 1.  ],\n",
        "       [0.64, 1.  ],\n",
        "       [0.99, 1.  ],\n",
        "       [1.33, 1.  ],\n",
        "       [1.67, 1.  ],\n",
        "       [2.01, 1.  ],\n",
        "       [2.36, 1.  ],\n",
        "       [2.7 , 1.  ]])\n",
        "\n",
        "y = np.array([[0.15],\n",
        "       [0.11],\n",
        "       [0.02],\n",
        "       [0.43],\n",
        "       [0.39],\n",
        "       [0.62],\n",
        "       [0.72],\n",
        "       [0.81]])\n",
        "\n",
        "estimador_B(X, y)"
      ],
      "execution_count": null,
      "outputs": [
        {
          "output_type": "execute_result",
          "data": {
            "text/plain": [
              "array([[ 0.32727052],\n",
              "       [-0.08465578]])"
            ]
          },
          "metadata": {},
          "execution_count": 3
        }
      ]
    },
    {
      "cell_type": "code",
      "metadata": {
        "id": "q2f8mws4zyPa"
      },
      "source": [
        "def sigma_2(X, y, B):\n",
        "    \"\"\"\n",
        "    Calcula la varianza\n",
        "    \n",
        "    Param:\n",
        "    X -- es una matriz nxq donde el i-esimo renglon es el valor predictivo xi.\n",
        "    y -- es el vector de los n valores observados.    \n",
        "    B -- Es un vector de números reales y longitud q\n",
        "    \n",
        "    Return\n",
        "    Es un vector de números reales y longitud q. \n",
        "    \"\"\"\n",
        "    yv = []\n",
        "    for i in range(len(X)):\n",
        "        yv.append(list(np.dot(X[i].T, B)))\n",
        "    sumas = []\n",
        "    for i in range(len(y)):\n",
        "        sumas.append((y[i]-yv[i])**2)\n",
        "    \n",
        "    sigma = sum(sumas)/(len(X) - len(X.T))\n",
        "    return sigma"
      ],
      "execution_count": null,
      "outputs": []
    },
    {
      "cell_type": "code",
      "metadata": {
        "colab": {
          "base_uri": "https://localhost:8080/"
        },
        "id": "LvAWWCmB5XyS",
        "outputId": "9e814486-68dc-40fd-edaf-d1205d13529d"
      },
      "source": [
        "sigma_2(X, y, estimador_B(X, y))"
      ],
      "execution_count": null,
      "outputs": [
        {
          "output_type": "execute_result",
          "data": {
            "text/plain": [
              "array([0.01363063])"
            ]
          },
          "metadata": {},
          "execution_count": 5
        }
      ]
    },
    {
      "cell_type": "code",
      "metadata": {
        "id": "66bmwG9q0BvR"
      },
      "source": [
        "def var_b(X, sigma):\n",
        "    \"\"\"Calcula la varianza de B\n",
        "    \n",
        "    Param:\n",
        "    X -- es una matriz nxq donde el i-esimo renglon es el valor predictivo xi.\n",
        "    sigma - varianza \n",
        "    \"\"\"\n",
        "    X1 = np.linalg.inv(np.dot(X.T, X))\n",
        "    var = sigma * X1\n",
        "    return var"
      ],
      "execution_count": null,
      "outputs": []
    },
    {
      "cell_type": "code",
      "metadata": {
        "colab": {
          "base_uri": "https://localhost:8080/"
        },
        "id": "fY229fWV5o2J",
        "outputId": "afe2a45f-0f75-491e-ade4-8a14a0e9e141"
      },
      "source": [
        "var_b(X, sigma_2(X, y, estimador_B(X, y)))"
      ],
      "execution_count": null,
      "outputs": [
        {
          "output_type": "execute_result",
          "data": {
            "text/plain": [
              "array([[ 0.0027608 , -0.0041412 ],\n",
              "       [-0.0041412 ,  0.00791563]])"
            ]
          },
          "metadata": {},
          "execution_count": 7
        }
      ]
    }
  ]
}