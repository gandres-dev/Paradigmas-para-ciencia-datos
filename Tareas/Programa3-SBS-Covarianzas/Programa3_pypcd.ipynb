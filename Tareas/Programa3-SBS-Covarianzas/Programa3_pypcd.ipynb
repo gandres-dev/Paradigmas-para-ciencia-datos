{
  "nbformat": 4,
  "nbformat_minor": 0,
  "metadata": {
    "colab": {
      "name": "Programa3_pypcd.ipynb",
      "provenance": [],
      "collapsed_sections": []
    },
    "kernelspec": {
      "name": "python3",
      "display_name": "Python 3"
    },
    "language_info": {
      "name": "python"
    }
  },
  "cells": [
    {
      "cell_type": "markdown",
      "metadata": {
        "id": "wrKqd3I0lsh-"
      },
      "source": [
        "# Programa 3\n",
        "- Silva Velázquez Elsy Camila\n",
        "- Longines Tapia Hugo Didier\n",
        "- Andrés Urbano Guillermo Gerardo"
      ]
    },
    {
      "cell_type": "code",
      "metadata": {
        "id": "HqhGOPM9qGDZ"
      },
      "source": [
        "import numpy as np"
      ],
      "execution_count": null,
      "outputs": []
    },
    {
      "cell_type": "markdown",
      "metadata": {
        "id": "f3BLiIa3NaLY"
      },
      "source": [
        "# Implementar el cálculo de la matriz de covarianzas"
      ]
    },
    {
      "cell_type": "code",
      "metadata": {
        "id": "3h_myomMpTzd"
      },
      "source": [
        "def esperanza(vectores,n ,m):\n",
        "    \"\"\"\n",
        "    Calcula la esperanza.\n",
        "\n",
        "    Solo se pueden meter vectores de la misma dimension.\n",
        "    El numero de vectores m no puede ser negativo\n",
        "    La dimension no puede ser negativa\n",
        "    \n",
        "    Arguments:\n",
        "    n - dimension del vector\n",
        "    m - numero de vectores\n",
        "    \"\"\"    \n",
        "    if n > 1:\n",
        "        mu = [0] * n\n",
        "        print(vectores)\n",
        "        for i, vector in enumerate(vectores):\n",
        "            print(vector)\n",
        "            for j, renglon in enumerate(vector):            \n",
        "                mu[i] += renglon\n",
        "        return np.array(mu) / m\n",
        "    elif n == 0 or m == 0:\n",
        "        return 0\n",
        "    else:\n",
        "        suma = 0\n",
        "        for vect in vectores:\n",
        "            suma += vect\n",
        "        return suma/m\n",
        "\n",
        "def des(Xn):\n",
        "    \"\"\" Desconpone sus columnas de una matriz a vectores\n",
        "\n",
        "    Arguments:\n",
        "    Xn -- matriz a descomponer\n",
        "    \"\"\"\n",
        "    result = []\n",
        "    for n in range(Xn.shape[1]):\n",
        "        result.append(Xn[:,n])\n",
        "    return result    \n",
        "\n",
        "def cov(Xn, Yn):\n",
        "    \"\"\"Genera la covarianza de dos vectores\n",
        "    \n",
        "    Arguments:\n",
        "    Xn -- es un vector \n",
        "    Yn -- es un vector\n",
        "    \"\"\"\n",
        "    suma = 0\n",
        "    for xi, yi in zip(Xn, Yn):\n",
        "        suma += ((xi - esperanza(Xn,1, len(Xn))) * (yi - esperanza(Yn, 1, len(Yn))))\n",
        "    return suma/len(Xn)\n",
        "\n",
        "def matriz_cov(X):    \n",
        "    \"\"\"Calcula la matriz de covarianza\n",
        "\n",
        "    Arguments:\n",
        "    X - es conjunto de vectores\n",
        "    \"\"\"\n",
        "    Xn = des(X)\n",
        "    matriz = np.zeros((len(Xn),len(Xn)))\n",
        "    for i in range(len(Xn)):\n",
        "        for j in range(len(Xn)):\n",
        "            matriz[i][j] = cov(Xn[i], Xn[j])\n",
        "    return matriz"
      ],
      "execution_count": null,
      "outputs": []
    },
    {
      "cell_type": "markdown",
      "metadata": {
        "id": "FPPAdzQ-NS0v"
      },
      "source": [
        "## Ejemplo "
      ]
    },
    {
      "cell_type": "code",
      "metadata": {
        "colab": {
          "base_uri": "https://localhost:8080/"
        },
        "id": "0t9fDnPz6ZTF",
        "outputId": "46e1cd85-cdff-4f08-ca99-afe4a44bfdd4"
      },
      "source": [
        "X = np.array([[1,2], [2,2], [3,1], [2,3], [3,2]])\n",
        "print(X)\n",
        "des(X)"
      ],
      "execution_count": null,
      "outputs": [
        {
          "output_type": "stream",
          "name": "stdout",
          "text": [
            "[[1 2]\n",
            " [2 2]\n",
            " [3 1]\n",
            " [2 3]\n",
            " [3 2]]\n"
          ]
        },
        {
          "output_type": "execute_result",
          "data": {
            "text/plain": [
              "[array([1, 2, 3, 2, 3]), array([2, 2, 1, 3, 2])]"
            ]
          },
          "metadata": {},
          "execution_count": 5
        }
      ]
    },
    {
      "cell_type": "code",
      "metadata": {
        "colab": {
          "base_uri": "https://localhost:8080/"
        },
        "id": "SN7_dYUfIqMm",
        "outputId": "c6f1e967-2765-4447-f4fc-206d4d7f2b4e"
      },
      "source": [
        "matriz_cov(X)"
      ],
      "execution_count": null,
      "outputs": [
        {
          "output_type": "execute_result",
          "data": {
            "text/plain": [
              "array([[ 0.56, -0.2 ],\n",
              "       [-0.2 ,  0.4 ]])"
            ]
          },
          "metadata": {},
          "execution_count": 225
        }
      ]
    },
    {
      "cell_type": "markdown",
      "metadata": {
        "id": "Unj8DeBvNWD3"
      },
      "source": [
        "# Algoritmo SBS"
      ]
    },
    {
      "cell_type": "code",
      "metadata": {
        "id": "MzP1nG93NwDX"
      },
      "source": [
        "import numpy as np\n",
        "# La utilizaremos precisamente por la idea\n",
        "# de ir moviendonos, quitando una columna y a ver  que sucede\n",
        "# una y cada una de ellas y despues tomar la que nos regrese el\n",
        "# mejor resultado\n",
        "from itertools import combinations\n",
        "from sklearn.base import clone\n",
        "from sklearn.metrics import accuracy_score\n",
        "from sklearn.base import clone"
      ],
      "execution_count": null,
      "outputs": []
    },
    {
      "cell_type": "code",
      "metadata": {
        "id": "VTI0PXM7NYvf"
      },
      "source": [
        "class SBS():\n",
        "    def __init__(self, estimador, caracteristica_k):\n",
        "        \"\"\"Empieza un estimador con cierto numero de caracteriscas.\"\"\"\n",
        "        self.estimador = clone(estimador)\n",
        "        self.caracteristica_k = caracteristica_k\n",
        "\n",
        "    # \n",
        "    def fit(self, X_train, X_test, y_train, y_test):\n",
        "        \"\"\"Funcion de ajuste\n",
        "        \n",
        "\n",
        "        Arguments:\n",
        "        _train -- entrena los datos\n",
        "        _test -- prueba los datos\n",
        "        \"\"\"\n",
        "        dim = X_train.shape[1]\n",
        "        self.indices_ = tuple(range(dim))\n",
        "        self.subsets_ = [self.indices_]\n",
        "        score = self._calc_score(X_train, X_test,\n",
        "                                 y_train, y_test, self.indices_)\n",
        "        self.scores_ = [score]\n",
        "        \n",
        "        # Itera a traves  de todas las dimensiones hasta alcanzar \n",
        "        # la k-esima caracteristica\n",
        "        while dim > self.caracteristica_k:\n",
        "            scores = []\n",
        "            subsets = []\n",
        "            \n",
        "            # Itera las diferentes cominaciones de caracteristicas\n",
        "            for p in combinations(self.indices_, r=dim - 1):\n",
        "                score = self._calc_score(X_train, X_test, y_train, y_test, p)\n",
        "                scores.append(score)\n",
        "                subsets.append(p)\n",
        "\n",
        "            best_score_index = np.argmax(scores)\n",
        "\n",
        "            self.scores_.append(scores[best_score_index])            \n",
        "            self.indices_ = subsets[best_score_index]            \n",
        "            self.subsets_.append(self.indices_)\n",
        "            dim -= 1             \n",
        "\n",
        "    # Funcion para transformar\n",
        "    def transform(self, X):\n",
        "        \"\"\"Transforma los datos obteniendo el mejor score\"\"\"\n",
        "        return X.values[:, self.indices_]\n",
        "        pass\n",
        "    \n",
        "\n",
        "    # Una funcion que nos diga que tan bien o mal se comporta nuestro algortimo\n",
        "    # comparado con la iteracion anterior\n",
        "    def _calc_score(self, X_train, X_test, y_train, y_test, indices):\n",
        "        \"\"\" Entrena el modelo con un conjunto de caracteristicas. \"\"\"\n",
        "        self.estimador.fit(X_train[:, indices], y_train.ravel())\n",
        "        y_pred = self.estimador.predict(X_test[:, indices])\n",
        "        score = accuracy_score(y_test, y_pred)\n",
        "        return score "
      ],
      "execution_count": null,
      "outputs": []
    },
    {
      "cell_type": "code",
      "metadata": {
        "colab": {
          "base_uri": "https://localhost:8080/",
          "height": 260
        },
        "id": "o_hGF7ogt4wJ",
        "outputId": "1c188a83-4aaa-4f93-bcb5-f74ec0f91ef7"
      },
      "source": [
        "# Ejemplo con mi implementación de SBS:\n",
        "# Datos\n",
        "import numpy as np\n",
        "import matplotlib.pyplot as plt\n",
        "import pandas as pd\n",
        "df_wine = pd.read_csv('https://archive.ics.uci.edu/ml/machine-learning-databases/wine/wine.data',\n",
        "                      header=None)\n",
        "df_wine.columns = ['Class','Alcohol','Malic acid','Ash','Alcalinity of ash','Magnesium',\n",
        "                   'Total phenols','Flavonoids','Nonflavonoids phenols','Proanthocyanins',\n",
        "                   'Color intensity','Hue','OD280/OD315 of diluted wines','Proline']\n",
        "df_wine.tail()"
      ],
      "execution_count": null,
      "outputs": [
        {
          "output_type": "execute_result",
          "data": {
            "text/html": [
              "<div>\n",
              "<style scoped>\n",
              "    .dataframe tbody tr th:only-of-type {\n",
              "        vertical-align: middle;\n",
              "    }\n",
              "\n",
              "    .dataframe tbody tr th {\n",
              "        vertical-align: top;\n",
              "    }\n",
              "\n",
              "    .dataframe thead th {\n",
              "        text-align: right;\n",
              "    }\n",
              "</style>\n",
              "<table border=\"1\" class=\"dataframe\">\n",
              "  <thead>\n",
              "    <tr style=\"text-align: right;\">\n",
              "      <th></th>\n",
              "      <th>Class</th>\n",
              "      <th>Alcohol</th>\n",
              "      <th>Malic acid</th>\n",
              "      <th>Ash</th>\n",
              "      <th>Alcalinity of ash</th>\n",
              "      <th>Magnesium</th>\n",
              "      <th>Total phenols</th>\n",
              "      <th>Flavonoids</th>\n",
              "      <th>Nonflavonoids phenols</th>\n",
              "      <th>Proanthocyanins</th>\n",
              "      <th>Color intensity</th>\n",
              "      <th>Hue</th>\n",
              "      <th>OD280/OD315 of diluted wines</th>\n",
              "      <th>Proline</th>\n",
              "    </tr>\n",
              "  </thead>\n",
              "  <tbody>\n",
              "    <tr>\n",
              "      <th>173</th>\n",
              "      <td>3</td>\n",
              "      <td>13.71</td>\n",
              "      <td>5.65</td>\n",
              "      <td>2.45</td>\n",
              "      <td>20.5</td>\n",
              "      <td>95</td>\n",
              "      <td>1.68</td>\n",
              "      <td>0.61</td>\n",
              "      <td>0.52</td>\n",
              "      <td>1.06</td>\n",
              "      <td>7.7</td>\n",
              "      <td>0.64</td>\n",
              "      <td>1.74</td>\n",
              "      <td>740</td>\n",
              "    </tr>\n",
              "    <tr>\n",
              "      <th>174</th>\n",
              "      <td>3</td>\n",
              "      <td>13.40</td>\n",
              "      <td>3.91</td>\n",
              "      <td>2.48</td>\n",
              "      <td>23.0</td>\n",
              "      <td>102</td>\n",
              "      <td>1.80</td>\n",
              "      <td>0.75</td>\n",
              "      <td>0.43</td>\n",
              "      <td>1.41</td>\n",
              "      <td>7.3</td>\n",
              "      <td>0.70</td>\n",
              "      <td>1.56</td>\n",
              "      <td>750</td>\n",
              "    </tr>\n",
              "    <tr>\n",
              "      <th>175</th>\n",
              "      <td>3</td>\n",
              "      <td>13.27</td>\n",
              "      <td>4.28</td>\n",
              "      <td>2.26</td>\n",
              "      <td>20.0</td>\n",
              "      <td>120</td>\n",
              "      <td>1.59</td>\n",
              "      <td>0.69</td>\n",
              "      <td>0.43</td>\n",
              "      <td>1.35</td>\n",
              "      <td>10.2</td>\n",
              "      <td>0.59</td>\n",
              "      <td>1.56</td>\n",
              "      <td>835</td>\n",
              "    </tr>\n",
              "    <tr>\n",
              "      <th>176</th>\n",
              "      <td>3</td>\n",
              "      <td>13.17</td>\n",
              "      <td>2.59</td>\n",
              "      <td>2.37</td>\n",
              "      <td>20.0</td>\n",
              "      <td>120</td>\n",
              "      <td>1.65</td>\n",
              "      <td>0.68</td>\n",
              "      <td>0.53</td>\n",
              "      <td>1.46</td>\n",
              "      <td>9.3</td>\n",
              "      <td>0.60</td>\n",
              "      <td>1.62</td>\n",
              "      <td>840</td>\n",
              "    </tr>\n",
              "    <tr>\n",
              "      <th>177</th>\n",
              "      <td>3</td>\n",
              "      <td>14.13</td>\n",
              "      <td>4.10</td>\n",
              "      <td>2.74</td>\n",
              "      <td>24.5</td>\n",
              "      <td>96</td>\n",
              "      <td>2.05</td>\n",
              "      <td>0.76</td>\n",
              "      <td>0.56</td>\n",
              "      <td>1.35</td>\n",
              "      <td>9.2</td>\n",
              "      <td>0.61</td>\n",
              "      <td>1.60</td>\n",
              "      <td>560</td>\n",
              "    </tr>\n",
              "  </tbody>\n",
              "</table>\n",
              "</div>"
            ],
            "text/plain": [
              "     Class  Alcohol  Malic acid  ...   Hue  OD280/OD315 of diluted wines  Proline\n",
              "173      3    13.71        5.65  ...  0.64                          1.74      740\n",
              "174      3    13.40        3.91  ...  0.70                          1.56      750\n",
              "175      3    13.27        4.28  ...  0.59                          1.56      835\n",
              "176      3    13.17        2.59  ...  0.60                          1.62      840\n",
              "177      3    14.13        4.10  ...  0.61                          1.60      560\n",
              "\n",
              "[5 rows x 14 columns]"
            ]
          },
          "metadata": {},
          "execution_count": 12
        }
      ]
    },
    {
      "cell_type": "code",
      "metadata": {
        "id": "G-iLLA_8tz4r"
      },
      "source": [
        "# Datos de entrenamiento y prueba\n",
        "from sklearn.model_selection import train_test_split\n",
        "X, y = df_wine.iloc[:,1:].values, df_wine.iloc[:,0].values\n",
        "#print(y)\n",
        "X_train, X_test, y_train, y_test = train_test_split(X, y, test_size=0.3)\n",
        "# estadarizamos\n",
        "from sklearn.preprocessing import StandardScaler\n",
        "sc = StandardScaler()\n",
        "X_train_std = sc.fit_transform(X_train)\n",
        "X_test_std = sc.transform(X_test)"
      ],
      "execution_count": null,
      "outputs": []
    },
    {
      "cell_type": "code",
      "metadata": {
        "id": "LBN3c2WetQgR"
      },
      "source": [
        "# prueba de SBS usando KNN\n",
        "import matplotlib.pyplot as plt\n",
        "from sklearn.neighbors import KNeighborsClassifier\n",
        "\n",
        "knn = KNeighborsClassifier(n_neighbors=5)\n",
        "\n",
        "#print(y_train)\n",
        "sbs = SBS(estimador=knn, caracteristica_k=1)\n",
        "sbs.fit(X_train_std, X_test_std, y_train, y_test)"
      ],
      "execution_count": null,
      "outputs": []
    },
    {
      "cell_type": "code",
      "metadata": {
        "colab": {
          "base_uri": "https://localhost:8080/",
          "height": 279
        },
        "id": "JADc6j_jtiKa",
        "outputId": "af56da06-5368-40a1-da0d-5f5b205a1d6c"
      },
      "source": [
        "k_feat = [len(k) for k in sbs.subsets_]\n",
        "plt.plot(k_feat, sbs.scores_, marker='o')\n",
        "plt.ylim([0.7,1.02])\n",
        "plt.ylabel('Accuracy')\n",
        "plt.xlabel('Número de características')\n",
        "plt.grid()\n",
        "plt.show()"
      ],
      "execution_count": null,
      "outputs": [
        {
          "output_type": "display_data",
          "data": {
            "image/png": "[encoded data removed]",
            "text/plain": [
              "<Figure size 432x288 with 1 Axes>"
            ]
          },
          "metadata": {
            "needs_background": "light"
          }
        }
      ]
    },
    {
      "cell_type": "code",
      "metadata": {
        "id": "r2xIP42gul17"
      },
      "source": [
        ""
      ],
      "execution_count": null,
      "outputs": []
    }
  ]
}