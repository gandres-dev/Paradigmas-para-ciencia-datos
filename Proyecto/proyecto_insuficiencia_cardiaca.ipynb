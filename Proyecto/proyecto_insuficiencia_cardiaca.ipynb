{
 "cells": [
  {
   "cell_type": "markdown",
   "metadata": {
    "cell_id": "00000-22c1272c-0f00-4e74-a3e2-43d5985c3ad1",
    "deepnote_cell_type": "markdown",
    "tags": []
   },
   "source": [
    "# Detector para una insuficiencia cardíaca \n",
    "- Silva Velázquez Elsy Camila\n",
    "- Longines Tapia Hugo Didier\n",
    "- Andrés Urbano Guillermo Gerardo\n",
    "\n",
    "La insuficiencia cardíaca es una enfermedad progresiva crónica en la que el músculo cardíaco no puede bombear suficiente sangre para satisfacer las necesidades de sangre y oxígeno del cuerpo.\n",
    "\n",
    "### Objetivo \n",
    "- A través del estudio de los 13 atributos principales que se encuentran en el conjunto de datos, queremos clasificar aquellos que son determinantes para el desarrollo de esta enfermedad.\n",
    "- Analizar las causantes de la insuficiencia cardíaca.\n",
    "- Comparar cuál es el mejor clasificador para la detección temprana para una insuficiencia cardíaca.\n"
   ]
  },
  {
   "cell_type": "markdown",
   "metadata": {
    "cell_id": "00001-4c5c9b51-436e-4625-9d06-6dc2ea08bc5c",
    "deepnote_cell_type": "markdown",
    "tags": []
   },
   "source": [
    "Importamos la librerias necesarias para nuestro analisis:"
   ]
  },
  {
   "cell_type": "code",
   "execution_count": null,
   "metadata": {
    "cell_id": "00000-83060c30-26d0-4dc5-8434-28d8b8541189",
    "deepnote_cell_type": "code",
    "deepnote_to_be_reexecuted": false,
    "execution_millis": 1,
    "execution_start": 1637586629168,
    "id": "-PQ7Iji6Spgn",
    "source_hash": "cceb3d48"
   },
   "outputs": [],
   "source": [
    "import numpy as np\n",
    "import pandas as pd\n",
    "import matplotlib.pyplot as plt\n",
    "import seaborn as sns"
   ]
  },
  {
   "cell_type": "markdown",
   "metadata": {
    "cell_id": "00003-21487622-b466-41b6-a77d-b10d347aebe3",
    "deepnote_cell_type": "markdown",
    "tags": []
   },
   "source": [
    "\n",
    "## Sobre la insuficiencia cardíaca.\n",
    "\n",
    "El conjunto de datos sobre el cual trata este proyecto junta datos sobre factores posibles en cuanto a la causa de una insuficiencia cardíaca se refiere. Recolecta datos sobre diabetes, edad, alta presión sanguinea, entre otros factores. Al final existe una columna la cual registra las muertes por insuficiencia cardíaca. Por lo tanto primero tenemos que saber que es la insuficiencia cardíaca aunque sea de forma básica. \n",
    "\n",
    "La insuficiencia cardíaca es un padecimiento en el cual el corazón ya no es capaz de bombear sangre rica en oxígeno a todo el cuerpo de manera eficiente. Esto ocasiona diversos sintomas a lo largo del cuerpo y en otras ocasiones hasta la muerte. "
   ]
  },
  {
   "cell_type": "markdown",
   "metadata": {
    "cell_id": "00001-8773e5fd-2e2e-4bd0-b956-5e61b4bffeaa",
    "deepnote_cell_type": "markdown",
    "id": "pwbC1A77S0rY"
   },
   "source": [
    "### Obteniendo los datos y exploración de nuestros datos"
   ]
  },
  {
   "cell_type": "code",
   "execution_count": null,
   "metadata": {
    "cell_id": "00002-0f989f7f-9e4e-4984-8aa7-ae83cbb2c6e4",
    "colab": {
     "base_uri": "https://localhost:8080/",
     "height": 206
    },
    "deepnote_cell_type": "code",
    "deepnote_output_heights": [
     177
    ],
    "deepnote_to_be_reexecuted": false,
    "execution_millis": 257,
    "execution_start": 1637586651092,
    "id": "H0JhVtSiSsAy",
    "outputId": "0ccafd3d-4d34-439f-fb09-f4ea3adb373e",
    "source_hash": "1f0c9c86"
   },
   "outputs": [
    {
     "data": {
      "application/vnd.deepnote.dataframe.v2+json": {
       "column_count": 13,
       "columns": [
        {
         "dtype": "float64",
         "name": "age",
         "stats": {
          "histogram": [
           {
            "bin_end": 46.7,
            "bin_start": 45,
            "count": 2
           },
           {
            "bin_end": 48.4,
            "bin_start": 46.7,
            "count": 0
           },
           {
            "bin_end": 50.1,
            "bin_start": 48.4,
            "count": 1
           },
           {
            "bin_end": 51.8,
            "bin_start": 50.1,
            "count": 0
           },
           {
            "bin_end": 53.5,
            "bin_start": 51.8,
            "count": 0
           },
           {
            "bin_end": 55.2,
            "bin_start": 53.5,
            "count": 1
           },
           {
            "bin_end": 56.9,
            "bin_start": 55.2,
            "count": 0
           },
           {
            "bin_end": 58.6,
            "bin_start": 56.9,
            "count": 0
           },
           {
            "bin_end": 60.3,
            "bin_start": 58.6,
            "count": 0
           },
           {
            "bin_end": 62,
            "bin_start": 60.3,
            "count": 1
           }
          ],
          "max": "62.0",
          "min": "45.0",
          "nan_count": 0,
          "unique_count": 4
         }
        },
        {
         "dtype": "int64",
         "name": "anaemia",
         "stats": {
          "histogram": [
           {
            "bin_end": -0.4,
            "bin_start": -0.5,
            "count": 0
           },
           {
            "bin_end": -0.3,
            "bin_start": -0.4,
            "count": 0
           },
           {
            "bin_end": -0.19999999999999996,
            "bin_start": -0.3,
            "count": 0
           },
           {
            "bin_end": -0.09999999999999998,
            "bin_start": -0.19999999999999996,
            "count": 0
           },
           {
            "bin_end": 0,
            "bin_start": -0.09999999999999998,
            "count": 0
           },
           {
            "bin_end": 0.10000000000000009,
            "bin_start": 0,
            "count": 5
           },
           {
            "bin_end": 0.20000000000000007,
            "bin_start": 0.10000000000000009,
            "count": 0
           },
           {
            "bin_end": 0.30000000000000004,
            "bin_start": 0.20000000000000007,
            "count": 0
           },
           {
            "bin_end": 0.4,
            "bin_start": 0.30000000000000004,
            "count": 0
           },
           {
            "bin_end": 0.5,
            "bin_start": 0.4,
            "count": 0
           }
          ],
          "max": "0",
          "min": "0",
          "nan_count": 0,
          "unique_count": 1
         }
        },
        {
         "dtype": "int64",
         "name": "creatinine_phosphokinase",
         "stats": {
          "histogram": [
           {
            "bin_end": 296.2,
            "bin_start": 61,
            "count": 2
           },
           {
            "bin_end": 531.4,
            "bin_start": 296.2,
            "count": 0
           },
           {
            "bin_end": 766.5999999999999,
            "bin_start": 531.4,
            "count": 0
           },
           {
            "bin_end": 1001.8,
            "bin_start": 766.5999999999999,
            "count": 0
           },
           {
            "bin_end": 1237,
            "bin_start": 1001.8,
            "count": 0
           },
           {
            "bin_end": 1472.1999999999998,
            "bin_start": 1237,
            "count": 0
           },
           {
            "bin_end": 1707.3999999999999,
            "bin_start": 1472.1999999999998,
            "count": 0
           },
           {
            "bin_end": 1942.6,
            "bin_start": 1707.3999999999999,
            "count": 1
           },
           {
            "bin_end": 2177.7999999999997,
            "bin_start": 1942.6,
            "count": 1
           },
           {
            "bin_end": 2413,
            "bin_start": 2177.7999999999997,
            "count": 1
           }
          ],
          "max": "2413",
          "min": "61",
          "nan_count": 0,
          "unique_count": 5
         }
        },
        {
         "dtype": "int64",
         "name": "diabetes",
         "stats": {
          "histogram": [
           {
            "bin_end": 0.1,
            "bin_start": 0,
            "count": 3
           },
           {
            "bin_end": 0.2,
            "bin_start": 0.1,
            "count": 0
           },
           {
            "bin_end": 0.30000000000000004,
            "bin_start": 0.2,
            "count": 0
           },
           {
            "bin_end": 0.4,
            "bin_start": 0.30000000000000004,
            "count": 0
           },
           {
            "bin_end": 0.5,
            "bin_start": 0.4,
            "count": 0
           },
           {
            "bin_end": 0.6000000000000001,
            "bin_start": 0.5,
            "count": 0
           },
           {
            "bin_end": 0.7000000000000001,
            "bin_start": 0.6000000000000001,
            "count": 0
           },
           {
            "bin_end": 0.8,
            "bin_start": 0.7000000000000001,
            "count": 0
           },
           {
            "bin_end": 0.9,
            "bin_start": 0.8,
            "count": 0
           },
           {
            "bin_end": 1,
            "bin_start": 0.9,
            "count": 2
           }
          ],
          "max": "1",
          "min": "0",
          "nan_count": 0,
          "unique_count": 2
         }
        },
        {
         "dtype": "int64",
         "name": "ejection_fraction",
         "stats": {
          "histogram": [
           {
            "bin_end": 40.2,
            "bin_start": 38,
            "count": 3
           },
           {
            "bin_end": 42.4,
            "bin_start": 40.2,
            "count": 0
           },
           {
            "bin_end": 44.6,
            "bin_start": 42.4,
            "count": 0
           },
           {
            "bin_end": 46.8,
            "bin_start": 44.6,
            "count": 1
           },
           {
            "bin_end": 49,
            "bin_start": 46.8,
            "count": 0
           },
           {
            "bin_end": 51.2,
            "bin_start": 49,
            "count": 0
           },
           {
            "bin_end": 53.400000000000006,
            "bin_start": 51.2,
            "count": 0
           },
           {
            "bin_end": 55.6,
            "bin_start": 53.400000000000006,
            "count": 0
           },
           {
            "bin_end": 57.8,
            "bin_start": 55.6,
            "count": 0
           },
           {
            "bin_end": 60,
            "bin_start": 57.8,
            "count": 1
           }
          ],
          "max": "60",
          "min": "38",
          "nan_count": 0,
          "unique_count": 3
         }
        },
        {
         "dtype": "int64",
         "name": "high_blood_pressure",
         "stats": {
          "histogram": [
           {
            "bin_end": 0.1,
            "bin_start": 0,
            "count": 4
           },
           {
            "bin_end": 0.2,
            "bin_start": 0.1,
            "count": 0
           },
           {
            "bin_end": 0.30000000000000004,
            "bin_start": 0.2,
            "count": 0
           },
           {
            "bin_end": 0.4,
            "bin_start": 0.30000000000000004,
            "count": 0
           },
           {
            "bin_end": 0.5,
            "bin_start": 0.4,
            "count": 0
           },
           {
            "bin_end": 0.6000000000000001,
            "bin_start": 0.5,
            "count": 0
           },
           {
            "bin_end": 0.7000000000000001,
            "bin_start": 0.6000000000000001,
            "count": 0
           },
           {
            "bin_end": 0.8,
            "bin_start": 0.7000000000000001,
            "count": 0
           },
           {
            "bin_end": 0.9,
            "bin_start": 0.8,
            "count": 0
           },
           {
            "bin_end": 1,
            "bin_start": 0.9,
            "count": 1
           }
          ],
          "max": "1",
          "min": "0",
          "nan_count": 0,
          "unique_count": 2
         }
        },
        {
         "dtype": "float64",
         "name": "platelets",
         "stats": {
          "histogram": [
           {
            "bin_end": 200200,
            "bin_start": 140000,
            "count": 2
           },
           {
            "bin_end": 260400,
            "bin_start": 200200,
            "count": 0
           },
           {
            "bin_end": 320600,
            "bin_start": 260400,
            "count": 1
           },
           {
            "bin_end": 380800,
            "bin_start": 320600,
            "count": 0
           },
           {
            "bin_end": 441000,
            "bin_start": 380800,
            "count": 1
           },
           {
            "bin_end": 501200,
            "bin_start": 441000,
            "count": 0
           },
           {
            "bin_end": 561400,
            "bin_start": 501200,
            "count": 0
           },
           {
            "bin_end": 621600,
            "bin_start": 561400,
            "count": 0
           },
           {
            "bin_end": 681800,
            "bin_start": 621600,
            "count": 0
           },
           {
            "bin_end": 742000,
            "bin_start": 681800,
            "count": 1
           }
          ],
          "max": "742000.0",
          "min": "140000.0",
          "nan_count": 0,
          "unique_count": 5
         }
        },
        {
         "dtype": "float64",
         "name": "serum_creatinine",
         "stats": {
          "histogram": [
           {
            "bin_end": 0.88,
            "bin_start": 0.8,
            "count": 1
           },
           {
            "bin_end": 0.9600000000000001,
            "bin_start": 0.88,
            "count": 0
           },
           {
            "bin_end": 1.04,
            "bin_start": 0.9600000000000001,
            "count": 0
           },
           {
            "bin_end": 1.12,
            "bin_start": 1.04,
            "count": 1
           },
           {
            "bin_end": 1.2000000000000002,
            "bin_start": 1.12,
            "count": 1
           },
           {
            "bin_end": 1.28,
            "bin_start": 1.2000000000000002,
            "count": 0
           },
           {
            "bin_end": 1.36,
            "bin_start": 1.28,
            "count": 0
           },
           {
            "bin_end": 1.44,
            "bin_start": 1.36,
            "count": 1
           },
           {
            "bin_end": 1.52,
            "bin_start": 1.44,
            "count": 0
           },
           {
            "bin_end": 1.6,
            "bin_start": 1.52,
            "count": 1
           }
          ],
          "max": "1.6",
          "min": "0.8",
          "nan_count": 0,
          "unique_count": 5
         }
        },
        {
         "dtype": "int64",
         "name": "serum_sodium",
         "stats": {
          "histogram": [
           {
            "bin_end": 136.7,
            "bin_start": 136,
            "count": 1
           },
           {
            "bin_end": 137.4,
            "bin_start": 136.7,
            "count": 0
           },
           {
            "bin_end": 138.1,
            "bin_start": 137.4,
            "count": 1
           },
           {
            "bin_end": 138.8,
            "bin_start": 138.1,
            "count": 0
           },
           {
            "bin_end": 139.5,
            "bin_start": 138.8,
            "count": 1
           },
           {
            "bin_end": 140.2,
            "bin_start": 139.5,
            "count": 1
           },
           {
            "bin_end": 140.9,
            "bin_start": 140.2,
            "count": 0
           },
           {
            "bin_end": 141.6,
            "bin_start": 140.9,
            "count": 0
           },
           {
            "bin_end": 142.3,
            "bin_start": 141.6,
            "count": 0
           },
           {
            "bin_end": 143,
            "bin_start": 142.3,
            "count": 1
           }
          ],
          "max": "143",
          "min": "136",
          "nan_count": 0,
          "unique_count": 5
         }
        },
        {
         "dtype": "int64",
         "name": "sex",
         "stats": {
          "histogram": [
           {
            "bin_end": 0.1,
            "bin_start": 0,
            "count": 2
           },
           {
            "bin_end": 0.2,
            "bin_start": 0.1,
            "count": 0
           },
           {
            "bin_end": 0.30000000000000004,
            "bin_start": 0.2,
            "count": 0
           },
           {
            "bin_end": 0.4,
            "bin_start": 0.30000000000000004,
            "count": 0
           },
           {
            "bin_end": 0.5,
            "bin_start": 0.4,
            "count": 0
           },
           {
            "bin_end": 0.6000000000000001,
            "bin_start": 0.5,
            "count": 0
           },
           {
            "bin_end": 0.7000000000000001,
            "bin_start": 0.6000000000000001,
            "count": 0
           },
           {
            "bin_end": 0.8,
            "bin_start": 0.7000000000000001,
            "count": 0
           },
           {
            "bin_end": 0.9,
            "bin_start": 0.8,
            "count": 0
           },
           {
            "bin_end": 1,
            "bin_start": 0.9,
            "count": 3
           }
          ],
          "max": "1",
          "min": "0",
          "nan_count": 0,
          "unique_count": 2
         }
        },
        {
         "dtype": "int64",
         "name": "smoking",
         "stats": {
          "histogram": [
           {
            "bin_end": 0.1,
            "bin_start": 0,
            "count": 2
           },
           {
            "bin_end": 0.2,
            "bin_start": 0.1,
            "count": 0
           },
           {
            "bin_end": 0.30000000000000004,
            "bin_start": 0.2,
            "count": 0
           },
           {
            "bin_end": 0.4,
            "bin_start": 0.30000000000000004,
            "count": 0
           },
           {
            "bin_end": 0.5,
            "bin_start": 0.4,
            "count": 0
           },
           {
            "bin_end": 0.6000000000000001,
            "bin_start": 0.5,
            "count": 0
           },
           {
            "bin_end": 0.7000000000000001,
            "bin_start": 0.6000000000000001,
            "count": 0
           },
           {
            "bin_end": 0.8,
            "bin_start": 0.7000000000000001,
            "count": 0
           },
           {
            "bin_end": 0.9,
            "bin_start": 0.8,
            "count": 0
           },
           {
            "bin_end": 1,
            "bin_start": 0.9,
            "count": 3
           }
          ],
          "max": "1",
          "min": "0",
          "nan_count": 0,
          "unique_count": 2
         }
        },
        {
         "dtype": "int64",
         "name": "time",
         "stats": {
          "histogram": [
           {
            "bin_end": 271.5,
            "bin_start": 270,
            "count": 2
           },
           {
            "bin_end": 273,
            "bin_start": 271.5,
            "count": 0
           },
           {
            "bin_end": 274.5,
            "bin_start": 273,
            "count": 0
           },
           {
            "bin_end": 276,
            "bin_start": 274.5,
            "count": 0
           },
           {
            "bin_end": 277.5,
            "bin_start": 276,
            "count": 0
           },
           {
            "bin_end": 279,
            "bin_start": 277.5,
            "count": 1
           },
           {
            "bin_end": 280.5,
            "bin_start": 279,
            "count": 1
           },
           {
            "bin_end": 282,
            "bin_start": 280.5,
            "count": 0
           },
           {
            "bin_end": 283.5,
            "bin_start": 282,
            "count": 0
           },
           {
            "bin_end": 285,
            "bin_start": 283.5,
            "count": 1
           }
          ],
          "max": "285",
          "min": "270",
          "nan_count": 0,
          "unique_count": 5
         }
        },
        {
         "dtype": "int64",
         "name": "DEATH_EVENT",
         "stats": {
          "histogram": [
           {
            "bin_end": -0.4,
            "bin_start": -0.5,
            "count": 0
           },
           {
            "bin_end": -0.3,
            "bin_start": -0.4,
            "count": 0
           },
           {
            "bin_end": -0.19999999999999996,
            "bin_start": -0.3,
            "count": 0
           },
           {
            "bin_end": -0.09999999999999998,
            "bin_start": -0.19999999999999996,
            "count": 0
           },
           {
            "bin_end": 0,
            "bin_start": -0.09999999999999998,
            "count": 0
           },
           {
            "bin_end": 0.10000000000000009,
            "bin_start": 0,
            "count": 5
           },
           {
            "bin_end": 0.20000000000000007,
            "bin_start": 0.10000000000000009,
            "count": 0
           },
           {
            "bin_end": 0.30000000000000004,
            "bin_start": 0.20000000000000007,
            "count": 0
           },
           {
            "bin_end": 0.4,
            "bin_start": 0.30000000000000004,
            "count": 0
           },
           {
            "bin_end": 0.5,
            "bin_start": 0.4,
            "count": 0
           }
          ],
          "max": "0",
          "min": "0",
          "nan_count": 0,
          "unique_count": 1
         }
        },
        {
         "dtype": "int64",
         "name": "_deepnote_index_column"
        }
       ],
       "row_count": 5,
       "rows_bottom": null,
       "rows_top": [
        {
         "DEATH_EVENT": 0,
         "_deepnote_index_column": 294,
         "age": 62,
         "anaemia": 0,
         "creatinine_phosphokinase": 61,
         "diabetes": 1,
         "ejection_fraction": 38,
         "high_blood_pressure": 1,
         "platelets": 155000,
         "serum_creatinine": 1.1,
         "serum_sodium": 143,
         "sex": 1,
         "smoking": 1,
         "time": 270
        },
        {
         "DEATH_EVENT": 0,
         "_deepnote_index_column": 295,
         "age": 55,
         "anaemia": 0,
         "creatinine_phosphokinase": 1820,
         "diabetes": 0,
         "ejection_fraction": 38,
         "high_blood_pressure": 0,
         "platelets": 270000,
         "serum_creatinine": 1.2,
         "serum_sodium": 139,
         "sex": 0,
         "smoking": 0,
         "time": 271
        },
        {
         "DEATH_EVENT": 0,
         "_deepnote_index_column": 296,
         "age": 45,
         "anaemia": 0,
         "creatinine_phosphokinase": 2060,
         "diabetes": 1,
         "ejection_fraction": 60,
         "high_blood_pressure": 0,
         "platelets": 742000,
         "serum_creatinine": 0.8,
         "serum_sodium": 138,
         "sex": 0,
         "smoking": 0,
         "time": 278
        },
        {
         "DEATH_EVENT": 0,
         "_deepnote_index_column": 297,
         "age": 45,
         "anaemia": 0,
         "creatinine_phosphokinase": 2413,
         "diabetes": 0,
         "ejection_fraction": 38,
         "high_blood_pressure": 0,
         "platelets": 140000,
         "serum_creatinine": 1.4,
         "serum_sodium": 140,
         "sex": 1,
         "smoking": 1,
         "time": 280
        },
        {
         "DEATH_EVENT": 0,
         "_deepnote_index_column": 298,
         "age": 50,
         "anaemia": 0,
         "creatinine_phosphokinase": 196,
         "diabetes": 0,
         "ejection_fraction": 45,
         "high_blood_pressure": 0,
         "platelets": 395000,
         "serum_creatinine": 1.6,
         "serum_sodium": 136,
         "sex": 1,
         "smoking": 1,
         "time": 285
        }
       ]
      },
      "text/html": [
       "<div>\n",
       "<style scoped>\n",
       "    .dataframe tbody tr th:only-of-type {\n",
       "        vertical-align: middle;\n",
       "    }\n",
       "\n",
       "    .dataframe tbody tr th {\n",
       "        vertical-align: top;\n",
       "    }\n",
       "\n",
       "    .dataframe thead th {\n",
       "        text-align: right;\n",
       "    }\n",
       "</style>\n",
       "<table border=\"1\" class=\"dataframe\">\n",
       "  <thead>\n",
       "    <tr style=\"text-align: right;\">\n",
       "      <th></th>\n",
       "      <th>age</th>\n",
       "      <th>anaemia</th>\n",
       "      <th>creatinine_phosphokinase</th>\n",
       "      <th>diabetes</th>\n",
       "      <th>ejection_fraction</th>\n",
       "      <th>high_blood_pressure</th>\n",
       "      <th>platelets</th>\n",
       "      <th>serum_creatinine</th>\n",
       "      <th>serum_sodium</th>\n",
       "      <th>sex</th>\n",
       "      <th>smoking</th>\n",
       "      <th>time</th>\n",
       "      <th>DEATH_EVENT</th>\n",
       "    </tr>\n",
       "  </thead>\n",
       "  <tbody>\n",
       "    <tr>\n",
       "      <th>294</th>\n",
       "      <td>62.0</td>\n",
       "      <td>0</td>\n",
       "      <td>61</td>\n",
       "      <td>1</td>\n",
       "      <td>38</td>\n",
       "      <td>1</td>\n",
       "      <td>155000.0</td>\n",
       "      <td>1.1</td>\n",
       "      <td>143</td>\n",
       "      <td>1</td>\n",
       "      <td>1</td>\n",
       "      <td>270</td>\n",
       "      <td>0</td>\n",
       "    </tr>\n",
       "    <tr>\n",
       "      <th>295</th>\n",
       "      <td>55.0</td>\n",
       "      <td>0</td>\n",
       "      <td>1820</td>\n",
       "      <td>0</td>\n",
       "      <td>38</td>\n",
       "      <td>0</td>\n",
       "      <td>270000.0</td>\n",
       "      <td>1.2</td>\n",
       "      <td>139</td>\n",
       "      <td>0</td>\n",
       "      <td>0</td>\n",
       "      <td>271</td>\n",
       "      <td>0</td>\n",
       "    </tr>\n",
       "    <tr>\n",
       "      <th>296</th>\n",
       "      <td>45.0</td>\n",
       "      <td>0</td>\n",
       "      <td>2060</td>\n",
       "      <td>1</td>\n",
       "      <td>60</td>\n",
       "      <td>0</td>\n",
       "      <td>742000.0</td>\n",
       "      <td>0.8</td>\n",
       "      <td>138</td>\n",
       "      <td>0</td>\n",
       "      <td>0</td>\n",
       "      <td>278</td>\n",
       "      <td>0</td>\n",
       "    </tr>\n",
       "    <tr>\n",
       "      <th>297</th>\n",
       "      <td>45.0</td>\n",
       "      <td>0</td>\n",
       "      <td>2413</td>\n",
       "      <td>0</td>\n",
       "      <td>38</td>\n",
       "      <td>0</td>\n",
       "      <td>140000.0</td>\n",
       "      <td>1.4</td>\n",
       "      <td>140</td>\n",
       "      <td>1</td>\n",
       "      <td>1</td>\n",
       "      <td>280</td>\n",
       "      <td>0</td>\n",
       "    </tr>\n",
       "    <tr>\n",
       "      <th>298</th>\n",
       "      <td>50.0</td>\n",
       "      <td>0</td>\n",
       "      <td>196</td>\n",
       "      <td>0</td>\n",
       "      <td>45</td>\n",
       "      <td>0</td>\n",
       "      <td>395000.0</td>\n",
       "      <td>1.6</td>\n",
       "      <td>136</td>\n",
       "      <td>1</td>\n",
       "      <td>1</td>\n",
       "      <td>285</td>\n",
       "      <td>0</td>\n",
       "    </tr>\n",
       "  </tbody>\n",
       "</table>\n",
       "</div>"
      ],
      "text/plain": [
       "      age  anaemia  creatinine_phosphokinase  diabetes  ejection_fraction  \\\n",
       "294  62.0        0                        61         1                 38   \n",
       "295  55.0        0                      1820         0                 38   \n",
       "296  45.0        0                      2060         1                 60   \n",
       "297  45.0        0                      2413         0                 38   \n",
       "298  50.0        0                       196         0                 45   \n",
       "\n",
       "     high_blood_pressure  platelets  serum_creatinine  serum_sodium  sex  \\\n",
       "294                    1   155000.0               1.1           143    1   \n",
       "295                    0   270000.0               1.2           139    0   \n",
       "296                    0   742000.0               0.8           138    0   \n",
       "297                    0   140000.0               1.4           140    1   \n",
       "298                    0   395000.0               1.6           136    1   \n",
       "\n",
       "     smoking  time  DEATH_EVENT  \n",
       "294        1   270            0  \n",
       "295        0   271            0  \n",
       "296        0   278            0  \n",
       "297        1   280            0  \n",
       "298        1   285            0  "
      ]
     },
     "execution_count": 3,
     "metadata": {},
     "output_type": "execute_result"
    }
   ],
   "source": [
    "df = pd.read_csv('heart_failure_clinical_records_dataset.csv')\n",
    "df.tail(5)"
   ]
  },
  {
   "cell_type": "markdown",
   "metadata": {
    "cell_id": "00005-84c5cb1b-bf24-4037-9adf-9887bddf38fb",
    "deepnote_cell_type": "markdown",
    "deepnote_to_be_reexecuted": false,
    "execution_millis": 7,
    "execution_start": 1637549445552,
    "source_hash": "25d43fa0",
    "tags": []
   },
   "source": [
    "Verificamos si existen datos faltantes:"
   ]
  },
  {
   "cell_type": "code",
   "execution_count": null,
   "metadata": {
    "cell_id": "00006-ba1e767e-c42e-4ba8-b871-36f4bef9ddb5",
    "deepnote_cell_type": "code",
    "deepnote_output_heights": [
     315.59375
    ],
    "deepnote_to_be_reexecuted": false,
    "execution_millis": 69,
    "execution_start": 1637586655367,
    "source_hash": "d794f466",
    "tags": []
   },
   "outputs": [
    {
     "data": {
      "text/plain": [
       "age                         0\n",
       "anaemia                     0\n",
       "creatinine_phosphokinase    0\n",
       "diabetes                    0\n",
       "ejection_fraction           0\n",
       "high_blood_pressure         0\n",
       "platelets                   0\n",
       "serum_creatinine            0\n",
       "serum_sodium                0\n",
       "sex                         0\n",
       "smoking                     0\n",
       "time                        0\n",
       "DEATH_EVENT                 0\n",
       "dtype: int64"
      ]
     },
     "execution_count": 4,
     "metadata": {},
     "output_type": "execute_result"
    }
   ],
   "source": [
    "df.isna().sum()"
   ]
  },
  {
   "cell_type": "markdown",
   "metadata": {
    "cell_id": "00005-5a55f120-6175-400a-aa46-15ed9ff988cd",
    "deepnote_cell_type": "markdown",
    "tags": []
   },
   "source": [
    "Para profundizar mejor el entendimiento de nuestras 13 columnas decidimos generar una mapa de correlación que nos ayudarán que variables estan más correlacionadas:"
   ]
  },
  {
   "cell_type": "code",
   "execution_count": null,
   "metadata": {
    "cell_id": "00004-03e8378d-21be-482c-a254-8cf62afa6329",
    "deepnote_cell_type": "code",
    "deepnote_output_heights": [
     592
    ],
    "deepnote_to_be_reexecuted": false,
    "execution_millis": 3089,
    "execution_start": 1637544747738,
    "source_hash": "b83eb82b",
    "tags": []
   },
   "outputs": [
    {
     "data": {
      "image/png": "[encoded data removed]",
      "text/plain": [
       "<Figure size 864x576 with 2 Axes>"
      ]
     },
     "metadata": {
      "image/png": {
       "height": 590,
       "width": 780
      },
      "needs_background": "light"
     },
     "output_type": "display_data"
    }
   ],
   "source": [
    "plt.figure(figsize=(12,8))\n",
    "sns.heatmap(df.corr(), cmap='coolwarm', annot=True, vmin=-1)\n",
    "plt.show()"
   ]
  },
  {
   "cell_type": "markdown",
   "metadata": {
    "cell_id": "00005-0cb61ad3-be16-4318-9a90-63763129aea1",
    "deepnote_cell_type": "markdown",
    "tags": []
   },
   "source": [
    "En el mapa podemos ver que las 3 características más correlacionadas (tanto positiva como negativamente) con el resultado de supervivencia de un paciente (DEATH_EVENT) son la fracción de eyección, la creatinina sérica y el tiempo."
   ]
  },
  {
   "cell_type": "markdown",
   "metadata": {
    "cell_id": "00011-d6641dcd-1525-4081-8d8d-9b516e332760",
    "deepnote_cell_type": "markdown",
    "tags": []
   },
   "source": [
    "\n",
    "## Datos de entrenamiento y prueba\n"
   ]
  },
  {
   "cell_type": "markdown",
   "metadata": {
    "cell_id": "00008-df13ba0a-d64c-49c3-bf50-4e4b9354aff3",
    "deepnote_cell_type": "markdown",
    "tags": []
   },
   "source": [
    "Para construir nuestro clasificador sobre que personas estan propensas a un evento de fallas en el corazón, dividiremos nuestro conjunto de datos, en datos de entrenamiento y prueba:"
   ]
  },
  {
   "cell_type": "code",
   "execution_count": null,
   "metadata": {
    "cell_id": "00003-d1f17947-4332-41a5-8b2b-6e714ebf468b",
    "deepnote_cell_type": "code",
    "deepnote_to_be_reexecuted": false,
    "execution_millis": 167,
    "execution_start": 1637586786950,
    "id": "RyubiCx3SxRg",
    "source_hash": "4f9a03ca"
   },
   "outputs": [],
   "source": [
    "from sklearn.model_selection import train_test_split\n",
    "\n",
    "# Sacamos nuestro conjunto de características (matriz de características X)\n",
    "X, y = df.iloc[:, 0:-1].values, df.iloc[:,-1].values\n",
    "\n",
    "# Dividimos nuestro conjunto en entrenamiento y prueba\n",
    "X_train, X_test, y_train, y_test = train_test_split(X, y, test_size=0.3, stratify=y, random_state=1)"
   ]
  },
  {
   "cell_type": "code",
   "execution_count": null,
   "metadata": {
    "cell_id": "00004-54684547-9416-4cdf-8491-03f51c560b5f",
    "colab": {
     "base_uri": "https://localhost:8080/"
    },
    "deepnote_cell_type": "code",
    "deepnote_to_be_reexecuted": false,
    "execution_millis": 6,
    "execution_start": 1637586789856,
    "id": "ZvYFPxqXTXxL",
    "outputId": "f4e0e0b6-be07-4f30-8133-887a3bb96f86",
    "source_hash": "a2ce52af"
   },
   "outputs": [
    {
     "name": "stdout",
     "output_type": "stream",
     "text": [
      "(209, 12)\n",
      "(209,)\n"
     ]
    }
   ],
   "source": [
    "print(X_train.shape)\n",
    "print(y_train.shape)"
   ]
  },
  {
   "cell_type": "markdown",
   "metadata": {
    "cell_id": "00006-3a69f35a-bc09-49fe-b962-eb6a14dc9219",
    "deepnote_cell_type": "markdown",
    "id": "cKU366C-TYCS"
   },
   "source": [
    "## Usando pipelines para Regresión lineal y PCA\n",
    "\n",
    "Vemos primeramento que hay algunos datos con un rango de valores muy grandes, por ejemplo las columnas de creatinina_fosfoquinasa y plaquetas, esto podria sesgar nuestro datos con los valores pequeños y haber un error en nuestro analisis, por eso decidimos estandarizar nuestros datos y posteriormente aplicar pca y regresón lineal para nuestro clasificador:"
   ]
  },
  {
   "cell_type": "code",
   "execution_count": null,
   "metadata": {
    "cell_id": "00014-09b0d9d1-5a21-475a-9d44-0555aed7fbda",
    "deepnote_cell_type": "code",
    "deepnote_to_be_reexecuted": false,
    "execution_millis": 89,
    "execution_start": 1637586828116,
    "source_hash": "eeb25ad",
    "tags": []
   },
   "outputs": [],
   "source": [
    "from sklearn.preprocessing import StandardScaler\n",
    "from sklearn.decomposition import PCA \n",
    "from sklearn.linear_model import LogisticRegression\n",
    "from sklearn.pipeline import make_pipeline"
   ]
  },
  {
   "cell_type": "code",
   "execution_count": null,
   "metadata": {
    "cell_id": "00009-82f416fa-41b4-4644-ac6b-4890be6aa170",
    "colab": {
     "base_uri": "https://localhost:8080/"
    },
    "deepnote_cell_type": "code",
    "deepnote_to_be_reexecuted": false,
    "execution_millis": 43,
    "execution_start": 1637542154090,
    "id": "_G0qTWgMT7mV",
    "outputId": "26c21b15-cbba-4fab-84d7-f4a90af19ef3",
    "source_hash": "cdd2234b"
   },
   "outputs": [
    {
     "name": "stdout",
     "output_type": "stream",
     "text": [
      "Exactitud en pruebas = 0.822\n"
     ]
    }
   ],
   "source": [
    "pipe_lr=make_pipeline(StandardScaler(),\n",
    "                      PCA(n_components=4),\n",
    "                      LogisticRegression(random_state=1))\n",
    "\n",
    "pipe_lr.fit(X_train, y_train)\n",
    "y_pred = pipe_lr.predict(X_test)\n",
    "print('Exactitud en pruebas = %.3f' % pipe_lr.score(X_test, y_test))"
   ]
  },
  {
   "cell_type": "markdown",
   "metadata": {
    "cell_id": "00010-09ba18d7-b957-43d6-9ca3-b1a13210c554",
    "deepnote_cell_type": "markdown",
    "id": "s9rLPU4eT7qd"
   },
   "source": [
    "Vemos que al variar el número de componenetes encontramos que la mayor exactitud que podemos lograr alcanzar son con 4 componentes principales con una exactitud de $82.2\\%$ en el conjunto de pruebas. "
   ]
  },
  {
   "cell_type": "code",
   "execution_count": null,
   "metadata": {
    "cell_id": "00007-93e9057a-e760-48a2-b191-ba51ae6395cf",
    "colab": {
     "base_uri": "https://localhost:8080/"
    },
    "deepnote_cell_type": "code",
    "deepnote_to_be_reexecuted": false,
    "execution_millis": 2,
    "execution_start": 1637586871057,
    "id": "YTSGGdK6TYGx",
    "outputId": "22dbbadf-8151-458d-fc78-f383cfca9d7d",
    "source_hash": "e1df38ff"
   },
   "outputs": [
    {
     "name": "stdout",
     "output_type": "stream",
     "text": [
      "Exactitud en pruebas = 0.767\n"
     ]
    }
   ],
   "source": [
    "pipe_lr=make_pipeline(StandardScaler(),\n",
    "                      PCA(n_components=2),\n",
    "                      LogisticRegression(random_state=1))\n",
    "\n",
    "pipe_lr.fit(X_train, y_train)\n",
    "y_pred = pipe_lr.predict(X_test)\n",
    "print('Exactitud en pruebas = %.3f' % pipe_lr.score(X_test, y_test))"
   ]
  },
  {
   "cell_type": "markdown",
   "metadata": {
    "cell_id": "00008-299debaa-24f6-494e-b0cf-fba2da416516",
    "deepnote_cell_type": "markdown",
    "id": "xcqQ-3dZT7iN"
   },
   "source": [
    "Para ejemplo de nuestro analisís hemos decidio utilizar dos componentes para visualizar nuestro resultados, vemos que con dos componenetes principales tenemos una exactitud del $76.7\\%$ en el conjunto de pruebas. Esto nos da hasta cierto punto una certeza, pero verlo gráficamente ayuda mas. "
   ]
  },
  {
   "cell_type": "markdown",
   "metadata": {
    "cell_id": "00011-8146b228-83be-4327-8b64-50e543e64faf",
    "deepnote_cell_type": "markdown",
    "id": "lkU3pDXmT7td"
   },
   "source": [
    "## Visualizando nuestros datos de entrenamiento\n",
    "\n",
    "Para visualizar nuestros datos usaremos la herramienta `mlxtend` que nos ayudará a dibujar nuestra linea de decisión y las regiones. \n"
   ]
  },
  {
   "cell_type": "code",
   "execution_count": null,
   "metadata": {
    "cell_id": "00012-0a6d982a-ff62-4921-a0d1-40d14e226eed",
    "deepnote_cell_type": "code",
    "deepnote_to_be_reexecuted": false,
    "execution_millis": 5,
    "execution_start": 1637586911514,
    "id": "HOrWL8l1T7wt",
    "source_hash": "58f6938b"
   },
   "outputs": [],
   "source": [
    "X_train_std = pipe_lr[0].fit_transform(X_train) # datos de entrenamiento\n",
    "X_test_std = pipe_lr[0].transform(X_test) # datos de prueba"
   ]
  },
  {
   "cell_type": "code",
   "execution_count": null,
   "metadata": {
    "cell_id": "00013-86efbea5-e25f-4159-b535-fb3e887e33c5",
    "deepnote_cell_type": "code",
    "deepnote_to_be_reexecuted": false,
    "execution_millis": 5,
    "execution_start": 1637586916095,
    "id": "P-aEzXEGT79W",
    "source_hash": "63a0aba3"
   },
   "outputs": [],
   "source": [
    "# Ahora son de 2 dimensiones\n",
    "X_train_pca = pipe_lr[1].fit_transform(X_train_std) \n",
    "X_test_pca = pipe_lr[1].transform(X_test_std)"
   ]
  },
  {
   "cell_type": "code",
   "execution_count": null,
   "metadata": {
    "cell_id": "00022-67d6136f-82d4-4519-bcae-ea0e412ff411",
    "deepnote_cell_type": "code",
    "deepnote_to_be_reexecuted": false,
    "execution_millis": 4,
    "execution_start": 1637586934493,
    "source_hash": "c1512e5d",
    "tags": []
   },
   "outputs": [],
   "source": [
    "# Predecimos los valores de y según nuestro clasificador de regresión logistica\n",
    "y_pred = pipe_lr[2].predict(X_test_pca)"
   ]
  },
  {
   "cell_type": "code",
   "execution_count": null,
   "metadata": {
    "cell_id": "00014-56597e32-b1b6-4731-93f4-90b1f69a7787",
    "colab": {
     "base_uri": "https://localhost:8080/",
     "height": 330
    },
    "deepnote_cell_type": "code",
    "deepnote_output_heights": [
     280
    ],
    "deepnote_to_be_reexecuted": false,
    "execution_millis": 420,
    "execution_start": 1637551269206,
    "id": "5ViiGUhmT8Er",
    "outputId": "c3e1cfb7-f102-4319-a2d7-ff5b702bf2db",
    "source_hash": "548ce89f"
   },
   "outputs": [
    {
     "data": {
      "image/png": "[encoded data removed]",
      "text/plain": [
       "<Figure size 432x288 with 1 Axes>"
      ]
     },
     "metadata": {
      "image/png": {
       "height": 278,
       "width": 384
      },
      "needs_background": "light"
     },
     "output_type": "display_data"
    }
   ],
   "source": [
    "from mlxtend.plotting import plot_decision_regions\n",
    "import matplotlib.pyplot as plt\n",
    "\n",
    "plot_decision_regions(X_train_pca, y_train, clf=pipe_lr[2])\n",
    "plt.xlabel('Primera componente [std]')\n",
    "plt.ylabel('Secunda componente [std]')\n",
    "plt.title(\"Regresion logistica  (datos de entrenamiento)\")\n",
    "plt.show()"
   ]
  },
  {
   "cell_type": "markdown",
   "metadata": {
    "cell_id": "00026-f8bad1ad-6a4c-4c20-b3e5-7d6cee891f9c",
    "deepnote_cell_type": "markdown",
    "tags": []
   },
   "source": [
    "- Los triangulos naranjas: el paciente falleció durante el período de seguimiento.\n",
    "- Los cuadrados azul: no fallecieron durante el período de seguimiento.\n",
    "\n",
    "En esta gráfica podemos observar que la división por medio de una linea si bien engloba de cierta forma bien el caso de los cuadros azules. El caso de los triángulos naranjas no es tan preciso según podemos observar. \n",
    "Con estos datos de entrenamiento podemos visualizar que los triángulos naranjas invaden mucho la zona azul de cierta forma. A este tema regresaremos al final. "
   ]
  },
  {
   "cell_type": "markdown",
   "metadata": {
    "cell_id": "00015-9861652d-f59d-4795-90d5-35395d5e85ab",
    "deepnote_cell_type": "markdown",
    "id": "KPZFCVAdTYL6"
   },
   "source": [
    "## Visualizando con datos de prueba"
   ]
  },
  {
   "cell_type": "code",
   "execution_count": null,
   "metadata": {
    "cell_id": "00016-c986fac5-7a5d-4800-91eb-88ea3ad5a8de",
    "colab": {
     "base_uri": "https://localhost:8080/",
     "height": 330
    },
    "deepnote_cell_type": "code",
    "deepnote_output_heights": [
     280
    ],
    "deepnote_to_be_reexecuted": false,
    "execution_millis": 827,
    "execution_start": 1637552868362,
    "id": "RdjvP7YlWrp6",
    "outputId": "b980ac1c-cc49-4a3e-f199-9abe9f53f7ae",
    "source_hash": "3170f623"
   },
   "outputs": [
    {
     "data": {
      "image/png": "[encoded data removed]",
      "text/plain": [
       "<Figure size 432x288 with 1 Axes>"
      ]
     },
     "metadata": {
      "image/png": {
       "height": 278,
       "width": 384
      },
      "needs_background": "light"
     },
     "output_type": "display_data"
    }
   ],
   "source": [
    "plot_decision_regions(X_test_pca, y_test, clf=pipe_lr[2], legend=2)\n",
    "plt.xlabel('PC1')\n",
    "plt.ylabel('PC2')\n",
    "plt.title(\"Regresion logistica  (datos de prueba)\")\n",
    "plt.show()"
   ]
  },
  {
   "cell_type": "markdown",
   "metadata": {
    "cell_id": "00029-0c1d5763-720f-4900-92d2-db6dc3798b6e",
    "deepnote_cell_type": "markdown",
    "tags": []
   },
   "source": [
    "\n",
    "Podemos ver que con los datos de prueba sucede lo mismo que con los de entrenamiento. Una división aceptable para los cuadros azules, pero una falla considerable en el caso de los triángulos naranjas. "
   ]
  },
  {
   "cell_type": "markdown",
   "metadata": {
    "cell_id": "00030-2f822c52-1c4f-4908-8793-1c67a9a5f09d",
    "deepnote_cell_type": "markdown",
    "tags": []
   },
   "source": [
    "\n",
    "## Matriz de confusión "
   ]
  },
  {
   "cell_type": "code",
   "execution_count": null,
   "metadata": {
    "cell_id": "00021-d5a85000-8788-4609-b8ee-49aa713814ab",
    "deepnote_cell_type": "code",
    "deepnote_to_be_reexecuted": false,
    "execution_millis": 1,
    "execution_start": 1637587313005,
    "source_hash": "6ac5f76f",
    "tags": []
   },
   "outputs": [
    {
     "name": "stdout",
     "output_type": "stream",
     "text": [
      "[[56  5]\n",
      " [16 13]]\n"
     ]
    }
   ],
   "source": [
    "from sklearn . metrics import confusion_matrix\n",
    "\n",
    "confmat = confusion_matrix( y_true = y_test , y_pred = y_pred )\n",
    "print(confmat)"
   ]
  },
  {
   "cell_type": "code",
   "execution_count": null,
   "metadata": {
    "cell_id": "00021-4c1dbb1e-da7f-4a35-99ed-c26f9246deb0",
    "deepnote_cell_type": "code",
    "deepnote_output_heights": [
     172
    ],
    "deepnote_to_be_reexecuted": false,
    "execution_millis": 346,
    "execution_start": 1637551713196,
    "source_hash": "f6654181",
    "tags": []
   },
   "outputs": [
    {
     "data": {
      "image/png": "[encoded data removed]",
      "text/plain": [
       "<Figure size 180x180 with 1 Axes>"
      ]
     },
     "metadata": {
      "image/png": {
       "height": 170,
       "width": 163
      },
      "needs_background": "light"
     },
     "output_type": "display_data"
    }
   ],
   "source": [
    "fig, ax = plt.subplots(figsize =(2.5 , 2.5))\n",
    "ax.matshow(confmat, cmap = plt.cm.Blues, alpha =0.3)\n",
    "for i in range (confmat.shape[0]):\n",
    "    for j in range( confmat.shape [1]):\n",
    "        ax.text( x =j , y =i , s = confmat [i , j ])"
   ]
  },
  {
   "cell_type": "markdown",
   "metadata": {
    "cell_id": "00029-dfe69430-58f7-4806-8f13-276137e5b5fb",
    "deepnote_cell_type": "markdown",
    "tags": []
   },
   "source": [
    "Como se muestra arriba, para los pacientes elegidos aleatoriamente del conjunto de datos cuando se dividieron los datos, el modelo clasificó correctamente 56 casos sin insuficiencia cardíaca y 13 casos de insuficiencia cardíaca. Entonces nos quedamos con 21 casos de clasificación incorrecta. Más concretamente, tenemos 5 casos de falsos positivos, donde los pacientes fueron clasificados como fallecidos cuando en realidad sobrevivieron, y 16 casos de falsos negativos, donde los pacientes fueron clasificados como sobrevivientes cuando en realidad fallecieron."
   ]
  },
  {
   "cell_type": "markdown",
   "metadata": {
    "cell_id": "00036-bdd595ff-1bf5-412e-ab3c-ffd08e88db87",
    "deepnote_cell_type": "markdown",
    "tags": []
   },
   "source": [
    "####  Metricas de evaluación de rendimiento\n",
    "\n",
    "Por último, generamos una metricas para conocer que tan bien predice para conjuntos de prueba:"
   ]
  },
  {
   "cell_type": "code",
   "execution_count": null,
   "metadata": {
    "cell_id": "00034-414a6b0f-fb9d-453f-b5bc-237b3e71cb48",
    "deepnote_cell_type": "code",
    "deepnote_to_be_reexecuted": false,
    "execution_millis": 63,
    "execution_start": 1637587519695,
    "source_hash": "e3ae4556",
    "tags": []
   },
   "outputs": [
    {
     "name": "stdout",
     "output_type": "stream",
     "text": [
      "Presicion: 0.722\n",
      "   Recall: 0.448\n",
      "       F1: 0.553\n"
     ]
    }
   ],
   "source": [
    "from sklearn.metrics import precision_score\n",
    "from sklearn.metrics import recall_score, f1_score\n",
    "\n",
    "print('Presicion: %.3f' % precision_score(y_true=y_test, y_pred=y_pred))\n",
    "print('   Recall: %.3f' % recall_score(y_true=y_test, y_pred=y_pred))\n",
    "print('       F1: %.3f' % f1_score(y_true=y_test, y_pred=y_pred))\n"
   ]
  },
  {
   "cell_type": "markdown",
   "metadata": {
    "cell_id": "00038-1c56a884-59a3-40fb-9aac-0faed9e0f243",
    "deepnote_cell_type": "markdown",
    "tags": []
   },
   "source": [
    "Como observamos anteriormete tiene una precisión del $70\\%$ y para otras metricas se ve que no es tan efectivo la predicción para un conjunto desconocido."
   ]
  },
  {
   "cell_type": "markdown",
   "metadata": {
    "cell_id": "00020-1d40984a-a322-4b71-b1b6-d85d9ef878c9",
    "deepnote_cell_type": "markdown",
    "tags": []
   },
   "source": [
    "\n",
    "## Usando pipeline con XGBoost\n",
    "\n",
    "XGBoost es otra librería que podemos utilizar de forma alternativa para clasificar nuestros datos. Este tiene algunas diferencias considerables pero una de las mas importantes a destacar es la siguiente. \n",
    "El clasificador de XGBoost tiene restricciones automáticas para detenerse. Con el fin de no sobre-entrenar los datos XGBoost tiene 10 formas de detenerse automaticamente. \n",
    "\n"
   ]
  },
  {
   "cell_type": "code",
   "execution_count": null,
   "metadata": {
    "cell_id": "00020-15ac9f87-ac44-43b4-a0b1-ed2df3cf522a",
    "deepnote_cell_type": "code",
    "deepnote_to_be_reexecuted": false,
    "execution_millis": 2373,
    "execution_start": 1637587825244,
    "source_hash": "979ee2a0",
    "tags": []
   },
   "outputs": [
    {
     "name": "stderr",
     "output_type": "stream",
     "text": [
      "/root/venv/lib/python3.7/site-packages/xgboost/sklearn.py:1224: UserWarning: The use of label encoder in XGBClassifier is deprecated and will be removed in a future release. To remove this warning, do the following: 1) Pass option use_label_encoder=False when constructing XGBClassifier object; and 2) Encode your labels (y) as integers starting with 0, i.e. 0, 1, 2, ..., [num_class - 1].\n",
      "  warnings.warn(label_encoder_deprecation_msg, UserWarning)\n",
      "[13:30:26] WARNING: ../src/learner.cc:1115: Starting in XGBoost 1.3.0, the default evaluation metric used with the objective 'binary:logistic' was changed from 'error' to 'logloss'. Explicitly set eval_metric if you'd like to restore the old behavior.\n",
      "Exactitud en pruebas = 0.800\n"
     ]
    }
   ],
   "source": [
    "from sklearn.preprocessing import StandardScaler\n",
    "from sklearn.decomposition import PCA \n",
    "from sklearn.linear_model import LogisticRegression\n",
    "from xgboost import XGBClassifier\n",
    "from sklearn.pipeline import make_pipeline\n",
    "\n",
    "pipe_lr=make_pipeline(StandardScaler(),\n",
    "                      PCA(n_components=5),\n",
    "                      XGBClassifier(max_depth=4,\n",
    "                        subsample=0.9,\n",
    "                        objective='binary:logistic',\n",
    "                        n_estimators=200,\n",
    "                        learning_rate = 0.1))\n",
    "\n",
    "pipe_lr.fit(X_train, y_train)\n",
    "y_pred = pipe_lr.predict(X_test)\n",
    "print('Exactitud en pruebas = %.3f' % pipe_lr.score(X_test, y_test))"
   ]
  },
  {
   "cell_type": "markdown",
   "metadata": {
    "cell_id": "00039-1a53502c-97c6-45b7-bb1b-473a45a49d61",
    "deepnote_cell_type": "markdown",
    "tags": []
   },
   "source": [
    "Vemos que el mayor porcentaje exactitud para este clasificador el del $80\\%$ cuando se toman $5$ caractericticas principales.  Para efecto de nuestro analisís, tomaremos solo dos componenete principales para visualizar la clasificación de los datos."
   ]
  },
  {
   "cell_type": "markdown",
   "metadata": {
    "cell_id": "00017-54430e7d-1ec0-49a4-943b-20249321b70b",
    "deepnote_cell_type": "markdown",
    "id": "kP_BpUElWruh"
   },
   "source": [
    "### Clasificador con XGBoost\n",
    "\n",
    "Este es otro algoritmo para clasificar, compararemos clasificadores para este conjunto de datos y ver cuál es más efectivo:"
   ]
  },
  {
   "cell_type": "code",
   "execution_count": null,
   "metadata": {
    "cell_id": "00018-af71b126-b680-46ce-a79c-893f4a3917f1",
    "deepnote_cell_type": "code",
    "deepnote_output_heights": [
     null,
     203.59375
    ],
    "deepnote_to_be_reexecuted": false,
    "execution_millis": 1397,
    "execution_start": 1637587965817,
    "id": "P4PV-Od7Wrx6",
    "source_hash": "5ba4a21c"
   },
   "outputs": [
    {
     "name": "stderr",
     "output_type": "stream",
     "text": [
      "/root/venv/lib/python3.7/site-packages/xgboost/sklearn.py:1224: UserWarning: The use of label encoder in XGBClassifier is deprecated and will be removed in a future release. To remove this warning, do the following: 1) Pass option use_label_encoder=False when constructing XGBClassifier object; and 2) Encode your labels (y) as integers starting with 0, i.e. 0, 1, 2, ..., [num_class - 1].\n",
      "  warnings.warn(label_encoder_deprecation_msg, UserWarning)\n",
      "[13:32:46] WARNING: ../src/learner.cc:1115: Starting in XGBoost 1.3.0, the default evaluation metric used with the objective 'binary:logistic' was changed from 'error' to 'logloss'. Explicitly set eval_metric if you'd like to restore the old behavior.\n"
     ]
    },
    {
     "data": {
      "text/plain": [
       "XGBClassifier(base_score=0.5, booster='gbtree', colsample_bylevel=1,\n",
       "              colsample_bynode=1, colsample_bytree=1, enable_categorical=False,\n",
       "              gamma=0, gpu_id=-1, importance_type=None,\n",
       "              interaction_constraints='', learning_rate=0.1, max_delta_step=0,\n",
       "              max_depth=4, min_child_weight=1, missing=nan,\n",
       "              monotone_constraints='()', n_estimators=200, n_jobs=2,\n",
       "              num_parallel_tree=1, predictor='auto', random_state=0,\n",
       "              reg_alpha=0, reg_lambda=1, scale_pos_weight=1, subsample=0.9,\n",
       "              tree_method='exact', validate_parameters=1, verbosity=None)"
      ]
     },
     "execution_count": 19,
     "metadata": {},
     "output_type": "execute_result"
    }
   ],
   "source": [
    "import xgboost as xgb\n",
    "\n",
    "clf = xgb.XGBClassifier(max_depth=4,\n",
    "                        subsample=0.9,\n",
    "                        objective='binary:logistic',\n",
    "                        n_estimators=200,\n",
    "                        learning_rate = 0.1)\n",
    "\n",
    "clf.fit(X_train_pca, y_train)"
   ]
  },
  {
   "cell_type": "markdown",
   "metadata": {
    "cell_id": "00033-0d05ee09-72a2-4281-a400-cae41b6f82bc",
    "deepnote_cell_type": "markdown",
    "tags": []
   },
   "source": [
    "### Visualición con los datos de entrenamiento"
   ]
  },
  {
   "cell_type": "code",
   "execution_count": null,
   "metadata": {
    "cell_id": "00020-56c3f1c4-6327-4e47-beb1-16250339f7aa",
    "deepnote_cell_type": "code",
    "deepnote_output_heights": [
     280
    ],
    "deepnote_to_be_reexecuted": false,
    "execution_millis": 1360,
    "execution_start": 1637551836856,
    "source_hash": "df924bc7",
    "tags": []
   },
   "outputs": [
    {
     "data": {
      "image/png": "[encoded data removed]",
      "text/plain": [
       "<Figure size 432x288 with 1 Axes>"
      ]
     },
     "metadata": {
      "image/png": {
       "height": 278,
       "width": 384
      },
      "needs_background": "light"
     },
     "output_type": "display_data"
    }
   ],
   "source": [
    "from mlxtend.plotting import plot_decision_regions\n",
    "import matplotlib.pyplot as plt\n",
    "\n",
    "plot_decision_regions(X_train_pca, y_train, clf=clf)\n",
    "plt.xlabel('x')\n",
    "plt.ylabel('y')\n",
    "plt.title(\"Regresion XGBoost (datos de entrenamiento)\")\n",
    "plt.show()"
   ]
  },
  {
   "cell_type": "markdown",
   "metadata": {
    "cell_id": "00040-8937ed69-342d-4799-b9ae-21ff451cb93a",
    "deepnote_cell_type": "markdown",
    "tags": []
   },
   "source": [
    "\n",
    "Podemos ver una clara diferencia en la gráfica a comparación de las primeras. \n",
    "Utilizando los mismos datos de entrenamiento, pero un clasificador diferente, podemos ver que no divide los datos por medio de una linea recta. En este caso podríamos decir que se adapta mas a los datos que tenemos. Es como si este clasificador considerará cada punto en especifico a la hora de hacer la división intentando ajustar el área de cada conjunto de tal forma que cada punto quede englobado por esta área. "
   ]
  },
  {
   "cell_type": "markdown",
   "metadata": {
    "cell_id": "00020-d9405a87-09bf-4eb6-9663-dc3f99ad884f",
    "deepnote_cell_type": "markdown",
    "tags": []
   },
   "source": [
    "### Visualizacion con datos de prueba"
   ]
  },
  {
   "cell_type": "code",
   "execution_count": null,
   "metadata": {
    "cell_id": "00033-34fd88c5-a8aa-49df-8c1d-22ca5185c2ea",
    "deepnote_cell_type": "code",
    "deepnote_to_be_reexecuted": false,
    "execution_millis": 434,
    "execution_start": 1637588148996,
    "source_hash": "29bca232",
    "tags": []
   },
   "outputs": [],
   "source": [
    "y_pred_b = clf.predict(X_test_pca)"
   ]
  },
  {
   "cell_type": "code",
   "execution_count": null,
   "metadata": {
    "cell_id": "00021-5729d471-6304-4815-8c15-5d421251c199",
    "deepnote_cell_type": "code",
    "deepnote_output_heights": [
     280
    ],
    "deepnote_to_be_reexecuted": false,
    "execution_millis": 1382,
    "execution_start": 1637552571964,
    "source_hash": "18d1f567",
    "tags": []
   },
   "outputs": [
    {
     "data": {
      "image/png": "[encoded data removed]",
      "text/plain": [
       "<Figure size 432x288 with 1 Axes>"
      ]
     },
     "metadata": {
      "image/png": {
       "height": 278,
       "width": 384
      },
      "needs_background": "light"
     },
     "output_type": "display_data"
    }
   ],
   "source": [
    "plot_decision_regions(X_test_pca, y_test, clf=clf, legend=2)\n",
    "plt.xlabel('PC1')\n",
    "plt.ylabel('PC2')\n",
    "plt.title(\"Regresion XGBoost  (datos de prueba)\")\n",
    "plt.show()"
   ]
  },
  {
   "cell_type": "markdown",
   "metadata": {
    "cell_id": "00022-f4fec42b-0123-4567-a5e3-d9992b265277",
    "deepnote_cell_type": "markdown",
    "tags": []
   },
   "source": [
    "Vemos que a primera instancia tiene una major exactitud al conjunto de pruebas porque esta más ajutado con los puntos.\n",
    "También podemos observar que al ser el mismo clasificador la forma de generar una gráfica es una que se intenta adaptar a los puntos alterando el área de manera \"irregular\". "
   ]
  },
  {
   "cell_type": "markdown",
   "metadata": {
    "cell_id": "00029-eabbaba5-0dad-472c-ba12-3f76f421c8c3",
    "deepnote_cell_type": "markdown",
    "tags": []
   },
   "source": [
    "## Matriz de confusión"
   ]
  },
  {
   "cell_type": "code",
   "execution_count": null,
   "metadata": {
    "cell_id": "00026-80eaa89f-51e1-459a-9dfa-ca5f6a139940",
    "deepnote_cell_type": "code",
    "deepnote_output_heights": [
     null,
     24.390625
    ],
    "deepnote_to_be_reexecuted": false,
    "execution_millis": 19,
    "execution_start": 1637552260330,
    "source_hash": "2ebe41e9",
    "tags": []
   },
   "outputs": [
    {
     "name": "stdout",
     "output_type": "stream",
     "text": [
      "[[54  7]\n",
      " [14 15]]\n"
     ]
    }
   ],
   "source": [
    "from sklearn . metrics import confusion_matrix\n",
    "\n",
    "confmat = confusion_matrix( y_true = y_test , y_pred = y_pred_b)\n",
    "print(confmat)"
   ]
  },
  {
   "cell_type": "code",
   "execution_count": null,
   "metadata": {
    "cell_id": "00027-0cd13280-b928-4f50-b616-0b7de03932f8",
    "deepnote_cell_type": "code",
    "deepnote_output_heights": [
     172
    ],
    "deepnote_to_be_reexecuted": false,
    "execution_millis": 470,
    "execution_start": 1637552263083,
    "source_hash": "1dbdea5",
    "tags": []
   },
   "outputs": [
    {
     "data": {
      "image/png": "[encoded data removed]",
      "text/plain": [
       "<Figure size 180x180 with 1 Axes>"
      ]
     },
     "metadata": {
      "image/png": {
       "height": 170,
       "width": 163
      },
      "needs_background": "light"
     },
     "output_type": "display_data"
    }
   ],
   "source": [
    "fig , ax = plt.subplots(figsize =(2.5 , 2.5))\n",
    "ax.matshow(confmat, cmap = plt.cm.Blues, alpha =0.3)\n",
    "for i in range (confmat.shape[0]):\n",
    "    for j in range( confmat.shape [1]):\n",
    "        ax.text( x =j , y =i , s = confmat [i , j ])"
   ]
  },
  {
   "cell_type": "markdown",
   "metadata": {
    "cell_id": "00041-d822fe13-01c8-44c3-a8c1-5405cdd9bcad",
    "deepnote_cell_type": "markdown",
    "tags": []
   },
   "source": [
    "Como se muestra arriba, para los pacientes elegidos aleatoriamente del conjunto de datos cuando se dividieron los datos, el modelo clasificó correctamente 54 casos sin insuficiencia cardíaca y 15 casos de insuficiencia cardíaca. Entonces nos quedamos con 21 casos de clasificación incorrecta. Más concretamente, tenemos 7 casos de falsos positivos, donde los pacientes fueron clasificados como fallecidos cuando en realidad sobrevivieron, y 14 casos de falsos negativos, donde los pacientes fueron clasificados como sobrevivientes cuando en realidad fallecieron."
   ]
  },
  {
   "cell_type": "markdown",
   "metadata": {
    "cell_id": "00052-3e6fc23f-c805-4457-bb84-e17881dffd23",
    "deepnote_cell_type": "markdown",
    "tags": []
   },
   "source": [
    "#### Metricas de evaluación de rendimiento"
   ]
  },
  {
   "cell_type": "code",
   "execution_count": null,
   "metadata": {
    "cell_id": "00053-3787cb3e-66ee-4efb-84c5-ce934fb3ad62",
    "deepnote_cell_type": "code",
    "deepnote_to_be_reexecuted": false,
    "execution_millis": 54,
    "execution_start": 1637588186666,
    "source_hash": "a8986e91",
    "tags": []
   },
   "outputs": [
    {
     "name": "stdout",
     "output_type": "stream",
     "text": [
      "Presicion: 0.682\n",
      "   Recall: 0.517\n",
      "       F1: 0.588\n"
     ]
    }
   ],
   "source": [
    "print('Presicion: %.3f' % precision_score(y_true=y_test, y_pred=y_pred_b))\n",
    "print('   Recall: %.3f' % recall_score(y_true=y_test, y_pred=y_pred_b))\n",
    "print('       F1: %.3f' % f1_score(y_true=y_test, y_pred=y_pred_b))"
   ]
  },
  {
   "cell_type": "markdown",
   "metadata": {
    "cell_id": "00058-9d4ea5da-7718-47a7-a987-adc280490f51",
    "deepnote_cell_type": "markdown",
    "tags": []
   },
   "source": [
    "Vemos que en la evaluación del rendimiento del modelo los portentajes son muy bajos, pensamos que es debido a que se ajustan muy bien a los datos de entranamiento como vimos anteriormente en la gráfica, haciendo que en los datos de prueba no coincida siempre con las regiones establecidas que se genero con los datos de entrenamiento."
   ]
  },
  {
   "cell_type": "markdown",
   "metadata": {
    "cell_id": "00043-d6949a4f-755b-451b-aa7e-1bf70f5fb21d",
    "deepnote_cell_type": "markdown",
    "tags": []
   },
   "source": [
    "Por último hemos agregado un poco de estadistica acerca de nuestro datos  y la insuficiencia cardíaca, nos enfocamos en comparar la mortalidad con la presión alta, la diabetes, la anemia y si el paciente fuma. Ya que estos datos son booleanos ya que indican una condición especifica.\n",
    "Hay que notar que algunos pacientes pueden presentar varias condiciones a la vez. "
   ]
  },
  {
   "cell_type": "code",
   "execution_count": null,
   "metadata": {
    "cell_id": "00033-86889a38-6dbf-4f96-b98f-0d30e53992b8",
    "deepnote_cell_type": "code",
    "deepnote_output_heights": [
     null,
     611
    ],
    "deepnote_to_be_reexecuted": false,
    "execution_millis": 1592,
    "execution_start": 1637552514988,
    "source_hash": "b6c7ff20",
    "tags": []
   },
   "outputs": [
    {
     "name": "stderr",
     "output_type": "stream",
     "text": [
      "/shared-libs/python3.7/py-core/lib/python3.7/site-packages/ipykernel_launcher.py:5: UserWarning: Boolean Series key will be reindexed to match DataFrame index.\n",
      "  \"\"\"\n",
      "/shared-libs/python3.7/py-core/lib/python3.7/site-packages/ipykernel_launcher.py:6: UserWarning: Boolean Series key will be reindexed to match DataFrame index.\n",
      "  \n",
      "/shared-libs/python3.7/py-core/lib/python3.7/site-packages/ipykernel_launcher.py:16: UserWarning: Boolean Series key will be reindexed to match DataFrame index.\n",
      "  app.launch_new_instance()\n",
      "/shared-libs/python3.7/py-core/lib/python3.7/site-packages/ipykernel_launcher.py:17: UserWarning: Boolean Series key will be reindexed to match DataFrame index.\n",
      "/shared-libs/python3.7/py-core/lib/python3.7/site-packages/ipykernel_launcher.py:27: UserWarning: Boolean Series key will be reindexed to match DataFrame index.\n",
      "/shared-libs/python3.7/py-core/lib/python3.7/site-packages/ipykernel_launcher.py:28: UserWarning: Boolean Series key will be reindexed to match DataFrame index.\n",
      "/shared-libs/python3.7/py-core/lib/python3.7/site-packages/ipykernel_launcher.py:38: UserWarning: Boolean Series key will be reindexed to match DataFrame index.\n",
      "/shared-libs/python3.7/py-core/lib/python3.7/site-packages/ipykernel_launcher.py:39: UserWarning: Boolean Series key will be reindexed to match DataFrame index.\n"
     ]
    },
    {
     "data": {
      "image/png": "[encoded data removed]",
      "text/plain": [
       "<Figure size 1008x1008 with 4 Axes>"
      ]
     },
     "metadata": {
      "image/png": {
       "height": 795,
       "width": 871
      }
     },
     "output_type": "display_data"
    }
   ],
   "source": [
    "plt.figure(figsize=(14,14))\n",
    "\n",
    "plt.subplot(221)\n",
    "smoker = df[df['smoking']==1]\n",
    "smoker_surv = smoker[df['DEATH_EVENT']==0]['smoking']\n",
    "smoker_died = smoker[df['DEATH_EVENT']==1]['smoking']\n",
    "smoker_vals = [len(smoker_surv), len(smoker_died)]\n",
    "labels = ['Survived', 'Died']\n",
    "plt.pie(smoker_vals, autopct='%1.1f%%', textprops=dict(color='black', size=20), colors=['tab:blue', \n",
    "                                                                                        'tab:red'])\n",
    "plt.legend(labels, loc='best', bbox_to_anchor=(1,0.5))\n",
    "plt.title('Smoker Patient', fontsize = 18)\n",
    "\n",
    "plt.subplot(222)\n",
    "hbp = df[df['high_blood_pressure']==1]\n",
    "hbp_surv = hbp[df['DEATH_EVENT']==0]['high_blood_pressure']\n",
    "hbp_died = hbp[df['DEATH_EVENT']==1]['high_blood_pressure']\n",
    "hbp_vals = [len(hbp_surv), len(hbp_died)]\n",
    "labels = ['Survived', 'Died']\n",
    "plt.pie(hbp_vals, autopct='%1.1f%%', textprops=dict(color='black', size=20), colors=['tab:blue', \n",
    "                                                                                        'tab:red'])\n",
    "plt.legend(labels, loc='best', bbox_to_anchor=(1,0.5))\n",
    "plt.title('High Blood Pressure Patient', fontsize = 18)\n",
    "\n",
    "plt.subplot(223)\n",
    "anaemia = df[df['anaemia']==1]\n",
    "anaemia_surv = anaemia[df['DEATH_EVENT']==0]['anaemia']\n",
    "anaemia_died = anaemia[df['DEATH_EVENT']==1]['anaemia']\n",
    "diabetes_vals = [len(anaemia_surv), len(anaemia_died)]\n",
    "labels = ['Survived', 'Died']\n",
    "plt.pie(diabetes_vals, autopct='%1.1f%%', textprops=dict(color='black', size=20), colors=['tab:blue', \n",
    "                                                                                        'tab:red'])\n",
    "plt.legend(labels, loc = 'best', bbox_to_anchor=(1,0.5))\n",
    "plt.title('Anemic Patient', fontsize = 18)\n",
    "\n",
    "plt.subplot(224)\n",
    "diabetes = df[df['diabetes']==1]\n",
    "diabetes_surv = diabetes[df['DEATH_EVENT']==0]['diabetes']\n",
    "diabetes_died = diabetes[df['DEATH_EVENT']==1]['diabetes']\n",
    "anaemic_vals = [len(diabetes_surv), len(diabetes_died)]\n",
    "labels = ['Survived', 'Died']\n",
    "plt.pie(anaemic_vals, autopct='%1.1f%%', textprops=dict(color='black', size=20), colors=['tab:blue', \n",
    "                                                                                        'tab:red'])\n",
    "plt.legend(labels, loc = 'best', bbox_to_anchor=(1,0.5))\n",
    "plt.title('Diabetic Patient', fontsize = 18)\n",
    "\n",
    "plt.show()"
   ]
  },
  {
   "cell_type": "markdown",
   "metadata": {
    "cell_id": "00052-6aceafd5-a806-47a5-88a1-9d1b5cbc75a9",
    "deepnote_cell_type": "markdown",
    "tags": []
   },
   "source": [
    "\n",
    "En el caso de los pacientes fumadores podemos observar que tienen la mayoría de porcentaje de supervivencia al igual que en el caso de pacientes con diabetes.  \n",
    "Hay que notar que en todos los casos que observamos, el porcentaje de sobrevivientes es mayor a un 60 por ciento. Es decir que mas de la mitad de de los pacientes con estos padecimientos (ya sea que tengan uno o mas de uno) tienen mas de la mitad del porcentaje de sobrevivir, pero incrementa el riesgo.\n",
    "\n",
    "Recordando lo que mencionabamos al principio. La insuficiencia cardíaca es una falla del corazón la cual se ocasiona a la hora de tener sangre que no esta bien oxigenda. Y como vemos en las gráficas de arriba. El mayor pocentaje de mortalidad lo tiene la condición de presión alta de la sangre. Esto suena obvio, pero es rescatable ya que no solo tiene sentido. Que una condición en la sangre, te pueda ocasionar un padecimiento relacionado a la sangre. Si no que también podemos observarlo con estas gráficas. \n",
    "\n",
    "Como conslusión final vemos que el mejor clasificador que encontramos para $2$ componenete es el clasificador de regresión logistica ya que no sobreajusta los datos como lo hace XGBoost, pero vemos que podemos aumentar la exactid hasta un $80\\%$ sí utilizamos hasta 5 componenetes para XGBoost y 4 componentes para regresión logistica. Este clasificador puede ayudar a muchos pacientes para una detección temprana de insuficiencia cardíaca y poder tratarlo adecuademente, vemos que esto puede ser una herramienta más para los doctores y puede complementarse con más estudios especializados. "
   ]
  },
  {
   "cell_type": "markdown",
   "metadata": {
    "cell_id": "00033-9dcd79c4-9cac-4223-aa1c-12e6c13f8b2c",
    "deepnote_cell_type": "markdown",
    "tags": []
   },
   "source": [
    "\n",
    "### Referencias\n",
    "- https://www.kaggle.com/andrewmvd/heart-failure-clinical-data  consultado el 17/11/21\n",
    "- https://medlineplus.gov/spanish/ency/article/000158.htm   consultado el 21/11/21\n",
    "- https://www.kaggle.com/uelepaga/heart-failure-analysis-and-classification  consultado el 18/11/21\n",
    "- https://www.kaggle.com/pavelivanov89/analysis-of-heart-failure-set  consultado el 21/11/21"
   ]
  },
  {
   "cell_type": "markdown",
   "metadata": {
    "created_in_deepnote_cell": true,
    "deepnote_cell_type": "markdown",
    "tags": []
   },
   "source": [
    "<a style='text-decoration:none;line-height:16px;display:flex;color:#5B5B62;padding:10px;justify-content:end;' href='https://deepnote.com?utm_source=created-in-deepnote-cell&projectId=6c8bd33b-1599-4ec8-b975-d82e304d32c6' target=\"_blank\">\n",
    "<img alt='Created in deepnote.com' style='display:inline;max-height:16px;margin:0px;margin-right:7.5px;' src='data:image/svg+xml;base64,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' > </img>\n",
    "Created in <span style='font-weight:600;margin-left:4px;'>Deepnote</span></a>"
   ]
  }
 ],
 "metadata": {
  "colab": {
   "collapsed_sections": [],
   "name": "proyec-borrador.ipynb",
   "provenance": []
  },
  "deepnote": {},
  "deepnote_execution_queue": [],
  "deepnote_notebook_id": "1f42895a-1a44-4e0e-aab0-144869525d8b",
  "kernelspec": {
   "display_name": "Python 3 (ipykernel)",
   "language": "python",
   "name": "python3"
  },
  "language_info": {
   "codemirror_mode": {
    "name": "ipython",
    "version": 3
   },
   "file_extension": ".py",
   "mimetype": "text/x-python",
   "name": "python",
   "nbconvert_exporter": "python",
   "pygments_lexer": "ipython3",
   "version": "3.9.7"
  }
 },
 "nbformat": 4,
 "nbformat_minor": 1
}
